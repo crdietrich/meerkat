{
 "cells": [
  {
   "cell_type": "code",
   "execution_count": 1,
   "metadata": {},
   "outputs": [],
   "source": [
    "from meerkat import ds3231, parser\n",
    "\n",
    "import pandas as pd\n",
    "\n",
    "from importlib import reload"
   ]
  },
  {
   "cell_type": "code",
   "execution_count": 2,
   "metadata": {},
   "outputs": [],
   "source": [
    "rtc = ds3231.DS3231(bus_n=1, bus_addr=0x68)"
   ]
  },
  {
   "cell_type": "raw",
   "metadata": {},
   "source": [
    "rtc.save_time(YY=2020, MM=10, DD=14, hh=22, mm=6, ss=0, micro=0, tz=None)"
   ]
  },
  {
   "cell_type": "code",
   "execution_count": 3,
   "metadata": {},
   "outputs": [
    {
     "data": {
      "text/plain": [
       "(2020, 11, 23, 1, 53, 38)"
      ]
     },
     "execution_count": 3,
     "metadata": {},
     "output_type": "execute_result"
    }
   ],
   "source": [
    "rtc.get_time()"
   ]
  },
  {
   "cell_type": "code",
   "execution_count": 4,
   "metadata": {},
   "outputs": [
    {
     "data": {
      "text/plain": [
       "22.75"
      ]
     },
     "execution_count": 4,
     "metadata": {},
     "output_type": "execute_result"
    }
   ],
   "source": [
    "rtc.get_temp()"
   ]
  },
  {
   "cell_type": "code",
   "execution_count": 5,
   "metadata": {},
   "outputs": [
    {
     "data": {
      "text/plain": [
       "'{\"description\": \"test_1\", \"sample_n\": 0, \"rtc_time\": \"2020-11-23 01:53:38\", \"temp_C\": 22.75, \"std_time_ms\": \"2020-11-23 00:54:39.000232\"}'"
      ]
     },
     "execution_count": 5,
     "metadata": {},
     "output_type": "execute_result"
    }
   ],
   "source": [
    "rtc.publish(description=\"test_1\", n=1)"
   ]
  },
  {
   "cell_type": "code",
   "execution_count": 6,
   "metadata": {},
   "outputs": [
    {
     "data": {
      "text/plain": [
       "['{\"description\": \"test_1\", \"sample_n\": 0, \"rtc_time\": \"2020-11-23 01:53:38\", \"temp_C\": 22.75, \"std_time_ms\": \"2020-11-23 00:54:39.018715\"}',\n",
       " '{\"description\": \"test_1\", \"sample_n\": 0, \"rtc_time\": \"2020-11-23 01:53:41\", \"temp_C\": 22.75, \"std_time_ms\": \"2020-11-23 00:54:42.024000\"}']"
      ]
     },
     "execution_count": 6,
     "metadata": {},
     "output_type": "execute_result"
    }
   ],
   "source": [
    "rtc.publish(description=\"test_1\", n=2, delay=3)"
   ]
  },
  {
   "cell_type": "code",
   "execution_count": 7,
   "metadata": {},
   "outputs": [],
   "source": [
    "# default writer format is CSV, switch to JSON\n",
    "rtc.writer_output = 'json'"
   ]
  },
  {
   "cell_type": "code",
   "execution_count": 8,
   "metadata": {},
   "outputs": [],
   "source": [
    "# writer method with description and sample number\n",
    "rtc.write(description='test_2', n=6, delay=1)"
   ]
  },
  {
   "cell_type": "code",
   "execution_count": 9,
   "metadata": {},
   "outputs": [
    {
     "data": {
      "text/plain": [
       "'2020_11_23_00_54_45_ds3231.jsontxt'"
      ]
     },
     "execution_count": 9,
     "metadata": {},
     "output_type": "execute_result"
    }
   ],
   "source": [
    "rtc.json_writer.path"
   ]
  },
  {
   "cell_type": "code",
   "execution_count": 10,
   "metadata": {},
   "outputs": [
    {
     "name": "stdout",
     "output_type": "stream",
     "text": [
      "{\"description\": \"test_2\", \"sample_n\": 0, \"rtc_time\": \"2020-11-23 01:53:44\", \"temp_C\": 22.75, \"std_time_ms\": \"2020-11-23 00:54:45.098667\"}\n",
      "{\"description\": \"test_2\", \"sample_n\": 1, \"rtc_time\": \"2020-11-23 01:53:45\", \"temp_C\": 22.75, \"std_time_ms\": \"2020-11-23 00:54:46.102573\"}\n",
      "{\"description\": \"test_2\", \"sample_n\": 2, \"rtc_time\": \"2020-11-23 01:53:46\", \"temp_C\": 22.75, \"std_time_ms\": \"2020-11-23 00:54:47.106236\"}\n",
      "{\"description\": \"test_2\", \"sample_n\": 3, \"rtc_time\": \"2020-11-23 01:53:47\", \"temp_C\": 22.75, \"std_time_ms\": \"2020-11-23 00:54:48.109828\"}\n"
     ]
    }
   ],
   "source": [
    "with open(rtc.json_writer.path, 'r') as f:\n",
    "    for _ in range(4):\n",
    "        print(f.readline().strip())"
   ]
  },
  {
   "cell_type": "code",
   "execution_count": 11,
   "metadata": {},
   "outputs": [],
   "source": [
    "# switch back to CSV format\n",
    "rtc.writer_output = 'csv'"
   ]
  },
  {
   "cell_type": "code",
   "execution_count": 12,
   "metadata": {},
   "outputs": [],
   "source": [
    "rtc.write(description='test_3', n=6, delay=1)"
   ]
  },
  {
   "cell_type": "code",
   "execution_count": 13,
   "metadata": {},
   "outputs": [],
   "source": [
    "m, df = parser.csv_resource(rtc.csv_writer.path)"
   ]
  },
  {
   "cell_type": "code",
   "execution_count": 14,
   "metadata": {},
   "outputs": [],
   "source": [
    "df[\"rtc_datetime64_ns\"] = pd.to_datetime(df.rtc_time)\n",
    "df.temp_C = df.temp_C.astype(float)"
   ]
  },
  {
   "cell_type": "code",
   "execution_count": 15,
   "metadata": {},
   "outputs": [
    {
     "data": {
      "text/plain": [
       "std_time_ms                  object\n",
       "description                  object\n",
       "sample_n                      int64\n",
       "rtc_time                     object\n",
       "temp_C                      float64\n",
       "datetime64_ns        datetime64[ns]\n",
       "rtc_datetime64_ns    datetime64[ns]\n",
       "dtype: object"
      ]
     },
     "execution_count": 15,
     "metadata": {},
     "output_type": "execute_result"
    }
   ],
   "source": [
    "df.dtypes"
   ]
  },
  {
   "cell_type": "code",
   "execution_count": 16,
   "metadata": {},
   "outputs": [
    {
     "data": {
      "text/html": [
       "<div>\n",
       "<style scoped>\n",
       "    .dataframe tbody tr th:only-of-type {\n",
       "        vertical-align: middle;\n",
       "    }\n",
       "\n",
       "    .dataframe tbody tr th {\n",
       "        vertical-align: top;\n",
       "    }\n",
       "\n",
       "    .dataframe thead th {\n",
       "        text-align: right;\n",
       "    }\n",
       "</style>\n",
       "<table border=\"1\" class=\"dataframe\">\n",
       "  <thead>\n",
       "    <tr style=\"text-align: right;\">\n",
       "      <th></th>\n",
       "      <th>std_time_ms</th>\n",
       "      <th>description</th>\n",
       "      <th>sample_n</th>\n",
       "      <th>rtc_time</th>\n",
       "      <th>temp_C</th>\n",
       "      <th>datetime64_ns</th>\n",
       "      <th>rtc_datetime64_ns</th>\n",
       "    </tr>\n",
       "  </thead>\n",
       "  <tbody>\n",
       "    <tr>\n",
       "      <th>0</th>\n",
       "      <td>2020-11-23 00:54:51.216948</td>\n",
       "      <td>test_3</td>\n",
       "      <td>0</td>\n",
       "      <td>2020-11-23 01:53:50</td>\n",
       "      <td>22.75</td>\n",
       "      <td>2020-11-23 00:54:51.216948</td>\n",
       "      <td>2020-11-23 01:53:50</td>\n",
       "    </tr>\n",
       "    <tr>\n",
       "      <th>1</th>\n",
       "      <td>2020-11-23 00:54:52.220448</td>\n",
       "      <td>test_3</td>\n",
       "      <td>1</td>\n",
       "      <td>2020-11-23 01:53:51</td>\n",
       "      <td>22.75</td>\n",
       "      <td>2020-11-23 00:54:52.220448</td>\n",
       "      <td>2020-11-23 01:53:51</td>\n",
       "    </tr>\n",
       "    <tr>\n",
       "      <th>2</th>\n",
       "      <td>2020-11-23 00:54:53.224056</td>\n",
       "      <td>test_3</td>\n",
       "      <td>2</td>\n",
       "      <td>2020-11-23 01:53:52</td>\n",
       "      <td>22.75</td>\n",
       "      <td>2020-11-23 00:54:53.224056</td>\n",
       "      <td>2020-11-23 01:53:52</td>\n",
       "    </tr>\n",
       "    <tr>\n",
       "      <th>3</th>\n",
       "      <td>2020-11-23 00:54:54.227582</td>\n",
       "      <td>test_3</td>\n",
       "      <td>3</td>\n",
       "      <td>2020-11-23 01:53:53</td>\n",
       "      <td>22.75</td>\n",
       "      <td>2020-11-23 00:54:54.227582</td>\n",
       "      <td>2020-11-23 01:53:53</td>\n",
       "    </tr>\n",
       "    <tr>\n",
       "      <th>4</th>\n",
       "      <td>2020-11-23 00:54:55.231146</td>\n",
       "      <td>test_3</td>\n",
       "      <td>4</td>\n",
       "      <td>2020-11-23 01:53:54</td>\n",
       "      <td>22.75</td>\n",
       "      <td>2020-11-23 00:54:55.231146</td>\n",
       "      <td>2020-11-23 01:53:54</td>\n",
       "    </tr>\n",
       "    <tr>\n",
       "      <th>5</th>\n",
       "      <td>2020-11-23 00:54:56.234617</td>\n",
       "      <td>test_3</td>\n",
       "      <td>5</td>\n",
       "      <td>2020-11-23 01:53:55</td>\n",
       "      <td>22.75</td>\n",
       "      <td>2020-11-23 00:54:56.234617</td>\n",
       "      <td>2020-11-23 01:53:55</td>\n",
       "    </tr>\n",
       "  </tbody>\n",
       "</table>\n",
       "</div>"
      ],
      "text/plain": [
       "                  std_time_ms description  sample_n             rtc_time  \\\n",
       "0  2020-11-23 00:54:51.216948      test_3         0  2020-11-23 01:53:50   \n",
       "1  2020-11-23 00:54:52.220448      test_3         1  2020-11-23 01:53:51   \n",
       "2  2020-11-23 00:54:53.224056      test_3         2  2020-11-23 01:53:52   \n",
       "3  2020-11-23 00:54:54.227582      test_3         3  2020-11-23 01:53:53   \n",
       "4  2020-11-23 00:54:55.231146      test_3         4  2020-11-23 01:53:54   \n",
       "5  2020-11-23 00:54:56.234617      test_3         5  2020-11-23 01:53:55   \n",
       "\n",
       "   temp_C              datetime64_ns   rtc_datetime64_ns  \n",
       "0   22.75 2020-11-23 00:54:51.216948 2020-11-23 01:53:50  \n",
       "1   22.75 2020-11-23 00:54:52.220448 2020-11-23 01:53:51  \n",
       "2   22.75 2020-11-23 00:54:53.224056 2020-11-23 01:53:52  \n",
       "3   22.75 2020-11-23 00:54:54.227582 2020-11-23 01:53:53  \n",
       "4   22.75 2020-11-23 00:54:55.231146 2020-11-23 01:53:54  \n",
       "5   22.75 2020-11-23 00:54:56.234617 2020-11-23 01:53:55  "
      ]
     },
     "execution_count": 16,
     "metadata": {},
     "output_type": "execute_result"
    }
   ],
   "source": [
    "df"
   ]
  },
  {
   "cell_type": "code",
   "execution_count": 17,
   "metadata": {},
   "outputs": [
    {
     "data": {
      "image/png": "[encoded data removed]",
      "text/plain": [
       "<Figure size 432x288 with 1 Axes>"
      ]
     },
     "metadata": {
      "needs_background": "light"
     },
     "output_type": "display_data"
    }
   ],
   "source": [
    "df[[\"rtc_datetime64_ns\", \"temp_C\"]].plot(x=\"rtc_datetime64_ns\", marker=\"x\");"
   ]
  }
 ],
 "metadata": {
  "kernelspec": {
   "display_name": "Python 3",
   "language": "python",
   "name": "python3"
  },
  "language_info": {
   "codemirror_mode": {
    "name": "ipython",
    "version": 3
   },
   "file_extension": ".py",
   "mimetype": "text/x-python",
   "name": "python",
   "nbconvert_exporter": "python",
   "pygments_lexer": "ipython3",
   "version": "3.7.3"
  }
 },
 "nbformat": 4,
 "nbformat_minor": 4
}
