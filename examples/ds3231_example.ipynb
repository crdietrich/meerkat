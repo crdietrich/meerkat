{
 "cells": [
  {
   "cell_type": "code",
   "execution_count": 1,
   "metadata": {},
   "outputs": [],
   "source": [
    "from meerkat import ds3231, parser\n",
    "\n",
    "import pandas as pd\n",
    "\n",
    "from importlib import reload"
   ]
  },
  {
   "cell_type": "code",
   "execution_count": 2,
   "metadata": {},
   "outputs": [],
   "source": [
    "rtc = ds3231.DS3231(bus_n=1)"
   ]
  },
  {
   "cell_type": "raw",
   "metadata": {},
   "source": [
    "rtc.save_time(YY=2020, MM=10, DD=14, hh=22, mm=6, ss=0, micro=0, tz=None)"
   ]
  },
  {
   "cell_type": "code",
   "execution_count": 3,
   "metadata": {},
   "outputs": [
    {
     "data": {
      "text/plain": [
       "(2020, 10, 28, 11, 18, 12)"
      ]
     },
     "execution_count": 3,
     "metadata": {},
     "output_type": "execute_result"
    }
   ],
   "source": [
    "rtc.get_time()"
   ]
  },
  {
   "cell_type": "code",
   "execution_count": 4,
   "metadata": {},
   "outputs": [
    {
     "data": {
      "text/plain": [
       "24.0"
      ]
     },
     "execution_count": 4,
     "metadata": {},
     "output_type": "execute_result"
    }
   ],
   "source": [
    "rtc.get_temp()"
   ]
  },
  {
   "cell_type": "code",
   "execution_count": 5,
   "metadata": {},
   "outputs": [
    {
     "data": {
      "text/plain": [
       "'{\"description\": \"test_1\", \"sample_n\": 0, \"rtc_time\": \"2020-10-28 11:18:12\", \"temp_C\": 24.0, \"std_time_ms\": \"2020-10-28 11:19:16.383601\"}'"
      ]
     },
     "execution_count": 5,
     "metadata": {},
     "output_type": "execute_result"
    }
   ],
   "source": [
    "rtc.publish(description=\"test_1\", n=1)"
   ]
  },
  {
   "cell_type": "code",
   "execution_count": 6,
   "metadata": {},
   "outputs": [
    {
     "data": {
      "text/plain": [
       "['{\"description\": \"test_1\", \"sample_n\": 0, \"rtc_time\": \"2020-10-28 11:18:12\", \"temp_C\": 24.0, \"std_time_ms\": \"2020-10-28 11:19:16.401710\"}',\n",
       " '{\"description\": \"test_1\", \"sample_n\": 0, \"rtc_time\": \"2020-10-28 11:18:15\", \"temp_C\": 24.0, \"std_time_ms\": \"2020-10-28 11:19:19.407046\"}']"
      ]
     },
     "execution_count": 6,
     "metadata": {},
     "output_type": "execute_result"
    }
   ],
   "source": [
    "rtc.publish(description=\"test_1\", n=2, delay=3)"
   ]
  },
  {
   "cell_type": "code",
   "execution_count": 7,
   "metadata": {},
   "outputs": [],
   "source": [
    "# default writer format is CSV, switch to JSON\n",
    "rtc.writer_output = 'json'"
   ]
  },
  {
   "cell_type": "code",
   "execution_count": 8,
   "metadata": {},
   "outputs": [],
   "source": [
    "# writer method with description and sample number\n",
    "rtc.write(description='test_2', n=6, delay=1)"
   ]
  },
  {
   "cell_type": "code",
   "execution_count": 9,
   "metadata": {},
   "outputs": [
    {
     "data": {
      "text/plain": [
       "'2020_10_28_11_19_22_DS3231.jsontxt'"
      ]
     },
     "execution_count": 9,
     "metadata": {},
     "output_type": "execute_result"
    }
   ],
   "source": [
    "rtc.json_writer.path"
   ]
  },
  {
   "cell_type": "code",
   "execution_count": 10,
   "metadata": {},
   "outputs": [
    {
     "name": "stdout",
     "output_type": "stream",
     "text": [
      "{\"description\": \"test_2\", \"sample_n\": 0, \"rtc_time\": \"2020-10-28 11:18:18\", \"temp_C\": 24.0, \"std_time_ms\": \"2020-10-28 11:19:22.475596\"}\n",
      "{\"description\": \"test_2\", \"sample_n\": 1, \"rtc_time\": \"2020-10-28 11:18:19\", \"temp_C\": 24.0, \"std_time_ms\": \"2020-10-28 11:19:23.479587\"}\n",
      "{\"description\": \"test_2\", \"sample_n\": 2, \"rtc_time\": \"2020-10-28 11:18:20\", \"temp_C\": 24.0, \"std_time_ms\": \"2020-10-28 11:19:24.483258\"}\n",
      "{\"description\": \"test_2\", \"sample_n\": 3, \"rtc_time\": \"2020-10-28 11:18:21\", \"temp_C\": 24.0, \"std_time_ms\": \"2020-10-28 11:19:25.486916\"}\n"
     ]
    }
   ],
   "source": [
    "with open(rtc.json_writer.path, 'r') as f:\n",
    "    for _ in range(4):\n",
    "        print(f.readline().strip())"
   ]
  },
  {
   "cell_type": "code",
   "execution_count": 11,
   "metadata": {},
   "outputs": [],
   "source": [
    "# switch back to CSV format\n",
    "rtc.writer_output = 'csv'"
   ]
  },
  {
   "cell_type": "code",
   "execution_count": 12,
   "metadata": {},
   "outputs": [],
   "source": [
    "rtc.write(description='test_3', n=6, delay=1)"
   ]
  },
  {
   "cell_type": "code",
   "execution_count": 13,
   "metadata": {},
   "outputs": [],
   "source": [
    "m, df = parser.csv_resource(rtc.csv_writer.path)"
   ]
  },
  {
   "cell_type": "code",
   "execution_count": 14,
   "metadata": {},
   "outputs": [],
   "source": [
    "df[\"rtc_datetime64_ns\"] = pd.to_datetime(df.rtc_time)\n",
    "df.temp_C = df.temp_C.astype(float)"
   ]
  },
  {
   "cell_type": "code",
   "execution_count": 15,
   "metadata": {},
   "outputs": [
    {
     "data": {
      "text/plain": [
       "std_time_ms                  object\n",
       "description                  object\n",
       "sample_n                      int64\n",
       "rtc_time                     object\n",
       "temp_C                      float64\n",
       "datetime64_ns        datetime64[ns]\n",
       "rtc_datetime64_ns    datetime64[ns]\n",
       "dtype: object"
      ]
     },
     "execution_count": 15,
     "metadata": {},
     "output_type": "execute_result"
    }
   ],
   "source": [
    "df.dtypes"
   ]
  },
  {
   "cell_type": "code",
   "execution_count": 16,
   "metadata": {},
   "outputs": [
    {
     "data": {
      "text/html": [
       "<div>\n",
       "<style scoped>\n",
       "    .dataframe tbody tr th:only-of-type {\n",
       "        vertical-align: middle;\n",
       "    }\n",
       "\n",
       "    .dataframe tbody tr th {\n",
       "        vertical-align: top;\n",
       "    }\n",
       "\n",
       "    .dataframe thead th {\n",
       "        text-align: right;\n",
       "    }\n",
       "</style>\n",
       "<table border=\"1\" class=\"dataframe\">\n",
       "  <thead>\n",
       "    <tr style=\"text-align: right;\">\n",
       "      <th></th>\n",
       "      <th>std_time_ms</th>\n",
       "      <th>description</th>\n",
       "      <th>sample_n</th>\n",
       "      <th>rtc_time</th>\n",
       "      <th>temp_C</th>\n",
       "      <th>datetime64_ns</th>\n",
       "      <th>rtc_datetime64_ns</th>\n",
       "    </tr>\n",
       "  </thead>\n",
       "  <tbody>\n",
       "    <tr>\n",
       "      <th>0</th>\n",
       "      <td>2020-10-28 11:19:28.611864</td>\n",
       "      <td>test_3</td>\n",
       "      <td>0</td>\n",
       "      <td>2020-10-28 11:18:25</td>\n",
       "      <td>24.0</td>\n",
       "      <td>2020-10-28 11:19:28.611864</td>\n",
       "      <td>2020-10-28 11:18:25</td>\n",
       "    </tr>\n",
       "    <tr>\n",
       "      <th>1</th>\n",
       "      <td>2020-10-28 11:19:29.615414</td>\n",
       "      <td>test_3</td>\n",
       "      <td>1</td>\n",
       "      <td>2020-10-28 11:18:26</td>\n",
       "      <td>24.0</td>\n",
       "      <td>2020-10-28 11:19:29.615414</td>\n",
       "      <td>2020-10-28 11:18:26</td>\n",
       "    </tr>\n",
       "    <tr>\n",
       "      <th>2</th>\n",
       "      <td>2020-10-28 11:19:30.618929</td>\n",
       "      <td>test_3</td>\n",
       "      <td>2</td>\n",
       "      <td>2020-10-28 11:18:27</td>\n",
       "      <td>24.0</td>\n",
       "      <td>2020-10-28 11:19:30.618929</td>\n",
       "      <td>2020-10-28 11:18:27</td>\n",
       "    </tr>\n",
       "    <tr>\n",
       "      <th>3</th>\n",
       "      <td>2020-10-28 11:19:31.622347</td>\n",
       "      <td>test_3</td>\n",
       "      <td>3</td>\n",
       "      <td>2020-10-28 11:18:28</td>\n",
       "      <td>24.0</td>\n",
       "      <td>2020-10-28 11:19:31.622347</td>\n",
       "      <td>2020-10-28 11:18:28</td>\n",
       "    </tr>\n",
       "    <tr>\n",
       "      <th>4</th>\n",
       "      <td>2020-10-28 11:19:32.625879</td>\n",
       "      <td>test_3</td>\n",
       "      <td>4</td>\n",
       "      <td>2020-10-28 11:18:29</td>\n",
       "      <td>24.0</td>\n",
       "      <td>2020-10-28 11:19:32.625879</td>\n",
       "      <td>2020-10-28 11:18:29</td>\n",
       "    </tr>\n",
       "    <tr>\n",
       "      <th>5</th>\n",
       "      <td>2020-10-28 11:19:33.629407</td>\n",
       "      <td>test_3</td>\n",
       "      <td>5</td>\n",
       "      <td>2020-10-28 11:18:30</td>\n",
       "      <td>24.0</td>\n",
       "      <td>2020-10-28 11:19:33.629407</td>\n",
       "      <td>2020-10-28 11:18:30</td>\n",
       "    </tr>\n",
       "  </tbody>\n",
       "</table>\n",
       "</div>"
      ],
      "text/plain": [
       "                  std_time_ms description  sample_n             rtc_time  \\\n",
       "0  2020-10-28 11:19:28.611864      test_3         0  2020-10-28 11:18:25   \n",
       "1  2020-10-28 11:19:29.615414      test_3         1  2020-10-28 11:18:26   \n",
       "2  2020-10-28 11:19:30.618929      test_3         2  2020-10-28 11:18:27   \n",
       "3  2020-10-28 11:19:31.622347      test_3         3  2020-10-28 11:18:28   \n",
       "4  2020-10-28 11:19:32.625879      test_3         4  2020-10-28 11:18:29   \n",
       "5  2020-10-28 11:19:33.629407      test_3         5  2020-10-28 11:18:30   \n",
       "\n",
       "   temp_C              datetime64_ns   rtc_datetime64_ns  \n",
       "0    24.0 2020-10-28 11:19:28.611864 2020-10-28 11:18:25  \n",
       "1    24.0 2020-10-28 11:19:29.615414 2020-10-28 11:18:26  \n",
       "2    24.0 2020-10-28 11:19:30.618929 2020-10-28 11:18:27  \n",
       "3    24.0 2020-10-28 11:19:31.622347 2020-10-28 11:18:28  \n",
       "4    24.0 2020-10-28 11:19:32.625879 2020-10-28 11:18:29  \n",
       "5    24.0 2020-10-28 11:19:33.629407 2020-10-28 11:18:30  "
      ]
     },
     "execution_count": 16,
     "metadata": {},
     "output_type": "execute_result"
    }
   ],
   "source": [
    "df"
   ]
  },
  {
   "cell_type": "code",
   "execution_count": 17,
   "metadata": {},
   "outputs": [
    {
     "data": {
      "image/png": "[encoded data removed]",
      "text/plain": [
       "<Figure size 432x288 with 1 Axes>"
      ]
     },
     "metadata": {
      "needs_background": "light"
     },
     "output_type": "display_data"
    }
   ],
   "source": [
    "df[[\"rtc_datetime64_ns\", \"temp_C\"]].plot(x=\"rtc_datetime64_ns\", marker=\"x\");"
   ]
  },
  {
   "cell_type": "code",
   "execution_count": null,
   "metadata": {},
   "outputs": [],
   "source": []
  }
 ],
 "metadata": {
  "kernelspec": {
   "display_name": "Python 3",
   "language": "python",
   "name": "python3"
  },
  "language_info": {
   "codemirror_mode": {
    "name": "ipython",
    "version": 3
   },
   "file_extension": ".py",
   "mimetype": "text/x-python",
   "name": "python",
   "nbconvert_exporter": "python",
   "pygments_lexer": "ipython3",
   "version": "3.7.3"
  }
 },
 "nbformat": 4,
 "nbformat_minor": 4
}
