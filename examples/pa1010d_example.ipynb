{
 "cells": [
  {
   "cell_type": "markdown",
   "metadata": {},
   "source": [
    "## Adafruit Mini GPS PA1010D GPS  \n",
    "https://www.adafruit.com/product/4415"
   ]
  },
  {
   "cell_type": "code",
   "execution_count": null,
   "metadata": {},
   "outputs": [],
   "source": [
    "import json\n",
    "import pandas as pd\n",
    "\n",
    "pd.set_option('max_colwidth', 200)\n",
    "\n",
    "from meerkat import pa1010d, parser"
   ]
  },
  {
   "cell_type": "code",
   "execution_count": null,
   "metadata": {},
   "outputs": [],
   "source": [
    "pd.__version__ #  tested with 1.1.3"
   ]
  },
  {
   "cell_type": "markdown",
   "metadata": {},
   "source": [
    "#### Initialize Driver Class with Default I2C Address"
   ]
  },
  {
   "cell_type": "code",
   "execution_count": null,
   "metadata": {},
   "outputs": [],
   "source": [
    "gps = pa1010d.PA1010D(bus_n=1)"
   ]
  },
  {
   "cell_type": "code",
   "execution_count": null,
   "metadata": {},
   "outputs": [],
   "source": [
    "gps.csv_writer.device"
   ]
  },
  {
   "cell_type": "markdown",
   "metadata": {},
   "source": [
    "#### NMEA Sentence Support  \n",
    "The GPS module outputs several NMEA sentences, to collect all the data a continuous looping read is used until enough bytes are collected to reconstruct all the sentences. Like a UART connection, the module cycles through transmitting each supported NMEA sentence type. Therefore, by default all supported sentence types are returned.\n",
    "\n",
    "The supported NMEA sentences are:  \n",
    "'GGA', 'GSA', 'GSV', 'RMC', 'VTG'  \n",
    "Refer to http://aprs.gids.nl/nmea/ and datasheet page 16 for details."
   ]
  },
  {
   "cell_type": "code",
   "execution_count": null,
   "metadata": {},
   "outputs": [],
   "source": [
    "gps.get()"
   ]
  },
  {
   "cell_type": "markdown",
   "metadata": {},
   "source": [
    "Using the `nmea_sentences` keyword, specific NMEA sentences can be returned. Note that all sentences are still being transmitted on the I2C bus and being parsed by the driver."
   ]
  },
  {
   "cell_type": "code",
   "execution_count": null,
   "metadata": {},
   "outputs": [],
   "source": [
    "gps.get(nmea_sentences=['GGA', 'GSA'])"
   ]
  },
  {
   "cell_type": "code",
   "execution_count": null,
   "metadata": {},
   "outputs": [],
   "source": [
    "gps.get(nmea_sentences=['GSV', 'RMC', 'VTG'])"
   ]
  },
  {
   "cell_type": "markdown",
   "metadata": {},
   "source": [
    "#### CSV Writer Output"
   ]
  },
  {
   "cell_type": "code",
   "execution_count": null,
   "metadata": {},
   "outputs": [],
   "source": [
    "gps.csv_writer.header"
   ]
  },
  {
   "cell_type": "code",
   "execution_count": null,
   "metadata": {},
   "outputs": [],
   "source": [
    "gps.write(description=\"test_1\", n=4, nmea_sentences=['GGA', 'GSA'], delay=1)"
   ]
  },
  {
   "cell_type": "code",
   "execution_count": null,
   "metadata": {},
   "outputs": [],
   "source": [
    "gps.csv_writer.path"
   ]
  },
  {
   "cell_type": "code",
   "execution_count": null,
   "metadata": {},
   "outputs": [],
   "source": [
    "m, df = parser.csv_resource(gps.csv_writer.path)"
   ]
  },
  {
   "cell_type": "code",
   "execution_count": null,
   "metadata": {},
   "outputs": [],
   "source": [
    "df.dtypes"
   ]
  },
  {
   "cell_type": "code",
   "execution_count": null,
   "metadata": {},
   "outputs": [],
   "source": [
    "df"
   ]
  },
  {
   "cell_type": "code",
   "execution_count": null,
   "metadata": {},
   "outputs": [],
   "source": [
    "def nmea_type(sentence):\n",
    "    \"\"\"Get NMEA sentence type\"\"\"\n",
    "    s = sentence.split(\",\")\n",
    "    return s[0][1:]"
   ]
  },
  {
   "cell_type": "code",
   "execution_count": null,
   "metadata": {},
   "outputs": [],
   "source": [
    "df.nmea_sentence.apply(lambda x: nmea_type(sentence=x))"
   ]
  },
  {
   "cell_type": "code",
   "execution_count": null,
   "metadata": {},
   "outputs": [],
   "source": [
    "def nmea_parse(sentence):\n",
    "    \"\"\"Parse NMEA sentence, removing start of sentence '$' and checksum delimiter '*' \"\"\"\n",
    "    start_seq = sentence[0]\n",
    "    sentence = sentence[1:]\n",
    "    sentence, checksum = sentence.split(\"*\")\n",
    "    return sentence.split(\",\") + [checksum]"
   ]
  },
  {
   "cell_type": "code",
   "execution_count": null,
   "metadata": {},
   "outputs": [],
   "source": [
    "df.nmea_sentence.apply(nmea_parse)"
   ]
  },
  {
   "cell_type": "code",
   "execution_count": null,
   "metadata": {},
   "outputs": [],
   "source": [
    "df[\"nmea_type\"] = df.nmea_sentence.apply(lambda x: nmea_type(sentence=x))"
   ]
  },
  {
   "cell_type": "code",
   "execution_count": null,
   "metadata": {},
   "outputs": [],
   "source": [
    "df"
   ]
  },
  {
   "cell_type": "markdown",
   "metadata": {},
   "source": [
    "#### GGA sentence"
   ]
  },
  {
   "cell_type": "markdown",
   "metadata": {},
   "source": [
    "Parse using DataFrame and list comprehension for the same result, but loses the row index values"
   ]
  },
  {
   "cell_type": "code",
   "execution_count": null,
   "metadata": {},
   "outputs": [],
   "source": [
    "df_gga = pd.DataFrame([nmea_parse(gs) for gs in df.loc[df.nmea_type == \"GNGGA\", \"nmea_sentence\"].values])\n",
    "df_gga.columns = parser.GGA_columns\n",
    "df_gga"
   ]
  },
  {
   "cell_type": "markdown",
   "metadata": {},
   "source": [
    "Parse using .loc and apply to preserve the source indexes"
   ]
  },
  {
   "cell_type": "code",
   "execution_count": null,
   "metadata": {},
   "outputs": [],
   "source": [
    "df_gga = df.loc[df.nmea_type == \"GNGGA\"].apply(lambda x: nmea_parse(x.nmea_sentence), axis=1, result_type='expand')\n",
    "df_gga.columns = parser.GGA_columns\n",
    "df_gga"
   ]
  },
  {
   "cell_type": "markdown",
   "metadata": {},
   "source": [
    "#### GSA sentence"
   ]
  },
  {
   "cell_type": "code",
   "execution_count": null,
   "metadata": {},
   "outputs": [],
   "source": [
    "df_gsa = df.loc[df.nmea_type == \"GPGSA\"].apply(lambda x: nmea_parse(x.nmea_sentence), axis=1, result_type='expand')\n",
    "df_gsa.columns = parser.GSA_columns\n",
    "df_gsa"
   ]
  },
  {
   "cell_type": "markdown",
   "metadata": {},
   "source": [
    "Merge metadata onto NMEA data"
   ]
  },
  {
   "cell_type": "code",
   "execution_count": null,
   "metadata": {},
   "outputs": [],
   "source": [
    "df_meta = df.loc[df.nmea_type == \"GNGGA\", [\"std_time_ms\", \"description\", \"sample_n\", \"datetime64_ns\"]]\n",
    "df_meta"
   ]
  },
  {
   "cell_type": "code",
   "execution_count": null,
   "metadata": {},
   "outputs": [],
   "source": [
    "df_gga"
   ]
  },
  {
   "cell_type": "code",
   "execution_count": null,
   "metadata": {},
   "outputs": [],
   "source": [
    "df_final = pd.concat([df_meta, df_gga], axis=1)\n",
    "df_final"
   ]
  },
  {
   "cell_type": "code",
   "execution_count": null,
   "metadata": {},
   "outputs": [],
   "source": [
    "df_final.dtypes"
   ]
  },
  {
   "cell_type": "code",
   "execution_count": null,
   "metadata": {},
   "outputs": [],
   "source": [
    "def gps_dd(coord):\n",
    "    \"\"\"Convert ddmm.mmmm location to dd.dddd\"\"\"\n",
    "    x = coord.split(\".\")\n",
    "    head = x[0]\n",
    "    minute_decimal = x[1]\n",
    "    degree = head[0:-2]\n",
    "    minute = head[-2:]\n",
    "    return float(degree) + float(minute + \".\" + minute_decimal) / 60"
   ]
  },
  {
   "cell_type": "code",
   "execution_count": null,
   "metadata": {},
   "outputs": [],
   "source": [
    "df_final.latitude.apply(gps_dd)"
   ]
  },
  {
   "cell_type": "markdown",
   "metadata": {},
   "source": [
    "#### JSON Writer Output"
   ]
  },
  {
   "cell_type": "code",
   "execution_count": null,
   "metadata": {},
   "outputs": [],
   "source": [
    "gps.json_writer.metadata_interval = 3\n",
    "data = gps.publish(description=\"test_2\", n=7, nmea_sentences=['GGA', 'RMC'], delay=2)\n",
    "for n, d in enumerate(data):\n",
    "    print(d)\n",
    "    print(\"-\"*40)"
   ]
  },
  {
   "cell_type": "code",
   "execution_count": null,
   "metadata": {},
   "outputs": [],
   "source": [
    "# default writer format is CSV, switch to JSON\n",
    "gps.writer_output = 'json'"
   ]
  },
  {
   "cell_type": "code",
   "execution_count": null,
   "metadata": {},
   "outputs": [],
   "source": [
    "# writer method with description and sample number\n",
    "gps.write(description='test_3', n=15, nmea_sentences=['GGA', 'GSA'])"
   ]
  },
  {
   "cell_type": "code",
   "execution_count": null,
   "metadata": {},
   "outputs": [],
   "source": [
    "with open(gps.json_writer.path, 'r') as f:\n",
    "    for _ in range(4):\n",
    "        print(f.readline().strip())"
   ]
  },
  {
   "cell_type": "code",
   "execution_count": null,
   "metadata": {},
   "outputs": [],
   "source": [
    "data = []\n",
    "h = \"\"\n",
    "with open(gps.json_writer.path, 'r') as f:\n",
    "    for _ in range(15):\n",
    "        s = f.readline().strip()\n",
    "        js = json.loads(s)\n",
    "        if \"header\" in js.keys():\n",
    "            h = js[\"header\"]\n",
    "        data.append([js[\"std_time_ms\"] , js[\"description\"], js[\"sample_n\"], js[\"nmea_sentence\"]])"
   ]
  },
  {
   "cell_type": "code",
   "execution_count": null,
   "metadata": {},
   "outputs": [],
   "source": [
    "pd.DataFrame(data, columns=h)"
   ]
  },
  {
   "cell_type": "code",
   "execution_count": null,
   "metadata": {},
   "outputs": [],
   "source": []
  }
 ],
 "metadata": {
  "kernelspec": {
   "display_name": "Python 3",
   "language": "python",
   "name": "python3"
  },
  "language_info": {
   "codemirror_mode": {
    "name": "ipython",
    "version": 3
   },
   "file_extension": ".py",
   "mimetype": "text/x-python",
   "name": "python",
   "nbconvert_exporter": "python",
   "pygments_lexer": "ipython3",
   "version": "3.7.3"
  }
 },
 "nbformat": 4,
 "nbformat_minor": 4
}
