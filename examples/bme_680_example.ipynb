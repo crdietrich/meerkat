{
 "cells": [
  {
   "cell_type": "markdown",
   "metadata": {},
   "source": [
    "## BME680  \n",
    "The Boshe BME680 is a gas sensor able to measure relative humidity, barometric pressure, ambient, temperature and volatile organic compound (VOC) gases.  \n",
    "\n",
    "Manufacturer link: https://www.bosch-sensortec.com/products/environmental-sensors/gas-sensors-bme680/  \n",
    "Breakout boards used:  \n",
    "https://www.adafruit.com/product/3660  \n",
    "https://www.sparkfun.com/products/14570"
   ]
  },
  {
   "cell_type": "code",
   "execution_count": 1,
   "metadata": {},
   "outputs": [],
   "source": [
    "import pandas as pd\n",
    "import matplotlib.pyplot as plt"
   ]
  },
  {
   "cell_type": "code",
   "execution_count": 2,
   "metadata": {},
   "outputs": [],
   "source": [
    "from meerkat import bme680, parser, tools"
   ]
  },
  {
   "cell_type": "markdown",
   "metadata": {},
   "source": [
    "Initialize sensor and get the onboard calibration values."
   ]
  },
  {
   "cell_type": "code",
   "execution_count": 3,
   "metadata": {},
   "outputs": [],
   "source": [
    "dev = bme680.BME680(bus_n=1)"
   ]
  },
  {
   "cell_type": "code",
   "execution_count": 4,
   "metadata": {},
   "outputs": [],
   "source": [
    "dev.read_calibration()"
   ]
  },
  {
   "cell_type": "markdown",
   "metadata": {},
   "source": [
    "Measurement steps, based on the datasheet section 3.2.1 Quickstart:\n",
    "1. Set humidty oversample\n",
    "2. Set temperature oversample\n",
    "3. Set pressure oversample"
   ]
  },
  {
   "cell_type": "code",
   "execution_count": 5,
   "metadata": {},
   "outputs": [],
   "source": [
    "dev.set_oversampling(h=1, t=2, p=16)"
   ]
  },
  {
   "cell_type": "markdown",
   "metadata": {},
   "source": [
    "4. Set gas wait time with gas_wait_0 to 0x59 = 100ms"
   ]
  },
  {
   "cell_type": "code",
   "execution_count": 6,
   "metadata": {},
   "outputs": [
    {
     "name": "stdout",
     "output_type": "stream",
     "text": [
      "Wait: 400 ms\n",
      "code: 0x99\n"
     ]
    }
   ],
   "source": [
    "ms = 25\n",
    "multiplier = 16\n",
    "wait = dev.calc_wait_time(t=ms, x=multiplier)\n",
    "print(\"Wait: {} ms\".format(ms*multiplier))\n",
    "print(\"code:\", hex(wait))"
   ]
  },
  {
   "cell_type": "code",
   "execution_count": 7,
   "metadata": {},
   "outputs": [],
   "source": [
    "dev.set_gas_wait(n=0, value=wait)"
   ]
  },
  {
   "cell_type": "markdown",
   "metadata": {},
   "source": [
    "5. Set heater set-point with res_heat_0, 150 C here"
   ]
  },
  {
   "cell_type": "code",
   "execution_count": 8,
   "metadata": {},
   "outputs": [
    {
     "data": {
      "text/plain": [
       "177"
      ]
     },
     "execution_count": 8,
     "metadata": {},
     "output_type": "execute_result"
    }
   ],
   "source": [
    "resistance = dev.calc_res_heat(target_temp=200)\n",
    "resistance"
   ]
  },
  {
   "cell_type": "code",
   "execution_count": 9,
   "metadata": {},
   "outputs": [],
   "source": [
    "dev.set_res_heat(n=0, value=resistance)"
   ]
  },
  {
   "cell_type": "markdown",
   "metadata": {},
   "source": [
    "6. Set nb_conv to the 0 profile used in steps 4 and 5"
   ]
  },
  {
   "cell_type": "code",
   "execution_count": 10,
   "metadata": {},
   "outputs": [],
   "source": [
    "dev.nb_conv = 0"
   ]
  },
  {
   "cell_type": "markdown",
   "metadata": {},
   "source": [
    "7. Set run_gas to 1 to enable gas measurements"
   ]
  },
  {
   "cell_type": "code",
   "execution_count": 11,
   "metadata": {},
   "outputs": [],
   "source": [
    "dev.gas_on()"
   ]
  },
  {
   "cell_type": "markdown",
   "metadata": {},
   "source": [
    "8. Set mode to 0b01 to trigger a single forced mode measurement"
   ]
  },
  {
   "cell_type": "code",
   "execution_count": 12,
   "metadata": {},
   "outputs": [
    {
     "name": "stdout",
     "output_type": "stream",
     "text": [
      "T:  20.2684765625\n",
      "P:  1006.3151496935856\n",
      "RH: 41.70648937305095\n",
      "Gas Resistance: 3425\n",
      "Gas Valid: 1\n",
      "Heat Stable: 1\n",
      "CPU times: user 19.8 ms, sys: 2.96 ms, total: 22.7 ms\n",
      "Wall time: 444 ms\n"
     ]
    }
   ],
   "source": [
    "%%time\n",
    "dev.forced_mode()\n",
    "dev.measure()\n",
    "t = dev.temperature()\n",
    "p = dev.pressure()\n",
    "h = dev.humidity()\n",
    "g = dev.gas()\n",
    "print(\"T: \", t)\n",
    "print(\"P: \", p)\n",
    "print(\"RH:\", h)\n",
    "print(\"Gas Resistance:\", g)\n",
    "print(\"Gas Valid:\", dev._gas_valid)\n",
    "print(\"Heat Stable:\", dev._heat_stab)"
   ]
  },
  {
   "cell_type": "markdown",
   "metadata": {},
   "source": [
    "#### Measurement  "
   ]
  },
  {
   "cell_type": "code",
   "execution_count": 13,
   "metadata": {},
   "outputs": [
    {
     "data": {
      "text/plain": [
       "['test_1',\n",
       " 1,\n",
       " 22.2883984375,\n",
       " 1006.2456444118999,\n",
       " 41.976907465109235,\n",
       " 3911,\n",
       " 1,\n",
       " 1]"
      ]
     },
     "execution_count": 13,
     "metadata": {},
     "output_type": "execute_result"
    }
   ],
   "source": [
    "dev.get(description=\"test_1\")"
   ]
  },
  {
   "cell_type": "code",
   "execution_count": 14,
   "metadata": {},
   "outputs": [
    {
     "data": {
      "text/plain": [
       "[['test_2',\n",
       "  1,\n",
       "  23.571796875,\n",
       "  1006.2667537143348,\n",
       "  42.08894439288667,\n",
       "  4222,\n",
       "  1,\n",
       "  1],\n",
       " ['test_2',\n",
       "  2,\n",
       "  24.2274609375,\n",
       "  1006.3016993017569,\n",
       "  42.0508952551473,\n",
       "  4463,\n",
       "  1,\n",
       "  1],\n",
       " ['test_2', 3, 24.6503125, 1006.2805582327019, 41.88213366822671, 4671, 1, 1],\n",
       " ['test_2',\n",
       "  4,\n",
       "  24.941328125,\n",
       "  1006.2679268209864,\n",
       "  41.61725414247343,\n",
       "  6848,\n",
       "  1,\n",
       "  1],\n",
       " ['test_2',\n",
       "  5,\n",
       "  25.1540234375,\n",
       "  1006.3019738421577,\n",
       "  41.31489737397977,\n",
       "  7161,\n",
       "  1,\n",
       "  1]]"
      ]
     },
     "execution_count": 14,
     "metadata": {},
     "output_type": "execute_result"
    }
   ],
   "source": [
    "dev.get(description=\"test_2\", n=5)"
   ]
  },
  {
   "cell_type": "markdown",
   "metadata": {},
   "source": [
    "#### JSON Data Publishing  "
   ]
  },
  {
   "cell_type": "code",
   "execution_count": 15,
   "metadata": {},
   "outputs": [],
   "source": [
    "# lower metadata interval from a default of once every 10 samples\n",
    "dev.json_writer.metadata_interval = 3"
   ]
  },
  {
   "cell_type": "code",
   "execution_count": 16,
   "metadata": {},
   "outputs": [
    {
     "data": {
      "text/plain": [
       "['{\"description\": \"test_3\", \"sample_n\": 1, \"T\": 21.5012890625, \"P\": 1006.3337613762343, \"RH\": 39.65436588499878, \"g_res\": 7223, \"g_val\": 1, \"heat_stab\": 1, \"std_time_ms\": \"2020-04-11 09:47:36.233474\"}',\n",
       " '{\"description\": \"test_3\", \"sample_n\": 2, \"T\": 21.3544140625, \"P\": 1006.3136905093997, \"RH\": 39.19906166763091, \"g_res\": 7450, \"g_val\": 1, \"heat_stab\": 1, \"std_time_ms\": \"2020-04-11 09:47:37.680689\"}',\n",
       " '{\"description\": null, \"sample_n\": 3, \"T\": 21.2962109375, \"P\": 1006.3250874863975, \"RH\": 38.92510230468672, \"g_res\": 7683, \"g_val\": 1, \"heat_stab\": 1, \"std_time_ms\": \"2020-04-11 09:47:39.130334\", \"name\": \"BME680\", \"title\": null, \"format\": null, \"encoding\": \"utf-8\", \"bytes\": null, \"hash\": null, \"schema\": null, \"sources\": null, \"licenses\": null, \"line_terminator\": \"\\\\n\", \"quote_char\": \"\\\\\"\", \"double_quote\": true, \"escape_char\": \"\\\\\\\\\", \"null_sequence\": \"NA\", \"comment\": \"#\", \"skip_lines\": 0, \"path\": null, \"device\": {\"name\": \"BME680\", \"version_hw\": \"1.0\", \"version_sw\": \"1.0\", \"accuracy\": null, \"precision\": \"VOC:0.08%, RH:0.01%, P:0.02Pa, T:1.0C\", \"bus\": \"<meerkat.i2c_pi.WrapI2C object at 0xacfb80b0>\", \"state\": null, \"active\": null, \"error\": null, \"dtype\": null, \"description\": \"Bosch Humidity, Pressure, Temperature, VOC Sensor\", \"urls\": \"https://www.bosch-sensortec.com/products/environmental-sensors/gas-sensors-bme680/\", \"manufacturer\": \"Bosch Sensortec\", \"calibration_date\": null}, \"units\": null, \"dtypes\": null, \"accuracy\": null, \"precision\": null, \"time_format\": \"std_time_ms\", \"strfmtime\": \"%Y-%m-%d %H:%M:%S.%f\", \"version\": \"0.1 Alpha\", \"standard\": \"RFC 8259\", \"media_type\": \"text/json\", \"metadata_interval\": 3, \"metadata_file_i\": 1, \"metadata_stream_i\": 0, \"header\": [\"description\", \"sample_n\", \"T\", \"P\", \"RH\", \"g_res\", \"g_val\", \"heat_stab\"]}',\n",
       " '{\"description\": \"test_3\", \"sample_n\": 4, \"T\": 21.273359375, \"P\": 1006.3090528293936, \"RH\": 38.76334361675409, \"g_res\": 7890, \"g_val\": 1, \"heat_stab\": 1, \"std_time_ms\": \"2020-04-11 09:47:40.586007\"}',\n",
       " '{\"description\": \"test_3\", \"sample_n\": 5, \"T\": 21.2758984375, \"P\": 1006.3151057600568, \"RH\": 38.644135596148246, \"g_res\": 8059, \"g_val\": 1, \"heat_stab\": 1, \"std_time_ms\": \"2020-04-11 09:47:42.040331\"}',\n",
       " '{\"description\": null, \"sample_n\": 6, \"T\": 21.2758984375, \"P\": 1006.3028744713752, \"RH\": 38.54180867780832, \"g_res\": 8229, \"g_val\": 1, \"heat_stab\": 1, \"std_time_ms\": \"2020-04-11 09:47:43.496140\", \"name\": \"BME680\", \"title\": null, \"format\": null, \"encoding\": \"utf-8\", \"bytes\": null, \"hash\": null, \"schema\": null, \"sources\": null, \"licenses\": null, \"line_terminator\": \"\\\\n\", \"quote_char\": \"\\\\\"\", \"double_quote\": true, \"escape_char\": \"\\\\\\\\\", \"null_sequence\": \"NA\", \"comment\": \"#\", \"skip_lines\": 0, \"path\": null, \"device\": {\"name\": \"BME680\", \"version_hw\": \"1.0\", \"version_sw\": \"1.0\", \"accuracy\": null, \"precision\": \"VOC:0.08%, RH:0.01%, P:0.02Pa, T:1.0C\", \"bus\": \"<meerkat.i2c_pi.WrapI2C object at 0xacfb80b0>\", \"state\": null, \"active\": null, \"error\": null, \"dtype\": null, \"description\": \"Bosch Humidity, Pressure, Temperature, VOC Sensor\", \"urls\": \"https://www.bosch-sensortec.com/products/environmental-sensors/gas-sensors-bme680/\", \"manufacturer\": \"Bosch Sensortec\", \"calibration_date\": null}, \"units\": null, \"dtypes\": null, \"accuracy\": null, \"precision\": null, \"time_format\": \"std_time_ms\", \"strfmtime\": \"%Y-%m-%d %H:%M:%S.%f\", \"version\": \"0.1 Alpha\", \"standard\": \"RFC 8259\", \"media_type\": \"text/json\", \"metadata_interval\": 3, \"metadata_file_i\": 1, \"metadata_stream_i\": 0, \"header\": [\"description\", \"sample_n\", \"T\", \"P\", \"RH\", \"g_res\", \"g_val\", \"heat_stab\"]}',\n",
       " '{\"description\": \"test_3\", \"sample_n\": 7, \"T\": 21.2784375, \"P\": 1006.3071800378815, \"RH\": 38.46820393449333, \"g_res\": 8371, \"g_val\": 1, \"heat_stab\": 1, \"std_time_ms\": \"2020-04-11 09:47:44.941799\"}']"
      ]
     },
     "execution_count": 16,
     "metadata": {},
     "output_type": "execute_result"
    }
   ],
   "source": [
    "dev.publish(description='test_3', n=7, delay=1)"
   ]
  },
  {
   "cell_type": "markdown",
   "metadata": {},
   "source": [
    "#### JSON Writer Output"
   ]
  },
  {
   "cell_type": "code",
   "execution_count": 18,
   "metadata": {},
   "outputs": [],
   "source": [
    "# default writer format is CSV, switch to JSON\n",
    "dev.writer_output = 'json'"
   ]
  },
  {
   "cell_type": "code",
   "execution_count": 19,
   "metadata": {},
   "outputs": [],
   "source": [
    "# writer method with description and sample number\n",
    "dev.write(description='test_3', n=30)"
   ]
  },
  {
   "cell_type": "code",
   "execution_count": 20,
   "metadata": {},
   "outputs": [
    {
     "data": {
      "text/plain": [
       "'2020_04_11_09_47_55.jsontxt'"
      ]
     },
     "execution_count": 20,
     "metadata": {},
     "output_type": "execute_result"
    }
   ],
   "source": [
    "dev.json_writer.path"
   ]
  },
  {
   "cell_type": "code",
   "execution_count": 21,
   "metadata": {},
   "outputs": [
    {
     "name": "stdout",
     "output_type": "stream",
     "text": [
      "{\"description\": \"test_3\", \"sample_n\": 0, \"T\": 20.4329296875, \"P\": 1006.3168696496639, \"RH\": 39.847278690159186, \"g_res\": 7962, \"g_val\": 1, \"heat_stab\": 1, \"std_time_ms\": \"2020-04-11 09:47:55.666078\"}\n",
      "{\"description\": \"test_3\", \"sample_n\": 1, \"T\": 22.764375, \"P\": 1006.1832675758951, \"RH\": 40.217338579602696, \"g_res\": 8470, \"g_val\": 1, \"heat_stab\": 1, \"std_time_ms\": \"2020-04-11 09:47:56.115612\"}\n",
      "{\"description\": null, \"sample_n\": 2, \"T\": 23.9591015625, \"P\": 1006.2692171914123, \"RH\": 40.39673609038746, \"g_res\": 8831, \"g_val\": 1, \"heat_stab\": 1, \"std_time_ms\": \"2020-04-11 09:47:56.563932\", \"name\": \"BME680\", \"title\": null, \"format\": null, \"encoding\": \"utf-8\", \"bytes\": null, \"hash\": null, \"schema\": null, \"sources\": null, \"licenses\": null, \"line_terminator\": \"\\n\", \"quote_char\": \"\\\"\", \"double_quote\": true, \"escape_char\": \"\\\\\", \"null_sequence\": \"NA\", \"comment\": \"#\", \"skip_lines\": 0, \"path\": \"2020_04_11_09_47_55.jsontxt\", \"device\": {\"name\": \"BME680\", \"version_hw\": \"1.0\", \"version_sw\": \"1.0\", \"accuracy\": null, \"precision\": \"VOC:0.08%, RH:0.01%, P:0.02Pa, T:1.0C\", \"bus\": \"<meerkat.i2c_pi.WrapI2C object at 0xacfb80b0>\", \"state\": null, \"active\": null, \"error\": null, \"dtype\": null, \"description\": \"Bosch Humidity, Pressure, Temperature, VOC Sensor\", \"urls\": \"https://www.bosch-sensortec.com/products/environmental-sensors/gas-sensors-bme680/\", \"manufacturer\": \"Bosch Sensortec\", \"calibration_date\": null}, \"units\": null, \"dtypes\": null, \"accuracy\": null, \"precision\": null, \"time_format\": \"std_time_ms\", \"strfmtime\": \"%Y-%m-%d %H:%M:%S.%f\", \"version\": \"0.1 Alpha\", \"standard\": \"RFC 8259\", \"media_type\": \"text/json\", \"metadata_interval\": 3, \"metadata_file_i\": 0, \"metadata_stream_i\": 2, \"header\": [\"description\", \"sample_n\", \"T\", \"P\", \"RH\", \"g_res\", \"g_val\", \"heat_stab\"]}\n",
      "{\"description\": \"test_3\", \"sample_n\": 3, \"T\": 24.5364453125, \"P\": 1006.2901433524459, \"RH\": 40.389620196705984, \"g_res\": 9047, \"g_val\": 1, \"heat_stab\": 1, \"std_time_ms\": \"2020-04-11 09:47:57.013165\"}\n"
     ]
    }
   ],
   "source": [
    "with open(dev.json_writer.path, 'r') as f:\n",
    "    for _ in range(4):\n",
    "        print(f.readline().strip())"
   ]
  },
  {
   "cell_type": "markdown",
   "metadata": {},
   "source": [
    "#### CSV Writer Output"
   ]
  },
  {
   "cell_type": "code",
   "execution_count": 22,
   "metadata": {},
   "outputs": [],
   "source": [
    "# switch back to CSV format\n",
    "dev.writer_output = 'csv'"
   ]
  },
  {
   "cell_type": "code",
   "execution_count": 23,
   "metadata": {},
   "outputs": [],
   "source": [
    "# writer method with description and sample number\n",
    "dev.write(description='test_4', n=30, delay=1)"
   ]
  },
  {
   "cell_type": "code",
   "execution_count": 24,
   "metadata": {},
   "outputs": [
    {
     "data": {
      "text/plain": [
       "'2020_04_11_09_48_18_data.csv'"
      ]
     },
     "execution_count": 24,
     "metadata": {},
     "output_type": "execute_result"
    }
   ],
   "source": [
    "dev.csv_writer.path"
   ]
  },
  {
   "cell_type": "code",
   "execution_count": 25,
   "metadata": {},
   "outputs": [],
   "source": [
    "# load .csv data written with dev.write\n",
    "m, df = parser.csv_resource(dev.csv_writer.path)"
   ]
  },
  {
   "cell_type": "markdown",
   "metadata": {},
   "source": [
    "#### Metadata in CSV"
   ]
  },
  {
   "cell_type": "code",
   "execution_count": 26,
   "metadata": {},
   "outputs": [
    {
     "data": {
      "text/plain": [
       "{'name': 'BME680',\n",
       " 'title': None,\n",
       " 'description': None,\n",
       " 'format': None,\n",
       " 'encoding': 'utf-8',\n",
       " 'bytes': None,\n",
       " 'hash': None,\n",
       " 'schema': None,\n",
       " 'sources': None,\n",
       " 'licenses': None,\n",
       " 'line_terminator': '\\n',\n",
       " 'quote_char': '\"',\n",
       " 'double_quote': True,\n",
       " 'escape_char': '\\\\',\n",
       " 'null_sequence': 'NA',\n",
       " 'comment': '#',\n",
       " 'skip_lines': 1,\n",
       " 'path': '2020_04_11_09_48_18_data.csv',\n",
       " 'device': {'name': 'BME680',\n",
       "  'version_hw': '1.0',\n",
       "  'version_sw': '1.0',\n",
       "  'accuracy': None,\n",
       "  'precision': 'VOC:0.08%, RH:0.01%, P:0.02Pa, T:1.0C',\n",
       "  'bus': '<meerkat.i2c_pi.WrapI2C object at 0xacfb80b0>',\n",
       "  'state': None,\n",
       "  'active': None,\n",
       "  'error': None,\n",
       "  'dtype': None,\n",
       "  'description': 'Bosch Humidity, Pressure, Temperature, VOC Sensor',\n",
       "  'urls': 'https://www.bosch-sensortec.com/products/environmental-sensors/gas-sensors-bme680/',\n",
       "  'manufacturer': 'Bosch Sensortec',\n",
       "  'calibration_date': None},\n",
       " 'units': None,\n",
       " 'dtypes': None,\n",
       " 'accuracy': None,\n",
       " 'precision': None,\n",
       " 'time_format': 'std_time_ms',\n",
       " 'strfmtime': '%Y-%m-%d %H:%M:%S.%f',\n",
       " 'version': '0.1 Alpha',\n",
       " 'standard': 'Follow RFC 4180',\n",
       " 'media_type': 'text/csv',\n",
       " 'header': ['description',\n",
       "  'sample_n',\n",
       "  'T',\n",
       "  'P',\n",
       "  'RH',\n",
       "  'g_res',\n",
       "  'g_val',\n",
       "  'heat_stab'],\n",
       " 'delimiter': ',',\n",
       " 'skip_initial_space': True,\n",
       " 'case_sensitive_header': False}"
      ]
     },
     "execution_count": 26,
     "metadata": {},
     "output_type": "execute_result"
    }
   ],
   "source": [
    "m"
   ]
  },
  {
   "cell_type": "markdown",
   "metadata": {},
   "source": [
    "#### Parsed CSV data"
   ]
  },
  {
   "cell_type": "code",
   "execution_count": 27,
   "metadata": {},
   "outputs": [
    {
     "data": {
      "text/html": [
       "<div>\n",
       "<style scoped>\n",
       "    .dataframe tbody tr th:only-of-type {\n",
       "        vertical-align: middle;\n",
       "    }\n",
       "\n",
       "    .dataframe tbody tr th {\n",
       "        vertical-align: top;\n",
       "    }\n",
       "\n",
       "    .dataframe thead th {\n",
       "        text-align: right;\n",
       "    }\n",
       "</style>\n",
       "<table border=\"1\" class=\"dataframe\">\n",
       "  <thead>\n",
       "    <tr style=\"text-align: right;\">\n",
       "      <th></th>\n",
       "      <th>std_time_ms</th>\n",
       "      <th>description</th>\n",
       "      <th>sample_n</th>\n",
       "      <th>T</th>\n",
       "      <th>P</th>\n",
       "      <th>RH</th>\n",
       "      <th>g_res</th>\n",
       "      <th>g_val</th>\n",
       "      <th>heat_stab</th>\n",
       "      <th>datetime64_ns</th>\n",
       "    </tr>\n",
       "  </thead>\n",
       "  <tbody>\n",
       "    <tr>\n",
       "      <th>0</th>\n",
       "      <td>2020-04-11 09:48:18.848623</td>\n",
       "      <td>test_4</td>\n",
       "      <td>0</td>\n",
       "      <td>20.762031</td>\n",
       "      <td>1006.313300</td>\n",
       "      <td>36.403714</td>\n",
       "      <td>13823</td>\n",
       "      <td>1</td>\n",
       "      <td>1</td>\n",
       "      <td>2020-04-11 09:48:18.848623</td>\n",
       "    </tr>\n",
       "    <tr>\n",
       "      <th>1</th>\n",
       "      <td>2020-04-11 09:48:20.299945</td>\n",
       "      <td>test_4</td>\n",
       "      <td>1</td>\n",
       "      <td>21.245625</td>\n",
       "      <td>1006.309198</td>\n",
       "      <td>36.905102</td>\n",
       "      <td>14013</td>\n",
       "      <td>1</td>\n",
       "      <td>1</td>\n",
       "      <td>2020-04-11 09:48:20.299945</td>\n",
       "    </tr>\n",
       "    <tr>\n",
       "      <th>2</th>\n",
       "      <td>2020-04-11 09:48:21.744936</td>\n",
       "      <td>test_4</td>\n",
       "      <td>2</td>\n",
       "      <td>21.367109</td>\n",
       "      <td>1006.331722</td>\n",
       "      <td>37.130844</td>\n",
       "      <td>14248</td>\n",
       "      <td>1</td>\n",
       "      <td>1</td>\n",
       "      <td>2020-04-11 09:48:21.744936</td>\n",
       "    </tr>\n",
       "    <tr>\n",
       "      <th>3</th>\n",
       "      <td>2020-04-11 09:48:23.191516</td>\n",
       "      <td>test_4</td>\n",
       "      <td>3</td>\n",
       "      <td>21.417695</td>\n",
       "      <td>1006.317877</td>\n",
       "      <td>37.248512</td>\n",
       "      <td>14438</td>\n",
       "      <td>1</td>\n",
       "      <td>1</td>\n",
       "      <td>2020-04-11 09:48:23.191516</td>\n",
       "    </tr>\n",
       "    <tr>\n",
       "      <th>4</th>\n",
       "      <td>2020-04-11 09:48:24.641131</td>\n",
       "      <td>test_4</td>\n",
       "      <td>4</td>\n",
       "      <td>21.440547</td>\n",
       "      <td>1006.316423</td>\n",
       "      <td>37.312785</td>\n",
       "      <td>14559</td>\n",
       "      <td>1</td>\n",
       "      <td>1</td>\n",
       "      <td>2020-04-11 09:48:24.641131</td>\n",
       "    </tr>\n",
       "  </tbody>\n",
       "</table>\n",
       "</div>"
      ],
      "text/plain": [
       "                  std_time_ms description  sample_n          T            P  \\\n",
       "0  2020-04-11 09:48:18.848623      test_4         0  20.762031  1006.313300   \n",
       "1  2020-04-11 09:48:20.299945      test_4         1  21.245625  1006.309198   \n",
       "2  2020-04-11 09:48:21.744936      test_4         2  21.367109  1006.331722   \n",
       "3  2020-04-11 09:48:23.191516      test_4         3  21.417695  1006.317877   \n",
       "4  2020-04-11 09:48:24.641131      test_4         4  21.440547  1006.316423   \n",
       "\n",
       "          RH  g_res  g_val  heat_stab              datetime64_ns  \n",
       "0  36.403714  13823      1          1 2020-04-11 09:48:18.848623  \n",
       "1  36.905102  14013      1          1 2020-04-11 09:48:20.299945  \n",
       "2  37.130844  14248      1          1 2020-04-11 09:48:21.744936  \n",
       "3  37.248512  14438      1          1 2020-04-11 09:48:23.191516  \n",
       "4  37.312785  14559      1          1 2020-04-11 09:48:24.641131  "
      ]
     },
     "execution_count": 27,
     "metadata": {},
     "output_type": "execute_result"
    }
   ],
   "source": [
    "df.head()"
   ]
  },
  {
   "cell_type": "code",
   "execution_count": 28,
   "metadata": {},
   "outputs": [
    {
     "data": {
      "image/png": "[encoded data removed]",
      "text/plain": [
       "<Figure size 432x288 with 1 Axes>"
      ]
     },
     "metadata": {
      "needs_background": "light"
     },
     "output_type": "display_data"
    }
   ],
   "source": [
    "df[\"dt\"] = pd.to_datetime(df.std_time_ms)\n",
    "df[[\"dt\", \"g_res\"]].plot(x=\"dt\");"
   ]
  },
  {
   "cell_type": "code",
   "execution_count": 29,
   "metadata": {},
   "outputs": [
    {
     "data": {
      "image/png": "[encoded data removed]",
      "text/plain": [
       "<Figure size 432x288 with 2 Axes>"
      ]
     },
     "metadata": {
      "needs_background": "light"
     },
     "output_type": "display_data"
    }
   ],
   "source": [
    "df[[\"std_time_ms\", \"T\", \"RH\"]].plot(x=\"std_time_ms\", secondary_y=\"RH\");"
   ]
  },
  {
   "cell_type": "code",
   "execution_count": 30,
   "metadata": {},
   "outputs": [
    {
     "data": {
      "image/png": "[encoded data removed]",
      "text/plain": [
       "<Figure size 432x288 with 1 Axes>"
      ]
     },
     "metadata": {
      "needs_background": "light"
     },
     "output_type": "display_data"
    }
   ],
   "source": [
    "df[[\"std_time_ms\", \"P\"]].plot(x=\"std_time_ms\");"
   ]
  }
 ],
 "metadata": {
  "kernelspec": {
   "display_name": "Python 3",
   "language": "python",
   "name": "python3"
  },
  "language_info": {
   "codemirror_mode": {
    "name": "ipython",
    "version": 3
   },
   "file_extension": ".py",
   "mimetype": "text/x-python",
   "name": "python",
   "nbconvert_exporter": "python",
   "pygments_lexer": "ipython3",
   "version": "3.7.3"
  }
 },
 "nbformat": 4,
 "nbformat_minor": 4
}
