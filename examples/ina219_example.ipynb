{
 "cells": [
  {
   "cell_type": "markdown",
   "metadata": {},
   "source": [
    "## INA219  \n",
    "The INA219 is a current shunt and power monitor with programmable conversion times and filtering.  \n",
    "\n",
    "Manufacturer link: http://www.ti.com/product/INA219  \n",
    "\n",
    "Breakout board used: https://www.adafruit.com/product/904"
   ]
  },
  {
   "cell_type": "code",
   "execution_count": 1,
   "metadata": {},
   "outputs": [],
   "source": [
    "import matplotlib.pyplot as plt\n",
    "from matplotlib.ticker import FormatStrFormatter\n",
    "\n",
    "from meerkat.ina219 import INA219\n",
    "from meerkat import base, parser, tools"
   ]
  },
  {
   "cell_type": "code",
   "execution_count": 2,
   "metadata": {},
   "outputs": [],
   "source": [
    "import time"
   ]
  },
  {
   "cell_type": "code",
   "execution_count": 3,
   "metadata": {},
   "outputs": [],
   "source": [
    "# bus number 1 on Raspberry Pi\n",
    "dev = INA219(bus_n=1, bus_addr=0x40, output='csv')"
   ]
  },
  {
   "cell_type": "code",
   "execution_count": 4,
   "metadata": {},
   "outputs": [],
   "source": [
    "dev.verbose = True"
   ]
  },
  {
   "cell_type": "markdown",
   "metadata": {},
   "source": [
    "#### Configuration"
   ]
  },
  {
   "cell_type": "code",
   "execution_count": 5,
   "metadata": {},
   "outputs": [
    {
     "name": "stdout",
     "output_type": "stream",
     "text": [
      "Writing to 'config' registry # 0\n",
      "HEX value: 0xb99f\n",
      "Binary value:\n",
      "1011100110011111\n",
      "1111110000000000\n",
      "5432109876543210\n"
     ]
    }
   ],
   "source": [
    "# reset all configuration settings\n",
    "dev.reset()"
   ]
  },
  {
   "cell_type": "markdown",
   "metadata": {},
   "source": [
    "Example only uses \"Simple Current Shunt Monitor Usage\" (see section 8.5.3 in datasheet) defaults:  \n",
    "* 12-bit resolution  \n",
    "* 320 mV shunt full scale range (PGA = /8)  \n",
    "* 32 V bus full scale range  \n",
    "* Continuous conversion of shunt and bus voltage"
   ]
  },
  {
   "cell_type": "code",
   "execution_count": 6,
   "metadata": {},
   "outputs": [
    {
     "name": "stdout",
     "output_type": "stream",
     "text": [
      "Bus Voltage Range: 32 V\n",
      "PGA Range: 8x or +/- 320 mV\n",
      "Configuration Register:\n",
      "HEX value: 0x399f\n",
      "Binary value:\n",
      "0011100110011111\n",
      "1111110000000000\n",
      "5432109876543210\n"
     ]
    }
   ],
   "source": [
    "cal = dev.get_config()"
   ]
  },
  {
   "cell_type": "markdown",
   "metadata": {},
   "source": [
    "#### Measurement"
   ]
  },
  {
   "cell_type": "markdown",
   "metadata": {},
   "source": [
    "For this example, device is connected to a Raspberry Pi 3 5V supply."
   ]
  },
  {
   "cell_type": "code",
   "execution_count": 7,
   "metadata": {},
   "outputs": [
    {
     "data": {
      "text/plain": [
       "0.888"
      ]
     },
     "execution_count": 7,
     "metadata": {},
     "output_type": "execute_result"
    }
   ],
   "source": [
    "dev.get_bus_voltage()"
   ]
  },
  {
   "cell_type": "code",
   "execution_count": 8,
   "metadata": {},
   "outputs": [
    {
     "data": {
      "text/plain": [
       "0.6553000000000001"
      ]
     },
     "execution_count": 8,
     "metadata": {},
     "output_type": "execute_result"
    }
   ],
   "source": [
    "dev.get_shunt_voltage()"
   ]
  },
  {
   "cell_type": "code",
   "execution_count": 9,
   "metadata": {},
   "outputs": [
    {
     "data": {
      "text/plain": [
       "[[0.888, 0.6553300000000001],\n",
       " [0.884, 0.65534],\n",
       " [0.88, 0.6553500000000001],\n",
       " [0.884, 0.6553300000000001],\n",
       " [0.884, 0.65532],\n",
       " [0.884, 0.65534],\n",
       " [0.884, 0.65534],\n",
       " [0.888, 0.6553300000000001],\n",
       " [0.888, 0.6553300000000001],\n",
       " [0.884, 0.65532],\n",
       " [0.888, 0.6553300000000001],\n",
       " [0.88, 0.6553100000000001],\n",
       " [0.884, 0.6553300000000001],\n",
       " [0.88, 0.65534],\n",
       " [0.884, 0.6553300000000001],\n",
       " [0.884, 0.6553500000000001],\n",
       " [0.884, 0.65532],\n",
       " [0.888, 0.6553300000000001],\n",
       " [0.884, 0.6553300000000001],\n",
       " [0.884, 0.6553000000000001]]"
      ]
     },
     "execution_count": 9,
     "metadata": {},
     "output_type": "execute_result"
    }
   ],
   "source": [
    "a = []\n",
    "for i in range(20):\n",
    "    \n",
    "    bv = dev.get_bus_voltage()\n",
    "    sv = dev.get_shunt_voltage()\n",
    "    a.append([bv, sv])\n",
    "    time.sleep(0.5)\n",
    "a"
   ]
  },
  {
   "cell_type": "code",
   "execution_count": 10,
   "metadata": {},
   "outputs": [
    {
     "data": {
      "text/plain": [
       "6.5531999999999995"
      ]
     },
     "execution_count": 10,
     "metadata": {},
     "output_type": "execute_result"
    }
   ],
   "source": [
    "dev.get_current_simple()"
   ]
  },
  {
   "cell_type": "markdown",
   "metadata": {},
   "source": [
    "#### Calibration"
   ]
  },
  {
   "cell_type": "markdown",
   "metadata": {},
   "source": [
    "Calibration Register enables the user to scale the Current Register and Power Register to the most useful value for a given application.  Refer to the datasheet for details"
   ]
  },
  {
   "cell_type": "code",
   "execution_count": 11,
   "metadata": {},
   "outputs": [
    {
     "data": {
      "text/plain": [
       "0"
      ]
     },
     "execution_count": 11,
     "metadata": {},
     "output_type": "execute_result"
    }
   ],
   "source": [
    "# confirm calibration value\n",
    "dev.get_calibration()"
   ]
  },
  {
   "cell_type": "code",
   "execution_count": 12,
   "metadata": {},
   "outputs": [
    {
     "data": {
      "text/plain": [
       "0.6553100000000001"
      ]
     },
     "execution_count": 12,
     "metadata": {},
     "output_type": "execute_result"
    }
   ],
   "source": [
    "dev.get_shunt_voltage()"
   ]
  },
  {
   "cell_type": "code",
   "execution_count": 13,
   "metadata": {},
   "outputs": [
    {
     "data": {
      "text/plain": [
       "0.88"
      ]
     },
     "execution_count": 13,
     "metadata": {},
     "output_type": "execute_result"
    }
   ],
   "source": [
    "dev.get_bus_voltage()"
   ]
  },
  {
   "cell_type": "code",
   "execution_count": 14,
   "metadata": {},
   "outputs": [
    {
     "data": {
      "text/plain": [
       "6.553100000000001"
      ]
     },
     "execution_count": 14,
     "metadata": {},
     "output_type": "execute_result"
    }
   ],
   "source": [
    "# simple return, just float\n",
    "dev.get_current_simple()"
   ]
  },
  {
   "cell_type": "code",
   "execution_count": 15,
   "metadata": {},
   "outputs": [
    {
     "data": {
      "text/plain": [
       "[['test_1', 1, 0.884, 6.553100000000001],\n",
       " ['test_1', 2, 0.872, 6.5534],\n",
       " ['test_1', 3, 0.872, 6.5531999999999995],\n",
       " ['test_1', 4, 0.868, 6.5531999999999995],\n",
       " ['test_1', 5, 0.864, 6.5531999999999995]]"
      ]
     },
     "execution_count": 15,
     "metadata": {},
     "output_type": "execute_result"
    }
   ],
   "source": [
    "# get method, list with description and sample number\n",
    "dev.get(description='test_1', n=5)"
   ]
  },
  {
   "cell_type": "markdown",
   "metadata": {},
   "source": [
    "#### JSON Data Publishing"
   ]
  },
  {
   "cell_type": "code",
   "execution_count": 16,
   "metadata": {},
   "outputs": [],
   "source": [
    "# lower metadata interval from a default of once every 10 samples\n",
    "dev.json_writer.metadata_interval = 3"
   ]
  },
  {
   "cell_type": "code",
   "execution_count": 17,
   "metadata": {},
   "outputs": [
    {
     "data": {
      "text/plain": [
       "['{\"description\": \"test_2\", \"sample_n\": 0, \"voltage\": 0.888, \"current\": 6.5531999999999995, \"std_time_ms\": \"2020-12-10 19:20:36.094666\"}',\n",
       " '{\"description\": \"test_2\", \"sample_n\": 1, \"voltage\": 0.872, \"current\": 6.5534, \"std_time_ms\": \"2020-12-10 19:20:36.096146\"}',\n",
       " '{\"description\": \"test_2\", \"sample_n\": 2, \"voltage\": 0.868, \"current\": 6.5534, \"std_time_ms\": \"2020-12-10 19:20:36.097586\", \"encoding\": \"utf-8\", \"format\": \"text/json\", \"standard\": \"RFC 8259\", \"line_terminator\": \"\\\\n\", \"quote_char\": \"\\\\\"\", \"double_quote\": true, \"escape_char\": \"\\\\\\\\\", \"null_sequence\": \"NA\", \"comment\": \"#\", \"metadata\": {\"name\": \"ina219\", \"urls\": \"www.ti.com/product/ADS1115\", \"manufacturer\": \"Adafruit Industries & Texas Instruments\", \"header\": [\"description\", \"sample_n\", \"voltage\", \"current\"], \"dtype\": [\"str\", \"int\", \"float\", \"float\"], \"units\": [null, \"count\", \"volt\", \"amp\"], \"accuracy\": [null, 1, \"+/-0.2%\", \"+/-0.2%\"], \"precision\": [null, 1, \"4 mV\", \"10uV accross shunt\"], \"bus_n\": 1, \"bus_addr\": 64, \"description\": \"Texas Instruments Bidirectional Current Monitor\", \"accuracy_note\": \"values for model INA291A\", \"bus_voltage_range\": 32, \"gain\": 8, \"gain_string\": \"+/- 320 mV\", \"bus_adc_resolution\": 12, \"shunt_adc_resolution\": 12, \"mode\": 7, \"mode_description\": \"shunt and bus voltages, continuous\", \"r_shunt\": 0.1}, \"time_format\": \"std_time_ms\", \"strfmtime\": \"%Y-%m-%d %H:%M:%S.%f\", \"metadata_interval\": 3}',\n",
       " '{\"description\": \"test_2\", \"sample_n\": 3, \"voltage\": 0.872, \"current\": 6.553100000000001, \"std_time_ms\": \"2020-12-10 19:20:36.099220\"}',\n",
       " '{\"description\": \"test_2\", \"sample_n\": 4, \"voltage\": 0.868, \"current\": 6.553000000000001, \"std_time_ms\": \"2020-12-10 19:20:36.100846\"}']"
      ]
     },
     "execution_count": 17,
     "metadata": {},
     "output_type": "execute_result"
    }
   ],
   "source": [
    "# writing method with description and sample number\n",
    "dev.publish(description='test_2', n=5)"
   ]
  },
  {
   "cell_type": "markdown",
   "metadata": {},
   "source": [
    "#### JSON Writer Output"
   ]
  },
  {
   "cell_type": "code",
   "execution_count": 18,
   "metadata": {},
   "outputs": [],
   "source": [
    "# default writer format is CSV, switch to JSON\n",
    "dev.writer_output = 'json'"
   ]
  },
  {
   "cell_type": "code",
   "execution_count": 19,
   "metadata": {},
   "outputs": [],
   "source": [
    "# writer method with description and sample number\n",
    "dev.write(description='test_3', n=30)"
   ]
  },
  {
   "cell_type": "code",
   "execution_count": 20,
   "metadata": {},
   "outputs": [
    {
     "data": {
      "text/plain": [
       "'2020_12_10_19_20_36_ina219.jsontxt'"
      ]
     },
     "execution_count": 20,
     "metadata": {},
     "output_type": "execute_result"
    }
   ],
   "source": [
    "dev.json_writer.path"
   ]
  },
  {
   "cell_type": "code",
   "execution_count": 21,
   "metadata": {},
   "outputs": [
    {
     "name": "stdout",
     "output_type": "stream",
     "text": [
      "{\"description\": \"test_3\", \"sample_n\": 0, \"voltage\": 0.884, \"current\": 6.553100000000001, \"std_time_ms\": \"2020-12-10 19:20:36.134916\"}\n",
      "{\"description\": \"test_3\", \"sample_n\": 1, \"voltage\": 0.876, \"current\": 6.5531999999999995, \"std_time_ms\": \"2020-12-10 19:20:36.136721\"}\n",
      "{\"description\": \"test_3\", \"sample_n\": 2, \"voltage\": 0.884, \"current\": 6.5531999999999995, \"std_time_ms\": \"2020-12-10 19:20:36.141104\", \"encoding\": \"utf-8\", \"format\": \"text/json\", \"standard\": \"RFC 8259\", \"line_terminator\": \"\\n\", \"quote_char\": \"\\\"\", \"double_quote\": true, \"escape_char\": \"\\\\\", \"null_sequence\": \"NA\", \"comment\": \"#\", \"metadata\": {\"name\": \"ina219\", \"urls\": \"www.ti.com/product/ADS1115\", \"manufacturer\": \"Adafruit Industries & Texas Instruments\", \"header\": [\"description\", \"sample_n\", \"voltage\", \"current\"], \"dtype\": [\"str\", \"int\", \"float\", \"float\"], \"units\": [null, \"count\", \"volt\", \"amp\"], \"accuracy\": [null, 1, \"+/-0.2%\", \"+/-0.2%\"], \"precision\": [null, 1, \"4 mV\", \"10uV accross shunt\"], \"bus_n\": 1, \"bus_addr\": 64, \"description\": \"Texas Instruments Bidirectional Current Monitor\", \"accuracy_note\": \"values for model INA291A\", \"bus_voltage_range\": 32, \"gain\": 8, \"gain_string\": \"+/- 320 mV\", \"bus_adc_resolution\": 12, \"shunt_adc_resolution\": 12, \"mode\": 7, \"mode_description\": \"shunt and bus voltages, continuous\", \"r_shunt\": 0.1}, \"path\": \"2020_12_10_19_20_36_ina219.jsontxt\", \"time_format\": \"std_time_ms\", \"strfmtime\": \"%Y-%m-%d %H:%M:%S.%f\", \"metadata_interval\": 3}\n",
      "{\"description\": \"test_3\", \"sample_n\": 3, \"voltage\": 0.876, \"current\": 6.5533, \"std_time_ms\": \"2020-12-10 19:20:36.143683\"}\n"
     ]
    }
   ],
   "source": [
    "with open(dev.json_writer.path, 'r') as f:\n",
    "    for _ in range(4):\n",
    "        print(f.readline().strip())"
   ]
  },
  {
   "cell_type": "markdown",
   "metadata": {},
   "source": [
    "#### CSV Writer Output"
   ]
  },
  {
   "cell_type": "code",
   "execution_count": 22,
   "metadata": {},
   "outputs": [],
   "source": [
    "# switch back to CSV format\n",
    "dev.writer_output = 'csv'"
   ]
  },
  {
   "cell_type": "code",
   "execution_count": 23,
   "metadata": {},
   "outputs": [],
   "source": [
    "# writer method with description and sample number\n",
    "dev.write(description='test_4', n=30)"
   ]
  },
  {
   "cell_type": "code",
   "execution_count": 24,
   "metadata": {},
   "outputs": [
    {
     "data": {
      "text/plain": [
       "'2020_12_10_19_20_36_ina219.csv'"
      ]
     },
     "execution_count": 24,
     "metadata": {},
     "output_type": "execute_result"
    }
   ],
   "source": [
    "dev.csv_writer.path"
   ]
  },
  {
   "cell_type": "code",
   "execution_count": 25,
   "metadata": {},
   "outputs": [],
   "source": [
    "# load .csv data written with dev.write\n",
    "m, df = parser.csv_resource(dev.csv_writer.path)"
   ]
  },
  {
   "cell_type": "markdown",
   "metadata": {},
   "source": [
    "#### Metadata in CSV"
   ]
  },
  {
   "cell_type": "code",
   "execution_count": 26,
   "metadata": {},
   "outputs": [
    {
     "data": {
      "text/plain": [
       "{'case_sensitive_header': False,\n",
       " 'comment': '#',\n",
       " 'delimiter': ',',\n",
       " 'double_quote': True,\n",
       " 'encoding': 'utf-8',\n",
       " 'escape_char': '\\\\',\n",
       " 'format': 'text/csv',\n",
       " 'line_terminator': '\\n',\n",
       " 'metadata': {'accuracy': [None, 1, '+/-0.2%', '+/-0.2%'],\n",
       "  'accuracy_note': 'values for model INA291A',\n",
       "  'bus_adc_resolution': 12,\n",
       "  'bus_addr': 64,\n",
       "  'bus_n': 1,\n",
       "  'bus_voltage_range': 32,\n",
       "  'description': 'Texas Instruments Bidirectional Current Monitor',\n",
       "  'dtype': ['str', 'int', 'float', 'float'],\n",
       "  'gain': 8,\n",
       "  'gain_string': '+/- 320 mV',\n",
       "  'header': ['description', 'sample_n', 'voltage', 'current'],\n",
       "  'manufacturer': 'Adafruit Industries & Texas Instruments',\n",
       "  'mode': 7,\n",
       "  'mode_description': 'shunt and bus voltages, continuous',\n",
       "  'name': 'ina219',\n",
       "  'precision': [None, 1, '4 mV', '10uV accross shunt'],\n",
       "  'r_shunt': 0.1,\n",
       "  'shunt_adc_resolution': 12,\n",
       "  'units': [None, 'count', 'volt', 'amp'],\n",
       "  'urls': 'www.ti.com/product/ADS1115'},\n",
       " 'null_sequence': 'NA',\n",
       " 'path': '2020_12_10_19_20_36_ina219.csv',\n",
       " 'quote_char': '\"',\n",
       " 'skip_initial_space': True,\n",
       " 'skip_lines': 1,\n",
       " 'standard': 'Follow RFC 4180',\n",
       " 'strfmtime': '%Y-%m-%d %H:%M:%S.%f',\n",
       " 'time_format': 'std_time_ms'}"
      ]
     },
     "execution_count": 26,
     "metadata": {},
     "output_type": "execute_result"
    }
   ],
   "source": [
    "m"
   ]
  },
  {
   "cell_type": "markdown",
   "metadata": {},
   "source": [
    "#### Parsed CSV data"
   ]
  },
  {
   "cell_type": "code",
   "execution_count": 27,
   "metadata": {},
   "outputs": [
    {
     "data": {
      "text/html": [
       "<div>\n",
       "<style scoped>\n",
       "    .dataframe tbody tr th:only-of-type {\n",
       "        vertical-align: middle;\n",
       "    }\n",
       "\n",
       "    .dataframe tbody tr th {\n",
       "        vertical-align: top;\n",
       "    }\n",
       "\n",
       "    .dataframe thead th {\n",
       "        text-align: right;\n",
       "    }\n",
       "</style>\n",
       "<table border=\"1\" class=\"dataframe\">\n",
       "  <thead>\n",
       "    <tr style=\"text-align: right;\">\n",
       "      <th></th>\n",
       "      <th>std_time_ms</th>\n",
       "      <th>description</th>\n",
       "      <th>sample_n</th>\n",
       "      <th>voltage</th>\n",
       "      <th>current</th>\n",
       "      <th>datetime64_ns</th>\n",
       "    </tr>\n",
       "  </thead>\n",
       "  <tbody>\n",
       "    <tr>\n",
       "      <th>0</th>\n",
       "      <td>2020-12-10 19:20:36.269733</td>\n",
       "      <td>test_4</td>\n",
       "      <td>0</td>\n",
       "      <td>0.884</td>\n",
       "      <td>6.5531</td>\n",
       "      <td>2020-12-10 19:20:36.269733</td>\n",
       "    </tr>\n",
       "    <tr>\n",
       "      <th>1</th>\n",
       "      <td>2020-12-10 19:20:36.271392</td>\n",
       "      <td>test_4</td>\n",
       "      <td>1</td>\n",
       "      <td>0.876</td>\n",
       "      <td>6.5530</td>\n",
       "      <td>2020-12-10 19:20:36.271392</td>\n",
       "    </tr>\n",
       "    <tr>\n",
       "      <th>2</th>\n",
       "      <td>2020-12-10 19:20:36.275674</td>\n",
       "      <td>test_4</td>\n",
       "      <td>2</td>\n",
       "      <td>0.880</td>\n",
       "      <td>6.5533</td>\n",
       "      <td>2020-12-10 19:20:36.275674</td>\n",
       "    </tr>\n",
       "    <tr>\n",
       "      <th>3</th>\n",
       "      <td>2020-12-10 19:20:36.277776</td>\n",
       "      <td>test_4</td>\n",
       "      <td>3</td>\n",
       "      <td>0.880</td>\n",
       "      <td>6.5533</td>\n",
       "      <td>2020-12-10 19:20:36.277776</td>\n",
       "    </tr>\n",
       "    <tr>\n",
       "      <th>4</th>\n",
       "      <td>2020-12-10 19:20:36.279168</td>\n",
       "      <td>test_4</td>\n",
       "      <td>4</td>\n",
       "      <td>0.872</td>\n",
       "      <td>6.5533</td>\n",
       "      <td>2020-12-10 19:20:36.279168</td>\n",
       "    </tr>\n",
       "  </tbody>\n",
       "</table>\n",
       "</div>"
      ],
      "text/plain": [
       "                  std_time_ms description  sample_n  voltage  current  \\\n",
       "0  2020-12-10 19:20:36.269733      test_4         0    0.884   6.5531   \n",
       "1  2020-12-10 19:20:36.271392      test_4         1    0.876   6.5530   \n",
       "2  2020-12-10 19:20:36.275674      test_4         2    0.880   6.5533   \n",
       "3  2020-12-10 19:20:36.277776      test_4         3    0.880   6.5533   \n",
       "4  2020-12-10 19:20:36.279168      test_4         4    0.872   6.5533   \n",
       "\n",
       "               datetime64_ns  \n",
       "0 2020-12-10 19:20:36.269733  \n",
       "1 2020-12-10 19:20:36.271392  \n",
       "2 2020-12-10 19:20:36.275674  \n",
       "3 2020-12-10 19:20:36.277776  \n",
       "4 2020-12-10 19:20:36.279168  "
      ]
     },
     "execution_count": 27,
     "metadata": {},
     "output_type": "execute_result"
    }
   ],
   "source": [
    "df.head()"
   ]
  },
  {
   "cell_type": "code",
   "execution_count": 28,
   "metadata": {},
   "outputs": [],
   "source": [
    "# Pandas 0.24.1 hack\n",
    "df.datetime64_ns = df.datetime64_ns.dt.tz_localize('UTC')"
   ]
  },
  {
   "cell_type": "code",
   "execution_count": 29,
   "metadata": {},
   "outputs": [],
   "source": [
    "def plot_2ax(df, x, y0, y1):\n",
    "    fig0, ax0 = plt.subplots()\n",
    "    ax1 = ax0.twinx()\n",
    "    ax0.plot(df[x].values, df[y0].values, label=y0, color=\"orange\", marker=\"x\")\n",
    "    ax0.plot([df[x].min(), df[x].max()],\n",
    "             [df[y0].mean(), df[y0].mean()], color=\"orange\",\n",
    "             linestyle=\":\")\n",
    "    ax1.plot(df[x].values, df[y1].values, label=y1, color=\"green\", marker=\"+\")\n",
    "    ax1.plot([df[x].min(), df[x].max()],\n",
    "             [df[y1].mean(), df[y1].mean()], color=\"green\",\n",
    "             linestyle=\":\")\n",
    "    ax0.set_ylabel(y0)\n",
    "    ax1.set_ylabel(y1)\n",
    "    \n",
    "    ax0.yaxis.set_major_formatter(FormatStrFormatter('%2.4f'))\n",
    "    ax1.yaxis.set_major_formatter(FormatStrFormatter('%2.4f'))\n",
    "    \n",
    "    plt.show()\n",
    "    plt.close()"
   ]
  },
  {
   "cell_type": "code",
   "execution_count": 30,
   "metadata": {},
   "outputs": [
    {
     "data": {
      "image/png": "[encoded data removed]",
      "text/plain": [
       "<Figure size 432x288 with 2 Axes>"
      ]
     },
     "metadata": {
      "needs_background": "light"
     },
     "output_type": "display_data"
    }
   ],
   "source": [
    "plot_2ax(df=df, x=\"datetime64_ns\", y0=\"voltage\", y1=\"current\")"
   ]
  },
  {
   "cell_type": "code",
   "execution_count": 31,
   "metadata": {},
   "outputs": [
    {
     "name": "stdout",
     "output_type": "stream",
     "text": [
      "Sample Rate: 667.9432 Hz\n"
     ]
    }
   ],
   "source": [
    "dt = df.datetime64_ns[len(df)-1]-df.datetime64_ns[0]\n",
    "dtt = dt.seconds + dt.microseconds / 10**6\n",
    "print('Sample Rate: {:.4f} Hz'.format(len(df)/dtt))"
   ]
  }
 ],
 "metadata": {
  "kernelspec": {
   "display_name": "Python 3",
   "language": "python",
   "name": "python3"
  },
  "language_info": {
   "codemirror_mode": {
    "name": "ipython",
    "version": 3
   },
   "file_extension": ".py",
   "mimetype": "text/x-python",
   "name": "python",
   "nbconvert_exporter": "python",
   "pygments_lexer": "ipython3",
   "version": "3.7.3"
  }
 },
 "nbformat": 4,
 "nbformat_minor": 4
}
