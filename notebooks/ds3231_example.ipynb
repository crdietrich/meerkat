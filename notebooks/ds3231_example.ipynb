{
 "cells": [
  {
   "cell_type": "code",
   "execution_count": 1,
   "metadata": {},
   "outputs": [],
   "source": [
    "from meerkat import ds3231, parser\n",
    "\n",
    "import pandas as pd\n",
    "\n",
    "from importlib import reload"
   ]
  },
  {
   "cell_type": "code",
   "execution_count": 2,
   "metadata": {},
   "outputs": [],
   "source": [
    "rtc = ds3231.DS3231(bus_n=1, bus_addr=0x68)"
   ]
  },
  {
   "cell_type": "raw",
   "metadata": {},
   "source": [
    "rtc.save_time(YY=2020, MM=10, DD=14, hh=22, mm=6, ss=0, micro=0, tz=None)"
   ]
  },
  {
   "cell_type": "code",
   "execution_count": 3,
   "metadata": {},
   "outputs": [
    {
     "data": {
      "text/plain": [
       "(2020, 12, 13, 21, 42, 25)"
      ]
     },
     "execution_count": 3,
     "metadata": {},
     "output_type": "execute_result"
    }
   ],
   "source": [
    "rtc.get_time()"
   ]
  },
  {
   "cell_type": "code",
   "execution_count": 4,
   "metadata": {},
   "outputs": [
    {
     "data": {
      "text/plain": [
       "20.0"
      ]
     },
     "execution_count": 4,
     "metadata": {},
     "output_type": "execute_result"
    }
   ],
   "source": [
    "rtc.get_temp()"
   ]
  },
  {
   "cell_type": "code",
   "execution_count": 5,
   "metadata": {},
   "outputs": [
    {
     "data": {
      "text/plain": [
       "'{\"description\": \"test_1\", \"sample_n\": 0, \"rtc_time\": \"2020-12-13 21:42:25\", \"temp_C\": 20.0, \"std_time_ms\": \"2020-12-13 20:43:23.914827\"}'"
      ]
     },
     "execution_count": 5,
     "metadata": {},
     "output_type": "execute_result"
    }
   ],
   "source": [
    "rtc.publish(description=\"test_1\", n=1)"
   ]
  },
  {
   "cell_type": "code",
   "execution_count": 6,
   "metadata": {},
   "outputs": [
    {
     "data": {
      "text/plain": [
       "['{\"description\": \"test_1\", \"sample_n\": 0, \"rtc_time\": \"2020-12-13 21:42:25\", \"temp_C\": 20.0, \"std_time_ms\": \"2020-12-13 20:43:23.932123\"}',\n",
       " '{\"description\": \"test_1\", \"sample_n\": 0, \"rtc_time\": \"2020-12-13 21:42:28\", \"temp_C\": 20.0, \"std_time_ms\": \"2020-12-13 20:43:26.937450\"}']"
      ]
     },
     "execution_count": 6,
     "metadata": {},
     "output_type": "execute_result"
    }
   ],
   "source": [
    "rtc.publish(description=\"test_1\", n=2, delay=3)"
   ]
  },
  {
   "cell_type": "code",
   "execution_count": 7,
   "metadata": {},
   "outputs": [],
   "source": [
    "# default writer format is CSV, switch to JSON\n",
    "rtc.writer_output = 'json'"
   ]
  },
  {
   "cell_type": "code",
   "execution_count": 8,
   "metadata": {},
   "outputs": [
    {
     "data": {
      "text/plain": [
       "{'name': 'DS3231', 'urls': 'https://datasheets.maximintegrated.com/en/ds/DS3231.pdf', 'manufacturer': 'Adafruit Industries', 'header': ['description', 'sample_n', 'rtc_time', 'temp_C'], 'dtype': ['str', 'int', 'str', 'float'], 'units': [None, 'count', 'datetime', 'degrees Celcius'], 'accuracy': [None, 1, '+/- 3.5 ppm', '+/- 3.0'], 'precision': [None, 1, '1 second', 0.25], 'bus_n': 1, 'bus_addr': '0x68', 'description': 'Adafruit DS3221 Precision RTC', 'rtc_time_source': '%Y-%m-%d %H:%M:%S'}"
      ]
     },
     "execution_count": 8,
     "metadata": {},
     "output_type": "execute_result"
    }
   ],
   "source": [
    "rtc.json_writer.metadata"
   ]
  },
  {
   "cell_type": "code",
   "execution_count": 9,
   "metadata": {},
   "outputs": [],
   "source": [
    "# writer method with description and sample number\n",
    "rtc.write(description='test_2', n=6, delay=1)"
   ]
  },
  {
   "cell_type": "code",
   "execution_count": 10,
   "metadata": {},
   "outputs": [
    {
     "data": {
      "text/plain": [
       "'2020_12_13_20_43_30_ds3231.jsontxt'"
      ]
     },
     "execution_count": 10,
     "metadata": {},
     "output_type": "execute_result"
    }
   ],
   "source": [
    "rtc.json_writer.path"
   ]
  },
  {
   "cell_type": "code",
   "execution_count": 11,
   "metadata": {},
   "outputs": [
    {
     "name": "stdout",
     "output_type": "stream",
     "text": [
      "{\"description\": \"test_2\", \"sample_n\": 0, \"rtc_time\": \"2020-12-13 21:42:31\", \"temp_C\": 20.0, \"std_time_ms\": \"2020-12-13 20:43:30.041333\"}\n",
      "{\"description\": \"test_2\", \"sample_n\": 1, \"rtc_time\": \"2020-12-13 21:42:32\", \"temp_C\": 20.0, \"std_time_ms\": \"2020-12-13 20:43:31.045605\"}\n",
      "{\"description\": \"test_2\", \"sample_n\": 2, \"rtc_time\": \"2020-12-13 21:42:33\", \"temp_C\": 20.0, \"std_time_ms\": \"2020-12-13 20:43:32.049301\"}\n",
      "{\"description\": \"test_2\", \"sample_n\": 3, \"rtc_time\": \"2020-12-13 21:42:34\", \"temp_C\": 20.0, \"std_time_ms\": \"2020-12-13 20:43:33.052928\"}\n"
     ]
    }
   ],
   "source": [
    "with open(rtc.json_writer.path, 'r') as f:\n",
    "    for _ in range(4):\n",
    "        print(f.readline().strip())"
   ]
  },
  {
   "cell_type": "code",
   "execution_count": 12,
   "metadata": {},
   "outputs": [],
   "source": [
    "# switch back to CSV format\n",
    "rtc.writer_output = 'csv'"
   ]
  },
  {
   "cell_type": "code",
   "execution_count": 13,
   "metadata": {},
   "outputs": [],
   "source": [
    "rtc.write(description='test_3', n=6, delay=1)"
   ]
  },
  {
   "cell_type": "code",
   "execution_count": 14,
   "metadata": {},
   "outputs": [],
   "source": [
    "m, df = parser.csv_resource(rtc.csv_writer.path)"
   ]
  },
  {
   "cell_type": "code",
   "execution_count": 15,
   "metadata": {},
   "outputs": [],
   "source": [
    "df[\"rtc_datetime64_ns\"] = pd.to_datetime(df.rtc_time)\n",
    "df.temp_C = df.temp_C.astype(float)"
   ]
  },
  {
   "cell_type": "code",
   "execution_count": 16,
   "metadata": {},
   "outputs": [
    {
     "data": {
      "text/plain": [
       "std_time_ms                  object\n",
       "description                  object\n",
       "sample_n                      int64\n",
       "rtc_time                     object\n",
       "temp_C                      float64\n",
       "datetime64_ns        datetime64[ns]\n",
       "rtc_datetime64_ns    datetime64[ns]\n",
       "dtype: object"
      ]
     },
     "execution_count": 16,
     "metadata": {},
     "output_type": "execute_result"
    }
   ],
   "source": [
    "df.dtypes"
   ]
  },
  {
   "cell_type": "code",
   "execution_count": 17,
   "metadata": {},
   "outputs": [
    {
     "data": {
      "text/html": [
       "<div>\n",
       "<style scoped>\n",
       "    .dataframe tbody tr th:only-of-type {\n",
       "        vertical-align: middle;\n",
       "    }\n",
       "\n",
       "    .dataframe tbody tr th {\n",
       "        vertical-align: top;\n",
       "    }\n",
       "\n",
       "    .dataframe thead th {\n",
       "        text-align: right;\n",
       "    }\n",
       "</style>\n",
       "<table border=\"1\" class=\"dataframe\">\n",
       "  <thead>\n",
       "    <tr style=\"text-align: right;\">\n",
       "      <th></th>\n",
       "      <th>std_time_ms</th>\n",
       "      <th>description</th>\n",
       "      <th>sample_n</th>\n",
       "      <th>rtc_time</th>\n",
       "      <th>temp_C</th>\n",
       "      <th>datetime64_ns</th>\n",
       "      <th>rtc_datetime64_ns</th>\n",
       "    </tr>\n",
       "  </thead>\n",
       "  <tbody>\n",
       "    <tr>\n",
       "      <th>0</th>\n",
       "      <td>2020-12-13 20:43:36.159805</td>\n",
       "      <td>test_3</td>\n",
       "      <td>0</td>\n",
       "      <td>2020-12-13 21:42:37</td>\n",
       "      <td>20.0</td>\n",
       "      <td>2020-12-13 20:43:36.159805</td>\n",
       "      <td>2020-12-13 21:42:37</td>\n",
       "    </tr>\n",
       "    <tr>\n",
       "      <th>1</th>\n",
       "      <td>2020-12-13 20:43:37.163392</td>\n",
       "      <td>test_3</td>\n",
       "      <td>1</td>\n",
       "      <td>2020-12-13 21:42:38</td>\n",
       "      <td>20.0</td>\n",
       "      <td>2020-12-13 20:43:37.163392</td>\n",
       "      <td>2020-12-13 21:42:38</td>\n",
       "    </tr>\n",
       "    <tr>\n",
       "      <th>2</th>\n",
       "      <td>2020-12-13 20:43:38.166982</td>\n",
       "      <td>test_3</td>\n",
       "      <td>2</td>\n",
       "      <td>2020-12-13 21:42:39</td>\n",
       "      <td>20.0</td>\n",
       "      <td>2020-12-13 20:43:38.166982</td>\n",
       "      <td>2020-12-13 21:42:39</td>\n",
       "    </tr>\n",
       "    <tr>\n",
       "      <th>3</th>\n",
       "      <td>2020-12-13 20:43:39.170642</td>\n",
       "      <td>test_3</td>\n",
       "      <td>3</td>\n",
       "      <td>2020-12-13 21:42:40</td>\n",
       "      <td>20.0</td>\n",
       "      <td>2020-12-13 20:43:39.170642</td>\n",
       "      <td>2020-12-13 21:42:40</td>\n",
       "    </tr>\n",
       "    <tr>\n",
       "      <th>4</th>\n",
       "      <td>2020-12-13 20:43:40.174216</td>\n",
       "      <td>test_3</td>\n",
       "      <td>4</td>\n",
       "      <td>2020-12-13 21:42:41</td>\n",
       "      <td>20.0</td>\n",
       "      <td>2020-12-13 20:43:40.174216</td>\n",
       "      <td>2020-12-13 21:42:41</td>\n",
       "    </tr>\n",
       "    <tr>\n",
       "      <th>5</th>\n",
       "      <td>2020-12-13 20:43:41.177811</td>\n",
       "      <td>test_3</td>\n",
       "      <td>5</td>\n",
       "      <td>2020-12-13 21:42:42</td>\n",
       "      <td>20.0</td>\n",
       "      <td>2020-12-13 20:43:41.177811</td>\n",
       "      <td>2020-12-13 21:42:42</td>\n",
       "    </tr>\n",
       "  </tbody>\n",
       "</table>\n",
       "</div>"
      ],
      "text/plain": [
       "                  std_time_ms description  sample_n             rtc_time  \\\n",
       "0  2020-12-13 20:43:36.159805      test_3         0  2020-12-13 21:42:37   \n",
       "1  2020-12-13 20:43:37.163392      test_3         1  2020-12-13 21:42:38   \n",
       "2  2020-12-13 20:43:38.166982      test_3         2  2020-12-13 21:42:39   \n",
       "3  2020-12-13 20:43:39.170642      test_3         3  2020-12-13 21:42:40   \n",
       "4  2020-12-13 20:43:40.174216      test_3         4  2020-12-13 21:42:41   \n",
       "5  2020-12-13 20:43:41.177811      test_3         5  2020-12-13 21:42:42   \n",
       "\n",
       "   temp_C              datetime64_ns   rtc_datetime64_ns  \n",
       "0    20.0 2020-12-13 20:43:36.159805 2020-12-13 21:42:37  \n",
       "1    20.0 2020-12-13 20:43:37.163392 2020-12-13 21:42:38  \n",
       "2    20.0 2020-12-13 20:43:38.166982 2020-12-13 21:42:39  \n",
       "3    20.0 2020-12-13 20:43:39.170642 2020-12-13 21:42:40  \n",
       "4    20.0 2020-12-13 20:43:40.174216 2020-12-13 21:42:41  \n",
       "5    20.0 2020-12-13 20:43:41.177811 2020-12-13 21:42:42  "
      ]
     },
     "execution_count": 17,
     "metadata": {},
     "output_type": "execute_result"
    }
   ],
   "source": [
    "df"
   ]
  },
  {
   "cell_type": "code",
   "execution_count": 18,
   "metadata": {},
   "outputs": [
    {
     "data": {
      "image/png": "[encoded data removed]",
      "text/plain": [
       "<Figure size 432x288 with 1 Axes>"
      ]
     },
     "metadata": {
      "needs_background": "light"
     },
     "output_type": "display_data"
    }
   ],
   "source": [
    "df[[\"rtc_datetime64_ns\", \"temp_C\"]].plot(x=\"rtc_datetime64_ns\", marker=\"x\");"
   ]
  }
 ],
 "metadata": {
  "kernelspec": {
   "display_name": "Python 3",
   "language": "python",
   "name": "python3"
  },
  "language_info": {
   "codemirror_mode": {
    "name": "ipython",
    "version": 3
   },
   "file_extension": ".py",
   "mimetype": "text/x-python",
   "name": "python",
   "nbconvert_exporter": "python",
   "pygments_lexer": "ipython3",
   "version": "3.7.3"
  }
 },
 "nbformat": 4,
 "nbformat_minor": 4
}
