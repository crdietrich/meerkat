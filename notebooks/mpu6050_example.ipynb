{
 "cells": [
  {
   "cell_type": "markdown",
   "metadata": {},
   "source": [
    "## MPU6050  \n",
    "6-axis Gyro and Accelerometer  \n",
    "\n",
    "Manufacturer Link:  https://www.invensense.com/products/motion-tracking/6-axis/mpu-6050/\n",
    "\n",
    "Breakout Board Link:  https://www.sparkfun.com/products/11028"
   ]
  },
  {
   "cell_type": "code",
   "execution_count": 1,
   "metadata": {},
   "outputs": [],
   "source": [
    "import smbus\n",
    "import matplotlib.pyplot as plt\n",
    "\n",
    "from meerkat import mpu6050, parser"
   ]
  },
  {
   "cell_type": "code",
   "execution_count": 2,
   "metadata": {},
   "outputs": [],
   "source": [
    "dev = mpu6050.mpu6050(bus_n=1, output='json')"
   ]
  },
  {
   "cell_type": "markdown",
   "metadata": {},
   "source": [
    "#### Configuration"
   ]
  },
  {
   "cell_type": "code",
   "execution_count": 3,
   "metadata": {},
   "outputs": [],
   "source": [
    "dev.set_gyro_range(dev.GYRO_RANGE_1000DEG)\n",
    "dev.set_accel_range(dev.ACCEL_RANGE_2G)"
   ]
  },
  {
   "cell_type": "markdown",
   "metadata": {},
   "source": [
    "#### Measurements"
   ]
  },
  {
   "cell_type": "code",
   "execution_count": 4,
   "metadata": {},
   "outputs": [
    {
     "data": {
      "text/plain": [
       "24.671176470588236"
      ]
     },
     "execution_count": 4,
     "metadata": {},
     "output_type": "execute_result"
    }
   ],
   "source": [
    "dev.get_temp()"
   ]
  },
  {
   "cell_type": "code",
   "execution_count": 5,
   "metadata": {},
   "outputs": [
    {
     "data": {
      "text/plain": [
       "(30.24834377441406, 38.31440916748047, 36.58818977050781)"
      ]
     },
     "execution_count": 5,
     "metadata": {},
     "output_type": "execute_result"
    }
   ],
   "source": [
    "dev.get_accel()"
   ]
  },
  {
   "cell_type": "code",
   "execution_count": 6,
   "metadata": {},
   "outputs": [
    {
     "data": {
      "text/plain": [
       "(-5.916030534351145, 0.8320610687022901, -0.8396946564885496)"
      ]
     },
     "execution_count": 6,
     "metadata": {},
     "output_type": "execute_result"
    }
   ],
   "source": [
    "dev.get_gyro()"
   ]
  },
  {
   "cell_type": "code",
   "execution_count": 7,
   "metadata": {},
   "outputs": [
    {
     "data": {
      "text/plain": [
       "[24.624117647058824,\n",
       " 30.29862200927734,\n",
       " 38.386235217285154,\n",
       " 36.545094140625,\n",
       " -5.816793893129771,\n",
       " -0.007633587786259542,\n",
       " -0.9618320610687023]"
      ]
     },
     "execution_count": 7,
     "metadata": {},
     "output_type": "execute_result"
    }
   ],
   "source": [
    "dev.get_all()"
   ]
  },
  {
   "cell_type": "code",
   "execution_count": 8,
   "metadata": {},
   "outputs": [
    {
     "data": {
      "text/plain": [
       "['NA',\n",
       " 1,\n",
       " 30.205248144531247,\n",
       " 38.30483236083984,\n",
       " 36.74620708007812,\n",
       " -5.824427480916031,\n",
       " 0.9923664122137404,\n",
       " -1.0687022900763359]"
      ]
     },
     "execution_count": 8,
     "metadata": {},
     "output_type": "execute_result"
    }
   ],
   "source": [
    "dev.get()"
   ]
  },
  {
   "cell_type": "code",
   "execution_count": 9,
   "metadata": {},
   "outputs": [
    {
     "data": {
      "text/plain": [
       "[['test_1',\n",
       "  1,\n",
       "  30.22200755615234,\n",
       "  38.352716394042965,\n",
       "  36.631285400390624,\n",
       "  -5.755725190839694,\n",
       "  0.08396946564885496,\n",
       "  -1.0534351145038168],\n",
       " ['test_1',\n",
       "  2,\n",
       "  30.21721915283203,\n",
       "  38.264130932617185,\n",
       "  36.631285400390624,\n",
       "  -5.755725190839694,\n",
       "  0.09923664122137404,\n",
       "  -0.9236641221374046],\n",
       " ['test_1',\n",
       "  3,\n",
       "  30.212430749511718,\n",
       "  38.37187000732422,\n",
       "  36.633679602050776,\n",
       "  -5.770992366412214,\n",
       "  0.1450381679389313,\n",
       "  -0.9923664122137404],\n",
       " ['test_1',\n",
       "  4,\n",
       "  30.284256799316406,\n",
       "  38.30483236083984,\n",
       "  36.68874624023437,\n",
       "  -5.755725190839694,\n",
       "  0.5267175572519084,\n",
       "  -1.1068702290076335],\n",
       " ['test_1',\n",
       "  5,\n",
       "  30.255526379394528,\n",
       "  38.36229320068359,\n",
       "  36.597766577148434,\n",
       "  -5.793893129770993,\n",
       "  0.7251908396946565,\n",
       "  -1.015267175572519]]"
      ]
     },
     "execution_count": 9,
     "metadata": {},
     "output_type": "execute_result"
    }
   ],
   "source": [
    "dev.get(description=\"test_1\", n=5)"
   ]
  },
  {
   "cell_type": "markdown",
   "metadata": {},
   "source": [
    "#### JSON Data Publishing"
   ]
  },
  {
   "cell_type": "code",
   "execution_count": 10,
   "metadata": {},
   "outputs": [],
   "source": [
    "# lower metadata interval from a default of once every 10 samples\n",
    "dev.json_writer.metadata_interval = 3"
   ]
  },
  {
   "cell_type": "code",
   "execution_count": 11,
   "metadata": {},
   "outputs": [
    {
     "data": {
      "text/plain": [
       "['{\"description\": \"test_2\", \"sample_n\": 0, \"ax\": 30.23637276611328, \"ay\": 38.321591772460934, \"az\": 36.57861296386719, \"gx\": -5.824427480916031, \"gy\": 0.2824427480916031, \"gz\": -1.0763358778625953, \"std_time_ms\": \"2020-12-08 13:54:33.356732\"}',\n",
       " '{\"description\": \"test_2\", \"sample_n\": 1, \"ax\": 30.26749738769531, \"ay\": 38.30962076416015, \"az\": 36.6815636352539, \"gx\": -5.854961832061068, \"gy\": 0.5419847328244275, \"gz\": -0.8702290076335878, \"std_time_ms\": \"2020-12-08 13:54:33.362457\"}',\n",
       " '{\"description\": \"test_2\", \"sample_n\": 2, \"ax\": 30.212430749511718, \"ay\": 38.34074538574219, \"az\": 36.56185355224609, \"gx\": -5.427480916030534, \"gy\": 0.816793893129771, \"gz\": -0.916030534351145, \"std_time_ms\": \"2020-12-08 13:54:33.368218\", \"encoding\": \"utf-8\", \"format\": \"text/json\", \"standard\": \"RFC 8259\", \"line_terminator\": \"\\\\n\", \"quote_char\": \"\\\\\"\", \"double_quote\": true, \"escape_char\": \"\\\\\\\\\", \"null_sequence\": \"NA\", \"comment\": \"#\", \"metadata\": {\"name\": \"MPU6050\", \"urls\": \"https://www.invensense.com/products/motion-tracking/6-axis/mpu-6050/\", \"manufacturer\": \"Adafruit Industries & TDK\", \"header\": [\"description\", \"sample_n\", \"ax\", \"ay\", \"az\", \"gx\", \"gy\", \"gz\"], \"dtype\": [\"str\", \"int\", \"float\", \"float\", \"float\", \"float\", \"float\", \"float\"], \"units\": [null, \"count\", \"g\", \"g\", \"g\", \"deg/s\", \"deg/s\", \"deg/s\"], \"accuracy\": [null, 1, \"+/-3%\", \"+/-3%\", \"+/-3%\", \"+/-3%\", \"+/-3%\", \"+/-3%\"], \"bus_n\": 1, \"bus_addr\": 104, \"description\": \"TDK InvenSense Gyro & Accelerometer\", \"accuracy_precision_note\": \"See datasheet for scale factor dependent accuracy & LSB precision\", \"gyro_accuracy\": \"+/-3%, +/-2% cross axis\", \"gyro_precision\": \"16bit\", \"gyro_noise\": \"0.05 deg/s-rms\", \"accel_accuracy\": \"+/-0.5%, +/-2 cross axis\", \"accel_precision\": \"16bit\", \"accel_noise\": \"PSD 400 ug / Hz**1/2\"}, \"time_source\": \"std_time_ms\", \"strfmtime\": \"%Y-%m-%d %H:%M:%S.%f\", \"metadata_interval\": 3}',\n",
       " '{\"description\": \"test_2\", \"sample_n\": 3, \"ax\": 30.245949572753904, \"ay\": 38.3072265625, \"az\": 36.58579556884765, \"gx\": -5.755725190839694, \"gy\": 0.7251908396946565, \"gz\": -0.9618320610687023, \"std_time_ms\": \"2020-12-08 13:54:33.373479\"}',\n",
       " '{\"description\": \"test_2\", \"sample_n\": 4, \"ax\": 30.195671337890623, \"ay\": 38.27849614257812, \"az\": 36.52115212402344, \"gx\": -5.709923664122138, \"gy\": 0.5114503816793893, \"gz\": -0.8625954198473282, \"std_time_ms\": \"2020-12-08 13:54:33.378568\"}']"
      ]
     },
     "execution_count": 11,
     "metadata": {},
     "output_type": "execute_result"
    }
   ],
   "source": [
    "# writing method with description and sample number\n",
    "dev.publish(description='test_2', n=5)"
   ]
  },
  {
   "cell_type": "markdown",
   "metadata": {},
   "source": [
    "#### JSON Writer Output"
   ]
  },
  {
   "cell_type": "code",
   "execution_count": 12,
   "metadata": {},
   "outputs": [],
   "source": [
    "# default writer format is CSV, switch to JSON\n",
    "dev.writer_output = 'json'"
   ]
  },
  {
   "cell_type": "code",
   "execution_count": 13,
   "metadata": {},
   "outputs": [],
   "source": [
    "# writer method with description and sample number\n",
    "dev.write(description='test_3', n=30)"
   ]
  },
  {
   "cell_type": "code",
   "execution_count": 14,
   "metadata": {},
   "outputs": [
    {
     "data": {
      "text/plain": [
       "'2020_12_08_13_54_33_mpu6050.jsontxt'"
      ]
     },
     "execution_count": 14,
     "metadata": {},
     "output_type": "execute_result"
    }
   ],
   "source": [
    "dev.json_writer.path"
   ]
  },
  {
   "cell_type": "code",
   "execution_count": 15,
   "metadata": {},
   "outputs": [
    {
     "name": "stdout",
     "output_type": "stream",
     "text": [
      "{\"description\": \"test_3\", \"sample_n\": 0, \"ax\": 30.255526379394528, \"ay\": 38.321591772460934, \"az\": 36.68874624023437, \"gx\": -5.709923664122138, \"gy\": 0.4580152671755725, \"gz\": -0.9694656488549618, \"std_time_ms\": \"2020-12-08 13:54:33.421421\"}\n",
      "{\"description\": \"test_3\", \"sample_n\": 1, \"ax\": 30.277074194335935, \"ay\": 38.28567874755859, \"az\": 36.60973758544922, \"gx\": -5.580152671755725, \"gy\": 0.5190839694656488, \"gz\": -0.9541984732824428, \"std_time_ms\": \"2020-12-08 13:54:33.427128\"}\n",
      "{\"description\": \"test_3\", \"sample_n\": 2, \"ax\": 30.281862597656247, \"ay\": 38.295255554199215, \"az\": 36.71508245849609, \"gx\": -5.587786259541985, \"gy\": 0.10687022900763359, \"gz\": -1.015267175572519, \"std_time_ms\": \"2020-12-08 13:54:33.432553\", \"encoding\": \"utf-8\", \"format\": \"text/json\", \"standard\": \"RFC 8259\", \"line_terminator\": \"\\n\", \"quote_char\": \"\\\"\", \"double_quote\": true, \"escape_char\": \"\\\\\", \"null_sequence\": \"NA\", \"comment\": \"#\", \"metadata\": {\"name\": \"MPU6050\", \"urls\": \"https://www.invensense.com/products/motion-tracking/6-axis/mpu-6050/\", \"manufacturer\": \"Adafruit Industries & TDK\", \"header\": [\"description\", \"sample_n\", \"ax\", \"ay\", \"az\", \"gx\", \"gy\", \"gz\"], \"dtype\": [\"str\", \"int\", \"float\", \"float\", \"float\", \"float\", \"float\", \"float\"], \"units\": [null, \"count\", \"g\", \"g\", \"g\", \"deg/s\", \"deg/s\", \"deg/s\"], \"accuracy\": [null, 1, \"+/-3%\", \"+/-3%\", \"+/-3%\", \"+/-3%\", \"+/-3%\", \"+/-3%\"], \"bus_n\": 1, \"bus_addr\": 104, \"description\": \"TDK InvenSense Gyro & Accelerometer\", \"accuracy_precision_note\": \"See datasheet for scale factor dependent accuracy & LSB precision\", \"gyro_accuracy\": \"+/-3%, +/-2% cross axis\", \"gyro_precision\": \"16bit\", \"gyro_noise\": \"0.05 deg/s-rms\", \"accel_accuracy\": \"+/-0.5%, +/-2 cross axis\", \"accel_precision\": \"16bit\", \"accel_noise\": \"PSD 400 ug / Hz**1/2\"}, \"path\": \"2020_12_08_13_54_33_mpu6050.jsontxt\", \"time_source\": \"std_time_ms\", \"strfmtime\": \"%Y-%m-%d %H:%M:%S.%f\", \"metadata_interval\": 3}\n",
      "{\"description\": \"test_3\", \"sample_n\": 3, \"ax\": 30.255526379394528, \"ay\": 38.30004395751953, \"az\": 36.604949182128905, \"gx\": -5.603053435114504, \"gy\": 0.3435114503816794, \"gz\": -1.0, \"std_time_ms\": \"2020-12-08 13:54:33.438573\"}\n"
     ]
    }
   ],
   "source": [
    "with open(dev.json_writer.path, 'r') as f:\n",
    "    for _ in range(4):\n",
    "        print(f.readline().strip())"
   ]
  },
  {
   "cell_type": "markdown",
   "metadata": {},
   "source": [
    "#### CSV Writer Output"
   ]
  },
  {
   "cell_type": "code",
   "execution_count": 16,
   "metadata": {},
   "outputs": [],
   "source": [
    "# switch back to CSV format\n",
    "dev.writer_output = 'csv'"
   ]
  },
  {
   "cell_type": "code",
   "execution_count": 17,
   "metadata": {},
   "outputs": [],
   "source": [
    "# writer method with description and sample number\n",
    "dev.write(description='test_4', n=30)"
   ]
  },
  {
   "cell_type": "code",
   "execution_count": 18,
   "metadata": {},
   "outputs": [
    {
     "data": {
      "text/plain": [
       "'2020_12_08_13_54_33_mpu6050.csv'"
      ]
     },
     "execution_count": 18,
     "metadata": {},
     "output_type": "execute_result"
    }
   ],
   "source": [
    "dev.csv_writer.path"
   ]
  },
  {
   "cell_type": "code",
   "execution_count": 19,
   "metadata": {},
   "outputs": [],
   "source": [
    "# load .csv data written with dev.write\n",
    "m, df = parser.csv_resource(dev.csv_writer.path)"
   ]
  },
  {
   "cell_type": "markdown",
   "metadata": {},
   "source": [
    "#### Metadata in CSV"
   ]
  },
  {
   "cell_type": "code",
   "execution_count": 20,
   "metadata": {},
   "outputs": [
    {
     "data": {
      "text/plain": [
       "{'case_sensitive_header': False,\n",
       " 'comment': '#',\n",
       " 'delimiter': ',',\n",
       " 'double_quote': True,\n",
       " 'encoding': 'utf-8',\n",
       " 'escape_char': '\\\\',\n",
       " 'format': 'text/csv',\n",
       " 'line_terminator': '\\n',\n",
       " 'metadata': {'accel_accuracy': '+/-0.5%, +/-2 cross axis',\n",
       "  'accel_noise': 'PSD 400 ug / Hz**1/2',\n",
       "  'accel_precision': '16bit',\n",
       "  'accuracy': [None, 1, '+/-3%', '+/-3%', '+/-3%', '+/-3%', '+/-3%', '+/-3%'],\n",
       "  'accuracy_precision_note': 'See datasheet for scale factor dependent accuracy & LSB precision',\n",
       "  'bus_addr': 104,\n",
       "  'bus_n': 1,\n",
       "  'description': 'TDK InvenSense Gyro & Accelerometer',\n",
       "  'dtype': ['str',\n",
       "   'int',\n",
       "   'float',\n",
       "   'float',\n",
       "   'float',\n",
       "   'float',\n",
       "   'float',\n",
       "   'float'],\n",
       "  'gyro_accuracy': '+/-3%, +/-2% cross axis',\n",
       "  'gyro_noise': '0.05 deg/s-rms',\n",
       "  'gyro_precision': '16bit',\n",
       "  'header': ['description', 'sample_n', 'ax', 'ay', 'az', 'gx', 'gy', 'gz'],\n",
       "  'manufacturer': 'Adafruit Industries & TDK',\n",
       "  'name': 'MPU6050',\n",
       "  'units': [None, 'count', 'g', 'g', 'g', 'deg/s', 'deg/s', 'deg/s'],\n",
       "  'urls': 'https://www.invensense.com/products/motion-tracking/6-axis/mpu-6050/'},\n",
       " 'null_sequence': 'NA',\n",
       " 'path': '2020_12_08_13_54_33_mpu6050.csv',\n",
       " 'quote_char': '\"',\n",
       " 'skip_initial_space': True,\n",
       " 'skip_lines': 1,\n",
       " 'standard': 'Follow RFC 4180',\n",
       " 'strfmtime': '%Y-%m-%d %H:%M:%S.%f',\n",
       " 'time_source': 'std_time_ms'}"
      ]
     },
     "execution_count": 20,
     "metadata": {},
     "output_type": "execute_result"
    }
   ],
   "source": [
    "m"
   ]
  },
  {
   "cell_type": "markdown",
   "metadata": {},
   "source": [
    "#### Parsed CSV data"
   ]
  },
  {
   "cell_type": "code",
   "execution_count": 21,
   "metadata": {},
   "outputs": [
    {
     "data": {
      "text/html": [
       "<div>\n",
       "<style scoped>\n",
       "    .dataframe tbody tr th:only-of-type {\n",
       "        vertical-align: middle;\n",
       "    }\n",
       "\n",
       "    .dataframe tbody tr th {\n",
       "        vertical-align: top;\n",
       "    }\n",
       "\n",
       "    .dataframe thead th {\n",
       "        text-align: right;\n",
       "    }\n",
       "</style>\n",
       "<table border=\"1\" class=\"dataframe\">\n",
       "  <thead>\n",
       "    <tr style=\"text-align: right;\">\n",
       "      <th></th>\n",
       "      <th>std_time_ms</th>\n",
       "      <th>description</th>\n",
       "      <th>sample_n</th>\n",
       "      <th>ax</th>\n",
       "      <th>ay</th>\n",
       "      <th>az</th>\n",
       "      <th>gx</th>\n",
       "      <th>gy</th>\n",
       "      <th>gz</th>\n",
       "      <th>datetime64_ns</th>\n",
       "    </tr>\n",
       "  </thead>\n",
       "  <tbody>\n",
       "    <tr>\n",
       "      <th>0</th>\n",
       "      <td>2020-12-08 13:54:33.641579</td>\n",
       "      <td>test_4</td>\n",
       "      <td>0</td>\n",
       "      <td>30.214825</td>\n",
       "      <td>38.335957</td>\n",
       "      <td>36.614526</td>\n",
       "      <td>-5.770992</td>\n",
       "      <td>0.938931</td>\n",
       "      <td>-0.694656</td>\n",
       "      <td>2020-12-08 13:54:33.641579</td>\n",
       "    </tr>\n",
       "    <tr>\n",
       "      <th>1</th>\n",
       "      <td>2020-12-08 13:54:33.647107</td>\n",
       "      <td>test_4</td>\n",
       "      <td>1</td>\n",
       "      <td>30.269892</td>\n",
       "      <td>38.352716</td>\n",
       "      <td>36.561854</td>\n",
       "      <td>-5.687023</td>\n",
       "      <td>0.832061</td>\n",
       "      <td>-0.839695</td>\n",
       "      <td>2020-12-08 13:54:33.647107</td>\n",
       "    </tr>\n",
       "    <tr>\n",
       "      <th>2</th>\n",
       "      <td>2020-12-08 13:54:33.669353</td>\n",
       "      <td>test_4</td>\n",
       "      <td>2</td>\n",
       "      <td>30.241161</td>\n",
       "      <td>38.252160</td>\n",
       "      <td>36.626497</td>\n",
       "      <td>-5.595420</td>\n",
       "      <td>-0.061069</td>\n",
       "      <td>-1.183206</td>\n",
       "      <td>2020-12-08 13:54:33.669353</td>\n",
       "    </tr>\n",
       "    <tr>\n",
       "      <th>3</th>\n",
       "      <td>2020-12-08 13:54:33.674747</td>\n",
       "      <td>test_4</td>\n",
       "      <td>3</td>\n",
       "      <td>30.301016</td>\n",
       "      <td>38.285679</td>\n",
       "      <td>36.667198</td>\n",
       "      <td>-5.847328</td>\n",
       "      <td>0.458015</td>\n",
       "      <td>-0.916031</td>\n",
       "      <td>2020-12-08 13:54:33.674747</td>\n",
       "    </tr>\n",
       "    <tr>\n",
       "      <th>4</th>\n",
       "      <td>2020-12-08 13:54:33.679979</td>\n",
       "      <td>test_4</td>\n",
       "      <td>4</td>\n",
       "      <td>30.289045</td>\n",
       "      <td>38.312015</td>\n",
       "      <td>36.597767</td>\n",
       "      <td>-5.679389</td>\n",
       "      <td>0.580153</td>\n",
       "      <td>-0.870229</td>\n",
       "      <td>2020-12-08 13:54:33.679979</td>\n",
       "    </tr>\n",
       "  </tbody>\n",
       "</table>\n",
       "</div>"
      ],
      "text/plain": [
       "                  std_time_ms description  sample_n         ax         ay  \\\n",
       "0  2020-12-08 13:54:33.641579      test_4         0  30.214825  38.335957   \n",
       "1  2020-12-08 13:54:33.647107      test_4         1  30.269892  38.352716   \n",
       "2  2020-12-08 13:54:33.669353      test_4         2  30.241161  38.252160   \n",
       "3  2020-12-08 13:54:33.674747      test_4         3  30.301016  38.285679   \n",
       "4  2020-12-08 13:54:33.679979      test_4         4  30.289045  38.312015   \n",
       "\n",
       "          az        gx        gy        gz              datetime64_ns  \n",
       "0  36.614526 -5.770992  0.938931 -0.694656 2020-12-08 13:54:33.641579  \n",
       "1  36.561854 -5.687023  0.832061 -0.839695 2020-12-08 13:54:33.647107  \n",
       "2  36.626497 -5.595420 -0.061069 -1.183206 2020-12-08 13:54:33.669353  \n",
       "3  36.667198 -5.847328  0.458015 -0.916031 2020-12-08 13:54:33.674747  \n",
       "4  36.597767 -5.679389  0.580153 -0.870229 2020-12-08 13:54:33.679979  "
      ]
     },
     "execution_count": 21,
     "metadata": {},
     "output_type": "execute_result"
    }
   ],
   "source": [
    "df.head()"
   ]
  },
  {
   "cell_type": "code",
   "execution_count": 22,
   "metadata": {},
   "outputs": [],
   "source": [
    "# Pandas 0.24.1 hack\n",
    "df.datetime64_ns = df.datetime64_ns.dt.tz_localize('UTC')"
   ]
  },
  {
   "cell_type": "code",
   "execution_count": 23,
   "metadata": {},
   "outputs": [
    {
     "data": {
      "image/png": "[encoded data removed]",
      "text/plain": [
       "<Figure size 432x288 with 1 Axes>"
      ]
     },
     "metadata": {
      "needs_background": "light"
     },
     "output_type": "display_data"
    }
   ],
   "source": [
    "df[['datetime64_ns', \n",
    "    'ax', 'ay', 'az', \n",
    "    'gx', 'gy', 'gz']].plot(x='datetime64_ns');\n",
    "plt.legend(loc='center left', bbox_to_anchor=(1, 0.5));\n",
    "plt.xlabel('Date & Time');\n",
    "plt.ylabel('m/s**2 or degree/s');"
   ]
  }
 ],
 "metadata": {
  "kernelspec": {
   "display_name": "Python 3",
   "language": "python",
   "name": "python3"
  },
  "language_info": {
   "codemirror_mode": {
    "name": "ipython",
    "version": 3
   },
   "file_extension": ".py",
   "mimetype": "text/x-python",
   "name": "python",
   "nbconvert_exporter": "python",
   "pygments_lexer": "ipython3",
   "version": "3.7.3"
  }
 },
 "nbformat": 4,
 "nbformat_minor": 4
}
