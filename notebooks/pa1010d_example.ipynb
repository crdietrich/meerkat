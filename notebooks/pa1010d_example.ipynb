{
 "cells": [
  {
   "cell_type": "markdown",
   "metadata": {},
   "source": [
    "## Adafruit Mini GPS PA1010D GPS  \n",
    "https://www.adafruit.com/product/4415"
   ]
  },
  {
   "cell_type": "code",
   "execution_count": 1,
   "metadata": {},
   "outputs": [],
   "source": [
    "import json\n",
    "import pandas as pd\n",
    "\n",
    "pd.set_option('max_colwidth', 200)\n",
    "\n",
    "from meerkat import pa1010d, parser"
   ]
  },
  {
   "cell_type": "code",
   "execution_count": 2,
   "metadata": {},
   "outputs": [
    {
     "data": {
      "text/plain": [
       "'1.1.3'"
      ]
     },
     "execution_count": 2,
     "metadata": {},
     "output_type": "execute_result"
    }
   ],
   "source": [
    "pd.__version__ #  tested with 1.1.3"
   ]
  },
  {
   "cell_type": "markdown",
   "metadata": {},
   "source": [
    "#### Initialize Driver Class with Default I2C Address"
   ]
  },
  {
   "cell_type": "code",
   "execution_count": 3,
   "metadata": {},
   "outputs": [],
   "source": [
    "gps = pa1010d.PA1010D(bus_n=1, bus_addr=0x10)"
   ]
  },
  {
   "cell_type": "code",
   "execution_count": 4,
   "metadata": {},
   "outputs": [
    {
     "data": {
      "text/plain": [
       "{'name': 'pa1010d', 'urls': 'https://www.cdtop-tech.com/products/pa1010d', 'manufacturer': 'CDTop Technology', 'header': ['description', 'sample_n', 'nmea_sentence'], 'dtype': ['str', 'int', 'str'], 'precision': '<3.0 meters', 'bus_n': 1, 'bus_addr': '0x10', 'description': 'Adafruit PA1010D GPS/GNSS module', 'supported_nmea_sentences': ['GGA', 'GSA', 'GSV', 'RMC', 'VTG']}"
      ]
     },
     "execution_count": 4,
     "metadata": {},
     "output_type": "execute_result"
    }
   ],
   "source": [
    "gps.csv_writer.metadata"
   ]
  },
  {
   "cell_type": "markdown",
   "metadata": {},
   "source": [
    "#### NMEA Sentence Support  \n",
    "The GPS module outputs several NMEA sentences, to collect all the data a continuous looping read is used until enough bytes are collected to reconstruct all the sentences. Like a UART connection, the module cycles through transmitting each supported NMEA sentence type. Therefore, by default all supported sentence types are returned.\n",
    "\n",
    "The supported NMEA sentences are:  \n",
    "'GGA', 'GSA', 'GSV', 'RMC', 'VTG'  \n",
    "Refer to http://aprs.gids.nl/nmea/ and datasheet page 16 for details."
   ]
  },
  {
   "cell_type": "code",
   "execution_count": 5,
   "metadata": {},
   "outputs": [
    {
     "data": {
      "text/plain": [
       "['$GNGGA,042642.000,4741.4569,N,12219.0173,W,1,11,0.86,104.7,M,-17.3,M,,*46',\n",
       " '$GPGSA,A,3,15,12,17,14,28,19,,,,,,,1.17,0.86,0.80*05',\n",
       " '$GPGSV,4,3,14,02,12,182,26,15,11,240,27,01,08,030,16,13,07,206,22*7E',\n",
       " '$GNRMC,042640.000,A,4741.4569,N,12219.0173,W,1.16,320.93,221220,,,A*6E',\n",
       " '$GNVTG,336.44,T,,M,1.45,N,2.69,K,A*28']"
      ]
     },
     "execution_count": 5,
     "metadata": {},
     "output_type": "execute_result"
    }
   ],
   "source": [
    "gps.get()"
   ]
  },
  {
   "cell_type": "markdown",
   "metadata": {},
   "source": [
    "Using the `nmea_sentences` keyword, specific NMEA sentences can be returned. Note that all sentences are still being transmitted on the I2C bus and being parsed by the driver."
   ]
  },
  {
   "cell_type": "code",
   "execution_count": 6,
   "metadata": {},
   "outputs": [
    {
     "data": {
      "text/plain": [
       "['$GNGGA,042645.000,4741.4554,N,12219.0160,W,1,9,0.95,104.7,M,-17.3,M,,*76',\n",
       " '$GPGSA,A,3,15,17,14,19,,,,,,,,,1.25,0.95,0.81*0E']"
      ]
     },
     "execution_count": 6,
     "metadata": {},
     "output_type": "execute_result"
    }
   ],
   "source": [
    "gps.get(nmea_sentences=['GGA', 'GSA'])"
   ]
  },
  {
   "cell_type": "code",
   "execution_count": 7,
   "metadata": {},
   "outputs": [
    {
     "data": {
      "text/plain": [
       "['$GLGSV,2,2,08,74,33,317,18,84,28,197,19,65,10,331,,72,07,290,*69',\n",
       " '$GNRMC,042647.000,A,4741.4548,N,12219.0154,W,0.14,138.93,221220,,,A*67',\n",
       " '$GNVTG,138.93,T,,M,0.14,N,0.25,K,A*21']"
      ]
     },
     "execution_count": 7,
     "metadata": {},
     "output_type": "execute_result"
    }
   ],
   "source": [
    "gps.get(nmea_sentences=['GSV', 'RMC', 'VTG'])"
   ]
  },
  {
   "cell_type": "code",
   "execution_count": 8,
   "metadata": {},
   "outputs": [
    {
     "data": {
      "text/plain": [
       "['$GNRMC,042648.000,A,4741.4547,N,12219.0149,W,0.12,138.93,221220,,,A*6D']"
      ]
     },
     "execution_count": 8,
     "metadata": {},
     "output_type": "execute_result"
    }
   ],
   "source": [
    "gps.get(nmea_sentences=['RMC'])"
   ]
  },
  {
   "cell_type": "markdown",
   "metadata": {},
   "source": [
    "#### CSV Writer Output"
   ]
  },
  {
   "cell_type": "code",
   "execution_count": 9,
   "metadata": {},
   "outputs": [
    {
     "data": {
      "text/plain": [
       "['description', 'sample_n', 'nmea_sentence']"
      ]
     },
     "execution_count": 9,
     "metadata": {},
     "output_type": "execute_result"
    }
   ],
   "source": [
    "gps.metadata.header"
   ]
  },
  {
   "cell_type": "code",
   "execution_count": 10,
   "metadata": {},
   "outputs": [],
   "source": [
    "gps.write(description=\"test_1\", n=4, nmea_sentences=['GGA', 'GSA'], delay=1)"
   ]
  },
  {
   "cell_type": "code",
   "execution_count": 11,
   "metadata": {},
   "outputs": [
    {
     "data": {
      "text/plain": [
       "'2020_12_21_20_26_58_pa1010d.csv'"
      ]
     },
     "execution_count": 11,
     "metadata": {},
     "output_type": "execute_result"
    }
   ],
   "source": [
    "gps.csv_writer.path"
   ]
  },
  {
   "cell_type": "code",
   "execution_count": 12,
   "metadata": {},
   "outputs": [],
   "source": [
    "m, df = parser.csv_resource(gps.csv_writer.path)"
   ]
  },
  {
   "cell_type": "code",
   "execution_count": 13,
   "metadata": {},
   "outputs": [
    {
     "data": {
      "text/plain": [
       "{'encoding': 'utf-8',\n",
       " 'format': 'text/csv',\n",
       " 'standard': 'Follow RFC 4180',\n",
       " 'line_terminator': '\\n',\n",
       " 'quote_char': '\"',\n",
       " 'double_quote': True,\n",
       " 'escape_char': '\\\\',\n",
       " 'null_sequence': 'NA',\n",
       " 'comment': '#',\n",
       " 'metadata': {'name': 'pa1010d',\n",
       "  'urls': 'https://www.cdtop-tech.com/products/pa1010d',\n",
       "  'manufacturer': 'CDTop Technology',\n",
       "  'header': ['description', 'sample_n', 'nmea_sentence'],\n",
       "  'dtype': ['str', 'int', 'str'],\n",
       "  'precision': '<3.0 meters',\n",
       "  'bus_n': 1,\n",
       "  'bus_addr': '0x10',\n",
       "  'description': 'Adafruit PA1010D GPS/GNSS module',\n",
       "  'supported_nmea_sentences': ['GGA', 'GSA', 'GSV', 'RMC', 'VTG']},\n",
       " 'path': '2020_12_21_20_26_58_pa1010d.csv',\n",
       " 'time_source': 'std_time_ms',\n",
       " 'time_format': '%Y-%m-%d %H:%M:%S.%f',\n",
       " 'delimiter': ',',\n",
       " 'skip_initial_space': True,\n",
       " 'case_sensitive_header': False,\n",
       " 'skip_lines': 1}"
      ]
     },
     "execution_count": 13,
     "metadata": {},
     "output_type": "execute_result"
    }
   ],
   "source": [
    "m"
   ]
  },
  {
   "cell_type": "code",
   "execution_count": 14,
   "metadata": {},
   "outputs": [
    {
     "data": {
      "text/plain": [
       "std_time_ms              object\n",
       "description              object\n",
       "sample_n                  int64\n",
       "nmea_sentence            object\n",
       "datetime64_ns    datetime64[ns]\n",
       "dtype: object"
      ]
     },
     "execution_count": 14,
     "metadata": {},
     "output_type": "execute_result"
    }
   ],
   "source": [
    "df.dtypes"
   ]
  },
  {
   "cell_type": "code",
   "execution_count": 15,
   "metadata": {},
   "outputs": [
    {
     "data": {
      "text/html": [
       "<div>\n",
       "<style scoped>\n",
       "    .dataframe tbody tr th:only-of-type {\n",
       "        vertical-align: middle;\n",
       "    }\n",
       "\n",
       "    .dataframe tbody tr th {\n",
       "        vertical-align: top;\n",
       "    }\n",
       "\n",
       "    .dataframe thead th {\n",
       "        text-align: right;\n",
       "    }\n",
       "</style>\n",
       "<table border=\"1\" class=\"dataframe\">\n",
       "  <thead>\n",
       "    <tr style=\"text-align: right;\">\n",
       "      <th></th>\n",
       "      <th>std_time_ms</th>\n",
       "      <th>description</th>\n",
       "      <th>sample_n</th>\n",
       "      <th>nmea_sentence</th>\n",
       "      <th>datetime64_ns</th>\n",
       "    </tr>\n",
       "  </thead>\n",
       "  <tbody>\n",
       "    <tr>\n",
       "      <th>0</th>\n",
       "      <td>2020-12-21 20:26:58.692836</td>\n",
       "      <td>test_1</td>\n",
       "      <td>0</td>\n",
       "      <td>$GNGGA,042649.000,4741.4549,N,12219.0149,W,1,9,0.92,104.9,M,-17.3,M,,*74</td>\n",
       "      <td>2020-12-21 20:26:58.692836</td>\n",
       "    </tr>\n",
       "    <tr>\n",
       "      <th>1</th>\n",
       "      <td>2020-12-21 20:26:58.693026</td>\n",
       "      <td>test_1</td>\n",
       "      <td>0</td>\n",
       "      <td>$GPGSA,A,3,15,17,14,19,28,,,,,,,,1.25,0.92,0.85*07</td>\n",
       "      <td>2020-12-21 20:26:58.693026</td>\n",
       "    </tr>\n",
       "    <tr>\n",
       "      <th>2</th>\n",
       "      <td>2020-12-21 20:26:59.718139</td>\n",
       "      <td>test_1</td>\n",
       "      <td>1</td>\n",
       "      <td>$GNGGA,042650.000,4741.4549,N,12219.0146,W,1,9,0.92,104.8,M,-17.3,M,,*72</td>\n",
       "      <td>2020-12-21 20:26:59.718139</td>\n",
       "    </tr>\n",
       "    <tr>\n",
       "      <th>3</th>\n",
       "      <td>2020-12-21 20:26:59.718488</td>\n",
       "      <td>test_1</td>\n",
       "      <td>1</td>\n",
       "      <td>$GPGSA,A,3,15,17,14,19,28,,,,,,,,1.25,0.92,0.85*07</td>\n",
       "      <td>2020-12-21 20:26:59.718488</td>\n",
       "    </tr>\n",
       "    <tr>\n",
       "      <th>4</th>\n",
       "      <td>2020-12-21 20:27:00.743499</td>\n",
       "      <td>test_1</td>\n",
       "      <td>2</td>\n",
       "      <td>$GNGGA,042651.000,4741.4548,N,12219.0139,W,1,9,0.92,104.8,M,-17.3,M,,*7A</td>\n",
       "      <td>2020-12-21 20:27:00.743499</td>\n",
       "    </tr>\n",
       "    <tr>\n",
       "      <th>5</th>\n",
       "      <td>2020-12-21 20:27:00.743821</td>\n",
       "      <td>test_1</td>\n",
       "      <td>2</td>\n",
       "      <td>$GPGSA,A,3,15,17,14,19,28,,,,,,,,1.25,0.92,0.85*07</td>\n",
       "      <td>2020-12-21 20:27:00.743821</td>\n",
       "    </tr>\n",
       "    <tr>\n",
       "      <th>6</th>\n",
       "      <td>2020-12-21 20:27:01.768962</td>\n",
       "      <td>test_1</td>\n",
       "      <td>3</td>\n",
       "      <td>$GNGGA,042652.000,4741.4546,N,12219.0136,W,1,9,0.92,104.8,M,-17.3,M,,*78</td>\n",
       "      <td>2020-12-21 20:27:01.768962</td>\n",
       "    </tr>\n",
       "    <tr>\n",
       "      <th>7</th>\n",
       "      <td>2020-12-21 20:27:01.769303</td>\n",
       "      <td>test_1</td>\n",
       "      <td>3</td>\n",
       "      <td>$GPGSA,A,3,15,17,14,19,28,,,,,,,,1.25,0.92,0.85*07</td>\n",
       "      <td>2020-12-21 20:27:01.769303</td>\n",
       "    </tr>\n",
       "  </tbody>\n",
       "</table>\n",
       "</div>"
      ],
      "text/plain": [
       "                  std_time_ms description  sample_n  \\\n",
       "0  2020-12-21 20:26:58.692836      test_1         0   \n",
       "1  2020-12-21 20:26:58.693026      test_1         0   \n",
       "2  2020-12-21 20:26:59.718139      test_1         1   \n",
       "3  2020-12-21 20:26:59.718488      test_1         1   \n",
       "4  2020-12-21 20:27:00.743499      test_1         2   \n",
       "5  2020-12-21 20:27:00.743821      test_1         2   \n",
       "6  2020-12-21 20:27:01.768962      test_1         3   \n",
       "7  2020-12-21 20:27:01.769303      test_1         3   \n",
       "\n",
       "                                                              nmea_sentence  \\\n",
       "0  $GNGGA,042649.000,4741.4549,N,12219.0149,W,1,9,0.92,104.9,M,-17.3,M,,*74   \n",
       "1                        $GPGSA,A,3,15,17,14,19,28,,,,,,,,1.25,0.92,0.85*07   \n",
       "2  $GNGGA,042650.000,4741.4549,N,12219.0146,W,1,9,0.92,104.8,M,-17.3,M,,*72   \n",
       "3                        $GPGSA,A,3,15,17,14,19,28,,,,,,,,1.25,0.92,0.85*07   \n",
       "4  $GNGGA,042651.000,4741.4548,N,12219.0139,W,1,9,0.92,104.8,M,-17.3,M,,*7A   \n",
       "5                        $GPGSA,A,3,15,17,14,19,28,,,,,,,,1.25,0.92,0.85*07   \n",
       "6  $GNGGA,042652.000,4741.4546,N,12219.0136,W,1,9,0.92,104.8,M,-17.3,M,,*78   \n",
       "7                        $GPGSA,A,3,15,17,14,19,28,,,,,,,,1.25,0.92,0.85*07   \n",
       "\n",
       "               datetime64_ns  \n",
       "0 2020-12-21 20:26:58.692836  \n",
       "1 2020-12-21 20:26:58.693026  \n",
       "2 2020-12-21 20:26:59.718139  \n",
       "3 2020-12-21 20:26:59.718488  \n",
       "4 2020-12-21 20:27:00.743499  \n",
       "5 2020-12-21 20:27:00.743821  \n",
       "6 2020-12-21 20:27:01.768962  \n",
       "7 2020-12-21 20:27:01.769303  "
      ]
     },
     "execution_count": 15,
     "metadata": {},
     "output_type": "execute_result"
    }
   ],
   "source": [
    "df"
   ]
  },
  {
   "cell_type": "code",
   "execution_count": 16,
   "metadata": {},
   "outputs": [],
   "source": [
    "def nmea_type(sentence):\n",
    "    \"\"\"Get NMEA sentence type\"\"\"\n",
    "    s = sentence.split(\",\")\n",
    "    return s[0][1:]"
   ]
  },
  {
   "cell_type": "code",
   "execution_count": 17,
   "metadata": {},
   "outputs": [
    {
     "data": {
      "text/plain": [
       "0    GNGGA\n",
       "1    GPGSA\n",
       "2    GNGGA\n",
       "3    GPGSA\n",
       "4    GNGGA\n",
       "5    GPGSA\n",
       "6    GNGGA\n",
       "7    GPGSA\n",
       "Name: nmea_sentence, dtype: object"
      ]
     },
     "execution_count": 17,
     "metadata": {},
     "output_type": "execute_result"
    }
   ],
   "source": [
    "df.nmea_sentence.apply(lambda x: nmea_type(sentence=x))"
   ]
  },
  {
   "cell_type": "code",
   "execution_count": 18,
   "metadata": {},
   "outputs": [],
   "source": [
    "def nmea_parse(sentence):\n",
    "    \"\"\"Parse NMEA sentence, removing start of sentence '$' and checksum delimiter '*' \"\"\"\n",
    "    start_seq = sentence[0]\n",
    "    sentence = sentence[1:]\n",
    "    sentence, checksum = sentence.split(\"*\")\n",
    "    return sentence.split(\",\") + [checksum]"
   ]
  },
  {
   "cell_type": "code",
   "execution_count": 19,
   "metadata": {},
   "outputs": [
    {
     "data": {
      "text/plain": [
       "0    [GNGGA, 042649.000, 4741.4549, N, 12219.0149, W, 1, 9, 0.92, 104.9, M, -17.3, M, , , 74]\n",
       "1                       [GPGSA, A, 3, 15, 17, 14, 19, 28, , , , , , , , 1.25, 0.92, 0.85, 07]\n",
       "2    [GNGGA, 042650.000, 4741.4549, N, 12219.0146, W, 1, 9, 0.92, 104.8, M, -17.3, M, , , 72]\n",
       "3                       [GPGSA, A, 3, 15, 17, 14, 19, 28, , , , , , , , 1.25, 0.92, 0.85, 07]\n",
       "4    [GNGGA, 042651.000, 4741.4548, N, 12219.0139, W, 1, 9, 0.92, 104.8, M, -17.3, M, , , 7A]\n",
       "5                       [GPGSA, A, 3, 15, 17, 14, 19, 28, , , , , , , , 1.25, 0.92, 0.85, 07]\n",
       "6    [GNGGA, 042652.000, 4741.4546, N, 12219.0136, W, 1, 9, 0.92, 104.8, M, -17.3, M, , , 78]\n",
       "7                       [GPGSA, A, 3, 15, 17, 14, 19, 28, , , , , , , , 1.25, 0.92, 0.85, 07]\n",
       "Name: nmea_sentence, dtype: object"
      ]
     },
     "execution_count": 19,
     "metadata": {},
     "output_type": "execute_result"
    }
   ],
   "source": [
    "df.nmea_sentence.apply(nmea_parse)"
   ]
  },
  {
   "cell_type": "code",
   "execution_count": 20,
   "metadata": {},
   "outputs": [],
   "source": [
    "df[\"nmea_type\"] = df.nmea_sentence.apply(lambda x: nmea_type(sentence=x))"
   ]
  },
  {
   "cell_type": "code",
   "execution_count": 21,
   "metadata": {},
   "outputs": [
    {
     "data": {
      "text/html": [
       "<div>\n",
       "<style scoped>\n",
       "    .dataframe tbody tr th:only-of-type {\n",
       "        vertical-align: middle;\n",
       "    }\n",
       "\n",
       "    .dataframe tbody tr th {\n",
       "        vertical-align: top;\n",
       "    }\n",
       "\n",
       "    .dataframe thead th {\n",
       "        text-align: right;\n",
       "    }\n",
       "</style>\n",
       "<table border=\"1\" class=\"dataframe\">\n",
       "  <thead>\n",
       "    <tr style=\"text-align: right;\">\n",
       "      <th></th>\n",
       "      <th>std_time_ms</th>\n",
       "      <th>description</th>\n",
       "      <th>sample_n</th>\n",
       "      <th>nmea_sentence</th>\n",
       "      <th>datetime64_ns</th>\n",
       "      <th>nmea_type</th>\n",
       "    </tr>\n",
       "  </thead>\n",
       "  <tbody>\n",
       "    <tr>\n",
       "      <th>0</th>\n",
       "      <td>2020-12-21 20:26:58.692836</td>\n",
       "      <td>test_1</td>\n",
       "      <td>0</td>\n",
       "      <td>$GNGGA,042649.000,4741.4549,N,12219.0149,W,1,9,0.92,104.9,M,-17.3,M,,*74</td>\n",
       "      <td>2020-12-21 20:26:58.692836</td>\n",
       "      <td>GNGGA</td>\n",
       "    </tr>\n",
       "    <tr>\n",
       "      <th>1</th>\n",
       "      <td>2020-12-21 20:26:58.693026</td>\n",
       "      <td>test_1</td>\n",
       "      <td>0</td>\n",
       "      <td>$GPGSA,A,3,15,17,14,19,28,,,,,,,,1.25,0.92,0.85*07</td>\n",
       "      <td>2020-12-21 20:26:58.693026</td>\n",
       "      <td>GPGSA</td>\n",
       "    </tr>\n",
       "    <tr>\n",
       "      <th>2</th>\n",
       "      <td>2020-12-21 20:26:59.718139</td>\n",
       "      <td>test_1</td>\n",
       "      <td>1</td>\n",
       "      <td>$GNGGA,042650.000,4741.4549,N,12219.0146,W,1,9,0.92,104.8,M,-17.3,M,,*72</td>\n",
       "      <td>2020-12-21 20:26:59.718139</td>\n",
       "      <td>GNGGA</td>\n",
       "    </tr>\n",
       "    <tr>\n",
       "      <th>3</th>\n",
       "      <td>2020-12-21 20:26:59.718488</td>\n",
       "      <td>test_1</td>\n",
       "      <td>1</td>\n",
       "      <td>$GPGSA,A,3,15,17,14,19,28,,,,,,,,1.25,0.92,0.85*07</td>\n",
       "      <td>2020-12-21 20:26:59.718488</td>\n",
       "      <td>GPGSA</td>\n",
       "    </tr>\n",
       "    <tr>\n",
       "      <th>4</th>\n",
       "      <td>2020-12-21 20:27:00.743499</td>\n",
       "      <td>test_1</td>\n",
       "      <td>2</td>\n",
       "      <td>$GNGGA,042651.000,4741.4548,N,12219.0139,W,1,9,0.92,104.8,M,-17.3,M,,*7A</td>\n",
       "      <td>2020-12-21 20:27:00.743499</td>\n",
       "      <td>GNGGA</td>\n",
       "    </tr>\n",
       "    <tr>\n",
       "      <th>5</th>\n",
       "      <td>2020-12-21 20:27:00.743821</td>\n",
       "      <td>test_1</td>\n",
       "      <td>2</td>\n",
       "      <td>$GPGSA,A,3,15,17,14,19,28,,,,,,,,1.25,0.92,0.85*07</td>\n",
       "      <td>2020-12-21 20:27:00.743821</td>\n",
       "      <td>GPGSA</td>\n",
       "    </tr>\n",
       "    <tr>\n",
       "      <th>6</th>\n",
       "      <td>2020-12-21 20:27:01.768962</td>\n",
       "      <td>test_1</td>\n",
       "      <td>3</td>\n",
       "      <td>$GNGGA,042652.000,4741.4546,N,12219.0136,W,1,9,0.92,104.8,M,-17.3,M,,*78</td>\n",
       "      <td>2020-12-21 20:27:01.768962</td>\n",
       "      <td>GNGGA</td>\n",
       "    </tr>\n",
       "    <tr>\n",
       "      <th>7</th>\n",
       "      <td>2020-12-21 20:27:01.769303</td>\n",
       "      <td>test_1</td>\n",
       "      <td>3</td>\n",
       "      <td>$GPGSA,A,3,15,17,14,19,28,,,,,,,,1.25,0.92,0.85*07</td>\n",
       "      <td>2020-12-21 20:27:01.769303</td>\n",
       "      <td>GPGSA</td>\n",
       "    </tr>\n",
       "  </tbody>\n",
       "</table>\n",
       "</div>"
      ],
      "text/plain": [
       "                  std_time_ms description  sample_n  \\\n",
       "0  2020-12-21 20:26:58.692836      test_1         0   \n",
       "1  2020-12-21 20:26:58.693026      test_1         0   \n",
       "2  2020-12-21 20:26:59.718139      test_1         1   \n",
       "3  2020-12-21 20:26:59.718488      test_1         1   \n",
       "4  2020-12-21 20:27:00.743499      test_1         2   \n",
       "5  2020-12-21 20:27:00.743821      test_1         2   \n",
       "6  2020-12-21 20:27:01.768962      test_1         3   \n",
       "7  2020-12-21 20:27:01.769303      test_1         3   \n",
       "\n",
       "                                                              nmea_sentence  \\\n",
       "0  $GNGGA,042649.000,4741.4549,N,12219.0149,W,1,9,0.92,104.9,M,-17.3,M,,*74   \n",
       "1                        $GPGSA,A,3,15,17,14,19,28,,,,,,,,1.25,0.92,0.85*07   \n",
       "2  $GNGGA,042650.000,4741.4549,N,12219.0146,W,1,9,0.92,104.8,M,-17.3,M,,*72   \n",
       "3                        $GPGSA,A,3,15,17,14,19,28,,,,,,,,1.25,0.92,0.85*07   \n",
       "4  $GNGGA,042651.000,4741.4548,N,12219.0139,W,1,9,0.92,104.8,M,-17.3,M,,*7A   \n",
       "5                        $GPGSA,A,3,15,17,14,19,28,,,,,,,,1.25,0.92,0.85*07   \n",
       "6  $GNGGA,042652.000,4741.4546,N,12219.0136,W,1,9,0.92,104.8,M,-17.3,M,,*78   \n",
       "7                        $GPGSA,A,3,15,17,14,19,28,,,,,,,,1.25,0.92,0.85*07   \n",
       "\n",
       "               datetime64_ns nmea_type  \n",
       "0 2020-12-21 20:26:58.692836     GNGGA  \n",
       "1 2020-12-21 20:26:58.693026     GPGSA  \n",
       "2 2020-12-21 20:26:59.718139     GNGGA  \n",
       "3 2020-12-21 20:26:59.718488     GPGSA  \n",
       "4 2020-12-21 20:27:00.743499     GNGGA  \n",
       "5 2020-12-21 20:27:00.743821     GPGSA  \n",
       "6 2020-12-21 20:27:01.768962     GNGGA  \n",
       "7 2020-12-21 20:27:01.769303     GPGSA  "
      ]
     },
     "execution_count": 21,
     "metadata": {},
     "output_type": "execute_result"
    }
   ],
   "source": [
    "df"
   ]
  },
  {
   "cell_type": "markdown",
   "metadata": {},
   "source": [
    "#### GGA sentence"
   ]
  },
  {
   "cell_type": "markdown",
   "metadata": {},
   "source": [
    "Parse using DataFrame and list comprehension for the same result, but loses the row index values"
   ]
  },
  {
   "cell_type": "code",
   "execution_count": 22,
   "metadata": {},
   "outputs": [
    {
     "data": {
      "text/html": [
       "<div>\n",
       "<style scoped>\n",
       "    .dataframe tbody tr th:only-of-type {\n",
       "        vertical-align: middle;\n",
       "    }\n",
       "\n",
       "    .dataframe tbody tr th {\n",
       "        vertical-align: top;\n",
       "    }\n",
       "\n",
       "    .dataframe thead th {\n",
       "        text-align: right;\n",
       "    }\n",
       "</style>\n",
       "<table border=\"1\" class=\"dataframe\">\n",
       "  <thead>\n",
       "    <tr style=\"text-align: right;\">\n",
       "      <th></th>\n",
       "      <th>nmea_type</th>\n",
       "      <th>UTC_time</th>\n",
       "      <th>latitude</th>\n",
       "      <th>NS</th>\n",
       "      <th>longitude</th>\n",
       "      <th>EW</th>\n",
       "      <th>quality</th>\n",
       "      <th>n_satellites</th>\n",
       "      <th>horizontal_dilution</th>\n",
       "      <th>altitude</th>\n",
       "      <th>M</th>\n",
       "      <th>geoidal_separation</th>\n",
       "      <th>M</th>\n",
       "      <th>age_sec_diff</th>\n",
       "      <th>diff_id</th>\n",
       "      <th>checksum</th>\n",
       "    </tr>\n",
       "  </thead>\n",
       "  <tbody>\n",
       "    <tr>\n",
       "      <th>0</th>\n",
       "      <td>GNGGA</td>\n",
       "      <td>042649.000</td>\n",
       "      <td>4741.4549</td>\n",
       "      <td>N</td>\n",
       "      <td>12219.0149</td>\n",
       "      <td>W</td>\n",
       "      <td>1</td>\n",
       "      <td>9</td>\n",
       "      <td>0.92</td>\n",
       "      <td>104.9</td>\n",
       "      <td>M</td>\n",
       "      <td>-17.3</td>\n",
       "      <td>M</td>\n",
       "      <td></td>\n",
       "      <td></td>\n",
       "      <td>74</td>\n",
       "    </tr>\n",
       "    <tr>\n",
       "      <th>1</th>\n",
       "      <td>GNGGA</td>\n",
       "      <td>042650.000</td>\n",
       "      <td>4741.4549</td>\n",
       "      <td>N</td>\n",
       "      <td>12219.0146</td>\n",
       "      <td>W</td>\n",
       "      <td>1</td>\n",
       "      <td>9</td>\n",
       "      <td>0.92</td>\n",
       "      <td>104.8</td>\n",
       "      <td>M</td>\n",
       "      <td>-17.3</td>\n",
       "      <td>M</td>\n",
       "      <td></td>\n",
       "      <td></td>\n",
       "      <td>72</td>\n",
       "    </tr>\n",
       "    <tr>\n",
       "      <th>2</th>\n",
       "      <td>GNGGA</td>\n",
       "      <td>042651.000</td>\n",
       "      <td>4741.4548</td>\n",
       "      <td>N</td>\n",
       "      <td>12219.0139</td>\n",
       "      <td>W</td>\n",
       "      <td>1</td>\n",
       "      <td>9</td>\n",
       "      <td>0.92</td>\n",
       "      <td>104.8</td>\n",
       "      <td>M</td>\n",
       "      <td>-17.3</td>\n",
       "      <td>M</td>\n",
       "      <td></td>\n",
       "      <td></td>\n",
       "      <td>7A</td>\n",
       "    </tr>\n",
       "    <tr>\n",
       "      <th>3</th>\n",
       "      <td>GNGGA</td>\n",
       "      <td>042652.000</td>\n",
       "      <td>4741.4546</td>\n",
       "      <td>N</td>\n",
       "      <td>12219.0136</td>\n",
       "      <td>W</td>\n",
       "      <td>1</td>\n",
       "      <td>9</td>\n",
       "      <td>0.92</td>\n",
       "      <td>104.8</td>\n",
       "      <td>M</td>\n",
       "      <td>-17.3</td>\n",
       "      <td>M</td>\n",
       "      <td></td>\n",
       "      <td></td>\n",
       "      <td>78</td>\n",
       "    </tr>\n",
       "  </tbody>\n",
       "</table>\n",
       "</div>"
      ],
      "text/plain": [
       "  nmea_type    UTC_time   latitude NS   longitude EW quality n_satellites  \\\n",
       "0     GNGGA  042649.000  4741.4549  N  12219.0149  W       1            9   \n",
       "1     GNGGA  042650.000  4741.4549  N  12219.0146  W       1            9   \n",
       "2     GNGGA  042651.000  4741.4548  N  12219.0139  W       1            9   \n",
       "3     GNGGA  042652.000  4741.4546  N  12219.0136  W       1            9   \n",
       "\n",
       "  horizontal_dilution altitude  M geoidal_separation  M age_sec_diff diff_id  \\\n",
       "0                0.92    104.9  M              -17.3  M                        \n",
       "1                0.92    104.8  M              -17.3  M                        \n",
       "2                0.92    104.8  M              -17.3  M                        \n",
       "3                0.92    104.8  M              -17.3  M                        \n",
       "\n",
       "  checksum  \n",
       "0       74  \n",
       "1       72  \n",
       "2       7A  \n",
       "3       78  "
      ]
     },
     "execution_count": 22,
     "metadata": {},
     "output_type": "execute_result"
    }
   ],
   "source": [
    "df_gga = pd.DataFrame([nmea_parse(gs) for gs in df.loc[df.nmea_type == \"GNGGA\", \"nmea_sentence\"].values])\n",
    "df_gga.columns = parser.GGA_columns\n",
    "df_gga"
   ]
  },
  {
   "cell_type": "markdown",
   "metadata": {},
   "source": [
    "Parse using .loc and apply to preserve the source indexes"
   ]
  },
  {
   "cell_type": "code",
   "execution_count": 23,
   "metadata": {},
   "outputs": [
    {
     "data": {
      "text/html": [
       "<div>\n",
       "<style scoped>\n",
       "    .dataframe tbody tr th:only-of-type {\n",
       "        vertical-align: middle;\n",
       "    }\n",
       "\n",
       "    .dataframe tbody tr th {\n",
       "        vertical-align: top;\n",
       "    }\n",
       "\n",
       "    .dataframe thead th {\n",
       "        text-align: right;\n",
       "    }\n",
       "</style>\n",
       "<table border=\"1\" class=\"dataframe\">\n",
       "  <thead>\n",
       "    <tr style=\"text-align: right;\">\n",
       "      <th></th>\n",
       "      <th>nmea_type</th>\n",
       "      <th>UTC_time</th>\n",
       "      <th>latitude</th>\n",
       "      <th>NS</th>\n",
       "      <th>longitude</th>\n",
       "      <th>EW</th>\n",
       "      <th>quality</th>\n",
       "      <th>n_satellites</th>\n",
       "      <th>horizontal_dilution</th>\n",
       "      <th>altitude</th>\n",
       "      <th>M</th>\n",
       "      <th>geoidal_separation</th>\n",
       "      <th>M</th>\n",
       "      <th>age_sec_diff</th>\n",
       "      <th>diff_id</th>\n",
       "      <th>checksum</th>\n",
       "    </tr>\n",
       "  </thead>\n",
       "  <tbody>\n",
       "    <tr>\n",
       "      <th>0</th>\n",
       "      <td>GNGGA</td>\n",
       "      <td>042649.000</td>\n",
       "      <td>4741.4549</td>\n",
       "      <td>N</td>\n",
       "      <td>12219.0149</td>\n",
       "      <td>W</td>\n",
       "      <td>1</td>\n",
       "      <td>9</td>\n",
       "      <td>0.92</td>\n",
       "      <td>104.9</td>\n",
       "      <td>M</td>\n",
       "      <td>-17.3</td>\n",
       "      <td>M</td>\n",
       "      <td></td>\n",
       "      <td></td>\n",
       "      <td>74</td>\n",
       "    </tr>\n",
       "    <tr>\n",
       "      <th>2</th>\n",
       "      <td>GNGGA</td>\n",
       "      <td>042650.000</td>\n",
       "      <td>4741.4549</td>\n",
       "      <td>N</td>\n",
       "      <td>12219.0146</td>\n",
       "      <td>W</td>\n",
       "      <td>1</td>\n",
       "      <td>9</td>\n",
       "      <td>0.92</td>\n",
       "      <td>104.8</td>\n",
       "      <td>M</td>\n",
       "      <td>-17.3</td>\n",
       "      <td>M</td>\n",
       "      <td></td>\n",
       "      <td></td>\n",
       "      <td>72</td>\n",
       "    </tr>\n",
       "    <tr>\n",
       "      <th>4</th>\n",
       "      <td>GNGGA</td>\n",
       "      <td>042651.000</td>\n",
       "      <td>4741.4548</td>\n",
       "      <td>N</td>\n",
       "      <td>12219.0139</td>\n",
       "      <td>W</td>\n",
       "      <td>1</td>\n",
       "      <td>9</td>\n",
       "      <td>0.92</td>\n",
       "      <td>104.8</td>\n",
       "      <td>M</td>\n",
       "      <td>-17.3</td>\n",
       "      <td>M</td>\n",
       "      <td></td>\n",
       "      <td></td>\n",
       "      <td>7A</td>\n",
       "    </tr>\n",
       "    <tr>\n",
       "      <th>6</th>\n",
       "      <td>GNGGA</td>\n",
       "      <td>042652.000</td>\n",
       "      <td>4741.4546</td>\n",
       "      <td>N</td>\n",
       "      <td>12219.0136</td>\n",
       "      <td>W</td>\n",
       "      <td>1</td>\n",
       "      <td>9</td>\n",
       "      <td>0.92</td>\n",
       "      <td>104.8</td>\n",
       "      <td>M</td>\n",
       "      <td>-17.3</td>\n",
       "      <td>M</td>\n",
       "      <td></td>\n",
       "      <td></td>\n",
       "      <td>78</td>\n",
       "    </tr>\n",
       "  </tbody>\n",
       "</table>\n",
       "</div>"
      ],
      "text/plain": [
       "  nmea_type    UTC_time   latitude NS   longitude EW quality n_satellites  \\\n",
       "0     GNGGA  042649.000  4741.4549  N  12219.0149  W       1            9   \n",
       "2     GNGGA  042650.000  4741.4549  N  12219.0146  W       1            9   \n",
       "4     GNGGA  042651.000  4741.4548  N  12219.0139  W       1            9   \n",
       "6     GNGGA  042652.000  4741.4546  N  12219.0136  W       1            9   \n",
       "\n",
       "  horizontal_dilution altitude  M geoidal_separation  M age_sec_diff diff_id  \\\n",
       "0                0.92    104.9  M              -17.3  M                        \n",
       "2                0.92    104.8  M              -17.3  M                        \n",
       "4                0.92    104.8  M              -17.3  M                        \n",
       "6                0.92    104.8  M              -17.3  M                        \n",
       "\n",
       "  checksum  \n",
       "0       74  \n",
       "2       72  \n",
       "4       7A  \n",
       "6       78  "
      ]
     },
     "execution_count": 23,
     "metadata": {},
     "output_type": "execute_result"
    }
   ],
   "source": [
    "df_gga = df.loc[df.nmea_type == \"GNGGA\"].apply(lambda x: nmea_parse(x.nmea_sentence), axis=1, result_type='expand')\n",
    "df_gga.columns = parser.GGA_columns\n",
    "df_gga"
   ]
  },
  {
   "cell_type": "markdown",
   "metadata": {},
   "source": [
    "#### GSA sentence"
   ]
  },
  {
   "cell_type": "code",
   "execution_count": 24,
   "metadata": {},
   "outputs": [
    {
     "data": {
      "text/html": [
       "<div>\n",
       "<style scoped>\n",
       "    .dataframe tbody tr th:only-of-type {\n",
       "        vertical-align: middle;\n",
       "    }\n",
       "\n",
       "    .dataframe tbody tr th {\n",
       "        vertical-align: top;\n",
       "    }\n",
       "\n",
       "    .dataframe thead th {\n",
       "        text-align: right;\n",
       "    }\n",
       "</style>\n",
       "<table border=\"1\" class=\"dataframe\">\n",
       "  <thead>\n",
       "    <tr style=\"text-align: right;\">\n",
       "      <th></th>\n",
       "      <th>nmea_type</th>\n",
       "      <th>mode</th>\n",
       "      <th>mode_fix</th>\n",
       "      <th>sv0</th>\n",
       "      <th>sv1</th>\n",
       "      <th>sv2</th>\n",
       "      <th>sv3</th>\n",
       "      <th>sv4</th>\n",
       "      <th>sv5</th>\n",
       "      <th>sv6</th>\n",
       "      <th>sv7</th>\n",
       "      <th>sv8</th>\n",
       "      <th>sv9</th>\n",
       "      <th>sv10</th>\n",
       "      <th>sv11</th>\n",
       "      <th>pdop</th>\n",
       "      <th>hdop</th>\n",
       "      <th>vdop</th>\n",
       "      <th>checksum</th>\n",
       "    </tr>\n",
       "  </thead>\n",
       "  <tbody>\n",
       "    <tr>\n",
       "      <th>1</th>\n",
       "      <td>GPGSA</td>\n",
       "      <td>A</td>\n",
       "      <td>3</td>\n",
       "      <td>15</td>\n",
       "      <td>17</td>\n",
       "      <td>14</td>\n",
       "      <td>19</td>\n",
       "      <td>28</td>\n",
       "      <td></td>\n",
       "      <td></td>\n",
       "      <td></td>\n",
       "      <td></td>\n",
       "      <td></td>\n",
       "      <td></td>\n",
       "      <td></td>\n",
       "      <td>1.25</td>\n",
       "      <td>0.92</td>\n",
       "      <td>0.85</td>\n",
       "      <td>07</td>\n",
       "    </tr>\n",
       "    <tr>\n",
       "      <th>3</th>\n",
       "      <td>GPGSA</td>\n",
       "      <td>A</td>\n",
       "      <td>3</td>\n",
       "      <td>15</td>\n",
       "      <td>17</td>\n",
       "      <td>14</td>\n",
       "      <td>19</td>\n",
       "      <td>28</td>\n",
       "      <td></td>\n",
       "      <td></td>\n",
       "      <td></td>\n",
       "      <td></td>\n",
       "      <td></td>\n",
       "      <td></td>\n",
       "      <td></td>\n",
       "      <td>1.25</td>\n",
       "      <td>0.92</td>\n",
       "      <td>0.85</td>\n",
       "      <td>07</td>\n",
       "    </tr>\n",
       "    <tr>\n",
       "      <th>5</th>\n",
       "      <td>GPGSA</td>\n",
       "      <td>A</td>\n",
       "      <td>3</td>\n",
       "      <td>15</td>\n",
       "      <td>17</td>\n",
       "      <td>14</td>\n",
       "      <td>19</td>\n",
       "      <td>28</td>\n",
       "      <td></td>\n",
       "      <td></td>\n",
       "      <td></td>\n",
       "      <td></td>\n",
       "      <td></td>\n",
       "      <td></td>\n",
       "      <td></td>\n",
       "      <td>1.25</td>\n",
       "      <td>0.92</td>\n",
       "      <td>0.85</td>\n",
       "      <td>07</td>\n",
       "    </tr>\n",
       "    <tr>\n",
       "      <th>7</th>\n",
       "      <td>GPGSA</td>\n",
       "      <td>A</td>\n",
       "      <td>3</td>\n",
       "      <td>15</td>\n",
       "      <td>17</td>\n",
       "      <td>14</td>\n",
       "      <td>19</td>\n",
       "      <td>28</td>\n",
       "      <td></td>\n",
       "      <td></td>\n",
       "      <td></td>\n",
       "      <td></td>\n",
       "      <td></td>\n",
       "      <td></td>\n",
       "      <td></td>\n",
       "      <td>1.25</td>\n",
       "      <td>0.92</td>\n",
       "      <td>0.85</td>\n",
       "      <td>07</td>\n",
       "    </tr>\n",
       "  </tbody>\n",
       "</table>\n",
       "</div>"
      ],
      "text/plain": [
       "  nmea_type mode mode_fix sv0 sv1 sv2 sv3 sv4 sv5 sv6 sv7 sv8 sv9 sv10 sv11  \\\n",
       "1     GPGSA    A        3  15  17  14  19  28                                 \n",
       "3     GPGSA    A        3  15  17  14  19  28                                 \n",
       "5     GPGSA    A        3  15  17  14  19  28                                 \n",
       "7     GPGSA    A        3  15  17  14  19  28                                 \n",
       "\n",
       "   pdop  hdop  vdop checksum  \n",
       "1  1.25  0.92  0.85       07  \n",
       "3  1.25  0.92  0.85       07  \n",
       "5  1.25  0.92  0.85       07  \n",
       "7  1.25  0.92  0.85       07  "
      ]
     },
     "execution_count": 24,
     "metadata": {},
     "output_type": "execute_result"
    }
   ],
   "source": [
    "df_gsa = df.loc[df.nmea_type == \"GPGSA\"].apply(lambda x: nmea_parse(x.nmea_sentence), axis=1, result_type='expand')\n",
    "df_gsa.columns = parser.GSA_columns\n",
    "df_gsa"
   ]
  },
  {
   "cell_type": "markdown",
   "metadata": {},
   "source": [
    "Merge metadata onto NMEA data"
   ]
  },
  {
   "cell_type": "code",
   "execution_count": 25,
   "metadata": {},
   "outputs": [
    {
     "data": {
      "text/html": [
       "<div>\n",
       "<style scoped>\n",
       "    .dataframe tbody tr th:only-of-type {\n",
       "        vertical-align: middle;\n",
       "    }\n",
       "\n",
       "    .dataframe tbody tr th {\n",
       "        vertical-align: top;\n",
       "    }\n",
       "\n",
       "    .dataframe thead th {\n",
       "        text-align: right;\n",
       "    }\n",
       "</style>\n",
       "<table border=\"1\" class=\"dataframe\">\n",
       "  <thead>\n",
       "    <tr style=\"text-align: right;\">\n",
       "      <th></th>\n",
       "      <th>std_time_ms</th>\n",
       "      <th>description</th>\n",
       "      <th>sample_n</th>\n",
       "      <th>datetime64_ns</th>\n",
       "    </tr>\n",
       "  </thead>\n",
       "  <tbody>\n",
       "    <tr>\n",
       "      <th>0</th>\n",
       "      <td>2020-12-21 20:26:58.692836</td>\n",
       "      <td>test_1</td>\n",
       "      <td>0</td>\n",
       "      <td>2020-12-21 20:26:58.692836</td>\n",
       "    </tr>\n",
       "    <tr>\n",
       "      <th>2</th>\n",
       "      <td>2020-12-21 20:26:59.718139</td>\n",
       "      <td>test_1</td>\n",
       "      <td>1</td>\n",
       "      <td>2020-12-21 20:26:59.718139</td>\n",
       "    </tr>\n",
       "    <tr>\n",
       "      <th>4</th>\n",
       "      <td>2020-12-21 20:27:00.743499</td>\n",
       "      <td>test_1</td>\n",
       "      <td>2</td>\n",
       "      <td>2020-12-21 20:27:00.743499</td>\n",
       "    </tr>\n",
       "    <tr>\n",
       "      <th>6</th>\n",
       "      <td>2020-12-21 20:27:01.768962</td>\n",
       "      <td>test_1</td>\n",
       "      <td>3</td>\n",
       "      <td>2020-12-21 20:27:01.768962</td>\n",
       "    </tr>\n",
       "  </tbody>\n",
       "</table>\n",
       "</div>"
      ],
      "text/plain": [
       "                  std_time_ms description  sample_n              datetime64_ns\n",
       "0  2020-12-21 20:26:58.692836      test_1         0 2020-12-21 20:26:58.692836\n",
       "2  2020-12-21 20:26:59.718139      test_1         1 2020-12-21 20:26:59.718139\n",
       "4  2020-12-21 20:27:00.743499      test_1         2 2020-12-21 20:27:00.743499\n",
       "6  2020-12-21 20:27:01.768962      test_1         3 2020-12-21 20:27:01.768962"
      ]
     },
     "execution_count": 25,
     "metadata": {},
     "output_type": "execute_result"
    }
   ],
   "source": [
    "df_meta = df.loc[df.nmea_type == \"GNGGA\", [\"std_time_ms\", \"description\", \"sample_n\", \"datetime64_ns\"]]\n",
    "df_meta"
   ]
  },
  {
   "cell_type": "code",
   "execution_count": 26,
   "metadata": {},
   "outputs": [
    {
     "data": {
      "text/html": [
       "<div>\n",
       "<style scoped>\n",
       "    .dataframe tbody tr th:only-of-type {\n",
       "        vertical-align: middle;\n",
       "    }\n",
       "\n",
       "    .dataframe tbody tr th {\n",
       "        vertical-align: top;\n",
       "    }\n",
       "\n",
       "    .dataframe thead th {\n",
       "        text-align: right;\n",
       "    }\n",
       "</style>\n",
       "<table border=\"1\" class=\"dataframe\">\n",
       "  <thead>\n",
       "    <tr style=\"text-align: right;\">\n",
       "      <th></th>\n",
       "      <th>nmea_type</th>\n",
       "      <th>UTC_time</th>\n",
       "      <th>latitude</th>\n",
       "      <th>NS</th>\n",
       "      <th>longitude</th>\n",
       "      <th>EW</th>\n",
       "      <th>quality</th>\n",
       "      <th>n_satellites</th>\n",
       "      <th>horizontal_dilution</th>\n",
       "      <th>altitude</th>\n",
       "      <th>M</th>\n",
       "      <th>geoidal_separation</th>\n",
       "      <th>M</th>\n",
       "      <th>age_sec_diff</th>\n",
       "      <th>diff_id</th>\n",
       "      <th>checksum</th>\n",
       "    </tr>\n",
       "  </thead>\n",
       "  <tbody>\n",
       "    <tr>\n",
       "      <th>0</th>\n",
       "      <td>GNGGA</td>\n",
       "      <td>042649.000</td>\n",
       "      <td>4741.4549</td>\n",
       "      <td>N</td>\n",
       "      <td>12219.0149</td>\n",
       "      <td>W</td>\n",
       "      <td>1</td>\n",
       "      <td>9</td>\n",
       "      <td>0.92</td>\n",
       "      <td>104.9</td>\n",
       "      <td>M</td>\n",
       "      <td>-17.3</td>\n",
       "      <td>M</td>\n",
       "      <td></td>\n",
       "      <td></td>\n",
       "      <td>74</td>\n",
       "    </tr>\n",
       "    <tr>\n",
       "      <th>2</th>\n",
       "      <td>GNGGA</td>\n",
       "      <td>042650.000</td>\n",
       "      <td>4741.4549</td>\n",
       "      <td>N</td>\n",
       "      <td>12219.0146</td>\n",
       "      <td>W</td>\n",
       "      <td>1</td>\n",
       "      <td>9</td>\n",
       "      <td>0.92</td>\n",
       "      <td>104.8</td>\n",
       "      <td>M</td>\n",
       "      <td>-17.3</td>\n",
       "      <td>M</td>\n",
       "      <td></td>\n",
       "      <td></td>\n",
       "      <td>72</td>\n",
       "    </tr>\n",
       "    <tr>\n",
       "      <th>4</th>\n",
       "      <td>GNGGA</td>\n",
       "      <td>042651.000</td>\n",
       "      <td>4741.4548</td>\n",
       "      <td>N</td>\n",
       "      <td>12219.0139</td>\n",
       "      <td>W</td>\n",
       "      <td>1</td>\n",
       "      <td>9</td>\n",
       "      <td>0.92</td>\n",
       "      <td>104.8</td>\n",
       "      <td>M</td>\n",
       "      <td>-17.3</td>\n",
       "      <td>M</td>\n",
       "      <td></td>\n",
       "      <td></td>\n",
       "      <td>7A</td>\n",
       "    </tr>\n",
       "    <tr>\n",
       "      <th>6</th>\n",
       "      <td>GNGGA</td>\n",
       "      <td>042652.000</td>\n",
       "      <td>4741.4546</td>\n",
       "      <td>N</td>\n",
       "      <td>12219.0136</td>\n",
       "      <td>W</td>\n",
       "      <td>1</td>\n",
       "      <td>9</td>\n",
       "      <td>0.92</td>\n",
       "      <td>104.8</td>\n",
       "      <td>M</td>\n",
       "      <td>-17.3</td>\n",
       "      <td>M</td>\n",
       "      <td></td>\n",
       "      <td></td>\n",
       "      <td>78</td>\n",
       "    </tr>\n",
       "  </tbody>\n",
       "</table>\n",
       "</div>"
      ],
      "text/plain": [
       "  nmea_type    UTC_time   latitude NS   longitude EW quality n_satellites  \\\n",
       "0     GNGGA  042649.000  4741.4549  N  12219.0149  W       1            9   \n",
       "2     GNGGA  042650.000  4741.4549  N  12219.0146  W       1            9   \n",
       "4     GNGGA  042651.000  4741.4548  N  12219.0139  W       1            9   \n",
       "6     GNGGA  042652.000  4741.4546  N  12219.0136  W       1            9   \n",
       "\n",
       "  horizontal_dilution altitude  M geoidal_separation  M age_sec_diff diff_id  \\\n",
       "0                0.92    104.9  M              -17.3  M                        \n",
       "2                0.92    104.8  M              -17.3  M                        \n",
       "4                0.92    104.8  M              -17.3  M                        \n",
       "6                0.92    104.8  M              -17.3  M                        \n",
       "\n",
       "  checksum  \n",
       "0       74  \n",
       "2       72  \n",
       "4       7A  \n",
       "6       78  "
      ]
     },
     "execution_count": 26,
     "metadata": {},
     "output_type": "execute_result"
    }
   ],
   "source": [
    "df_gga"
   ]
  },
  {
   "cell_type": "code",
   "execution_count": 27,
   "metadata": {},
   "outputs": [
    {
     "data": {
      "text/html": [
       "<div>\n",
       "<style scoped>\n",
       "    .dataframe tbody tr th:only-of-type {\n",
       "        vertical-align: middle;\n",
       "    }\n",
       "\n",
       "    .dataframe tbody tr th {\n",
       "        vertical-align: top;\n",
       "    }\n",
       "\n",
       "    .dataframe thead th {\n",
       "        text-align: right;\n",
       "    }\n",
       "</style>\n",
       "<table border=\"1\" class=\"dataframe\">\n",
       "  <thead>\n",
       "    <tr style=\"text-align: right;\">\n",
       "      <th></th>\n",
       "      <th>std_time_ms</th>\n",
       "      <th>description</th>\n",
       "      <th>sample_n</th>\n",
       "      <th>datetime64_ns</th>\n",
       "      <th>nmea_type</th>\n",
       "      <th>UTC_time</th>\n",
       "      <th>latitude</th>\n",
       "      <th>NS</th>\n",
       "      <th>longitude</th>\n",
       "      <th>EW</th>\n",
       "      <th>quality</th>\n",
       "      <th>n_satellites</th>\n",
       "      <th>horizontal_dilution</th>\n",
       "      <th>altitude</th>\n",
       "      <th>M</th>\n",
       "      <th>geoidal_separation</th>\n",
       "      <th>M</th>\n",
       "      <th>age_sec_diff</th>\n",
       "      <th>diff_id</th>\n",
       "      <th>checksum</th>\n",
       "    </tr>\n",
       "  </thead>\n",
       "  <tbody>\n",
       "    <tr>\n",
       "      <th>0</th>\n",
       "      <td>2020-12-21 20:26:58.692836</td>\n",
       "      <td>test_1</td>\n",
       "      <td>0</td>\n",
       "      <td>2020-12-21 20:26:58.692836</td>\n",
       "      <td>GNGGA</td>\n",
       "      <td>042649.000</td>\n",
       "      <td>4741.4549</td>\n",
       "      <td>N</td>\n",
       "      <td>12219.0149</td>\n",
       "      <td>W</td>\n",
       "      <td>1</td>\n",
       "      <td>9</td>\n",
       "      <td>0.92</td>\n",
       "      <td>104.9</td>\n",
       "      <td>M</td>\n",
       "      <td>-17.3</td>\n",
       "      <td>M</td>\n",
       "      <td></td>\n",
       "      <td></td>\n",
       "      <td>74</td>\n",
       "    </tr>\n",
       "    <tr>\n",
       "      <th>2</th>\n",
       "      <td>2020-12-21 20:26:59.718139</td>\n",
       "      <td>test_1</td>\n",
       "      <td>1</td>\n",
       "      <td>2020-12-21 20:26:59.718139</td>\n",
       "      <td>GNGGA</td>\n",
       "      <td>042650.000</td>\n",
       "      <td>4741.4549</td>\n",
       "      <td>N</td>\n",
       "      <td>12219.0146</td>\n",
       "      <td>W</td>\n",
       "      <td>1</td>\n",
       "      <td>9</td>\n",
       "      <td>0.92</td>\n",
       "      <td>104.8</td>\n",
       "      <td>M</td>\n",
       "      <td>-17.3</td>\n",
       "      <td>M</td>\n",
       "      <td></td>\n",
       "      <td></td>\n",
       "      <td>72</td>\n",
       "    </tr>\n",
       "    <tr>\n",
       "      <th>4</th>\n",
       "      <td>2020-12-21 20:27:00.743499</td>\n",
       "      <td>test_1</td>\n",
       "      <td>2</td>\n",
       "      <td>2020-12-21 20:27:00.743499</td>\n",
       "      <td>GNGGA</td>\n",
       "      <td>042651.000</td>\n",
       "      <td>4741.4548</td>\n",
       "      <td>N</td>\n",
       "      <td>12219.0139</td>\n",
       "      <td>W</td>\n",
       "      <td>1</td>\n",
       "      <td>9</td>\n",
       "      <td>0.92</td>\n",
       "      <td>104.8</td>\n",
       "      <td>M</td>\n",
       "      <td>-17.3</td>\n",
       "      <td>M</td>\n",
       "      <td></td>\n",
       "      <td></td>\n",
       "      <td>7A</td>\n",
       "    </tr>\n",
       "    <tr>\n",
       "      <th>6</th>\n",
       "      <td>2020-12-21 20:27:01.768962</td>\n",
       "      <td>test_1</td>\n",
       "      <td>3</td>\n",
       "      <td>2020-12-21 20:27:01.768962</td>\n",
       "      <td>GNGGA</td>\n",
       "      <td>042652.000</td>\n",
       "      <td>4741.4546</td>\n",
       "      <td>N</td>\n",
       "      <td>12219.0136</td>\n",
       "      <td>W</td>\n",
       "      <td>1</td>\n",
       "      <td>9</td>\n",
       "      <td>0.92</td>\n",
       "      <td>104.8</td>\n",
       "      <td>M</td>\n",
       "      <td>-17.3</td>\n",
       "      <td>M</td>\n",
       "      <td></td>\n",
       "      <td></td>\n",
       "      <td>78</td>\n",
       "    </tr>\n",
       "  </tbody>\n",
       "</table>\n",
       "</div>"
      ],
      "text/plain": [
       "                  std_time_ms description  sample_n  \\\n",
       "0  2020-12-21 20:26:58.692836      test_1         0   \n",
       "2  2020-12-21 20:26:59.718139      test_1         1   \n",
       "4  2020-12-21 20:27:00.743499      test_1         2   \n",
       "6  2020-12-21 20:27:01.768962      test_1         3   \n",
       "\n",
       "               datetime64_ns nmea_type    UTC_time   latitude NS   longitude  \\\n",
       "0 2020-12-21 20:26:58.692836     GNGGA  042649.000  4741.4549  N  12219.0149   \n",
       "2 2020-12-21 20:26:59.718139     GNGGA  042650.000  4741.4549  N  12219.0146   \n",
       "4 2020-12-21 20:27:00.743499     GNGGA  042651.000  4741.4548  N  12219.0139   \n",
       "6 2020-12-21 20:27:01.768962     GNGGA  042652.000  4741.4546  N  12219.0136   \n",
       "\n",
       "  EW quality n_satellites horizontal_dilution altitude  M geoidal_separation  \\\n",
       "0  W       1            9                0.92    104.9  M              -17.3   \n",
       "2  W       1            9                0.92    104.8  M              -17.3   \n",
       "4  W       1            9                0.92    104.8  M              -17.3   \n",
       "6  W       1            9                0.92    104.8  M              -17.3   \n",
       "\n",
       "   M age_sec_diff diff_id checksum  \n",
       "0  M                            74  \n",
       "2  M                            72  \n",
       "4  M                            7A  \n",
       "6  M                            78  "
      ]
     },
     "execution_count": 27,
     "metadata": {},
     "output_type": "execute_result"
    }
   ],
   "source": [
    "df_final = pd.concat([df_meta, df_gga], axis=1)\n",
    "df_final"
   ]
  },
  {
   "cell_type": "code",
   "execution_count": 28,
   "metadata": {},
   "outputs": [
    {
     "data": {
      "text/plain": [
       "std_time_ms                    object\n",
       "description                    object\n",
       "sample_n                        int64\n",
       "datetime64_ns          datetime64[ns]\n",
       "nmea_type                      object\n",
       "UTC_time                       object\n",
       "latitude                       object\n",
       "NS                             object\n",
       "longitude                      object\n",
       "EW                             object\n",
       "quality                        object\n",
       "n_satellites                   object\n",
       "horizontal_dilution            object\n",
       "altitude                       object\n",
       "M                              object\n",
       "geoidal_separation             object\n",
       "M                              object\n",
       "age_sec_diff                   object\n",
       "diff_id                        object\n",
       "checksum                       object\n",
       "dtype: object"
      ]
     },
     "execution_count": 28,
     "metadata": {},
     "output_type": "execute_result"
    }
   ],
   "source": [
    "df_final.dtypes"
   ]
  },
  {
   "cell_type": "code",
   "execution_count": 29,
   "metadata": {},
   "outputs": [],
   "source": [
    "def gps_dd(coord):\n",
    "    \"\"\"Convert ddmm.mmmm location to dd.dddd\"\"\"\n",
    "    x = coord.split(\".\")\n",
    "    head = x[0]\n",
    "    minute_decimal = x[1]\n",
    "    degree = head[0:-2]\n",
    "    minute = head[-2:]\n",
    "    return float(degree) + float(minute + \".\" + minute_decimal) / 60"
   ]
  },
  {
   "cell_type": "code",
   "execution_count": 30,
   "metadata": {},
   "outputs": [
    {
     "data": {
      "text/plain": [
       "0    47.690915\n",
       "2    47.690915\n",
       "4    47.690913\n",
       "6    47.690910\n",
       "Name: latitude, dtype: float64"
      ]
     },
     "execution_count": 30,
     "metadata": {},
     "output_type": "execute_result"
    }
   ],
   "source": [
    "df_final.latitude.apply(gps_dd)"
   ]
  },
  {
   "cell_type": "markdown",
   "metadata": {},
   "source": [
    "#### JSON Writer Output"
   ]
  },
  {
   "cell_type": "code",
   "execution_count": 31,
   "metadata": {},
   "outputs": [
    {
     "name": "stdout",
     "output_type": "stream",
     "text": [
      "line 0\n",
      "-------\n",
      "{\"description\": \"test_2\", \"sample_n\": 0, \"nmea_sentence\": \"$GNGGA,042653.000,4741.4550,N,12219.0134,W,1,9,0.92,104.8,M,-17.3,M,,*7C\", \"std_time_ms\": \"2020-12-21 20:27:03.664038\"}\n",
      "========================================\n",
      "\n",
      "line 1\n",
      "-------\n",
      "{\"description\": \"test_2\", \"sample_n\": 0, \"nmea_sentence\": \"$GNRMC,042653.000,A,4741.4550,N,12219.0134,W,0.88,0.53,221220,,,A*6E\", \"std_time_ms\": \"2020-12-21 20:27:03.664134\"}\n",
      "========================================\n",
      "\n",
      "line 2\n",
      "-------\n",
      "{\"description\": \"test_2\", \"sample_n\": 1, \"nmea_sentence\": \"$GNGGA,042657.000,4741.4569,N,12219.0153,W,1,9,0.92,104.7,M,-17.3,M,,*7C\", \"std_time_ms\": \"2020-12-21 20:27:05.760124\", \"encoding\": \"utf-8\", \"format\": \"text/json\", \"standard\": \"RFC 8259\", \"line_terminator\": \"\\n\", \"quote_char\": \"\\\"\", \"double_quote\": true, \"escape_char\": \"\\\\\", \"null_sequence\": \"NA\", \"comment\": \"#\", \"metadata\": {\"name\": \"pa1010d\", \"urls\": \"https://www.cdtop-tech.com/products/pa1010d\", \"manufacturer\": \"CDTop Technology\", \"header\": [\"description\", \"sample_n\", \"nmea_sentence\"], \"dtype\": [\"str\", \"int\", \"str\"], \"precision\": \"<3.0 meters\", \"bus_n\": 1, \"bus_addr\": \"0x10\", \"description\": \"Adafruit PA1010D GPS/GNSS module\", \"supported_nmea_sentences\": [\"GGA\", \"GSA\", \"GSV\", \"RMC\", \"VTG\"]}, \"time_source\": \"std_time_ms\", \"time_format\": \"%Y-%m-%d %H:%M:%S.%f\", \"metadata_interval\": 3}\n",
      "========================================\n",
      "\n",
      "line 3\n",
      "-------\n",
      "{\"description\": \"test_2\", \"sample_n\": 1, \"nmea_sentence\": \"$GNRMC,042656.000,A,4741.4557,N,12219.0145,W,3.14,323.11,221220,,,A*68\", \"std_time_ms\": \"2020-12-21 20:27:05.760567\"}\n",
      "========================================\n",
      "\n",
      "line 4\n",
      "-------\n",
      "{\"description\": \"test_2\", \"sample_n\": 2, \"nmea_sentence\": \"$GNGGA,042658.000,4741.4579,N,12219.0164,W,1,7,1.52,104.8,M,-17.3,M,,*7A\", \"std_time_ms\": \"2020-12-21 20:27:07.832926\"}\n",
      "========================================\n",
      "\n",
      "line 5\n",
      "-------\n",
      "{\"description\": \"test_2\", \"sample_n\": 2, \"nmea_sentence\": \"$GNRMC,042657.000,A,4741.4569,N,12219.0153,W,4.20,332.42,221220,,,A*65\", \"std_time_ms\": \"2020-12-21 20:27:07.833061\", \"encoding\": \"utf-8\", \"format\": \"text/json\", \"standard\": \"RFC 8259\", \"line_terminator\": \"\\n\", \"quote_char\": \"\\\"\", \"double_quote\": true, \"escape_char\": \"\\\\\", \"null_sequence\": \"NA\", \"comment\": \"#\", \"metadata\": {\"name\": \"pa1010d\", \"urls\": \"https://www.cdtop-tech.com/products/pa1010d\", \"manufacturer\": \"CDTop Technology\", \"header\": [\"description\", \"sample_n\", \"nmea_sentence\"], \"dtype\": [\"str\", \"int\", \"str\"], \"precision\": \"<3.0 meters\", \"bus_n\": 1, \"bus_addr\": \"0x10\", \"description\": \"Adafruit PA1010D GPS/GNSS module\", \"supported_nmea_sentences\": [\"GGA\", \"GSA\", \"GSV\", \"RMC\", \"VTG\"]}, \"time_source\": \"std_time_ms\", \"time_format\": \"%Y-%m-%d %H:%M:%S.%f\", \"metadata_interval\": 3}\n",
      "========================================\n",
      "\n",
      "line 6\n",
      "-------\n",
      "{\"description\": \"test_2\", \"sample_n\": 3, \"nmea_sentence\": \"$GNGGA,042701.000,4741.4605,N,12219.0183,W,1,9,1.13,105.1,M,-17.3,M,,*75\", \"std_time_ms\": \"2020-12-21 20:27:09.929569\"}\n",
      "========================================\n",
      "\n",
      "line 7\n",
      "-------\n",
      "{\"description\": \"test_2\", \"sample_n\": 3, \"nmea_sentence\": \"$GNRMC,042700.000,A,4741.4601,N,12219.0177,W,3.45,340.65,221220,,,A*69\", \"std_time_ms\": \"2020-12-21 20:27:09.929730\"}\n",
      "========================================\n",
      "\n",
      "line 8\n",
      "-------\n",
      "{\"description\": \"test_2\", \"sample_n\": 4, \"nmea_sentence\": \"$GNGGA,042702.000,4741.4607,N,12219.0196,W,1,9,1.13,105.3,M,-17.3,M,,*72\", \"std_time_ms\": \"2020-12-21 20:27:11.979222\", \"encoding\": \"utf-8\", \"format\": \"text/json\", \"standard\": \"RFC 8259\", \"line_terminator\": \"\\n\", \"quote_char\": \"\\\"\", \"double_quote\": true, \"escape_char\": \"\\\\\", \"null_sequence\": \"NA\", \"comment\": \"#\", \"metadata\": {\"name\": \"pa1010d\", \"urls\": \"https://www.cdtop-tech.com/products/pa1010d\", \"manufacturer\": \"CDTop Technology\", \"header\": [\"description\", \"sample_n\", \"nmea_sentence\"], \"dtype\": [\"str\", \"int\", \"str\"], \"precision\": \"<3.0 meters\", \"bus_n\": 1, \"bus_addr\": \"0x10\", \"description\": \"Adafruit PA1010D GPS/GNSS module\", \"supported_nmea_sentences\": [\"GGA\", \"GSA\", \"GSV\", \"RMC\", \"VTG\"]}, \"time_source\": \"std_time_ms\", \"time_format\": \"%Y-%m-%d %H:%M:%S.%f\", \"metadata_interval\": 3}\n",
      "========================================\n",
      "\n",
      "line 9\n",
      "-------\n",
      "{\"description\": \"test_2\", \"sample_n\": 4, \"nmea_sentence\": \"$GNRMC,042701.000,A,4741.4605,N,12219.0183,W,2.24,332.64,221220,,,A*65\", \"std_time_ms\": \"2020-12-21 20:27:11.979646\"}\n",
      "========================================\n",
      "\n",
      "line 10\n",
      "-------\n",
      "{\"description\": \"test_2\", \"sample_n\": 5, \"nmea_sentence\": \"$GNGGA,042705.000,4741.4625,N,12219.0229,W,1,8,1.21,105.9,M,-17.3,M,,*78\", \"std_time_ms\": \"2020-12-21 20:27:14.146204\"}\n",
      "========================================\n",
      "\n",
      "line 11\n",
      "-------\n",
      "{\"description\": \"test_2\", \"sample_n\": 5, \"nmea_sentence\": \"$GNRMC,042704.000,A,4741.4623,N,12219.0229,W,3.24,292.88,221220,,,A*6F\", \"std_time_ms\": \"2020-12-21 20:27:14.146364\", \"encoding\": \"utf-8\", \"format\": \"text/json\", \"standard\": \"RFC 8259\", \"line_terminator\": \"\\n\", \"quote_char\": \"\\\"\", \"double_quote\": true, \"escape_char\": \"\\\\\", \"null_sequence\": \"NA\", \"comment\": \"#\", \"metadata\": {\"name\": \"pa1010d\", \"urls\": \"https://www.cdtop-tech.com/products/pa1010d\", \"manufacturer\": \"CDTop Technology\", \"header\": [\"description\", \"sample_n\", \"nmea_sentence\"], \"dtype\": [\"str\", \"int\", \"str\"], \"precision\": \"<3.0 meters\", \"bus_n\": 1, \"bus_addr\": \"0x10\", \"description\": \"Adafruit PA1010D GPS/GNSS module\", \"supported_nmea_sentences\": [\"GGA\", \"GSA\", \"GSV\", \"RMC\", \"VTG\"]}, \"time_source\": \"std_time_ms\", \"time_format\": \"%Y-%m-%d %H:%M:%S.%f\", \"metadata_interval\": 3}\n",
      "========================================\n",
      "\n",
      "line 12\n",
      "-------\n",
      "{\"description\": \"test_2\", \"sample_n\": 6, \"nmea_sentence\": \"$GNGGA,042706.000,4741.4633,N,12219.0236,W,1,9,1.13,106.1,M,-17.3,M,,*79\", \"std_time_ms\": \"2020-12-21 20:27:16.172145\"}\n",
      "========================================\n",
      "\n",
      "line 13\n",
      "-------\n",
      "{\"description\": \"test_2\", \"sample_n\": 6, \"nmea_sentence\": \"$GNRMC,042705.000,A,4741.4625,N,12219.0229,W,2.21,287.40,221220,,,A*6C\", \"std_time_ms\": \"2020-12-21 20:27:16.172227\"}\n",
      "========================================\n",
      "\n"
     ]
    }
   ],
   "source": [
    "gps.json_writer.metadata_interval = 3\n",
    "data = gps.publish(description=\"test_2\", n=7, nmea_sentences=['GGA', 'RMC'], delay=2)\n",
    "for n, d in enumerate(data):\n",
    "    #print(d)\n",
    "    #print(\"-\"*40)\n",
    "    print('line {}'.format(n))\n",
    "    print('-------')\n",
    "    print(d)\n",
    "    print(\"=\"*40)\n",
    "    print()"
   ]
  },
  {
   "cell_type": "code",
   "execution_count": 32,
   "metadata": {},
   "outputs": [],
   "source": [
    "# default writer format is CSV, switch to JSON\n",
    "gps.writer_output = 'json'"
   ]
  },
  {
   "cell_type": "code",
   "execution_count": 33,
   "metadata": {},
   "outputs": [],
   "source": [
    "# writer method with description and sample number\n",
    "gps.write(description='test_3', n=15, nmea_sentences=['GGA', 'GSA'])"
   ]
  },
  {
   "cell_type": "code",
   "execution_count": 34,
   "metadata": {},
   "outputs": [
    {
     "name": "stdout",
     "output_type": "stream",
     "text": [
      "line 0\n",
      "-------\n",
      "{\"description\": \"test_3\", \"sample_n\": 0, \"nmea_sentence\": \"\\\"$GNGGA,042708.000,4741.4639,N,12219.0244,W,1,8,1.21,106.4,M,-17.3,M,,*7D\\\"\", \"std_time_ms\": \"2020-12-21 20:27:18.407032\"}\n",
      "\n",
      "========================================\n",
      "\n",
      "line 1\n",
      "-------\n",
      "{\"description\": \"test_3\", \"sample_n\": 0, \"nmea_sentence\": \"\\\"$GPGSA,A,3,15,17,19,28,,,,,,,,,1.48,1.21,0.84*01\\\"\", \"std_time_ms\": \"2020-12-21 20:27:18.407392\"}\n",
      "\n",
      "========================================\n",
      "\n",
      "line 2\n",
      "-------\n",
      "{\"description\": \"test_3\", \"sample_n\": 1, \"nmea_sentence\": \"\\\"$GNGGA,042709.000,4741.4644,N,12219.0254,W,1,8,1.21,106.6,M,-17.3,M,,*75\\\"\", \"std_time_ms\": \"2020-12-21 20:27:18.454170\", \"encoding\": \"utf-8\", \"format\": \"text/json\", \"standard\": \"RFC 8259\", \"line_terminator\": \"\\n\", \"quote_char\": \"\\\"\", \"double_quote\": true, \"escape_char\": \"\\\\\", \"null_sequence\": \"NA\", \"comment\": \"#\", \"metadata\": {\"name\": \"pa1010d\", \"urls\": \"https://www.cdtop-tech.com/products/pa1010d\", \"manufacturer\": \"CDTop Technology\", \"header\": [\"description\", \"sample_n\", \"nmea_sentence\"], \"dtype\": [\"str\", \"int\", \"str\"], \"precision\": \"<3.0 meters\", \"bus_n\": 1, \"bus_addr\": \"0x10\", \"description\": \"Adafruit PA1010D GPS/GNSS module\", \"supported_nmea_sentences\": [\"GGA\", \"GSA\", \"GSV\", \"RMC\", \"VTG\"]}, \"path\": \"2020_12_21_20_27_18_pa1010d.jsontxt\", \"time_source\": \"std_time_ms\", \"time_format\": \"%Y-%m-%d %H:%M:%S.%f\", \"metadata_interval\": 3}\n",
      "\n",
      "========================================\n",
      "\n",
      "line 3\n",
      "-------\n",
      "{\"description\": \"test_3\", \"sample_n\": 1, \"nmea_sentence\": \"\\\"$GPGSA,A,3,15,17,19,28,,,,,,,,,1.48,1.21,0.84*01\\\"\", \"std_time_ms\": \"2020-12-21 20:27:18.454516\"}\n",
      "\n",
      "========================================\n",
      "\n"
     ]
    }
   ],
   "source": [
    "with open(gps.json_writer.path, 'r') as f:\n",
    "    for n in range(4):\n",
    "        #print(f.readline().strip())\n",
    "        print('line {}'.format(n))\n",
    "        print('-------')\n",
    "        print(f.readline())\n",
    "        print(\"=\"*40)\n",
    "        print()"
   ]
  },
  {
   "cell_type": "code",
   "execution_count": 35,
   "metadata": {},
   "outputs": [],
   "source": [
    "data = []\n",
    "h = \"\"\n",
    "with open(gps.json_writer.path, 'r') as f:\n",
    "    for _ in range(15):\n",
    "        s = f.readline().strip()\n",
    "        js = json.loads(s)\n",
    "        if \"metadata\" in js.keys():\n",
    "            h = [js['time_source']] + js['metadata']['header']\n",
    "        data.append([js['std_time_ms'] , js['description'], js['sample_n'], js['nmea_sentence']])"
   ]
  },
  {
   "cell_type": "code",
   "execution_count": 36,
   "metadata": {},
   "outputs": [
    {
     "data": {
      "text/plain": [
       "['std_time_ms', 'description', 'sample_n', 'nmea_sentence']"
      ]
     },
     "execution_count": 36,
     "metadata": {},
     "output_type": "execute_result"
    }
   ],
   "source": [
    "h"
   ]
  },
  {
   "cell_type": "code",
   "execution_count": 37,
   "metadata": {},
   "outputs": [
    {
     "data": {
      "text/html": [
       "<div>\n",
       "<style scoped>\n",
       "    .dataframe tbody tr th:only-of-type {\n",
       "        vertical-align: middle;\n",
       "    }\n",
       "\n",
       "    .dataframe tbody tr th {\n",
       "        vertical-align: top;\n",
       "    }\n",
       "\n",
       "    .dataframe thead th {\n",
       "        text-align: right;\n",
       "    }\n",
       "</style>\n",
       "<table border=\"1\" class=\"dataframe\">\n",
       "  <thead>\n",
       "    <tr style=\"text-align: right;\">\n",
       "      <th></th>\n",
       "      <th>std_time_ms</th>\n",
       "      <th>description</th>\n",
       "      <th>sample_n</th>\n",
       "      <th>nmea_sentence</th>\n",
       "    </tr>\n",
       "  </thead>\n",
       "  <tbody>\n",
       "    <tr>\n",
       "      <th>0</th>\n",
       "      <td>2020-12-21 20:27:18.407032</td>\n",
       "      <td>test_3</td>\n",
       "      <td>0</td>\n",
       "      <td>\"$GNGGA,042708.000,4741.4639,N,12219.0244,W,1,8,1.21,106.4,M,-17.3,M,,*7D\"</td>\n",
       "    </tr>\n",
       "    <tr>\n",
       "      <th>1</th>\n",
       "      <td>2020-12-21 20:27:18.407392</td>\n",
       "      <td>test_3</td>\n",
       "      <td>0</td>\n",
       "      <td>\"$GPGSA,A,3,15,17,19,28,,,,,,,,,1.48,1.21,0.84*01\"</td>\n",
       "    </tr>\n",
       "    <tr>\n",
       "      <th>2</th>\n",
       "      <td>2020-12-21 20:27:18.454170</td>\n",
       "      <td>test_3</td>\n",
       "      <td>1</td>\n",
       "      <td>\"$GNGGA,042709.000,4741.4644,N,12219.0254,W,1,8,1.21,106.6,M,-17.3,M,,*75\"</td>\n",
       "    </tr>\n",
       "    <tr>\n",
       "      <th>3</th>\n",
       "      <td>2020-12-21 20:27:18.454516</td>\n",
       "      <td>test_3</td>\n",
       "      <td>1</td>\n",
       "      <td>\"$GPGSA,A,3,15,17,19,28,,,,,,,,,1.48,1.21,0.84*01\"</td>\n",
       "    </tr>\n",
       "    <tr>\n",
       "      <th>4</th>\n",
       "      <td>2020-12-21 20:27:18.547746</td>\n",
       "      <td>test_3</td>\n",
       "      <td>2</td>\n",
       "      <td>\"$GNGGA,042711.000,4741.4647,N,12219.0264,W,1,8,1.21,107.0,M,-17.3,M,,*7B\"</td>\n",
       "    </tr>\n",
       "    <tr>\n",
       "      <th>5</th>\n",
       "      <td>2020-12-21 20:27:18.547941</td>\n",
       "      <td>test_3</td>\n",
       "      <td>2</td>\n",
       "      <td>\"$GLGSA,A,3,82,80,73,84,,,,,,,,,1.48,1.21,0.84*17\"</td>\n",
       "    </tr>\n",
       "    <tr>\n",
       "      <th>6</th>\n",
       "      <td>2020-12-21 20:27:18.734311</td>\n",
       "      <td>test_3</td>\n",
       "      <td>3</td>\n",
       "      <td>\"$GNGGA,042713.000,4741.4651,N,12219.0269,W,1,8,1.16,107.2,M,-17.3,M,,*75\"</td>\n",
       "    </tr>\n",
       "    <tr>\n",
       "      <th>7</th>\n",
       "      <td>2020-12-21 20:27:18.734524</td>\n",
       "      <td>test_3</td>\n",
       "      <td>3</td>\n",
       "      <td>\"$GPGSA,A,3,15,17,14,19,28,,,,,,,,1.44,1.16,0.85*0D\"</td>\n",
       "    </tr>\n",
       "    <tr>\n",
       "      <th>8</th>\n",
       "      <td>2020-12-21 20:27:18.874270</td>\n",
       "      <td>test_3</td>\n",
       "      <td>4</td>\n",
       "      <td>\"$GNGGA,042715.000,4741.4657,N,12219.0280,W,1,8,1.16,107.6,M,-17.3,M,,*76\"</td>\n",
       "    </tr>\n",
       "    <tr>\n",
       "      <th>9</th>\n",
       "      <td>2020-12-21 20:27:18.874586</td>\n",
       "      <td>test_3</td>\n",
       "      <td>4</td>\n",
       "      <td>\"$GLGSA,A,3,82,80,84,,,,,,,,,,1.44,1.16,0.85*1A\"</td>\n",
       "    </tr>\n",
       "    <tr>\n",
       "      <th>10</th>\n",
       "      <td>2020-12-21 20:27:19.061752</td>\n",
       "      <td>test_3</td>\n",
       "      <td>5</td>\n",
       "      <td>\"$GNGGA,042718.000,4741.4664,N,12219.0291,W,1,9,1.04,108.0,M,-17.3,M,,*70\"</td>\n",
       "    </tr>\n",
       "    <tr>\n",
       "      <th>11</th>\n",
       "      <td>2020-12-21 20:27:19.062193</td>\n",
       "      <td>test_3</td>\n",
       "      <td>5</td>\n",
       "      <td>\"$GPGSA,A,3,15,17,24,14,19,28,,,,,,,1.34,1.04,0.84*0E\"</td>\n",
       "    </tr>\n",
       "    <tr>\n",
       "      <th>12</th>\n",
       "      <td>2020-12-21 20:27:19.275389</td>\n",
       "      <td>test_3</td>\n",
       "      <td>6</td>\n",
       "      <td>\"$GNGGA,042719.000,4741.4671,N,12219.0295,W,1,7,1.24,108.1,M,-17.3,M,,*7C\"</td>\n",
       "    </tr>\n",
       "    <tr>\n",
       "      <th>13</th>\n",
       "      <td>2020-12-21 20:27:19.275821</td>\n",
       "      <td>test_3</td>\n",
       "      <td>6</td>\n",
       "      <td>\"$GLGSA,A,3,82,80,84,,,,,,,,,,1.52,1.24,0.88*11\"</td>\n",
       "    </tr>\n",
       "    <tr>\n",
       "      <th>14</th>\n",
       "      <td>2020-12-21 20:27:20.291600</td>\n",
       "      <td>test_3</td>\n",
       "      <td>7</td>\n",
       "      <td>\"$GNGGA,042720.000,4741.4671,N,12219.0288,W,1,7,1.24,108.2,M,-17.3,M,,*79\"</td>\n",
       "    </tr>\n",
       "  </tbody>\n",
       "</table>\n",
       "</div>"
      ],
      "text/plain": [
       "                   std_time_ms description  sample_n  \\\n",
       "0   2020-12-21 20:27:18.407032      test_3         0   \n",
       "1   2020-12-21 20:27:18.407392      test_3         0   \n",
       "2   2020-12-21 20:27:18.454170      test_3         1   \n",
       "3   2020-12-21 20:27:18.454516      test_3         1   \n",
       "4   2020-12-21 20:27:18.547746      test_3         2   \n",
       "5   2020-12-21 20:27:18.547941      test_3         2   \n",
       "6   2020-12-21 20:27:18.734311      test_3         3   \n",
       "7   2020-12-21 20:27:18.734524      test_3         3   \n",
       "8   2020-12-21 20:27:18.874270      test_3         4   \n",
       "9   2020-12-21 20:27:18.874586      test_3         4   \n",
       "10  2020-12-21 20:27:19.061752      test_3         5   \n",
       "11  2020-12-21 20:27:19.062193      test_3         5   \n",
       "12  2020-12-21 20:27:19.275389      test_3         6   \n",
       "13  2020-12-21 20:27:19.275821      test_3         6   \n",
       "14  2020-12-21 20:27:20.291600      test_3         7   \n",
       "\n",
       "                                                                 nmea_sentence  \n",
       "0   \"$GNGGA,042708.000,4741.4639,N,12219.0244,W,1,8,1.21,106.4,M,-17.3,M,,*7D\"  \n",
       "1                           \"$GPGSA,A,3,15,17,19,28,,,,,,,,,1.48,1.21,0.84*01\"  \n",
       "2   \"$GNGGA,042709.000,4741.4644,N,12219.0254,W,1,8,1.21,106.6,M,-17.3,M,,*75\"  \n",
       "3                           \"$GPGSA,A,3,15,17,19,28,,,,,,,,,1.48,1.21,0.84*01\"  \n",
       "4   \"$GNGGA,042711.000,4741.4647,N,12219.0264,W,1,8,1.21,107.0,M,-17.3,M,,*7B\"  \n",
       "5                           \"$GLGSA,A,3,82,80,73,84,,,,,,,,,1.48,1.21,0.84*17\"  \n",
       "6   \"$GNGGA,042713.000,4741.4651,N,12219.0269,W,1,8,1.16,107.2,M,-17.3,M,,*75\"  \n",
       "7                         \"$GPGSA,A,3,15,17,14,19,28,,,,,,,,1.44,1.16,0.85*0D\"  \n",
       "8   \"$GNGGA,042715.000,4741.4657,N,12219.0280,W,1,8,1.16,107.6,M,-17.3,M,,*76\"  \n",
       "9                             \"$GLGSA,A,3,82,80,84,,,,,,,,,,1.44,1.16,0.85*1A\"  \n",
       "10  \"$GNGGA,042718.000,4741.4664,N,12219.0291,W,1,9,1.04,108.0,M,-17.3,M,,*70\"  \n",
       "11                      \"$GPGSA,A,3,15,17,24,14,19,28,,,,,,,1.34,1.04,0.84*0E\"  \n",
       "12  \"$GNGGA,042719.000,4741.4671,N,12219.0295,W,1,7,1.24,108.1,M,-17.3,M,,*7C\"  \n",
       "13                            \"$GLGSA,A,3,82,80,84,,,,,,,,,,1.52,1.24,0.88*11\"  \n",
       "14  \"$GNGGA,042720.000,4741.4671,N,12219.0288,W,1,7,1.24,108.2,M,-17.3,M,,*79\"  "
      ]
     },
     "execution_count": 37,
     "metadata": {},
     "output_type": "execute_result"
    }
   ],
   "source": [
    "pd.DataFrame(data, columns=h)"
   ]
  }
 ],
 "metadata": {
  "kernelspec": {
   "display_name": "Python 3",
   "language": "python",
   "name": "python3"
  },
  "language_info": {
   "codemirror_mode": {
    "name": "ipython",
    "version": 3
   },
   "file_extension": ".py",
   "mimetype": "text/x-python",
   "name": "python",
   "nbconvert_exporter": "python",
   "pygments_lexer": "ipython3",
   "version": "3.7.3"
  }
 },
 "nbformat": 4,
 "nbformat_minor": 4
}
