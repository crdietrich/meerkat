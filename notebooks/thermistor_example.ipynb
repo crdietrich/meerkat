{
 "cells": [
  {
   "cell_type": "code",
   "execution_count": 1,
   "metadata": {},
   "outputs": [],
   "source": [
    "import matplotlib.pyplot as plt\n",
    "\n",
    "from meerkat import thermistor"
   ]
  },
  {
   "cell_type": "markdown",
   "metadata": {},
   "source": [
    "### I. Online Example  \n",
    "Following these calculations:  \n",
    "http://www.signalpro.biz/steinhart.pdf"
   ]
  },
  {
   "cell_type": "code",
   "execution_count": 2,
   "metadata": {},
   "outputs": [],
   "source": [
    "# Example Thermistor Values\n",
    "t1 = 43.33\n",
    "r1 = 4.664 * 1000\n",
    "t2 = 10\n",
    "r2 = 19.900 * 1000\n",
    "t3 = -3.9\n",
    "r3 = 39.919 * 1000"
   ]
  },
  {
   "cell_type": "code",
   "execution_count": 3,
   "metadata": {},
   "outputs": [
    {
     "data": {
      "text/plain": [
       "[[1, 8.447628728030327, 602.8433232875175, 0.0031597573306370074],\n",
       " [1, 9.898475010712584, 969.8506764663667, 0.003531696980399082],\n",
       " [1, 10.59460768001144, 1189.1992812737158, 0.003714020427112349]]"
      ]
     },
     "execution_count": 3,
     "metadata": {},
     "output_type": "execute_result"
    }
   ],
   "source": [
    "A = thermistor.compose_array(t1, t2, t3, r1, r2, r3)\n",
    "A"
   ]
  },
  {
   "cell_type": "code",
   "execution_count": 4,
   "metadata": {},
   "outputs": [
    {
     "name": "stdout",
     "output_type": "stream",
     "text": [
      "  A            B            C\n",
      "['1.131E-03', '2.338E-04', '8.930E-08']\n"
     ]
    }
   ],
   "source": [
    "abc = thermistor.gauss(A)\n",
    "print('  A            B            C')\n",
    "print(['{:>4.3E}'.format(x) for x in abc])"
   ]
  },
  {
   "cell_type": "markdown",
   "metadata": {},
   "source": [
    "Which is basically correct.  Note there is a transcription error where ln(R3)\\**3 = 1188.994 is copied to 1199.004 and the 1199 value used for the remaining calculations - so a2 is a little different since 1188 is used here.  They calculated:  \n",
    "```\n",
    "a0 = 1.133E-3\n",
    "a1 = 2.334E-4\n",
    "a2 = 9.056E-8\n",
    "```"
   ]
  },
  {
   "cell_type": "markdown",
   "metadata": {},
   "source": [
    "### II. Semitec 103AT-2 Calibration Check  \n",
    "https://www.thinksrs.com/downloads/programs/therm%20calc/ntccalibrator/ntccalculator.html  "
   ]
  },
  {
   "cell_type": "code",
   "execution_count": 5,
   "metadata": {},
   "outputs": [],
   "source": [
    "# 103AT Thermistor Values from the datasheet, r values are listed as kohms\n",
    "t1 = 10\n",
    "r1 = 17.96 * 1000\n",
    "t2 = 20\n",
    "r2 = 12.09 * 1000\n",
    "t3 = 40\n",
    "r3 = 5.827 * 1000\n",
    "test_t = 30\n",
    "test_r = 8.313 * 1000"
   ]
  },
  {
   "cell_type": "code",
   "execution_count": 6,
   "metadata": {},
   "outputs": [],
   "source": [
    "A = thermistor.compose_array(t1, t2, t3, r1, r2, r3)"
   ]
  },
  {
   "cell_type": "code",
   "execution_count": 7,
   "metadata": {},
   "outputs": [
    {
     "name": "stdout",
     "output_type": "stream",
     "text": [
      "  A            B            C\n",
      "['8.828E-04', '2.523E-04', '1.884E-07']\n"
     ]
    }
   ],
   "source": [
    "abc = thermistor.gauss(A)\n",
    "print('  A            B            C')\n",
    "print(['{:>4.3E}'.format(x) for x in abc])"
   ]
  },
  {
   "cell_type": "code",
   "execution_count": 8,
   "metadata": {},
   "outputs": [
    {
     "name": "stdout",
     "output_type": "stream",
     "text": [
      "  Expected Temperature: 30.000000 C\n",
      "Calculated Temperature: 29.996098 C\n"
     ]
    }
   ],
   "source": [
    "tC = thermistor.steinhart_hart(test_r, *abc)\n",
    "print('  Expected Temperature: {:6.6f} C'.format(test_t))\n",
    "print('Calculated Temperature: {:6.6f} C'.format(tC))"
   ]
  },
  {
   "cell_type": "markdown",
   "metadata": {},
   "source": [
    "### III. Semitec 103AT Measurement"
   ]
  },
  {
   "cell_type": "code",
   "execution_count": 9,
   "metadata": {},
   "outputs": [],
   "source": [
    "# measured with AD1115, warm room temperature ~26C\n",
    "Rt = 9087.890966276429"
   ]
  },
  {
   "cell_type": "code",
   "execution_count": 10,
   "metadata": {},
   "outputs": [],
   "source": [
    "s103AT = thermistor.Semitec103AT()"
   ]
  },
  {
   "cell_type": "code",
   "execution_count": 11,
   "metadata": {},
   "outputs": [
    {
     "data": {
      "image/png": "[encoded data removed]",
      "text/plain": [
       "<Figure size 432x288 with 1 Axes>"
      ]
     },
     "metadata": {},
     "output_type": "display_data"
    }
   ],
   "source": [
    "plt.plot(s103AT.cal_ts, s103AT.cal_rs, label='Datasheet Calibration');\n",
    "plt.axhline(Rt, color='r', label='Measured')\n",
    "plt.xlabel('Temperature in degrees C');\n",
    "plt.ylabel('Resistance in kilo Ohms');\n",
    "plt.legend();"
   ]
  },
  {
   "cell_type": "markdown",
   "metadata": {},
   "source": [
    "#### 1. Find nearest coefficients to the measured resistance"
   ]
  },
  {
   "cell_type": "code",
   "execution_count": 12,
   "metadata": {},
   "outputs": [],
   "source": [
    "A = thermistor.compose_array(*s103AT.find_nearest(Rt))"
   ]
  },
  {
   "cell_type": "code",
   "execution_count": 13,
   "metadata": {},
   "outputs": [
    {
     "name": "stdout",
     "output_type": "stream",
     "text": [
      "['1.041E-03', '2.262E-04', '2.934E-07']\n"
     ]
    }
   ],
   "source": [
    "abc = thermistor.gauss(A)\n",
    "print(['{:>4.3E}'.format(x) for x in abc])"
   ]
  },
  {
   "cell_type": "code",
   "execution_count": 14,
   "metadata": {},
   "outputs": [
    {
     "name": "stdout",
     "output_type": "stream",
     "text": [
      "Measured temperature: 27.573637 C\n"
     ]
    }
   ],
   "source": [
    "tC = thermistor.steinhart_hart(Rt, *abc)\n",
    "print('Measured temperature: {:6.6f} C'.format(tC))"
   ]
  },
  {
   "cell_type": "markdown",
   "metadata": {},
   "source": [
    "#### 2. Find range and midpoint coefficients given a temperature range"
   ]
  },
  {
   "cell_type": "code",
   "execution_count": 15,
   "metadata": {},
   "outputs": [],
   "source": [
    "A = thermistor.compose_array(*s103AT.find_hi_low(0, 100))"
   ]
  },
  {
   "cell_type": "code",
   "execution_count": 16,
   "metadata": {},
   "outputs": [
    {
     "name": "stdout",
     "output_type": "stream",
     "text": [
      "['8.785E-04', '2.530E-04', '1.862E-07']\n"
     ]
    }
   ],
   "source": [
    "abc = thermistor.gauss(A)\n",
    "print(['{:>4.3E}'.format(x) for x in abc])"
   ]
  },
  {
   "cell_type": "code",
   "execution_count": 17,
   "metadata": {},
   "outputs": [
    {
     "name": "stdout",
     "output_type": "stream",
     "text": [
      "Measured temperature: 27.558316 C\n"
     ]
    }
   ],
   "source": [
    "tC = thermistor.steinhart_hart(Rt, *abc)\n",
    "print('Measured temperature: {:6.6f} C'.format(tC))"
   ]
  },
  {
   "cell_type": "markdown",
   "metadata": {},
   "source": [
    "Note, that with a wider temperature range the equation fit will change."
   ]
  }
 ],
 "metadata": {
  "kernelspec": {
   "display_name": "Python 3",
   "language": "python",
   "name": "python3"
  },
  "language_info": {
   "codemirror_mode": {
    "name": "ipython",
    "version": 3
   },
   "file_extension": ".py",
   "mimetype": "text/x-python",
   "name": "python",
   "nbconvert_exporter": "python",
   "pygments_lexer": "ipython3",
   "version": "3.6.4"
  }
 },
 "nbformat": 4,
 "nbformat_minor": 2
}
