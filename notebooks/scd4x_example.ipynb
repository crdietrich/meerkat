{
 "cells": [
  {
   "cell_type": "markdown",
   "metadata": {},
   "source": [
    "## Sensiron SCD4x CO2 Sensor  \n",
    "The SCD4x is a gas sensor that uses photoacoustic sensing to determine CO2 gas concentration in air. The sensor also measures temperature and relative humidty.\n",
    "\n",
    "Manufacturer Link: https://www.sensirion.com/en/environmental-sensors/carbon-dioxide-sensors/carbon-dioxide-sensor-scd4x/  \n",
    "\n",
    "Breakout Board Used: https://www.sensirion.com/en/environmental-sensors/evaluation-kit-sek-environmental-sensing/evaluation-kit-sek-scd41/"
   ]
  },
  {
   "cell_type": "code",
   "execution_count": 1,
   "metadata": {},
   "outputs": [],
   "source": [
    "from meerkat import scd4x\n",
    "from meerkat.base import time\n",
    "\n",
    "from importlib import reload"
   ]
  },
  {
   "cell_type": "code",
   "execution_count": 2,
   "metadata": {},
   "outputs": [],
   "source": [
    "co2 = scd4x.SCD4x(bus_n=1)"
   ]
  },
  {
   "cell_type": "code",
   "execution_count": 3,
   "metadata": {},
   "outputs": [
    {
     "data": {
      "text/plain": [
       "\u001b[0;31mSignature:\u001b[0m \u001b[0mco2\u001b[0m\u001b[0;34m.\u001b[0m\u001b[0mget_serial_number\u001b[0m\u001b[0;34m(\u001b[0m\u001b[0;34m)\u001b[0m\u001b[0;34m\u001b[0m\u001b[0;34m\u001b[0m\u001b[0m\n",
       "\u001b[0;31mDocstring:\u001b[0m\n",
       "Read the serial number to identify the chip and \n",
       "verify presense of the sensor. See Ch 3.9.2\n",
       "\u001b[0;31mFile:\u001b[0m      ~/code/meerkat/meerkat/scd4x.py\n",
       "\u001b[0;31mType:\u001b[0m      method\n"
      ]
     },
     "metadata": {},
     "output_type": "display_data"
    }
   ],
   "source": [
    "co2.get_serial_number?"
   ]
  },
  {
   "cell_type": "code",
   "execution_count": 4,
   "metadata": {},
   "outputs": [
    {
     "data": {
      "text/plain": [
       "249163384568596"
      ]
     },
     "execution_count": 4,
     "metadata": {},
     "output_type": "execute_result"
    }
   ],
   "source": [
    "co2.get_serial_number()"
   ]
  },
  {
   "cell_type": "code",
   "execution_count": 9,
   "metadata": {},
   "outputs": [
    {
     "data": {
      "text/plain": [
       "\u001b[0;31mSignature:\u001b[0m \u001b[0mco2\u001b[0m\u001b[0;34m.\u001b[0m\u001b[0mperform_self_test\u001b[0m\u001b[0;34m(\u001b[0m\u001b[0;34m)\u001b[0m\u001b[0;34m\u001b[0m\u001b[0;34m\u001b[0m\u001b[0m\n",
       "\u001b[0;31mDocstring:\u001b[0m\n",
       "Perform a self test as an end-of-line test to check sensor\n",
       "functionality and the power supply to the sensor. See Ch 3.9.3\n",
       "\u001b[0;31mFile:\u001b[0m      ~/code/meerkat/meerkat/scd4x.py\n",
       "\u001b[0;31mType:\u001b[0m      method\n"
      ]
     },
     "metadata": {},
     "output_type": "display_data"
    }
   ],
   "source": [
    "co2.perform_self_test?"
   ]
  },
  {
   "cell_type": "raw",
   "metadata": {},
   "source": [
    "co2.perform_self_test()"
   ]
  },
  {
   "cell_type": "code",
   "execution_count": 10,
   "metadata": {},
   "outputs": [
    {
     "data": {
      "text/plain": [
       "\u001b[0;31mSignature:\u001b[0m \u001b[0mco2\u001b[0m\u001b[0;34m.\u001b[0m\u001b[0mmeasure_single_shot_blocking\u001b[0m\u001b[0;34m(\u001b[0m\u001b[0;34m)\u001b[0m\u001b[0;34m\u001b[0m\u001b[0;34m\u001b[0m\u001b[0m\n",
       "\u001b[0;31mDocstring:\u001b[0m\n",
       "On-demand measurement of CO2 concentration, relative humidity \n",
       "and temperature. See Ch 3.10.1\n",
       "\n",
       "Returns\n",
       "-------\n",
       "co2 : int, CO2 concentration in ppm\n",
       "t : float, temperature in degrees Celsius\n",
       "rh : int, relative humidity in percent\n",
       "\u001b[0;31mFile:\u001b[0m      ~/code/meerkat/meerkat/scd4x.py\n",
       "\u001b[0;31mType:\u001b[0m      method\n"
      ]
     },
     "metadata": {},
     "output_type": "display_data"
    }
   ],
   "source": [
    "co2.measure_single_shot_blocking?"
   ]
  },
  {
   "cell_type": "code",
   "execution_count": 5,
   "metadata": {},
   "outputs": [
    {
     "data": {
      "text/plain": [
       "(748, 20.2618408203125, 64.8956298828125)"
      ]
     },
     "execution_count": 5,
     "metadata": {},
     "output_type": "execute_result"
    }
   ],
   "source": [
    "co2.measure_single_shot_blocking()"
   ]
  },
  {
   "cell_type": "code",
   "execution_count": 11,
   "metadata": {},
   "outputs": [
    {
     "data": {
      "text/plain": [
       "\u001b[0;31mSignature:\u001b[0m \u001b[0mco2\u001b[0m\u001b[0;34m.\u001b[0m\u001b[0mpublish\u001b[0m\u001b[0;34m(\u001b[0m\u001b[0mdescription\u001b[0m\u001b[0;34m=\u001b[0m\u001b[0;34m'NA'\u001b[0m\u001b[0;34m,\u001b[0m \u001b[0mn\u001b[0m\u001b[0;34m=\u001b[0m\u001b[0;36m1\u001b[0m\u001b[0;34m,\u001b[0m \u001b[0mdelay\u001b[0m\u001b[0;34m=\u001b[0m\u001b[0;32mNone\u001b[0m\u001b[0;34m,\u001b[0m \u001b[0mblocking\u001b[0m\u001b[0;34m=\u001b[0m\u001b[0;32mTrue\u001b[0m\u001b[0;34m)\u001b[0m\u001b[0;34m\u001b[0m\u001b[0;34m\u001b[0m\u001b[0m\n",
       "\u001b[0;31mDocstring:\u001b[0m\n",
       "Get measured air partical data and output in JSON, \n",
       "plus metadata at intervals set by self.metadata_interval\n",
       "\n",
       "Parameters\n",
       "----------\n",
       "description : str, description of data collected\n",
       "n : int, number of samples to record in this burst\n",
       "delay : float, seconds to delay between samples if n > 1\n",
       "blocking : bool, if True wait until data is ready. If False, \n",
       "    self.start_measurement and self.stop_measurement must be \n",
       "    called externally to this method.\n",
       "\n",
       "Returns\n",
       "-------\n",
       "str, formatted in JSON with keys:\n",
       "    description : str\n",
       "    n : sample number in this burst\n",
       "    and values as described in self.metadata.header\n",
       "\u001b[0;31mFile:\u001b[0m      ~/code/meerkat/meerkat/scd4x.py\n",
       "\u001b[0;31mType:\u001b[0m      method\n"
      ]
     },
     "metadata": {},
     "output_type": "display_data"
    }
   ],
   "source": [
    "co2.publish?"
   ]
  },
  {
   "cell_type": "code",
   "execution_count": 6,
   "metadata": {},
   "outputs": [
    {
     "name": "stdout",
     "output_type": "stream",
     "text": [
      "{\"description\": \"test1\", \"sample_n\": 0, \"co2\": 769, \"tC\": 20.536880493164062, \"rh\": 64.45465087890625, \"std_time_ms\": \"2021-07-06 15:20:58.388138\"}\n",
      "{\"description\": \"test1\", \"sample_n\": 0, \"co2\": 734, \"tC\": 20.544891357421875, \"rh\": 64.27154541015625, \"std_time_ms\": \"2021-07-06 15:21:18.413247\"}\n",
      "{\"description\": \"test1\", \"sample_n\": 0, \"co2\": 745, \"tC\": 20.619659423828125, \"rh\": 64.04571533203125, \"std_time_ms\": \"2021-07-06 15:21:38.438279\"}\n",
      "{\"description\": \"test1\", \"sample_n\": 0, \"co2\": 750, \"tC\": 20.69976806640625, \"rh\": 63.836669921875, \"std_time_ms\": \"2021-07-06 15:21:58.463410\"}\n",
      "{\"description\": \"test1\", \"sample_n\": 0, \"co2\": 779, \"tC\": 20.76385498046875, \"rh\": 63.5986328125, \"std_time_ms\": \"2021-07-06 15:22:18.488482\"}\n",
      "{\"description\": \"test1\", \"sample_n\": 0, \"co2\": 742, \"tC\": 20.822601318359375, \"rh\": 63.46893310546875, \"std_time_ms\": \"2021-07-06 15:22:38.513543\"}\n",
      "{\"description\": \"test1\", \"sample_n\": 0, \"co2\": 757, \"tC\": 20.884017944335938, \"rh\": 63.372802734375, \"std_time_ms\": \"2021-07-06 15:22:58.537860\"}\n",
      "{\"description\": \"test1\", \"sample_n\": 0, \"co2\": 749, \"tC\": 20.910720825195312, \"rh\": 63.20343017578125, \"std_time_ms\": \"2021-07-06 15:23:18.562976\"}\n"
     ]
    }
   ],
   "source": [
    "for n in range(8):\n",
    "    d = co2.publish(description='test1')\n",
    "    print(d)\n",
    "    time.sleep(10)"
   ]
  },
  {
   "cell_type": "code",
   "execution_count": 7,
   "metadata": {},
   "outputs": [
    {
     "data": {
      "text/plain": [
       "\u001b[0;31mSignature:\u001b[0m \u001b[0mco2\u001b[0m\u001b[0;34m.\u001b[0m\u001b[0mwrite\u001b[0m\u001b[0;34m(\u001b[0m\u001b[0mdescription\u001b[0m\u001b[0;34m=\u001b[0m\u001b[0;34m'NA'\u001b[0m\u001b[0;34m,\u001b[0m \u001b[0mn\u001b[0m\u001b[0;34m=\u001b[0m\u001b[0;36m1\u001b[0m\u001b[0;34m,\u001b[0m \u001b[0mdelay\u001b[0m\u001b[0;34m=\u001b[0m\u001b[0;32mNone\u001b[0m\u001b[0;34m,\u001b[0m \u001b[0mblocking\u001b[0m\u001b[0;34m=\u001b[0m\u001b[0;32mTrue\u001b[0m\u001b[0;34m)\u001b[0m\u001b[0;34m\u001b[0m\u001b[0;34m\u001b[0m\u001b[0m\n",
       "\u001b[0;31mDocstring:\u001b[0m\n",
       "Get measured air partical data and save to file, \n",
       "formatted as either CSV with extension .csv or \n",
       "JSON and extension .jsontxt.\n",
       "\n",
       "Parameters\n",
       "----------\n",
       "description : str, description of data collected\n",
       "n : int, number of samples to record in this burst\n",
       "delay : float, seconds to delay between samples if n > 1\n",
       "blocking : bool, if True wait until data is ready. If False, \n",
       "    self.start_measurement and self.stop_measurement must be \n",
       "    called externally to this method.\n",
       "\n",
       "Returns\n",
       "-------\n",
       "None, writes to disk the following data:\n",
       "    description : str\n",
       "    n : sample number in this burst\n",
       "    and values as described in self.metadata.header\n",
       "\u001b[0;31mFile:\u001b[0m      ~/code/meerkat/meerkat/scd4x.py\n",
       "\u001b[0;31mType:\u001b[0m      method\n"
      ]
     },
     "metadata": {},
     "output_type": "display_data"
    }
   ],
   "source": [
    "co2.write?"
   ]
  },
  {
   "cell_type": "raw",
   "metadata": {},
   "source": [
    "while True:\n",
    "    co2.write(description='test2', n=4, delay=10)\n",
    "    time.sleep(300-4*10)"
   ]
  },
  {
   "cell_type": "code",
   "execution_count": null,
   "metadata": {},
   "outputs": [],
   "source": []
  }
 ],
 "metadata": {
  "kernelspec": {
   "display_name": "Python 3",
   "language": "python",
   "name": "python3"
  },
  "language_info": {
   "codemirror_mode": {
    "name": "ipython",
    "version": 3
   },
   "file_extension": ".py",
   "mimetype": "text/x-python",
   "name": "python",
   "nbconvert_exporter": "python",
   "pygments_lexer": "ipython3",
   "version": "3.7.3"
  }
 },
 "nbformat": 4,
 "nbformat_minor": 4
}
