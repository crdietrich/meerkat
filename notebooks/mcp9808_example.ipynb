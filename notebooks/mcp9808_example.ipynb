{
 "cells": [
  {
   "cell_type": "markdown",
   "metadata": {},
   "source": [
    "## MCP9808 Temperature Sensor  \n",
    "The MCP9808 is a digitial temperature sensor with an accuracy of +/-0.25 C within a working range of -40 to 125 C and a maximum precision of +0.0625 C.  \n",
    "\n",
    "Manufacturer Link: https://www.microchip.com/wwwproducts/en/en556182\n",
    "\n",
    "Breakout Board Used: https://www.adafruit.com/product/1782"
   ]
  },
  {
   "cell_type": "code",
   "execution_count": 1,
   "metadata": {},
   "outputs": [],
   "source": [
    "import matplotlib.pyplot as plt\n",
    "\n",
    "from meerkat import mcp9808, parser"
   ]
  },
  {
   "cell_type": "markdown",
   "metadata": {},
   "source": [
    "Select I2C bus and instance device class.  Note I2C bus is 1 on Raspberry Pi."
   ]
  },
  {
   "cell_type": "code",
   "execution_count": 2,
   "metadata": {},
   "outputs": [],
   "source": [
    "dev = mcp9808.MCP9808(bus_n=1)"
   ]
  },
  {
   "cell_type": "markdown",
   "metadata": {},
   "source": [
    "#### Configuration"
   ]
  },
  {
   "cell_type": "code",
   "execution_count": 3,
   "metadata": {},
   "outputs": [
    {
     "name": "stdout",
     "output_type": "stream",
     "text": [
      "Configuration Register: None\n",
      "Upper Temperature: None\n",
      "Lower Temperature: None\n",
      "Critical Temperature: None\n",
      "Manufacturer: 84\n",
      "Device ID: 4\n",
      "Device Revision: 0\n"
     ]
    }
   ],
   "source": [
    "dev.print_status()"
   ]
  },
  {
   "cell_type": "markdown",
   "metadata": {},
   "source": [
    "#### Measurement"
   ]
  },
  {
   "cell_type": "code",
   "execution_count": 4,
   "metadata": {},
   "outputs": [
    {
     "data": {
      "text/plain": [
       "20.5"
      ]
     },
     "execution_count": 4,
     "metadata": {},
     "output_type": "execute_result"
    }
   ],
   "source": [
    "dev.get_temp()"
   ]
  },
  {
   "cell_type": "code",
   "execution_count": 5,
   "metadata": {},
   "outputs": [
    {
     "data": {
      "text/plain": [
       "[['test_1', 1, 20.5],\n",
       " ['test_1', 2, 20.5],\n",
       " ['test_1', 3, 20.5],\n",
       " ['test_1', 4, 20.5],\n",
       " ['test_1', 5, 20.5]]"
      ]
     },
     "execution_count": 5,
     "metadata": {},
     "output_type": "execute_result"
    }
   ],
   "source": [
    "# get method, list with description and sample number\n",
    "dev.get(description='test_1', n=5)"
   ]
  },
  {
   "cell_type": "markdown",
   "metadata": {},
   "source": [
    "#### JSON Data Publishing  "
   ]
  },
  {
   "cell_type": "code",
   "execution_count": 6,
   "metadata": {},
   "outputs": [],
   "source": [
    "# lower metadata interval from a default of once every 10 samples\n",
    "dev.json_writer.metadata_interval = 3"
   ]
  },
  {
   "cell_type": "code",
   "execution_count": 7,
   "metadata": {},
   "outputs": [
    {
     "data": {
      "text/plain": [
       "['{\"description\": \"test_2\", \"sample_n\": 0, \"temp_C\": 20.5, \"std_time_ms\": \"2020-12-10 18:46:26.039087\"}',\n",
       " '{\"description\": \"test_2\", \"sample_n\": 1, \"temp_C\": 20.5, \"std_time_ms\": \"2020-12-10 18:46:26.039907\"}',\n",
       " '{\"description\": \"test_2\", \"sample_n\": 2, \"temp_C\": 20.5, \"std_time_ms\": \"2020-12-10 18:46:26.040653\", \"encoding\": \"utf-8\", \"format\": \"text/json\", \"standard\": \"RFC 8259\", \"line_terminator\": \"\\\\n\", \"quote_char\": \"\\\\\"\", \"double_quote\": true, \"escape_char\": \"\\\\\\\\\", \"null_sequence\": \"NA\", \"comment\": \"#\", \"metadata\": {\"name\": \"mcp9808\", \"urls\": \"https://www.microchip.com/datasheet/MCP9808\", \"manufacturer\": \"Adafruit Industries & Microchip Tech\", \"header\": [\"description\", \"sample_n\", \"temp_C\"], \"dtype\": [\"str\", \"int\", \"float\"], \"units\": [null, \"count\", \"degrees Celcius\"], \"accuracy\": [null, 1, \"+/- 0.5\"], \"precision\": [null, 1, \"0.0625 max\"], \"bus_n\": 1, \"bus_addr\": 24, \"description\": \"Microchip Tech digital temperature sensor\"}, \"time_source\": \"std_time_ms\", \"time_format\": \"%Y-%m-%d %H:%M:%S.%f\", \"metadata_interval\": 3}',\n",
       " '{\"description\": \"test_2\", \"sample_n\": 3, \"temp_C\": 20.5, \"std_time_ms\": \"2020-12-10 18:46:26.041599\"}',\n",
       " '{\"description\": \"test_2\", \"sample_n\": 4, \"temp_C\": 20.5, \"std_time_ms\": \"2020-12-10 18:46:26.042369\"}']"
      ]
     },
     "execution_count": 7,
     "metadata": {},
     "output_type": "execute_result"
    }
   ],
   "source": [
    "# writing method with description and sample number\n",
    "dev.publish(description='test_2', n=5)"
   ]
  },
  {
   "cell_type": "markdown",
   "metadata": {},
   "source": [
    "#### JSON Writer Output  "
   ]
  },
  {
   "cell_type": "code",
   "execution_count": 8,
   "metadata": {},
   "outputs": [],
   "source": [
    "# default writer format is CSV, switch to JSON\n",
    "dev.writer_output = 'json'"
   ]
  },
  {
   "cell_type": "code",
   "execution_count": 9,
   "metadata": {},
   "outputs": [],
   "source": [
    "# writer method with description and sample number\n",
    "dev.write(description='test_3', n=30)"
   ]
  },
  {
   "cell_type": "code",
   "execution_count": 10,
   "metadata": {},
   "outputs": [
    {
     "data": {
      "text/plain": [
       "'2020_12_10_18_46_26_mcp9808.jsontxt'"
      ]
     },
     "execution_count": 10,
     "metadata": {},
     "output_type": "execute_result"
    }
   ],
   "source": [
    "dev.json_writer.path"
   ]
  },
  {
   "cell_type": "code",
   "execution_count": 11,
   "metadata": {},
   "outputs": [
    {
     "name": "stdout",
     "output_type": "stream",
     "text": [
      "{\"description\": \"test_3\", \"sample_n\": 0, \"temp_C\": 20.5, \"std_time_ms\": \"2020-12-10 18:46:26.076422\"}\n",
      "{\"description\": \"test_3\", \"sample_n\": 1, \"temp_C\": 20.5, \"std_time_ms\": \"2020-12-10 18:46:26.077534\"}\n",
      "{\"description\": \"test_3\", \"sample_n\": 2, \"temp_C\": 20.5, \"std_time_ms\": \"2020-12-10 18:46:26.078498\", \"encoding\": \"utf-8\", \"format\": \"text/json\", \"standard\": \"RFC 8259\", \"line_terminator\": \"\\n\", \"quote_char\": \"\\\"\", \"double_quote\": true, \"escape_char\": \"\\\\\", \"null_sequence\": \"NA\", \"comment\": \"#\", \"metadata\": {\"name\": \"mcp9808\", \"urls\": \"https://www.microchip.com/datasheet/MCP9808\", \"manufacturer\": \"Adafruit Industries & Microchip Tech\", \"header\": [\"description\", \"sample_n\", \"temp_C\"], \"dtype\": [\"str\", \"int\", \"float\"], \"units\": [null, \"count\", \"degrees Celcius\"], \"accuracy\": [null, 1, \"+/- 0.5\"], \"precision\": [null, 1, \"0.0625 max\"], \"bus_n\": 1, \"bus_addr\": 24, \"description\": \"Microchip Tech digital temperature sensor\"}, \"path\": \"2020_12_10_18_46_26_mcp9808.jsontxt\", \"time_source\": \"std_time_ms\", \"time_format\": \"%Y-%m-%d %H:%M:%S.%f\", \"metadata_interval\": 3}\n",
      "{\"description\": \"test_3\", \"sample_n\": 3, \"temp_C\": 20.5, \"std_time_ms\": \"2020-12-10 18:46:26.079639\"}\n"
     ]
    }
   ],
   "source": [
    "with open(dev.json_writer.path, 'r') as f:\n",
    "    for _ in range(4):\n",
    "        print(f.readline().strip())"
   ]
  },
  {
   "cell_type": "markdown",
   "metadata": {},
   "source": [
    "#### CSV Writer Output"
   ]
  },
  {
   "cell_type": "code",
   "execution_count": 12,
   "metadata": {},
   "outputs": [],
   "source": [
    "# switch back to CSV format\n",
    "dev.writer_output = 'csv'"
   ]
  },
  {
   "cell_type": "code",
   "execution_count": 13,
   "metadata": {},
   "outputs": [],
   "source": [
    "# writer method with description and sample number\n",
    "dev.write(description='test_4', n=30)"
   ]
  },
  {
   "cell_type": "code",
   "execution_count": 14,
   "metadata": {},
   "outputs": [
    {
     "data": {
      "text/plain": [
       "'2020_12_10_18_46_26_mcp9808.csv'"
      ]
     },
     "execution_count": 14,
     "metadata": {},
     "output_type": "execute_result"
    }
   ],
   "source": [
    "dev.csv_writer.path"
   ]
  },
  {
   "cell_type": "code",
   "execution_count": 15,
   "metadata": {},
   "outputs": [],
   "source": [
    "# load .csv data written with dev.write\n",
    "m, df = parser.csv_resource(dev.csv_writer.path)"
   ]
  },
  {
   "cell_type": "markdown",
   "metadata": {},
   "source": [
    "#### Metadata in the CSV"
   ]
  },
  {
   "cell_type": "code",
   "execution_count": 16,
   "metadata": {},
   "outputs": [
    {
     "data": {
      "text/plain": [
       "{'case_sensitive_header': False,\n",
       " 'comment': '#',\n",
       " 'delimiter': ',',\n",
       " 'double_quote': True,\n",
       " 'encoding': 'utf-8',\n",
       " 'escape_char': '\\\\',\n",
       " 'format': 'text/csv',\n",
       " 'line_terminator': '\\n',\n",
       " 'metadata': {'accuracy': [None, 1, '+/- 0.5'],\n",
       "  'bus_addr': 24,\n",
       "  'bus_n': 1,\n",
       "  'description': 'Microchip Tech digital temperature sensor',\n",
       "  'dtype': ['str', 'int', 'float'],\n",
       "  'header': ['description', 'sample_n', 'temp_C'],\n",
       "  'manufacturer': 'Adafruit Industries & Microchip Tech',\n",
       "  'name': 'mcp9808',\n",
       "  'precision': [None, 1, '0.0625 max'],\n",
       "  'units': [None, 'count', 'degrees Celcius'],\n",
       "  'urls': 'https://www.microchip.com/datasheet/MCP9808'},\n",
       " 'null_sequence': 'NA',\n",
       " 'path': '2020_12_10_18_46_26_mcp9808.csv',\n",
       " 'quote_char': '\"',\n",
       " 'skip_initial_space': True,\n",
       " 'skip_lines': 1,\n",
       " 'standard': 'Follow RFC 4180',\n",
       " 'time_format': '%Y-%m-%d %H:%M:%S.%f',\n",
       " 'time_source': 'std_time_ms'}"
      ]
     },
     "execution_count": 16,
     "metadata": {},
     "output_type": "execute_result"
    }
   ],
   "source": [
    "m"
   ]
  },
  {
   "cell_type": "markdown",
   "metadata": {},
   "source": [
    "#### Parsed CSV data"
   ]
  },
  {
   "cell_type": "code",
   "execution_count": 17,
   "metadata": {},
   "outputs": [
    {
     "data": {
      "text/html": [
       "<div>\n",
       "<style scoped>\n",
       "    .dataframe tbody tr th:only-of-type {\n",
       "        vertical-align: middle;\n",
       "    }\n",
       "\n",
       "    .dataframe tbody tr th {\n",
       "        vertical-align: top;\n",
       "    }\n",
       "\n",
       "    .dataframe thead th {\n",
       "        text-align: right;\n",
       "    }\n",
       "</style>\n",
       "<table border=\"1\" class=\"dataframe\">\n",
       "  <thead>\n",
       "    <tr style=\"text-align: right;\">\n",
       "      <th></th>\n",
       "      <th>std_time_ms</th>\n",
       "      <th>description</th>\n",
       "      <th>sample_n</th>\n",
       "      <th>temp_C</th>\n",
       "      <th>datetime64_ns</th>\n",
       "    </tr>\n",
       "  </thead>\n",
       "  <tbody>\n",
       "    <tr>\n",
       "      <th>0</th>\n",
       "      <td>2020-12-10 18:46:26.197318</td>\n",
       "      <td>test_4</td>\n",
       "      <td>0</td>\n",
       "      <td>20.5</td>\n",
       "      <td>2020-12-10 18:46:26.197318</td>\n",
       "    </tr>\n",
       "    <tr>\n",
       "      <th>1</th>\n",
       "      <td>2020-12-10 18:46:26.198144</td>\n",
       "      <td>test_4</td>\n",
       "      <td>1</td>\n",
       "      <td>20.5</td>\n",
       "      <td>2020-12-10 18:46:26.198144</td>\n",
       "    </tr>\n",
       "    <tr>\n",
       "      <th>2</th>\n",
       "      <td>2020-12-10 18:46:26.198930</td>\n",
       "      <td>test_4</td>\n",
       "      <td>2</td>\n",
       "      <td>20.5</td>\n",
       "      <td>2020-12-10 18:46:26.198930</td>\n",
       "    </tr>\n",
       "    <tr>\n",
       "      <th>3</th>\n",
       "      <td>2020-12-10 18:46:26.199746</td>\n",
       "      <td>test_4</td>\n",
       "      <td>3</td>\n",
       "      <td>20.5</td>\n",
       "      <td>2020-12-10 18:46:26.199746</td>\n",
       "    </tr>\n",
       "    <tr>\n",
       "      <th>4</th>\n",
       "      <td>2020-12-10 18:46:26.206926</td>\n",
       "      <td>test_4</td>\n",
       "      <td>4</td>\n",
       "      <td>20.5</td>\n",
       "      <td>2020-12-10 18:46:26.206926</td>\n",
       "    </tr>\n",
       "  </tbody>\n",
       "</table>\n",
       "</div>"
      ],
      "text/plain": [
       "                  std_time_ms description  sample_n  temp_C  \\\n",
       "0  2020-12-10 18:46:26.197318      test_4         0    20.5   \n",
       "1  2020-12-10 18:46:26.198144      test_4         1    20.5   \n",
       "2  2020-12-10 18:46:26.198930      test_4         2    20.5   \n",
       "3  2020-12-10 18:46:26.199746      test_4         3    20.5   \n",
       "4  2020-12-10 18:46:26.206926      test_4         4    20.5   \n",
       "\n",
       "               datetime64_ns  \n",
       "0 2020-12-10 18:46:26.197318  \n",
       "1 2020-12-10 18:46:26.198144  \n",
       "2 2020-12-10 18:46:26.198930  \n",
       "3 2020-12-10 18:46:26.199746  \n",
       "4 2020-12-10 18:46:26.206926  "
      ]
     },
     "execution_count": 17,
     "metadata": {},
     "output_type": "execute_result"
    }
   ],
   "source": [
    "df.head()"
   ]
  },
  {
   "cell_type": "code",
   "execution_count": 18,
   "metadata": {},
   "outputs": [],
   "source": [
    "# Pandas 0.24.1 hack\n",
    "df.datetime64_ns = df.datetime64_ns.dt.tz_localize('UTC')"
   ]
  },
  {
   "cell_type": "code",
   "execution_count": 19,
   "metadata": {},
   "outputs": [
    {
     "data": {
      "image/png": "[encoded data removed]",
      "text/plain": [
       "<Figure size 432x288 with 1 Axes>"
      ]
     },
     "metadata": {
      "needs_background": "light"
     },
     "output_type": "display_data"
    }
   ],
   "source": [
    "df[[\"datetime64_ns\", \"temp_C\"]].plot(x=\"datetime64_ns\", style='-x');"
   ]
  },
  {
   "cell_type": "code",
   "execution_count": 20,
   "metadata": {},
   "outputs": [
    {
     "name": "stdout",
     "output_type": "stream",
     "text": [
      "Sample Rate: 913.6314 Hz\n"
     ]
    }
   ],
   "source": [
    "dt = df.datetime64_ns[len(df)-1]-df.datetime64_ns[0]\n",
    "dtt = dt.seconds + dt.microseconds / 10**6\n",
    "print('Sample Rate: {:.4f} Hz'.format(len(df)/dtt))"
   ]
  }
 ],
 "metadata": {
  "kernelspec": {
   "display_name": "Python 3",
   "language": "python",
   "name": "python3"
  },
  "language_info": {
   "codemirror_mode": {
    "name": "ipython",
    "version": 3
   },
   "file_extension": ".py",
   "mimetype": "text/x-python",
   "name": "python",
   "nbconvert_exporter": "python",
   "pygments_lexer": "ipython3",
   "version": "3.7.3"
  }
 },
 "nbformat": 4,
 "nbformat_minor": 4
}
