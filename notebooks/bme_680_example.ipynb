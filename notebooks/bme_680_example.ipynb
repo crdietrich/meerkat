{
 "cells": [
  {
   "cell_type": "markdown",
   "metadata": {},
   "source": [
    "## BME680  \n",
    "The Boshe BME680 is a gas sensor able to measure relative humidity, barometric pressure, ambient, temperature and volatile organic compound (VOC) gases.  \n",
    "\n",
    "Manufacturer link: https://www.bosch-sensortec.com/products/environmental-sensors/gas-sensors-bme680/  \n",
    "Breakout boards used:  \n",
    "https://www.adafruit.com/product/3660  \n",
    "https://www.sparkfun.com/products/14570"
   ]
  },
  {
   "cell_type": "code",
   "execution_count": 1,
   "metadata": {},
   "outputs": [],
   "source": [
    "import pandas as pd\n",
    "import matplotlib.pyplot as plt"
   ]
  },
  {
   "cell_type": "code",
   "execution_count": 2,
   "metadata": {},
   "outputs": [],
   "source": [
    "from meerkat import bme680, parser, tools"
   ]
  },
  {
   "cell_type": "markdown",
   "metadata": {},
   "source": [
    "Initialize sensor and get the onboard calibration values."
   ]
  },
  {
   "cell_type": "code",
   "execution_count": 3,
   "metadata": {},
   "outputs": [],
   "source": [
    "dev = bme680.BME680(bus_n=1)"
   ]
  },
  {
   "cell_type": "code",
   "execution_count": 4,
   "metadata": {},
   "outputs": [],
   "source": [
    "dev.read_calibration()"
   ]
  },
  {
   "cell_type": "markdown",
   "metadata": {},
   "source": [
    "Measurement steps, based on the datasheet section 3.2.1 Quickstart:\n",
    "1. Set humidty oversample\n",
    "2. Set temperature oversample\n",
    "3. Set pressure oversample"
   ]
  },
  {
   "cell_type": "code",
   "execution_count": 5,
   "metadata": {},
   "outputs": [],
   "source": [
    "dev.set_oversampling(h=1, t=2, p=16)"
   ]
  },
  {
   "cell_type": "markdown",
   "metadata": {},
   "source": [
    "4. Set gas wait time with gas_wait_0 to 0x59 = 100ms"
   ]
  },
  {
   "cell_type": "code",
   "execution_count": 6,
   "metadata": {},
   "outputs": [
    {
     "name": "stdout",
     "output_type": "stream",
     "text": [
      "Wait: 400 ms\n",
      "code: 0x99\n"
     ]
    }
   ],
   "source": [
    "ms = 25\n",
    "multiplier = 16\n",
    "wait = dev.calc_wait_time(t=ms, x=multiplier)\n",
    "print(\"Wait: {} ms\".format(ms*multiplier))\n",
    "print(\"code:\", hex(wait))"
   ]
  },
  {
   "cell_type": "code",
   "execution_count": 7,
   "metadata": {},
   "outputs": [],
   "source": [
    "dev.set_gas_wait(n=0, value=wait)"
   ]
  },
  {
   "cell_type": "markdown",
   "metadata": {},
   "source": [
    "5. Heater set-point with res_heat_0 to 200 C"
   ]
  },
  {
   "cell_type": "code",
   "execution_count": 8,
   "metadata": {},
   "outputs": [
    {
     "data": {
      "text/plain": [
       "177"
      ]
     },
     "execution_count": 8,
     "metadata": {},
     "output_type": "execute_result"
    }
   ],
   "source": [
    "resistance = dev.calc_res_heat(target_temp=200)\n",
    "resistance"
   ]
  },
  {
   "cell_type": "code",
   "execution_count": 9,
   "metadata": {},
   "outputs": [],
   "source": [
    "dev.set_res_heat(n=0, value=resistance)"
   ]
  },
  {
   "cell_type": "markdown",
   "metadata": {},
   "source": [
    "6. Set nb_conv to the 0 profile used in steps 4 and 5"
   ]
  },
  {
   "cell_type": "code",
   "execution_count": 10,
   "metadata": {},
   "outputs": [],
   "source": [
    "dev.nb_conv = 0"
   ]
  },
  {
   "cell_type": "markdown",
   "metadata": {},
   "source": [
    "7. Set run_gas to 1 to enable gas measurements"
   ]
  },
  {
   "cell_type": "code",
   "execution_count": 11,
   "metadata": {},
   "outputs": [],
   "source": [
    "dev.gas_on()"
   ]
  },
  {
   "cell_type": "markdown",
   "metadata": {},
   "source": [
    "8. Set mode to 0b01 to trigger a single forced mode measurement"
   ]
  },
  {
   "cell_type": "code",
   "execution_count": 12,
   "metadata": {},
   "outputs": [
    {
     "name": "stdout",
     "output_type": "stream",
     "text": [
      "T:  18.942109375\n",
      "P:  1005.9915896635366\n",
      "RH: 48.12575415022118\n",
      "Gas Resistance: 13724\n",
      "Gas Valid: 1\n",
      "Heat Stable: 1\n",
      "CPU times: user 6.6 ms, sys: 6.92 ms, total: 13.5 ms\n",
      "Wall time: 447 ms\n"
     ]
    }
   ],
   "source": [
    "%%time\n",
    "dev.forced_mode()\n",
    "dev.measure()\n",
    "t = dev.temperature()\n",
    "p = dev.pressure()\n",
    "h = dev.humidity()\n",
    "g = dev.gas()\n",
    "print(\"T: \", t)\n",
    "print(\"P: \", p)\n",
    "print(\"RH:\", h)\n",
    "print(\"Gas Resistance:\", g)\n",
    "print(\"Gas Valid:\", dev._gas_valid)\n",
    "print(\"Heat Stable:\", dev._heat_stab)"
   ]
  },
  {
   "cell_type": "markdown",
   "metadata": {},
   "source": [
    "#### Measurement  "
   ]
  },
  {
   "cell_type": "code",
   "execution_count": 13,
   "metadata": {},
   "outputs": [
    {
     "data": {
      "text/plain": [
       "['test_1',\n",
       " 1,\n",
       " 21.3391796875,\n",
       " 1005.9418565469299,\n",
       " 48.52717183814422,\n",
       " 15065,\n",
       " 1,\n",
       " 1]"
      ]
     },
     "execution_count": 13,
     "metadata": {},
     "output_type": "execute_result"
    }
   ],
   "source": [
    "dev.get(description=\"test_1\")"
   ]
  },
  {
   "cell_type": "code",
   "execution_count": 14,
   "metadata": {},
   "outputs": [
    {
     "data": {
      "text/plain": [
       "[['test_2', 1, 22.458125, 1006.0377383597275, 48.633660196902426, 15892, 1, 1],\n",
       " ['test_2',\n",
       "  2,\n",
       "  23.00734375,\n",
       "  1005.9375886393594,\n",
       "  48.586346196373356,\n",
       "  16429,\n",
       "  1,\n",
       "  1],\n",
       " ['test_2',\n",
       "  3,\n",
       "  23.432734375,\n",
       "  1005.9456337907548,\n",
       "  48.44527113609114,\n",
       "  16816,\n",
       "  1,\n",
       "  1],\n",
       " ['test_2',\n",
       "  4,\n",
       "  23.7008984375,\n",
       "  1005.9379143450616,\n",
       "  48.18213900810529,\n",
       "  17075,\n",
       "  1,\n",
       "  1],\n",
       " ['test_2',\n",
       "  5,\n",
       "  23.8958203125,\n",
       "  1005.9780083030529,\n",
       "  47.89820130981115,\n",
       "  17403,\n",
       "  1,\n",
       "  1]]"
      ]
     },
     "execution_count": 14,
     "metadata": {},
     "output_type": "execute_result"
    }
   ],
   "source": [
    "dev.get(description=\"test_2\", n=5)"
   ]
  },
  {
   "cell_type": "markdown",
   "metadata": {},
   "source": [
    "#### JSON Data Publishing  "
   ]
  },
  {
   "cell_type": "code",
   "execution_count": 15,
   "metadata": {},
   "outputs": [],
   "source": [
    "# lower metadata interval from a default of once every 10 samples\n",
    "dev.json_writer.metadata_interval = 3"
   ]
  },
  {
   "cell_type": "code",
   "execution_count": 16,
   "metadata": {},
   "outputs": [
    {
     "data": {
      "text/plain": [
       "['{\"description\": \"test_3\", \"sample_n\": 1, \"T\": 23.885859375, \"P\": 1006.08573284642, \"RH\": 47.49920263911029, \"g_res\": 17494, \"g_val\": 1, \"heat_stab\": 1, \"std_time_ms\": \"2020-12-08 09:20:07.957121\"}',\n",
       " '{\"description\": \"test_3\", \"sample_n\": 2, \"T\": 20.551875, \"P\": 1006.0318036401659, \"RH\": 45.94882858048142, \"g_res\": 17134, \"g_val\": 1, \"heat_stab\": 1, \"std_time_ms\": \"2020-12-08 09:20:09.401494\"}',\n",
       " '{\"description\": \"test_3\", \"sample_n\": 3, \"T\": 20.1419140625, \"P\": 1006.0340286095972, \"RH\": 45.31493052167149, \"g_res\": 17032, \"g_val\": 1, \"heat_stab\": 1, \"std_time_ms\": \"2020-12-08 09:20:10.845819\", \"encoding\": \"utf-8\", \"format\": \"text/json\", \"standard\": \"RFC 8259\", \"line_terminator\": \"\\\\n\", \"quote_char\": \"\\\\\"\", \"double_quote\": true, \"escape_char\": \"\\\\\\\\\", \"null_sequence\": \"NA\", \"comment\": \"#\", \"metadata\": {\"name\": \"BME680\", \"urls\": \"https://www.bosch-sensortec.com/products/environmental-sensors/gas-sensors-bme680/\", \"manufacturer\": \"Bosch Sensortec\", \"header\": [\"description\", \"sample_n\", \"T\", \"P\", \"RH\", \"g_res\", \"g_val\", \"heat_stab\"], \"dtype\": [\"str\", \"int\", \"float\", \"float\", \"float\", \"float\", \"bool\", \"bool\"], \"units\": [null, \"count\", \"Celcius\", \"hectopascals\", \"percent\", \"ohms\", null, null], \"accuracy\": [null, 1, \"+/-1.0\", \"+/-0.12\", \"+/-3\", \"+/-15%\", null, null], \"precision\": [null, 1, 0.1, 0.18, 0.008, 0.08, null, null], \"bus_n\": 1, \"bus_addr\": 119, \"description\": \"Bosch Humidity, Pressure, Temperature, VOC Sensor\"}, \"time_source\": \"std_time_ms\", \"strfmtime\": \"%Y-%m-%d %H:%M:%S.%f\", \"metadata_interval\": 3}',\n",
       " '{\"description\": \"test_3\", \"sample_n\": 4, \"T\": 20.0430859375, \"P\": 1006.037196580843, \"RH\": 44.996425783208295, \"g_res\": 17046, \"g_val\": 1, \"heat_stab\": 1, \"std_time_ms\": \"2020-12-08 09:20:12.290871\"}',\n",
       " '{\"description\": \"test_3\", \"sample_n\": 5, \"T\": 20.0001171875, \"P\": 1006.0252917557616, \"RH\": 44.76740455571478, \"g_res\": 17032, \"g_val\": 1, \"heat_stab\": 1, \"std_time_ms\": \"2020-12-08 09:20:13.735299\"}',\n",
       " '{\"description\": \"test_3\", \"sample_n\": 6, \"T\": 19.98234375, \"P\": 1006.012558105898, \"RH\": 44.66522043941295, \"g_res\": 17068, \"g_val\": 1, \"heat_stab\": 1, \"std_time_ms\": \"2020-12-08 09:20:15.182718\", \"encoding\": \"utf-8\", \"format\": \"text/json\", \"standard\": \"RFC 8259\", \"line_terminator\": \"\\\\n\", \"quote_char\": \"\\\\\"\", \"double_quote\": true, \"escape_char\": \"\\\\\\\\\", \"null_sequence\": \"NA\", \"comment\": \"#\", \"metadata\": {\"name\": \"BME680\", \"urls\": \"https://www.bosch-sensortec.com/products/environmental-sensors/gas-sensors-bme680/\", \"manufacturer\": \"Bosch Sensortec\", \"header\": [\"description\", \"sample_n\", \"T\", \"P\", \"RH\", \"g_res\", \"g_val\", \"heat_stab\"], \"dtype\": [\"str\", \"int\", \"float\", \"float\", \"float\", \"float\", \"bool\", \"bool\"], \"units\": [null, \"count\", \"Celcius\", \"hectopascals\", \"percent\", \"ohms\", null, null], \"accuracy\": [null, 1, \"+/-1.0\", \"+/-0.12\", \"+/-3\", \"+/-15%\", null, null], \"precision\": [null, 1, 0.1, 0.18, 0.008, 0.08, null, null], \"bus_n\": 1, \"bus_addr\": 119, \"description\": \"Bosch Humidity, Pressure, Temperature, VOC Sensor\"}, \"time_source\": \"std_time_ms\", \"strfmtime\": \"%Y-%m-%d %H:%M:%S.%f\", \"metadata_interval\": 3}',\n",
       " '{\"description\": \"test_3\", \"sample_n\": 7, \"T\": 19.96984375, \"P\": 1006.0244698292659, \"RH\": 44.54014643731271, \"g_res\": 17083, \"g_val\": 1, \"heat_stab\": 1, \"std_time_ms\": \"2020-12-08 09:20:16.627291\"}']"
      ]
     },
     "execution_count": 16,
     "metadata": {},
     "output_type": "execute_result"
    }
   ],
   "source": [
    "dev.publish(description='test_3', n=7, delay=1)"
   ]
  },
  {
   "cell_type": "markdown",
   "metadata": {},
   "source": [
    "#### JSON Writer Output"
   ]
  },
  {
   "cell_type": "code",
   "execution_count": 17,
   "metadata": {},
   "outputs": [],
   "source": [
    "# default writer format is CSV, switch to JSON\n",
    "dev.writer_output = 'json'"
   ]
  },
  {
   "cell_type": "code",
   "execution_count": 18,
   "metadata": {},
   "outputs": [],
   "source": [
    "# writer method with description and sample number\n",
    "dev.write(description='test_3', n=30)"
   ]
  },
  {
   "cell_type": "code",
   "execution_count": 19,
   "metadata": {},
   "outputs": [
    {
     "data": {
      "text/plain": [
       "'2020_12_08_09_20_18_bme680.jsontxt'"
      ]
     },
     "execution_count": 19,
     "metadata": {},
     "output_type": "execute_result"
    }
   ],
   "source": [
    "dev.json_writer.path"
   ]
  },
  {
   "cell_type": "code",
   "execution_count": 20,
   "metadata": {},
   "outputs": [
    {
     "name": "stdout",
     "output_type": "stream",
     "text": [
      "{\"description\": \"test_3\", \"sample_n\": 0, \"T\": 19.9266796875, \"P\": 1006.0296581530566, \"RH\": 44.4705687200733, \"g_res\": 17039, \"g_val\": 1, \"heat_stab\": 1, \"std_time_ms\": \"2020-12-08 09:20:18.127158\"}\n",
      "{\"description\": \"test_3\", \"sample_n\": 1, \"T\": 22.0352734375, \"P\": 1005.8886536687879, \"RH\": 44.786325121097576, \"g_res\": 17433, \"g_val\": 1, \"heat_stab\": 1, \"std_time_ms\": \"2020-12-08 09:20:18.572152\"}\n",
      "{\"description\": \"test_3\", \"sample_n\": 2, \"T\": 23.096015625, \"P\": 1005.9211602801307, \"RH\": 44.926531319551515, \"g_res\": 17657, \"g_val\": 1, \"heat_stab\": 1, \"std_time_ms\": \"2020-12-08 09:20:19.015807\", \"encoding\": \"utf-8\", \"format\": \"text/json\", \"standard\": \"RFC 8259\", \"line_terminator\": \"\\n\", \"quote_char\": \"\\\"\", \"double_quote\": true, \"escape_char\": \"\\\\\", \"null_sequence\": \"NA\", \"comment\": \"#\", \"metadata\": {\"name\": \"BME680\", \"urls\": \"https://www.bosch-sensortec.com/products/environmental-sensors/gas-sensors-bme680/\", \"manufacturer\": \"Bosch Sensortec\", \"header\": [\"description\", \"sample_n\", \"T\", \"P\", \"RH\", \"g_res\", \"g_val\", \"heat_stab\"], \"dtype\": [\"str\", \"int\", \"float\", \"float\", \"float\", \"float\", \"bool\", \"bool\"], \"units\": [null, \"count\", \"Celcius\", \"hectopascals\", \"percent\", \"ohms\", null, null], \"accuracy\": [null, 1, \"+/-1.0\", \"+/-0.12\", \"+/-3\", \"+/-15%\", null, null], \"precision\": [null, 1, 0.1, 0.18, 0.008, 0.08, null, null], \"bus_n\": 1, \"bus_addr\": 119, \"description\": \"Bosch Humidity, Pressure, Temperature, VOC Sensor\"}, \"path\": \"2020_12_08_09_20_18_bme680.jsontxt\", \"time_source\": \"std_time_ms\", \"strfmtime\": \"%Y-%m-%d %H:%M:%S.%f\", \"metadata_interval\": 3}\n",
      "{\"description\": \"test_3\", \"sample_n\": 3, \"T\": 23.5997265625, \"P\": 1005.9124150581546, \"RH\": 44.937727916594824, \"g_res\": 17783, \"g_val\": 1, \"heat_stab\": 1, \"std_time_ms\": \"2020-12-08 09:20:19.459812\"}\n"
     ]
    }
   ],
   "source": [
    "with open(dev.json_writer.path, 'r') as f:\n",
    "    for _ in range(4):\n",
    "        print(f.readline().strip())"
   ]
  },
  {
   "cell_type": "markdown",
   "metadata": {},
   "source": [
    "#### CSV Writer Output"
   ]
  },
  {
   "cell_type": "code",
   "execution_count": 21,
   "metadata": {},
   "outputs": [],
   "source": [
    "# switch back to CSV format\n",
    "dev.writer_output = 'csv'"
   ]
  },
  {
   "cell_type": "code",
   "execution_count": 22,
   "metadata": {},
   "outputs": [],
   "source": [
    "# writer method with description and sample number\n",
    "dev.write(description='test_4', n=60, delay=2)"
   ]
  },
  {
   "cell_type": "code",
   "execution_count": 23,
   "metadata": {},
   "outputs": [
    {
     "data": {
      "text/plain": [
       "'2020_12_08_09_20_31_bme680.csv'"
      ]
     },
     "execution_count": 23,
     "metadata": {},
     "output_type": "execute_result"
    }
   ],
   "source": [
    "dev.csv_writer.path"
   ]
  },
  {
   "cell_type": "code",
   "execution_count": 24,
   "metadata": {},
   "outputs": [],
   "source": [
    "# load .csv data written with dev.write\n",
    "m, df = parser.csv_resource(dev.csv_writer.path)"
   ]
  },
  {
   "cell_type": "markdown",
   "metadata": {},
   "source": [
    "#### Metadata in CSV"
   ]
  },
  {
   "cell_type": "code",
   "execution_count": 25,
   "metadata": {},
   "outputs": [
    {
     "data": {
      "text/plain": [
       "{'case_sensitive_header': False,\n",
       " 'comment': '#',\n",
       " 'delimiter': ',',\n",
       " 'double_quote': True,\n",
       " 'encoding': 'utf-8',\n",
       " 'escape_char': '\\\\',\n",
       " 'format': 'text/csv',\n",
       " 'line_terminator': '\\n',\n",
       " 'metadata': {'accuracy': [None,\n",
       "   1,\n",
       "   '+/-1.0',\n",
       "   '+/-0.12',\n",
       "   '+/-3',\n",
       "   '+/-15%',\n",
       "   None,\n",
       "   None],\n",
       "  'bus_addr': 119,\n",
       "  'bus_n': 1,\n",
       "  'description': 'Bosch Humidity, Pressure, Temperature, VOC Sensor',\n",
       "  'dtype': ['str', 'int', 'float', 'float', 'float', 'float', 'bool', 'bool'],\n",
       "  'header': ['description',\n",
       "   'sample_n',\n",
       "   'T',\n",
       "   'P',\n",
       "   'RH',\n",
       "   'g_res',\n",
       "   'g_val',\n",
       "   'heat_stab'],\n",
       "  'manufacturer': 'Bosch Sensortec',\n",
       "  'name': 'BME680',\n",
       "  'precision': [None, 1, 0.1, 0.18, 0.008, 0.08, None, None],\n",
       "  'units': [None,\n",
       "   'count',\n",
       "   'Celcius',\n",
       "   'hectopascals',\n",
       "   'percent',\n",
       "   'ohms',\n",
       "   None,\n",
       "   None],\n",
       "  'urls': 'https://www.bosch-sensortec.com/products/environmental-sensors/gas-sensors-bme680/'},\n",
       " 'null_sequence': 'NA',\n",
       " 'path': '2020_12_08_09_20_31_bme680.csv',\n",
       " 'quote_char': '\"',\n",
       " 'skip_initial_space': True,\n",
       " 'skip_lines': 1,\n",
       " 'standard': 'Follow RFC 4180',\n",
       " 'strfmtime': '%Y-%m-%d %H:%M:%S.%f',\n",
       " 'time_source': 'std_time_ms'}"
      ]
     },
     "execution_count": 25,
     "metadata": {},
     "output_type": "execute_result"
    }
   ],
   "source": [
    "m"
   ]
  },
  {
   "cell_type": "markdown",
   "metadata": {},
   "source": [
    "#### Parsed CSV data"
   ]
  },
  {
   "cell_type": "code",
   "execution_count": 26,
   "metadata": {},
   "outputs": [
    {
     "data": {
      "text/html": [
       "<div>\n",
       "<style scoped>\n",
       "    .dataframe tbody tr th:only-of-type {\n",
       "        vertical-align: middle;\n",
       "    }\n",
       "\n",
       "    .dataframe tbody tr th {\n",
       "        vertical-align: top;\n",
       "    }\n",
       "\n",
       "    .dataframe thead th {\n",
       "        text-align: right;\n",
       "    }\n",
       "</style>\n",
       "<table border=\"1\" class=\"dataframe\">\n",
       "  <thead>\n",
       "    <tr style=\"text-align: right;\">\n",
       "      <th></th>\n",
       "      <th>std_time_ms</th>\n",
       "      <th>description</th>\n",
       "      <th>sample_n</th>\n",
       "      <th>T</th>\n",
       "      <th>P</th>\n",
       "      <th>RH</th>\n",
       "      <th>g_res</th>\n",
       "      <th>g_val</th>\n",
       "      <th>heat_stab</th>\n",
       "      <th>datetime64_ns</th>\n",
       "    </tr>\n",
       "  </thead>\n",
       "  <tbody>\n",
       "    <tr>\n",
       "      <th>0</th>\n",
       "      <td>2020-12-08 09:20:31.537967</td>\n",
       "      <td>test_4</td>\n",
       "      <td>0</td>\n",
       "      <td>24.718672</td>\n",
       "      <td>1006.106202</td>\n",
       "      <td>39.470011</td>\n",
       "      <td>18263</td>\n",
       "      <td>1</td>\n",
       "      <td>1</td>\n",
       "      <td>2020-12-08 09:20:31.537967</td>\n",
       "    </tr>\n",
       "    <tr>\n",
       "      <th>1</th>\n",
       "      <td>2020-12-08 09:20:33.983758</td>\n",
       "      <td>test_4</td>\n",
       "      <td>1</td>\n",
       "      <td>20.427852</td>\n",
       "      <td>1005.976698</td>\n",
       "      <td>38.666471</td>\n",
       "      <td>17533</td>\n",
       "      <td>1</td>\n",
       "      <td>1</td>\n",
       "      <td>2020-12-08 09:20:33.983758</td>\n",
       "    </tr>\n",
       "    <tr>\n",
       "      <th>2</th>\n",
       "      <td>2020-12-08 09:20:36.429614</td>\n",
       "      <td>test_4</td>\n",
       "      <td>2</td>\n",
       "      <td>20.015352</td>\n",
       "      <td>1005.990117</td>\n",
       "      <td>39.364620</td>\n",
       "      <td>17305</td>\n",
       "      <td>1</td>\n",
       "      <td>1</td>\n",
       "      <td>2020-12-08 09:20:36.429614</td>\n",
       "    </tr>\n",
       "    <tr>\n",
       "      <th>3</th>\n",
       "      <td>2020-12-08 09:20:38.875459</td>\n",
       "      <td>test_4</td>\n",
       "      <td>3</td>\n",
       "      <td>19.845625</td>\n",
       "      <td>1005.991429</td>\n",
       "      <td>40.285024</td>\n",
       "      <td>17104</td>\n",
       "      <td>1</td>\n",
       "      <td>1</td>\n",
       "      <td>2020-12-08 09:20:38.875459</td>\n",
       "    </tr>\n",
       "    <tr>\n",
       "      <th>4</th>\n",
       "      <td>2020-12-08 09:20:41.321346</td>\n",
       "      <td>test_4</td>\n",
       "      <td>4</td>\n",
       "      <td>19.762227</td>\n",
       "      <td>1005.980578</td>\n",
       "      <td>41.150262</td>\n",
       "      <td>16995</td>\n",
       "      <td>1</td>\n",
       "      <td>1</td>\n",
       "      <td>2020-12-08 09:20:41.321346</td>\n",
       "    </tr>\n",
       "  </tbody>\n",
       "</table>\n",
       "</div>"
      ],
      "text/plain": [
       "                  std_time_ms description  sample_n          T            P  \\\n",
       "0  2020-12-08 09:20:31.537967      test_4         0  24.718672  1006.106202   \n",
       "1  2020-12-08 09:20:33.983758      test_4         1  20.427852  1005.976698   \n",
       "2  2020-12-08 09:20:36.429614      test_4         2  20.015352  1005.990117   \n",
       "3  2020-12-08 09:20:38.875459      test_4         3  19.845625  1005.991429   \n",
       "4  2020-12-08 09:20:41.321346      test_4         4  19.762227  1005.980578   \n",
       "\n",
       "          RH  g_res  g_val  heat_stab              datetime64_ns  \n",
       "0  39.470011  18263      1          1 2020-12-08 09:20:31.537967  \n",
       "1  38.666471  17533      1          1 2020-12-08 09:20:33.983758  \n",
       "2  39.364620  17305      1          1 2020-12-08 09:20:36.429614  \n",
       "3  40.285024  17104      1          1 2020-12-08 09:20:38.875459  \n",
       "4  41.150262  16995      1          1 2020-12-08 09:20:41.321346  "
      ]
     },
     "execution_count": 26,
     "metadata": {},
     "output_type": "execute_result"
    }
   ],
   "source": [
    "df.head()"
   ]
  },
  {
   "cell_type": "code",
   "execution_count": 27,
   "metadata": {},
   "outputs": [
    {
     "data": {
      "image/png": "[encoded data removed]",
      "text/plain": [
       "<Figure size 432x288 with 1 Axes>"
      ]
     },
     "metadata": {
      "needs_background": "light"
     },
     "output_type": "display_data"
    }
   ],
   "source": [
    "df[\"dt\"] = pd.to_datetime(df.std_time_ms)\n",
    "df[[\"dt\", \"g_res\"]].plot(x=\"dt\");"
   ]
  },
  {
   "cell_type": "code",
   "execution_count": 28,
   "metadata": {},
   "outputs": [
    {
     "data": {
      "image/png": "[encoded data removed]",
      "text/plain": [
       "<Figure size 432x288 with 2 Axes>"
      ]
     },
     "metadata": {
      "needs_background": "light"
     },
     "output_type": "display_data"
    }
   ],
   "source": [
    "df[[\"dt\", \"T\", \"RH\"]].plot(x=\"dt\", secondary_y=\"RH\");"
   ]
  },
  {
   "cell_type": "code",
   "execution_count": 29,
   "metadata": {},
   "outputs": [
    {
     "data": {
      "image/png": "[encoded data removed]",
      "text/plain": [
       "<Figure size 432x288 with 1 Axes>"
      ]
     },
     "metadata": {
      "needs_background": "light"
     },
     "output_type": "display_data"
    }
   ],
   "source": [
    "df[[\"dt\", \"P\"]].plot(x=\"dt\");"
   ]
  }
 ],
 "metadata": {
  "kernelspec": {
   "display_name": "Python 3",
   "language": "python",
   "name": "python3"
  },
  "language_info": {
   "codemirror_mode": {
    "name": "ipython",
    "version": 3
   },
   "file_extension": ".py",
   "mimetype": "text/x-python",
   "name": "python",
   "nbconvert_exporter": "python",
   "pygments_lexer": "ipython3",
   "version": "3.7.3"
  }
 },
 "nbformat": 4,
 "nbformat_minor": 4
}
