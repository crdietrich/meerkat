{
 "cells": [
  {
   "cell_type": "markdown",
   "metadata": {},
   "source": [
    "## MCP4728 Digitial to Analog Converter  \n",
    "The MCP4728 is a digitial to analog converter.  \n",
    "\n",
    "Manufacturer Link:  \n",
    "https://www.microchip.com/en-us/product/MCP4728  \n",
    "\n",
    "Breakout Board Used:  \n",
    "https://learn.adafruit.com/adafruit-mcp4728-i2c-quad-dac  \n",
    "\n",
    "### Notes on use\n",
    "\n",
    "In most I2C cases, v_dd will be either 3.3V or 5.0V. The MCP4728 can\n",
    "handle as much as 24mA current at 5V (0.12W) in short circuit. \n",
    "By comparison, the Raspberry Pi can source at most 16mA of current \n",
    "at 3.3V (0.05W). Unless the application output will draw a very \n",
    "small amount of current, an external (to the I2C bus) voltage source \n",
    "should probably be used. \n",
    "See the Adafruit ISO1540 Bidirectional I2C Isolator as a possible solution.\n",
    "\n",
    "The manufacturer uses the term VDD (Vdd) for external voltage, many other \n",
    "sources use the term VCC (Vcc). VDD is used here to be consistent with the\n",
    "datasheet, but manufacturers like Adafruit use VCC on the pinouts labels."
   ]
  },
  {
   "cell_type": "code",
   "execution_count": 1,
   "metadata": {},
   "outputs": [],
   "source": [
    "from meerkat import mcp4728, parser"
   ]
  },
  {
   "cell_type": "code",
   "execution_count": 2,
   "metadata": {},
   "outputs": [],
   "source": [
    "m = mcp4728.MCP4728(bus_n=1)"
   ]
  },
  {
   "cell_type": "code",
   "execution_count": 3,
   "metadata": {},
   "outputs": [],
   "source": [
    "r = m.general_call_read_address()"
   ]
  },
  {
   "cell_type": "markdown",
   "metadata": {},
   "source": [
    "Setting the VDD / VCC voltage supplied to the chip is required"
   ]
  },
  {
   "cell_type": "code",
   "execution_count": 4,
   "metadata": {},
   "outputs": [],
   "source": [
    "m.v_dd = 3.3"
   ]
  },
  {
   "cell_type": "markdown",
   "metadata": {},
   "source": [
    "### 1. Determining input code from voltage  \n",
    "For a first case, let's create a 0.5V output.  "
   ]
  },
  {
   "cell_type": "code",
   "execution_count": 5,
   "metadata": {},
   "outputs": [
    {
     "data": {
      "text/plain": [
       "\u001b[0;31mSignature:\u001b[0m \u001b[0mm\u001b[0m\u001b[0;34m.\u001b[0m\u001b[0mcalculate_input_code\u001b[0m\u001b[0;34m(\u001b[0m\u001b[0mv_target\u001b[0m\u001b[0;34m,\u001b[0m \u001b[0mv_ref_source\u001b[0m\u001b[0;34m,\u001b[0m \u001b[0mgain\u001b[0m\u001b[0;34m,\u001b[0m \u001b[0mv_dd\u001b[0m\u001b[0;34m)\u001b[0m\u001b[0;34m\u001b[0m\u001b[0;34m\u001b[0m\u001b[0m\n",
       "\u001b[0;31mDocstring:\u001b[0m\n",
       "Calculate the required input register code\n",
       "required to produce a specific voltage\n",
       "\n",
       "Parameters\n",
       "----------\n",
       "v_target : float, voltage target output on the DAC\n",
       "v_ref_source : str, either 'internal' (2.048V/4.096V) or 'external' (VDD)\n",
       "gain : int, gain of DAC, either 1 or 2\n",
       "v_dd : float, voltage source for the device. Could be I2C 3.3V or 5.0V, \n",
       "    or something else supplied on VDD\n",
       "\n",
       "Returns\n",
       "-------\n",
       "int, DAC inpute code required to achieve v_target\n",
       "\u001b[0;31mFile:\u001b[0m      ~/code/meerkat/meerkat/mcp4728.py\n",
       "\u001b[0;31mType:\u001b[0m      function\n"
      ]
     },
     "metadata": {},
     "output_type": "display_data"
    }
   ],
   "source": [
    "m.calculate_input_code?"
   ]
  },
  {
   "cell_type": "code",
   "execution_count": 6,
   "metadata": {},
   "outputs": [
    {
     "data": {
      "text/plain": [
       "1000"
      ]
     },
     "execution_count": 6,
     "metadata": {},
     "output_type": "execute_result"
    }
   ],
   "source": [
    "m.calculate_input_code(v_target=0.5, v_ref_source='internal', gain=1, v_dd=3.3)"
   ]
  },
  {
   "cell_type": "markdown",
   "metadata": {},
   "source": [
    "It's not possible to generate a voltage above the reference voltage."
   ]
  },
  {
   "cell_type": "code",
   "execution_count": 7,
   "metadata": {},
   "outputs": [
    {
     "data": {
      "text/plain": [
       "'Gain must be 2 for v_target > v_ref internal'"
      ]
     },
     "execution_count": 7,
     "metadata": {},
     "output_type": "execute_result"
    }
   ],
   "source": [
    "m.calculate_input_code(v_target=2.35, v_ref_source='internal', gain=1, v_dd=3.3)"
   ]
  },
  {
   "cell_type": "code",
   "execution_count": 8,
   "metadata": {},
   "outputs": [
    {
     "data": {
      "text/plain": [
       "2350"
      ]
     },
     "execution_count": 8,
     "metadata": {},
     "output_type": "execute_result"
    }
   ],
   "source": [
    "m.calculate_input_code(v_target=2.35, v_ref_source='internal', gain=2, v_dd=3.3)"
   ]
  },
  {
   "cell_type": "markdown",
   "metadata": {},
   "source": [
    "Confirm the code with generate the desired output voltage. Note `v_dd` is the VDD/VCC voltage supplied to the chip, either from the I2C bus or via an isolated external voltage source."
   ]
  },
  {
   "cell_type": "code",
   "execution_count": 9,
   "metadata": {},
   "outputs": [
    {
     "data": {
      "text/plain": [
       "\u001b[0;31mSignature:\u001b[0m \u001b[0mm\u001b[0m\u001b[0;34m.\u001b[0m\u001b[0moutput_voltage\u001b[0m\u001b[0;34m(\u001b[0m\u001b[0minput_code\u001b[0m\u001b[0;34m,\u001b[0m \u001b[0mv_ref_source\u001b[0m\u001b[0;34m,\u001b[0m \u001b[0mgain\u001b[0m\u001b[0;34m,\u001b[0m \u001b[0mv_dd\u001b[0m\u001b[0;34m=\u001b[0m\u001b[0;32mNone\u001b[0m\u001b[0;34m)\u001b[0m\u001b[0;34m\u001b[0m\u001b[0;34m\u001b[0m\u001b[0m\n",
       "\u001b[0;31mDocstring:\u001b[0m\n",
       "Check output code voltage output\n",
       "\n",
       "Parameters\n",
       "----------\n",
       "input_code : int, DAC inpute code required to achieve v_target\n",
       "v_ref_source : str, either 'internal' (2.048V/4.096V) or 'external' (VDD)\n",
       "gain : int, gain of DAC, either 1 or 2\n",
       "v_dd : float, voltage source for the device. Could be I2C 3.3V or 5.0V, \n",
       "    or something else supplied on VDD\n",
       "Returns\n",
       "-------\n",
       "v_target : float, DAC vol\n",
       "\u001b[0;31mFile:\u001b[0m      ~/code/meerkat/meerkat/mcp4728.py\n",
       "\u001b[0;31mType:\u001b[0m      function\n"
      ]
     },
     "metadata": {},
     "output_type": "display_data"
    }
   ],
   "source": [
    "m.output_voltage?"
   ]
  },
  {
   "cell_type": "code",
   "execution_count": 10,
   "metadata": {},
   "outputs": [
    {
     "data": {
      "text/plain": [
       "2.35"
      ]
     },
     "execution_count": 10,
     "metadata": {},
     "output_type": "execute_result"
    }
   ],
   "source": [
    "m.output_voltage(input_code=2350, v_ref_source='internal', gain=2, v_dd=3.3)"
   ]
  },
  {
   "cell_type": "markdown",
   "metadata": {},
   "source": [
    "Using the internal reference, the target voltage cannot be above 2x 2.048V = 4.096V, even if the chip is supplied with 5.0V power."
   ]
  },
  {
   "cell_type": "code",
   "execution_count": 11,
   "metadata": {},
   "outputs": [
    {
     "data": {
      "text/plain": [
       "'v_target must be <= 4.096V if using internal'"
      ]
     },
     "execution_count": 11,
     "metadata": {},
     "output_type": "execute_result"
    }
   ],
   "source": [
    "m.calculate_input_code(v_target=5.0, v_ref_source='internal', gain=2, v_dd=5.0)"
   ]
  },
  {
   "cell_type": "markdown",
   "metadata": {},
   "source": [
    "Finally, if using an external voltage source the target voltage still has to be at or below the supplied voltage."
   ]
  },
  {
   "cell_type": "code",
   "execution_count": 12,
   "metadata": {},
   "outputs": [
    {
     "data": {
      "text/plain": [
       "'v_target must be <= v_dd'"
      ]
     },
     "execution_count": 12,
     "metadata": {},
     "output_type": "execute_result"
    }
   ],
   "source": [
    "m.calculate_input_code(v_target=5.5, v_ref_source='external', gain=1, v_dd=5.0)"
   ]
  },
  {
   "cell_type": "code",
   "execution_count": 13,
   "metadata": {},
   "outputs": [
    {
     "data": {
      "text/plain": [
       "'v_target must be <= v_dd'"
      ]
     },
     "execution_count": 13,
     "metadata": {},
     "output_type": "execute_result"
    }
   ],
   "source": [
    "m.calculate_input_code(v_target=5.5, v_ref_source='external', gain=2, v_dd=5.0)"
   ]
  },
  {
   "cell_type": "markdown",
   "metadata": {},
   "source": [
    "### 2. Channel A Demo  \n",
    "Let's get 0.5V from channel A"
   ]
  },
  {
   "cell_type": "code",
   "execution_count": 14,
   "metadata": {},
   "outputs": [
    {
     "data": {
      "text/plain": [
       "1000"
      ]
     },
     "execution_count": 14,
     "metadata": {},
     "output_type": "execute_result"
    }
   ],
   "source": [
    "m.calculate_input_code(v_target=0.5, v_ref_source='internal', gain=1, v_dd=3.3)"
   ]
  },
  {
   "cell_type": "markdown",
   "metadata": {},
   "source": [
    "And check the code will do what we want"
   ]
  },
  {
   "cell_type": "code",
   "execution_count": 15,
   "metadata": {},
   "outputs": [
    {
     "data": {
      "text/plain": [
       "0.5"
      ]
     },
     "execution_count": 15,
     "metadata": {},
     "output_type": "execute_result"
    }
   ],
   "source": [
    "m.output_voltage(input_code=1000, v_ref_source='internal', gain=1, v_dd=3.3)"
   ]
  },
  {
   "cell_type": "markdown",
   "metadata": {},
   "source": [
    "Now program the channel using `set_channel`"
   ]
  },
  {
   "cell_type": "code",
   "execution_count": 16,
   "metadata": {},
   "outputs": [
    {
     "data": {
      "text/plain": [
       "\u001b[0;31mSignature:\u001b[0m\n",
       "\u001b[0mm\u001b[0m\u001b[0;34m.\u001b[0m\u001b[0mset_channel\u001b[0m\u001b[0;34m(\u001b[0m\u001b[0;34m\u001b[0m\n",
       "\u001b[0;34m\u001b[0m    \u001b[0mchannel\u001b[0m\u001b[0;34m,\u001b[0m\u001b[0;34m\u001b[0m\n",
       "\u001b[0;34m\u001b[0m    \u001b[0mv_ref_source\u001b[0m\u001b[0;34m,\u001b[0m\u001b[0;34m\u001b[0m\n",
       "\u001b[0;34m\u001b[0m    \u001b[0mpower_down\u001b[0m\u001b[0;34m,\u001b[0m\u001b[0;34m\u001b[0m\n",
       "\u001b[0;34m\u001b[0m    \u001b[0mgain\u001b[0m\u001b[0;34m,\u001b[0m\u001b[0;34m\u001b[0m\n",
       "\u001b[0;34m\u001b[0m    \u001b[0minput_code\u001b[0m\u001b[0;34m,\u001b[0m\u001b[0;34m\u001b[0m\n",
       "\u001b[0;34m\u001b[0m    \u001b[0mdescription\u001b[0m\u001b[0;34m=\u001b[0m\u001b[0;34m'no description'\u001b[0m\u001b[0;34m,\u001b[0m\u001b[0;34m\u001b[0m\n",
       "\u001b[0;34m\u001b[0m\u001b[0;34m)\u001b[0m\u001b[0;34m\u001b[0m\u001b[0;34m\u001b[0m\u001b[0m\n",
       "\u001b[0;31mDocstring:\u001b[0m\n",
       "Write single channel output\n",
       "\n",
       "Parameters\n",
       "----------\n",
       "channel : str, either 'a', 'b', 'c' or 'd' corresponding \n",
       "    to the output channel\n",
       "v_ref_source : str, either 'internal' (2.048V/4.096V) or 'external' (VDD)\n",
       "power_down : str, either 'normal' or one of the power-down\n",
       "    resistor to ground values of '1k' '100k' or '500k'\n",
       "gain : int, either 1 or 2 for multiplier relative to\n",
       "    the internal reference voltage\n",
       "input_code : int, between 0 and 4095 to set the \n",
       "    output voltage\n",
       "\u001b[0;31mFile:\u001b[0m      ~/code/meerkat/meerkat/mcp4728.py\n",
       "\u001b[0;31mType:\u001b[0m      method\n"
      ]
     },
     "metadata": {},
     "output_type": "display_data"
    }
   ],
   "source": [
    "m.set_channel?"
   ]
  },
  {
   "cell_type": "code",
   "execution_count": 17,
   "metadata": {},
   "outputs": [],
   "source": [
    "m.set_channel(channel='a',\n",
    "              v_ref_source='internal',\n",
    "              power_down='normal',\n",
    "              gain=1,\n",
    "              input_code=1000,\n",
    "              description='test 1: 0.5V')"
   ]
  },
  {
   "cell_type": "markdown",
   "metadata": {},
   "source": [
    "Using a multi-meter, confirm the voltage between the pins `VA` (+) and `GND` (-) is 0.5"
   ]
  },
  {
   "cell_type": "markdown",
   "metadata": {},
   "source": [
    "### 3. Channel B Demo  \n",
    "This time we'll use a gain of 2, even though we don't need to. The LSB resolution will be lower in this case but note the `v_target` is above the 2.048 of v_ref when gain is 1. By setting the gain to 2, v_ref is now 4.096."
   ]
  },
  {
   "cell_type": "code",
   "execution_count": 18,
   "metadata": {},
   "outputs": [
    {
     "data": {
      "text/plain": [
       "3100"
      ]
     },
     "execution_count": 18,
     "metadata": {},
     "output_type": "execute_result"
    }
   ],
   "source": [
    "m.calculate_input_code(v_target=3.1, v_ref_source='internal', gain=2, v_dd=3.3)"
   ]
  },
  {
   "cell_type": "code",
   "execution_count": 19,
   "metadata": {},
   "outputs": [
    {
     "data": {
      "text/plain": [
       "3.1"
      ]
     },
     "execution_count": 19,
     "metadata": {},
     "output_type": "execute_result"
    }
   ],
   "source": [
    "m.output_voltage(input_code=3100, v_ref_source='internal', gain=2, v_dd=3.3)"
   ]
  },
  {
   "cell_type": "code",
   "execution_count": 20,
   "metadata": {},
   "outputs": [],
   "source": [
    "m.set_channel(channel='b',\n",
    "              v_ref_source='internal',\n",
    "              power_down='normal',\n",
    "              gain=2,\n",
    "              input_code=3100,\n",
    "              description='test 2: 3.1V')"
   ]
  },
  {
   "cell_type": "markdown",
   "metadata": {},
   "source": [
    "### 4. Data Output Formats  \n",
    "The class attribute `state` stores each channels commanded state since code initialization. It does not read the registers directly. Therefore if the chip has been powered on but the Python class reinitialized, this state will be out of sync until each channel is issued a command again."
   ]
  },
  {
   "cell_type": "code",
   "execution_count": 21,
   "metadata": {},
   "outputs": [
    {
     "data": {
      "text/plain": [
       "{'a': ['test 1: 0.5V', 'a', 'internal', 3.3, 'normal', 1, 1000, 0.5],\n",
       " 'b': ['test 2: 3.1V', 'b', 'internal', 3.3, 'normal', 2, 3100, 3.1],\n",
       " 'c': None,\n",
       " 'd': None}"
      ]
     },
     "execution_count": 21,
     "metadata": {},
     "output_type": "execute_result"
    }
   ],
   "source": [
    "m.state"
   ]
  },
  {
   "cell_type": "markdown",
   "metadata": {},
   "source": [
    "Publish the state to JSON"
   ]
  },
  {
   "cell_type": "code",
   "execution_count": 22,
   "metadata": {},
   "outputs": [
    {
     "data": {
      "text/plain": [
       "['{\"description\": \"test 1: 0.5V\", \"channel\": \"a\", \"v_ref_source\": \"internal\", \"v_dd\": 3.3, \"power_down\": \"normal\", \"gain\": 1, \"input_code\": 1000, \"output_voltage\": 0.5, \"std_time_ms\": \"2021-12-23 15:38:10.805738\"}',\n",
       " '{\"description\": \"test 2: 3.1V\", \"channel\": \"b\", \"v_ref_source\": \"internal\", \"v_dd\": 3.3, \"power_down\": \"normal\", \"gain\": 2, \"input_code\": 3100, \"output_voltage\": 3.1, \"std_time_ms\": \"2021-12-23 15:38:10.805884\"}',\n",
       " '{\"description\": \"not_initialized\", \"channel\": \"c\", \"v_ref_source\": null, \"v_dd\": null, \"power_down\": null, \"gain\": null, \"input_code\": null, \"std_time_ms\": \"2021-12-23 15:38:10.806010\"}',\n",
       " '{\"description\": \"not_initialized\", \"channel\": \"d\", \"v_ref_source\": null, \"v_dd\": null, \"power_down\": null, \"gain\": null, \"input_code\": null, \"std_time_ms\": \"2021-12-23 15:38:10.806083\"}']"
      ]
     },
     "execution_count": 22,
     "metadata": {},
     "output_type": "execute_result"
    }
   ],
   "source": [
    "m.publish()"
   ]
  },
  {
   "cell_type": "markdown",
   "metadata": {},
   "source": [
    "Write the data to disk, in this case using the default writer format of csv"
   ]
  },
  {
   "cell_type": "code",
   "execution_count": 23,
   "metadata": {},
   "outputs": [],
   "source": [
    "m.write()"
   ]
  },
  {
   "cell_type": "code",
   "execution_count": 24,
   "metadata": {},
   "outputs": [
    {
     "data": {
      "text/plain": [
       "({'encoding': 'utf-8',\n",
       "  'format': 'text/csv',\n",
       "  'standard': 'Follow RFC 4180',\n",
       "  'line_terminator': '\\n',\n",
       "  'quote_char': '\"',\n",
       "  'double_quote': True,\n",
       "  'escape_char': '\\\\',\n",
       "  'null_sequence': 'NA',\n",
       "  'comment': '#',\n",
       "  'path': '2021_12_23_15_38_10_mcp4728.csv',\n",
       "  'time_source': 'std_time_ms',\n",
       "  'time_format': '%Y-%m-%d %H:%M:%S.%f',\n",
       "  'delimiter': ',',\n",
       "  'skip_initial_space': True,\n",
       "  'case_sensitive_header': False,\n",
       "  'skip_lines': 1},\n",
       "                   std_time_ms      description channel v_ref_source  v_dd  \\\n",
       " 0  2021-12-23 15:38:10.826521     test 1: 0.5V       a     internal   3.3   \n",
       " 1  2021-12-23 15:38:10.826785     test 2: 3.1V       b     internal   3.3   \n",
       " 2  2021-12-23 15:38:10.826973  not_initialized       c         None  None   \n",
       " 3  2021-12-23 15:38:10.827133  not_initialized       d         None  None   \n",
       " \n",
       "   power_down  gain input_code  output_voltage              datetime64_ns  \n",
       " 0     normal     1       1000             0.5 2021-12-23 15:38:10.826521  \n",
       " 1     normal     2       3100             3.1 2021-12-23 15:38:10.826785  \n",
       " 2       None  None       None             NaN 2021-12-23 15:38:10.826973  \n",
       " 3       None  None       None             NaN 2021-12-23 15:38:10.827133  )"
      ]
     },
     "execution_count": 24,
     "metadata": {},
     "output_type": "execute_result"
    }
   ],
   "source": [
    "parser.csv_resource(m.csv_writer.path)"
   ]
  }
 ],
 "metadata": {
  "kernelspec": {
   "display_name": "Python 3",
   "language": "python",
   "name": "python3"
  },
  "language_info": {
   "codemirror_mode": {
    "name": "ipython",
    "version": 3
   },
   "file_extension": ".py",
   "mimetype": "text/x-python",
   "name": "python",
   "nbconvert_exporter": "python",
   "pygments_lexer": "ipython3",
   "version": "3.7.3"
  }
 },
 "nbformat": 4,
 "nbformat_minor": 4
}
