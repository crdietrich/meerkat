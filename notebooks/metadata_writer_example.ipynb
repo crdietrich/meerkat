{
 "cells": [
  {
   "cell_type": "code",
   "execution_count": 1,
   "metadata": {},
   "outputs": [],
   "source": [
    "from meerkat import parser\n",
    "from meerkat.data import Meta, CSVWriter, JSONWriter"
   ]
  },
  {
   "cell_type": "markdown",
   "metadata": {},
   "source": [
    "### Meta Class\n",
    "The `Meta` class holds information about a data source. In most cases the source is a physical data aquisition device, however derived devices such as thermistors can also be described. Any attributes set to `None` will not be written or published."
   ]
  },
  {
   "cell_type": "code",
   "execution_count": 2,
   "metadata": {},
   "outputs": [],
   "source": [
    "metadata = Meta(name='string_driver_name')\n",
    "\n",
    "metadata.description      = 'Metadata to describe what the data being recorded is'\n",
    "metadata.urls             = 'https://www.example.com'\n",
    "metadata.active           = 'if the state of the device matters'\n",
    "metadata.error            = 'if any errors have been caught by the driver'\n",
    "metadata.bus              = 'the string representation of the I2C bus the driver is on'\n",
    "metadata.manufacturer     = 'manufacturer of the device'\n",
    "metadata.version_hw       = 'hardware version number'\n",
    "metadata.version_sw       = 'softeware or driver version number'\n",
    "\n",
    "metadata.header    = ['c1', 'c2', 'c3']\n",
    "metadata.dtype     = ['str', 'int', 'float'] \n",
    "metadata.accuracy  = 'manufacturer or derived accuracy, single value or list'\n",
    "metadata.precision = 'manufacturer or derived precision, single value or list'\n",
    "\n",
    "metadata.calibration_date = 'date of last calibration'"
   ]
  },
  {
   "cell_type": "markdown",
   "metadata": {},
   "source": [
    "#### GPS Example  \n",
    "For the PA1010D GPS module, Adafruit sold the device but CDTop built it and provides the datasheet. The NMEA sentence remains a string to be parsed in post-processing. The `bus` attribute is set with the I2C bus the driver is being used on with `repr(self.bus)` relative to the driver class. Here it's set as a string since the example isn't loading an I2C connection."
   ]
  },
  {
   "cell_type": "code",
   "execution_count": 3,
   "metadata": {},
   "outputs": [],
   "source": [
    "metadata = Meta('pa1010d')\n",
    "metadata.description = 'Adafruit PA1010D GPS/GNSS module'\n",
    "metadata.urls = 'https://www.cdtop-tech.com/products/pa1010d'\n",
    "metadata.active = None\n",
    "metadata.error = None\n",
    "metadata.bus = 'repr(self.bus)'\n",
    "metadata.manufacturer = 'CDTop Technology'\n",
    "metadata.version_hw = '1.0'\n",
    "metadata.version_sw = '1.0'\n",
    "\n",
    "metadata.header    = ['description', 'sample_n', 'nmea_sentence']\n",
    "metadata.dtype     = ['str', 'int', 'str']\n",
    "metadata.accuracy  = None\n",
    "metadata.precision = '<3.0 meters'\n",
    "\n",
    "metadata.calibration_date = None"
   ]
  },
  {
   "cell_type": "markdown",
   "metadata": {},
   "source": [
    "#### Generic Example"
   ]
  },
  {
   "cell_type": "code",
   "execution_count": 4,
   "metadata": {},
   "outputs": [],
   "source": [
    "metadata = Meta(name='test_device_metadata')\n",
    "\n",
    "metadata.description      = 'Test metadata for example'\n",
    "metadata.urls             = 'https://www.example.com'\n",
    "metadata.active           = None\n",
    "metadata.error            = None\n",
    "metadata.bus              = 'I2C_bus_id'\n",
    "metadata.manufacturer     = 'Dr Brown Enterprises'\n",
    "metadata.version_hw       = '1.1'\n",
    "metadata.version_sw       = '1.1'\n",
    "metadata.accuracy         = None\n",
    "metadata.precision        = 'pretty good!'\n",
    "metadata.calibration_date = None\n",
    "\n",
    "metadata.header = ['c1', 'c2', 'c3']\n",
    "metadata.dtype  = ['str', 'int', 'float'] "
   ]
  },
  {
   "cell_type": "code",
   "execution_count": 5,
   "metadata": {},
   "outputs": [
    {
     "data": {
      "text/plain": [
       "{'name': 'test_device_metadata', 'description': 'Test metadata for example', 'urls': 'https://www.example.com', 'manufacturer': 'Dr Brown Enterprises', 'header': ['c1', 'c2', 'c3'], 'dtype': ['str', 'int', 'float'], 'precision': 'pretty good!', 'bus': 'I2C_bus_id', 'version_hw': '1.1', 'version_sw': '1.1'}"
      ]
     },
     "execution_count": 5,
     "metadata": {},
     "output_type": "execute_result"
    }
   ],
   "source": [
    "metadata"
   ]
  },
  {
   "cell_type": "code",
   "execution_count": 6,
   "metadata": {},
   "outputs": [
    {
     "data": {
      "text/plain": [
       "{'name': 'test_device_metadata',\n",
       " 'description': 'Test metadata for example',\n",
       " 'urls': 'https://www.example.com',\n",
       " 'manufacturer': 'Dr Brown Enterprises',\n",
       " 'header': ['c1', 'c2', 'c3'],\n",
       " 'dtype': ['str', 'int', 'float'],\n",
       " 'precision': 'pretty good!',\n",
       " 'bus': 'I2C_bus_id',\n",
       " 'version_hw': '1.1',\n",
       " 'version_sw': '1.1'}"
      ]
     },
     "execution_count": 6,
     "metadata": {},
     "output_type": "execute_result"
    }
   ],
   "source": [
    "metadata.values()"
   ]
  },
  {
   "cell_type": "code",
   "execution_count": 7,
   "metadata": {},
   "outputs": [],
   "source": [
    "wrc = CSVWriter(name='test', metadata=metadata, )"
   ]
  },
  {
   "cell_type": "code",
   "execution_count": 8,
   "metadata": {},
   "outputs": [
    {
     "data": {
      "text/plain": [
       "{'name': 'test',\n",
       " 'encoding': 'utf-8',\n",
       " 'format': 'text/csv',\n",
       " 'standard': 'Follow RFC 4180',\n",
       " 'line_terminator': '\\n',\n",
       " 'quote_char': '\"',\n",
       " 'double_quote': True,\n",
       " 'escape_char': '\\\\',\n",
       " 'null_sequence': 'NA',\n",
       " 'comment': '#',\n",
       " 'metadata': {'name': 'test_device_metadata',\n",
       "  'description': 'Test metadata for example',\n",
       "  'urls': 'https://www.example.com',\n",
       "  'manufacturer': 'Dr Brown Enterprises',\n",
       "  'header': ['c1', 'c2', 'c3'],\n",
       "  'dtype': ['str', 'int', 'float'],\n",
       "  'precision': 'pretty good!',\n",
       "  'bus': 'I2C_bus_id',\n",
       "  'version_hw': '1.1',\n",
       "  'version_sw': '1.1'},\n",
       " 'time_source': 'std_time',\n",
       " 'strfmtime': '%Y-%m-%d %H:%M:%S',\n",
       " 'delimiter': ',',\n",
       " 'skip_initial_space': True,\n",
       " 'case_sensitive_header': False,\n",
       " 'skip_lines': 1}"
      ]
     },
     "execution_count": 8,
     "metadata": {},
     "output_type": "execute_result"
    }
   ],
   "source": [
    "wrc.values()"
   ]
  },
  {
   "cell_type": "code",
   "execution_count": 9,
   "metadata": {},
   "outputs": [
    {
     "data": {
      "text/plain": [
       "\u001b[0;31mSignature:\u001b[0m \u001b[0mwrc\u001b[0m\u001b[0;34m.\u001b[0m\u001b[0mwrite\u001b[0m\u001b[0;34m(\u001b[0m\u001b[0mdata\u001b[0m\u001b[0;34m)\u001b[0m\u001b[0;34m\u001b[0m\u001b[0;34m\u001b[0m\u001b[0m\n",
       "\u001b[0;31mDocstring:\u001b[0m\n",
       "Write data to file, write header if not yet done\n",
       "To be called by the child class method 'write'\n",
       "with a properly formed data list\n",
       "\u001b[0;31mFile:\u001b[0m      ~/code/meerkat/meerkat/data.py\n",
       "\u001b[0;31mType:\u001b[0m      method\n"
      ]
     },
     "metadata": {},
     "output_type": "display_data"
    }
   ],
   "source": [
    "wrc.write?"
   ]
  },
  {
   "cell_type": "code",
   "execution_count": 10,
   "metadata": {},
   "outputs": [],
   "source": [
    "wrc.write(data=[1,1,1])"
   ]
  },
  {
   "cell_type": "code",
   "execution_count": 11,
   "metadata": {},
   "outputs": [],
   "source": [
    "wrc.write(data=[1,2,2])"
   ]
  },
  {
   "cell_type": "code",
   "execution_count": 12,
   "metadata": {},
   "outputs": [],
   "source": [
    "wrc.write(data=[1,3,5])"
   ]
  },
  {
   "cell_type": "code",
   "execution_count": 13,
   "metadata": {},
   "outputs": [
    {
     "data": {
      "text/plain": [
       "'2020_11_09_12_01_06_test.csv'"
      ]
     },
     "execution_count": 13,
     "metadata": {},
     "output_type": "execute_result"
    }
   ],
   "source": [
    "wrc.path"
   ]
  },
  {
   "cell_type": "code",
   "execution_count": 14,
   "metadata": {},
   "outputs": [
    {
     "data": {
      "text/plain": [
       "['c1', 'c2', 'c3']"
      ]
     },
     "execution_count": 14,
     "metadata": {},
     "output_type": "execute_result"
    }
   ],
   "source": [
    "wrc.metadata['header']"
   ]
  },
  {
   "cell_type": "code",
   "execution_count": 15,
   "metadata": {},
   "outputs": [
    {
     "data": {
      "text/plain": [
       "\u001b[0;31mSignature:\u001b[0m \u001b[0mparser\u001b[0m\u001b[0;34m.\u001b[0m\u001b[0mcsv_resource\u001b[0m\u001b[0;34m(\u001b[0m\u001b[0mfp\u001b[0m\u001b[0;34m)\u001b[0m\u001b[0;34m\u001b[0m\u001b[0;34m\u001b[0m\u001b[0m\n",
       "\u001b[0;31mDocstring:\u001b[0m\n",
       "Parse a .csv file generated with Meerkat\n",
       "\n",
       "Parameters\n",
       "----------\n",
       "fp : filepath to saved data\n",
       "\n",
       "Returns\n",
       "-------\n",
       "meta : dict, metadata describing data\n",
       "df : Pandas DataFrame, data recorded from device(s) described in meta\n",
       "\u001b[0;31mFile:\u001b[0m      ~/code/meerkat/meerkat/parser.py\n",
       "\u001b[0;31mType:\u001b[0m      function\n"
      ]
     },
     "metadata": {},
     "output_type": "display_data"
    }
   ],
   "source": [
    "parser.csv_resource?"
   ]
  },
  {
   "cell_type": "code",
   "execution_count": 16,
   "metadata": {},
   "outputs": [],
   "source": [
    "m, df = parser.csv_resource(wrc.path)"
   ]
  },
  {
   "cell_type": "code",
   "execution_count": 17,
   "metadata": {},
   "outputs": [
    {
     "data": {
      "text/plain": [
       "{'name': 'test',\n",
       " 'encoding': 'utf-8',\n",
       " 'format': 'text/csv',\n",
       " 'standard': 'Follow RFC 4180',\n",
       " 'line_terminator': '\\n',\n",
       " 'quote_char': '\"',\n",
       " 'double_quote': True,\n",
       " 'escape_char': '\\\\',\n",
       " 'null_sequence': 'NA',\n",
       " 'comment': '#',\n",
       " 'path': '2020_11_09_12_01_06_test.csv',\n",
       " 'metadata': {'name': 'test_device_metadata',\n",
       "  'description': 'Test metadata for example',\n",
       "  'urls': 'https://www.example.com',\n",
       "  'manufacturer': 'Dr Brown Enterprises',\n",
       "  'header': ['c1', 'c2', 'c3'],\n",
       "  'dtype': ['str', 'int', 'float'],\n",
       "  'precision': 'pretty good!',\n",
       "  'bus': 'I2C_bus_id',\n",
       "  'version_hw': '1.1',\n",
       "  'version_sw': '1.1'},\n",
       " 'time_source': 'std_time',\n",
       " 'strfmtime': '%Y-%m-%d %H:%M:%S',\n",
       " 'delimiter': ',',\n",
       " 'skip_initial_space': True,\n",
       " 'case_sensitive_header': False,\n",
       " 'skip_lines': 1}"
      ]
     },
     "execution_count": 17,
     "metadata": {},
     "output_type": "execute_result"
    }
   ],
   "source": [
    "m"
   ]
  },
  {
   "cell_type": "code",
   "execution_count": 18,
   "metadata": {},
   "outputs": [
    {
     "data": {
      "text/html": [
       "<div>\n",
       "<style scoped>\n",
       "    .dataframe tbody tr th:only-of-type {\n",
       "        vertical-align: middle;\n",
       "    }\n",
       "\n",
       "    .dataframe tbody tr th {\n",
       "        vertical-align: top;\n",
       "    }\n",
       "\n",
       "    .dataframe thead th {\n",
       "        text-align: right;\n",
       "    }\n",
       "</style>\n",
       "<table border=\"1\" class=\"dataframe\">\n",
       "  <thead>\n",
       "    <tr style=\"text-align: right;\">\n",
       "      <th></th>\n",
       "      <th>std_time</th>\n",
       "      <th>c1</th>\n",
       "      <th>c2</th>\n",
       "      <th>c3</th>\n",
       "      <th>datetime64_ns</th>\n",
       "    </tr>\n",
       "  </thead>\n",
       "  <tbody>\n",
       "    <tr>\n",
       "      <th>0</th>\n",
       "      <td>2020-11-09 12:01:06</td>\n",
       "      <td>1</td>\n",
       "      <td>1</td>\n",
       "      <td>1</td>\n",
       "      <td>2020-11-09 12:01:06</td>\n",
       "    </tr>\n",
       "    <tr>\n",
       "      <th>1</th>\n",
       "      <td>2020-11-09 12:01:06</td>\n",
       "      <td>1</td>\n",
       "      <td>2</td>\n",
       "      <td>2</td>\n",
       "      <td>2020-11-09 12:01:06</td>\n",
       "    </tr>\n",
       "    <tr>\n",
       "      <th>2</th>\n",
       "      <td>2020-11-09 12:01:06</td>\n",
       "      <td>1</td>\n",
       "      <td>3</td>\n",
       "      <td>5</td>\n",
       "      <td>2020-11-09 12:01:06</td>\n",
       "    </tr>\n",
       "  </tbody>\n",
       "</table>\n",
       "</div>"
      ],
      "text/plain": [
       "              std_time  c1  c2  c3       datetime64_ns\n",
       "0  2020-11-09 12:01:06   1   1   1 2020-11-09 12:01:06\n",
       "1  2020-11-09 12:01:06   1   2   2 2020-11-09 12:01:06\n",
       "2  2020-11-09 12:01:06   1   3   5 2020-11-09 12:01:06"
      ]
     },
     "execution_count": 18,
     "metadata": {},
     "output_type": "execute_result"
    }
   ],
   "source": [
    "df"
   ]
  },
  {
   "cell_type": "markdown",
   "metadata": {},
   "source": [
    "### JSON Data Writer"
   ]
  },
  {
   "cell_type": "code",
   "execution_count": 19,
   "metadata": {},
   "outputs": [],
   "source": [
    "jrc = JSONWriter(name='test', metadata=metadata)"
   ]
  },
  {
   "cell_type": "markdown",
   "metadata": {},
   "source": [
    "The JSON writer will send the file data and metadata at a regular interval, set with `metadata_interval`"
   ]
  },
  {
   "cell_type": "code",
   "execution_count": 20,
   "metadata": {},
   "outputs": [],
   "source": [
    "jrc.metadata_interval = 3"
   ]
  },
  {
   "cell_type": "code",
   "execution_count": 21,
   "metadata": {},
   "outputs": [
    {
     "data": {
      "text/plain": [
       "{'name': 'test',\n",
       " 'encoding': 'utf-8',\n",
       " 'format': 'text/json',\n",
       " 'standard': 'RFC 8259',\n",
       " 'line_terminator': '\\n',\n",
       " 'quote_char': '\"',\n",
       " 'double_quote': True,\n",
       " 'escape_char': '\\\\',\n",
       " 'null_sequence': 'NA',\n",
       " 'comment': '#',\n",
       " 'metadata': {'name': 'test_device_metadata',\n",
       "  'description': 'Test metadata for example',\n",
       "  'urls': 'https://www.example.com',\n",
       "  'manufacturer': 'Dr Brown Enterprises',\n",
       "  'header': ['c1', 'c2', 'c3'],\n",
       "  'dtype': ['str', 'int', 'float'],\n",
       "  'precision': 'pretty good!',\n",
       "  'bus': 'I2C_bus_id',\n",
       "  'version_hw': '1.1',\n",
       "  'version_sw': '1.1'},\n",
       " 'time_source': 'std_time',\n",
       " 'strfmtime': '%Y-%m-%d %H:%M:%S',\n",
       " 'metadata_interval': 3}"
      ]
     },
     "execution_count": 21,
     "metadata": {},
     "output_type": "execute_result"
    }
   ],
   "source": [
    "jrc.values()"
   ]
  },
  {
   "cell_type": "code",
   "execution_count": 22,
   "metadata": {},
   "outputs": [
    {
     "data": {
      "text/plain": [
       "\u001b[0;31mSignature:\u001b[0m \u001b[0mjrc\u001b[0m\u001b[0;34m.\u001b[0m\u001b[0mwrite\u001b[0m\u001b[0;34m(\u001b[0m\u001b[0mdata\u001b[0m\u001b[0;34m)\u001b[0m\u001b[0;34m\u001b[0m\u001b[0;34m\u001b[0m\u001b[0m\n",
       "\u001b[0;31mDocstring:\u001b[0m\n",
       "Write JSON data and metadata at intervals set by\n",
       "self.metadata_interval to file location self.path\n",
       "\n",
       "Parameters\n",
       "----------\n",
       "data : list, data to be zipped with header descriptions\n",
       "\u001b[0;31mFile:\u001b[0m      ~/code/meerkat/meerkat/data.py\n",
       "\u001b[0;31mType:\u001b[0m      method\n"
      ]
     },
     "metadata": {},
     "output_type": "display_data"
    }
   ],
   "source": [
    "jrc.write?"
   ]
  },
  {
   "cell_type": "code",
   "execution_count": 23,
   "metadata": {},
   "outputs": [],
   "source": [
    "jrc.write(data=[1,1,0])"
   ]
  },
  {
   "cell_type": "code",
   "execution_count": 24,
   "metadata": {},
   "outputs": [],
   "source": [
    "jrc.write(data=[1,2,1])"
   ]
  },
  {
   "cell_type": "code",
   "execution_count": 25,
   "metadata": {},
   "outputs": [],
   "source": [
    "jrc.write(data=[1,3,1])"
   ]
  },
  {
   "cell_type": "code",
   "execution_count": 26,
   "metadata": {},
   "outputs": [],
   "source": [
    "jrc.write(data=[1,4,2])"
   ]
  },
  {
   "cell_type": "code",
   "execution_count": 27,
   "metadata": {},
   "outputs": [],
   "source": [
    "jrc.write(data=[1,5,3])"
   ]
  },
  {
   "cell_type": "code",
   "execution_count": 28,
   "metadata": {},
   "outputs": [],
   "source": [
    "jrc.write(data=[1,6,5])"
   ]
  },
  {
   "cell_type": "code",
   "execution_count": 29,
   "metadata": {},
   "outputs": [],
   "source": [
    "jrc.write(data=[1,7,8])"
   ]
  },
  {
   "cell_type": "code",
   "execution_count": 30,
   "metadata": {},
   "outputs": [
    {
     "data": {
      "text/plain": [
       "'2020_11_09_12_01_06_test.jsontxt'"
      ]
     },
     "execution_count": 30,
     "metadata": {},
     "output_type": "execute_result"
    }
   ],
   "source": [
    "jrc.path"
   ]
  },
  {
   "cell_type": "code",
   "execution_count": 31,
   "metadata": {},
   "outputs": [
    {
     "data": {
      "text/plain": [
       "['c1', 'c2', 'c3']"
      ]
     },
     "execution_count": 31,
     "metadata": {},
     "output_type": "execute_result"
    }
   ],
   "source": [
    "jrc.metadata['header']"
   ]
  },
  {
   "cell_type": "code",
   "execution_count": 32,
   "metadata": {},
   "outputs": [
    {
     "name": "stdout",
     "output_type": "stream",
     "text": [
      "line 0\n",
      "-------\n",
      "{\"c1\": 1, \"c2\": 1, \"c3\": 0, \"std_time\": \"2020-11-09 12:01:06\"}\n",
      "\n",
      "========================================\n",
      "\n",
      "line 1\n",
      "-------\n",
      "{\"c1\": 1, \"c2\": 2, \"c3\": 1, \"std_time\": \"2020-11-09 12:01:06\"}\n",
      "\n",
      "========================================\n",
      "\n",
      "line 2\n",
      "-------\n",
      "{\"c1\": 1, \"c2\": 3, \"c3\": 1, \"std_time\": \"2020-11-09 12:01:06\", \"name\": \"test\", \"encoding\": \"utf-8\", \"format\": \"text/json\", \"standard\": \"RFC 8259\", \"line_terminator\": \"\\n\", \"quote_char\": \"\\\"\", \"double_quote\": true, \"escape_char\": \"\\\\\", \"null_sequence\": \"NA\", \"comment\": \"#\", \"path\": \"2020_11_09_12_01_06_test.jsontxt\", \"metadata\": {\"name\": \"test_device_metadata\", \"description\": \"Test metadata for example\", \"urls\": \"https://www.example.com\", \"manufacturer\": \"Dr Brown Enterprises\", \"header\": [\"c1\", \"c2\", \"c3\"], \"dtype\": [\"str\", \"int\", \"float\"], \"precision\": \"pretty good!\", \"bus\": \"I2C_bus_id\", \"version_hw\": \"1.1\", \"version_sw\": \"1.1\"}, \"time_source\": \"std_time\", \"strfmtime\": \"%Y-%m-%d %H:%M:%S\", \"metadata_interval\": 3}\n",
      "\n",
      "========================================\n",
      "\n",
      "line 3\n",
      "-------\n",
      "{\"c1\": 1, \"c2\": 4, \"c3\": 2, \"std_time\": \"2020-11-09 12:01:07\"}\n",
      "\n",
      "========================================\n",
      "\n",
      "line 4\n",
      "-------\n",
      "{\"c1\": 1, \"c2\": 5, \"c3\": 3, \"std_time\": \"2020-11-09 12:01:07\"}\n",
      "\n",
      "========================================\n",
      "\n",
      "line 5\n",
      "-------\n",
      "{\"c1\": 1, \"c2\": 6, \"c3\": 5, \"std_time\": \"2020-11-09 12:01:07\", \"name\": \"test\", \"encoding\": \"utf-8\", \"format\": \"text/json\", \"standard\": \"RFC 8259\", \"line_terminator\": \"\\n\", \"quote_char\": \"\\\"\", \"double_quote\": true, \"escape_char\": \"\\\\\", \"null_sequence\": \"NA\", \"comment\": \"#\", \"path\": \"2020_11_09_12_01_06_test.jsontxt\", \"metadata\": {\"name\": \"test_device_metadata\", \"description\": \"Test metadata for example\", \"urls\": \"https://www.example.com\", \"manufacturer\": \"Dr Brown Enterprises\", \"header\": [\"c1\", \"c2\", \"c3\"], \"dtype\": [\"str\", \"int\", \"float\"], \"precision\": \"pretty good!\", \"bus\": \"I2C_bus_id\", \"version_hw\": \"1.1\", \"version_sw\": \"1.1\"}, \"time_source\": \"std_time\", \"strfmtime\": \"%Y-%m-%d %H:%M:%S\", \"metadata_interval\": 3}\n",
      "\n",
      "========================================\n",
      "\n",
      "line 6\n",
      "-------\n",
      "{\"c1\": 1, \"c2\": 7, \"c3\": 8, \"std_time\": \"2020-11-09 12:01:07\"}\n",
      "\n",
      "========================================\n",
      "\n"
     ]
    }
   ],
   "source": [
    "with open(jrc.path, 'r') as f:\n",
    "    for n, line in enumerate(f):\n",
    "        print('line {}'.format(n))\n",
    "        print('-------')\n",
    "        print(line)\n",
    "        print(\"=\"*40)\n",
    "        print()"
   ]
  },
  {
   "cell_type": "code",
   "execution_count": null,
   "metadata": {},
   "outputs": [],
   "source": []
  }
 ],
 "metadata": {
  "kernelspec": {
   "display_name": "Python 3",
   "language": "python",
   "name": "python3"
  },
  "language_info": {
   "codemirror_mode": {
    "name": "ipython",
    "version": 3
   },
   "file_extension": ".py",
   "mimetype": "text/x-python",
   "name": "python",
   "nbconvert_exporter": "python",
   "pygments_lexer": "ipython3",
   "version": "3.7.3"
  }
 },
 "nbformat": 4,
 "nbformat_minor": 4
}
