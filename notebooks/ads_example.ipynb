{
 "cells": [
  {
   "cell_type": "markdown",
   "metadata": {},
   "source": [
    "## ADS1115 Analog to Digitial Converter  \n",
    "\n",
    "The ADS1115 is a 16 bit resolution analog to digitial converter.\n",
    "\n",
    "Manufacturer Link: www.ti.com/product/ADS1115  \n",
    "\n",
    "Breakout Board Used: https://www.adafruit.com/product/1085"
   ]
  },
  {
   "cell_type": "code",
   "execution_count": 1,
   "metadata": {},
   "outputs": [],
   "source": [
    "import pandas as pd\n",
    "import matplotlib.pyplot as plt\n",
    "\n",
    "from meerkat import base, ads, parser"
   ]
  },
  {
   "cell_type": "code",
   "execution_count": 2,
   "metadata": {},
   "outputs": [],
   "source": [
    "dev = ads.ADS1115(bus_n=1)"
   ]
  },
  {
   "cell_type": "markdown",
   "metadata": {},
   "source": [
    "#### Configuration"
   ]
  },
  {
   "cell_type": "code",
   "execution_count": 3,
   "metadata": {},
   "outputs": [],
   "source": [
    "dev.pga('6.144')  # Other options: '6.144', '4.096'\n",
    "dev.mux('1G')     # pin 0 relative to ground"
   ]
  },
  {
   "cell_type": "code",
   "execution_count": 4,
   "metadata": {},
   "outputs": [
    {
     "name": "stdout",
     "output_type": "stream",
     "text": [
      "ADS11x5 Configuration Attributes\n",
      "--------------------------------\n",
      "Config Register: 53635 0xd183 0b1101000110000011\n",
      "PGA Range: +/- 6.144 Volts\n",
      "Mode: single\n",
      "Data Rate: 128 SPS\n",
      "Input Multiplexer: 1G\n",
      "Comparator:\n",
      " Queue: off\n",
      " Latching: off\n",
      " Polarity: Active 1\n",
      " Mode: trad\n"
     ]
    }
   ],
   "source": [
    "dev.print_attributes()"
   ]
  },
  {
   "cell_type": "markdown",
   "metadata": {},
   "source": [
    "#### Measurements  \n",
    "For this demo, a 2.048 V reference is connected to A1"
   ]
  },
  {
   "cell_type": "code",
   "execution_count": 5,
   "metadata": {},
   "outputs": [
    {
     "name": "stdout",
     "output_type": "stream",
     "text": [
      "Measured voltage: 0.595875\n"
     ]
    }
   ],
   "source": [
    "print('Measured voltage: {}'.format(dev.voltage()))"
   ]
  },
  {
   "cell_type": "code",
   "execution_count": 6,
   "metadata": {},
   "outputs": [
    {
     "data": {
      "text/plain": [
       "[['test_1', 1, '1G', 0.6005625],\n",
       " ['test_1', 2, '1G', 0.6024375],\n",
       " ['test_1', 3, '1G', 0.597],\n",
       " ['test_1', 4, '1G', 0.6052500000000001],\n",
       " ['test_1', 5, '1G', 0.5998125]]"
      ]
     },
     "execution_count": 6,
     "metadata": {},
     "output_type": "execute_result"
    }
   ],
   "source": [
    "dev.get(description='test_1', n=5)"
   ]
  },
  {
   "cell_type": "markdown",
   "metadata": {},
   "source": [
    "#### JSON Data Publishing"
   ]
  },
  {
   "cell_type": "code",
   "execution_count": 7,
   "metadata": {},
   "outputs": [],
   "source": [
    "# lower metadata interval from a default of once every 10 samples\n",
    "dev.json_writer.metadata_interval = 3"
   ]
  },
  {
   "cell_type": "code",
   "execution_count": 8,
   "metadata": {},
   "outputs": [
    {
     "data": {
      "text/plain": [
       "['{\"description\": \"test_2\", \"sample_n\": 0, \"mux\": \"1G\", \"voltage\": 0.597, \"std_time_ms\": \"2020-12-04 00:03:45.515867\"}',\n",
       " '{\"description\": \"test_2\", \"sample_n\": 1, \"mux\": \"1G\", \"voltage\": 0.60075, \"std_time_ms\": \"2020-12-04 00:03:45.526254\"}',\n",
       " '{\"description\": \"test_2\", \"sample_n\": 2, \"mux\": \"1G\", \"voltage\": 0.6043125, \"std_time_ms\": \"2020-12-04 00:03:45.536604\", \"encoding\": \"utf-8\", \"format\": \"text/json\", \"standard\": \"RFC 8259\", \"line_terminator\": \"\\\\n\", \"quote_char\": \"\\\\\"\", \"double_quote\": true, \"escape_char\": \"\\\\\\\\\", \"null_sequence\": \"NA\", \"comment\": \"#\", \"metadata\": {\"name\": \"ADS1115\", \"urls\": \"www.ti.com/product/ADS1115\", \"manufacturer\": \"Texas Instruments\", \"header\": [\"description\", \"sample_n\", \"mux\", \"voltage\"], \"dtype\": [\"str\", \"int\", \"str\", \"float\"], \"units\": [null, \"count\", \"str\", \"volts\"], \"accuracy\": [null, 1, null, \"+/- 3 LSB\"], \"precision\": [null, 1, null, \"16 bit\"], \"bus_n\": 1, \"bus_addr\": 72, \"description\": \"Texas Instruments 16-bit 860SPS 4-Ch Delta-Sigma ADC with PGA\", \"pga_gain\": -999}, \"time_source\": \"std_time_ms\", \"time_format\": \"%Y-%m-%d %H:%M:%S.%f\", \"metadata_interval\": 3}',\n",
       " '{\"description\": \"test_2\", \"sample_n\": 3, \"mux\": \"1G\", \"voltage\": 0.5985, \"std_time_ms\": \"2020-12-04 00:03:45.547085\"}',\n",
       " '{\"description\": \"test_2\", \"sample_n\": 4, \"mux\": \"1G\", \"voltage\": 0.6046875, \"std_time_ms\": \"2020-12-04 00:03:45.557448\"}']"
      ]
     },
     "execution_count": 8,
     "metadata": {},
     "output_type": "execute_result"
    }
   ],
   "source": [
    "# writing method with description and sample number\n",
    "dev.publish(description='test_2', n=5)"
   ]
  },
  {
   "cell_type": "markdown",
   "metadata": {},
   "source": [
    "#### JSON Writer Output"
   ]
  },
  {
   "cell_type": "code",
   "execution_count": 9,
   "metadata": {},
   "outputs": [],
   "source": [
    "# default writer format is CSV, switch to JSON\n",
    "dev.writer_output = 'json'"
   ]
  },
  {
   "cell_type": "code",
   "execution_count": 10,
   "metadata": {},
   "outputs": [],
   "source": [
    "# writer method with description and sample number\n",
    "dev.write(description='test_3', n=30)"
   ]
  },
  {
   "cell_type": "code",
   "execution_count": 11,
   "metadata": {},
   "outputs": [
    {
     "data": {
      "text/plain": [
       "'2020_12_04_00_03_45_ads1115.jsontxt'"
      ]
     },
     "execution_count": 11,
     "metadata": {},
     "output_type": "execute_result"
    }
   ],
   "source": [
    "dev.json_writer.path"
   ]
  },
  {
   "cell_type": "code",
   "execution_count": 12,
   "metadata": {},
   "outputs": [
    {
     "name": "stdout",
     "output_type": "stream",
     "text": [
      "{\"description\": \"test_3\", \"sample_n\": 0, \"mux\": \"1G\", \"voltage\": 0.5960625, \"std_time_ms\": \"2020-12-04 00:03:45.599992\"}\n",
      "{\"description\": \"test_3\", \"sample_n\": 1, \"mux\": \"1G\", \"voltage\": 0.5994375000000001, \"std_time_ms\": \"2020-12-04 00:03:45.610716\"}\n",
      "{\"description\": \"test_3\", \"sample_n\": 2, \"mux\": \"1G\", \"voltage\": 0.6052500000000001, \"std_time_ms\": \"2020-12-04 00:03:45.621174\", \"encoding\": \"utf-8\", \"format\": \"text/json\", \"standard\": \"RFC 8259\", \"line_terminator\": \"\\n\", \"quote_char\": \"\\\"\", \"double_quote\": true, \"escape_char\": \"\\\\\", \"null_sequence\": \"NA\", \"comment\": \"#\", \"metadata\": {\"name\": \"ADS1115\", \"urls\": \"www.ti.com/product/ADS1115\", \"manufacturer\": \"Texas Instruments\", \"header\": [\"description\", \"sample_n\", \"mux\", \"voltage\"], \"dtype\": [\"str\", \"int\", \"str\", \"float\"], \"units\": [null, \"count\", \"str\", \"volts\"], \"accuracy\": [null, 1, null, \"+/- 3 LSB\"], \"precision\": [null, 1, null, \"16 bit\"], \"bus_n\": 1, \"bus_addr\": 72, \"description\": \"Texas Instruments 16-bit 860SPS 4-Ch Delta-Sigma ADC with PGA\", \"pga_gain\": -999}, \"path\": \"2020_12_04_00_03_45_ads1115.jsontxt\", \"time_source\": \"std_time_ms\", \"time_format\": \"%Y-%m-%d %H:%M:%S.%f\", \"metadata_interval\": 3}\n",
      "{\"description\": \"test_3\", \"sample_n\": 3, \"mux\": \"1G\", \"voltage\": 0.5975625, \"std_time_ms\": \"2020-12-04 00:03:45.631810\"}\n"
     ]
    }
   ],
   "source": [
    "with open(dev.json_writer.path, 'r') as f:\n",
    "    for _ in range(4):\n",
    "        print(f.readline().strip())"
   ]
  },
  {
   "cell_type": "markdown",
   "metadata": {},
   "source": [
    "#### CSV Writer Output"
   ]
  },
  {
   "cell_type": "code",
   "execution_count": 13,
   "metadata": {},
   "outputs": [],
   "source": [
    "# switch back to CSV format\n",
    "dev.writer_output = 'csv'"
   ]
  },
  {
   "cell_type": "code",
   "execution_count": 14,
   "metadata": {},
   "outputs": [],
   "source": [
    "dev.write(description='test_4', n=15)"
   ]
  },
  {
   "cell_type": "code",
   "execution_count": 15,
   "metadata": {},
   "outputs": [],
   "source": [
    "m, df = parser.csv_resource(dev.csv_writer.path)"
   ]
  },
  {
   "cell_type": "code",
   "execution_count": 16,
   "metadata": {},
   "outputs": [
    {
     "data": {
      "text/html": [
       "<div>\n",
       "<style scoped>\n",
       "    .dataframe tbody tr th:only-of-type {\n",
       "        vertical-align: middle;\n",
       "    }\n",
       "\n",
       "    .dataframe tbody tr th {\n",
       "        vertical-align: top;\n",
       "    }\n",
       "\n",
       "    .dataframe thead th {\n",
       "        text-align: right;\n",
       "    }\n",
       "</style>\n",
       "<table border=\"1\" class=\"dataframe\">\n",
       "  <thead>\n",
       "    <tr style=\"text-align: right;\">\n",
       "      <th></th>\n",
       "      <th>std_time_ms</th>\n",
       "      <th>description</th>\n",
       "      <th>sample_n</th>\n",
       "      <th>mux</th>\n",
       "      <th>voltage</th>\n",
       "      <th>datetime64_ns</th>\n",
       "    </tr>\n",
       "  </thead>\n",
       "  <tbody>\n",
       "    <tr>\n",
       "      <th>0</th>\n",
       "      <td>2020-12-04 00:03:45.992288</td>\n",
       "      <td>test_4</td>\n",
       "      <td>0</td>\n",
       "      <td>1G</td>\n",
       "      <td>0.596438</td>\n",
       "      <td>2020-12-04 00:03:45.992288</td>\n",
       "    </tr>\n",
       "    <tr>\n",
       "      <th>1</th>\n",
       "      <td>2020-12-04 00:03:46.002919</td>\n",
       "      <td>test_4</td>\n",
       "      <td>1</td>\n",
       "      <td>1G</td>\n",
       "      <td>0.602437</td>\n",
       "      <td>2020-12-04 00:03:46.002919</td>\n",
       "    </tr>\n",
       "    <tr>\n",
       "      <th>2</th>\n",
       "      <td>2020-12-04 00:03:46.013427</td>\n",
       "      <td>test_4</td>\n",
       "      <td>2</td>\n",
       "      <td>1G</td>\n",
       "      <td>0.598500</td>\n",
       "      <td>2020-12-04 00:03:46.013427</td>\n",
       "    </tr>\n",
       "    <tr>\n",
       "      <th>3</th>\n",
       "      <td>2020-12-04 00:03:46.023913</td>\n",
       "      <td>test_4</td>\n",
       "      <td>3</td>\n",
       "      <td>1G</td>\n",
       "      <td>0.604313</td>\n",
       "      <td>2020-12-04 00:03:46.023913</td>\n",
       "    </tr>\n",
       "    <tr>\n",
       "      <th>4</th>\n",
       "      <td>2020-12-04 00:03:46.034436</td>\n",
       "      <td>test_4</td>\n",
       "      <td>4</td>\n",
       "      <td>1G</td>\n",
       "      <td>0.600187</td>\n",
       "      <td>2020-12-04 00:03:46.034436</td>\n",
       "    </tr>\n",
       "  </tbody>\n",
       "</table>\n",
       "</div>"
      ],
      "text/plain": [
       "                  std_time_ms description  sample_n mux   voltage  \\\n",
       "0  2020-12-04 00:03:45.992288      test_4         0  1G  0.596438   \n",
       "1  2020-12-04 00:03:46.002919      test_4         1  1G  0.602437   \n",
       "2  2020-12-04 00:03:46.013427      test_4         2  1G  0.598500   \n",
       "3  2020-12-04 00:03:46.023913      test_4         3  1G  0.604313   \n",
       "4  2020-12-04 00:03:46.034436      test_4         4  1G  0.600187   \n",
       "\n",
       "               datetime64_ns  \n",
       "0 2020-12-04 00:03:45.992288  \n",
       "1 2020-12-04 00:03:46.002919  \n",
       "2 2020-12-04 00:03:46.013427  \n",
       "3 2020-12-04 00:03:46.023913  \n",
       "4 2020-12-04 00:03:46.034436  "
      ]
     },
     "execution_count": 16,
     "metadata": {},
     "output_type": "execute_result"
    }
   ],
   "source": [
    "df.head()"
   ]
  },
  {
   "cell_type": "code",
   "execution_count": 17,
   "metadata": {},
   "outputs": [],
   "source": [
    "df['rolling_mean'] = df.voltage.rolling(4, win_type='triang').mean()"
   ]
  },
  {
   "cell_type": "code",
   "execution_count": 18,
   "metadata": {},
   "outputs": [],
   "source": [
    "df_mean = df.voltage.mean()\n",
    "df['mean'] = df_mean"
   ]
  },
  {
   "cell_type": "code",
   "execution_count": 19,
   "metadata": {},
   "outputs": [
    {
     "data": {
      "image/png": "[encoded data removed]",
      "text/plain": [
       "<Figure size 432x288 with 1 Axes>"
      ]
     },
     "metadata": {
      "needs_background": "light"
     },
     "output_type": "display_data"
    }
   ],
   "source": [
    "df.datetime64_ns = df.datetime64_ns.dt.tz_localize('UTC')  # Pandas 0.24.1 hack\n",
    "df[['datetime64_ns', 'voltage',\n",
    "    'rolling_mean', 'mean']].plot(x='datetime64_ns',\n",
    "                                  style=[' xb', '-g', '-r']);"
   ]
  },
  {
   "cell_type": "code",
   "execution_count": 20,
   "metadata": {},
   "outputs": [
    {
     "name": "stdout",
     "output_type": "stream",
     "text": [
      "Mean: 0.601263 Volts DC\n",
      "Standard Deviation: 0.0031625599937844117\n"
     ]
    }
   ],
   "source": [
    "print('Mean: {:8.6} Volts DC'.format(df_mean))\n",
    "print('Standard Deviation: {}'.format(df.voltage.std()))"
   ]
  },
  {
   "cell_type": "code",
   "execution_count": 21,
   "metadata": {},
   "outputs": [
    {
     "name": "stdout",
     "output_type": "stream",
     "text": [
      "Sample Rate: 102.8003 Hz\n"
     ]
    }
   ],
   "source": [
    "dt = df.datetime64_ns[len(df)-1]-df.datetime64_ns[0]\n",
    "dtt = dt.seconds + dt.microseconds / 10**6\n",
    "print('Sample Rate: {:.4f} Hz'.format(len(df)/dtt))"
   ]
  },
  {
   "cell_type": "code",
   "execution_count": 22,
   "metadata": {},
   "outputs": [
    {
     "data": {
      "image/png": "[encoded data removed]",
      "text/plain": [
       "<Figure size 432x288 with 1 Axes>"
      ]
     },
     "metadata": {
      "needs_background": "light"
     },
     "output_type": "display_data"
    }
   ],
   "source": [
    "df.voltage.hist(bins=40);"
   ]
  }
 ],
 "metadata": {
  "kernelspec": {
   "display_name": "Python 3",
   "language": "python",
   "name": "python3"
  },
  "language_info": {
   "codemirror_mode": {
    "name": "ipython",
    "version": 3
   },
   "file_extension": ".py",
   "mimetype": "text/x-python",
   "name": "python",
   "nbconvert_exporter": "python",
   "pygments_lexer": "ipython3",
   "version": "3.7.3"
  }
 },
 "nbformat": 4,
 "nbformat_minor": 4
}
