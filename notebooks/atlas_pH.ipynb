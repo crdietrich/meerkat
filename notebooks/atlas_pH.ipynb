{
 "cells": [
  {
   "cell_type": "markdown",
   "metadata": {},
   "source": [
    "### Atlas Scientific pH  \n",
    "pH Sensor for measuring acidity (hydrogen ion concentration) of liquids  \n",
    "\n",
    "Manufacturer Link: https://www.atlas-scientific.com/ph.html  "
   ]
  },
  {
   "cell_type": "code",
   "execution_count": 1,
   "metadata": {},
   "outputs": [],
   "source": [
    "import matplotlib.pyplot as plt\n",
    "\n",
    "from meerkat.base import time\n",
    "from meerkat import atlas, parser"
   ]
  },
  {
   "cell_type": "code",
   "execution_count": 2,
   "metadata": {},
   "outputs": [],
   "source": [
    "# instance device and set output format to .csv (which is default)\n",
    "dev = atlas.pH(bus_n=1, output='csv')"
   ]
  },
  {
   "cell_type": "markdown",
   "metadata": {},
   "source": [
    "#### Configuration"
   ]
  },
  {
   "cell_type": "code",
   "execution_count": 3,
   "metadata": {},
   "outputs": [
    {
     "data": {
      "text/plain": [
       "('pH', '1.7')"
      ]
     },
     "execution_count": 3,
     "metadata": {},
     "output_type": "execute_result"
    }
   ],
   "source": [
    "# device information: device type, firmware version\n",
    "time.sleep(0.5)\n",
    "dev.info()"
   ]
  },
  {
   "cell_type": "code",
   "execution_count": 4,
   "metadata": {},
   "outputs": [
    {
     "data": {
      "text/plain": [
       "('P', 5.02)"
      ]
     },
     "execution_count": 4,
     "metadata": {},
     "output_type": "execute_result"
    }
   ],
   "source": [
    "# status of device power: restart code, input voltage Vcc\n",
    "time.sleep(0.5)\n",
    "dev.status()"
   ]
  },
  {
   "cell_type": "code",
   "execution_count": 5,
   "metadata": {},
   "outputs": [
    {
     "data": {
      "text/plain": [
       "24.39"
      ]
     },
     "execution_count": 5,
     "metadata": {},
     "output_type": "execute_result"
    }
   ],
   "source": [
    "# set current temperature for compensation\n",
    "time.sleep(0.5)\n",
    "dev.temp_set(24.4)\n",
    "time.sleep(0.5)\n",
    "dev.temp_get()"
   ]
  },
  {
   "cell_type": "markdown",
   "metadata": {},
   "source": [
    "#### Calibration"
   ]
  },
  {
   "cell_type": "code",
   "execution_count": 6,
   "metadata": {},
   "outputs": [
    {
     "data": {
      "text/plain": [
       "3"
      ]
     },
     "execution_count": 6,
     "metadata": {},
     "output_type": "execute_result"
    }
   ],
   "source": [
    "# Three point calibration\n",
    "dev.cal_set_mid(7.00)\n",
    "time.sleep(1)\n",
    "dev.cal_set_low(3.00)\n",
    "time.sleep(1)\n",
    "dev.cal_set_high(10.09)\n",
    "time.sleep(1)\n",
    "dev.cal_get()"
   ]
  },
  {
   "cell_type": "code",
   "execution_count": 7,
   "metadata": {},
   "outputs": [
    {
     "data": {
      "text/plain": [
       "0"
      ]
     },
     "execution_count": 7,
     "metadata": {},
     "output_type": "execute_result"
    }
   ],
   "source": [
    "# clear calibration\n",
    "time.sleep(1)\n",
    "dev.cal_clear()\n",
    "time.sleep(1)\n",
    "dev.cal_get()"
   ]
  },
  {
   "cell_type": "code",
   "execution_count": 8,
   "metadata": {},
   "outputs": [
    {
     "data": {
      "text/plain": [
       "(99.9, 99.9)"
      ]
     },
     "execution_count": 8,
     "metadata": {},
     "output_type": "execute_result"
    }
   ],
   "source": [
    "# response breakdown of calibration\n",
    "time.sleep(0.5)\n",
    "dev.cal_slope()"
   ]
  },
  {
   "cell_type": "markdown",
   "metadata": {},
   "source": [
    "#### Measurement"
   ]
  },
  {
   "cell_type": "code",
   "execution_count": 9,
   "metadata": {},
   "outputs": [
    {
     "data": {
      "text/plain": [
       "0.0"
      ]
     },
     "execution_count": 9,
     "metadata": {},
     "output_type": "execute_result"
    }
   ],
   "source": [
    "# single pH measurement\n",
    "time.sleep(0.5)\n",
    "dev.measure()"
   ]
  },
  {
   "cell_type": "code",
   "execution_count": 10,
   "metadata": {},
   "outputs": [
    {
     "data": {
      "text/plain": [
       "['test_1', 0, 0.0]"
      ]
     },
     "execution_count": 10,
     "metadata": {},
     "output_type": "execute_result"
    }
   ],
   "source": [
    "# get one sample without a description\n",
    "dev.get('test_1')"
   ]
  },
  {
   "cell_type": "code",
   "execution_count": 11,
   "metadata": {},
   "outputs": [
    {
     "data": {
      "text/plain": [
       "[['test_2', 0, 0.0],\n",
       " ['test_2', 1, 0.0],\n",
       " ['test_2', 2, 0.0],\n",
       " ['test_2', 3, 0.0],\n",
       " ['test_2', 4, 0.0]]"
      ]
     },
     "execution_count": 11,
     "metadata": {},
     "output_type": "execute_result"
    }
   ],
   "source": [
    "# get 5 samples with a description\n",
    "dev.get('test_2', n=5)"
   ]
  },
  {
   "cell_type": "markdown",
   "metadata": {},
   "source": [
    "#### JSON Data Publishing    "
   ]
  },
  {
   "cell_type": "code",
   "execution_count": 12,
   "metadata": {},
   "outputs": [],
   "source": [
    "# set the metadata publishing interval to every third sample\n",
    "dev.json_writer.metadata_interval = 3"
   ]
  },
  {
   "cell_type": "code",
   "execution_count": 13,
   "metadata": {},
   "outputs": [
    {
     "data": {
      "text/plain": [
       "['{\"description\": \"test_3\", \"sample_n\": 0, \"pH\": 0.0, \"std_time_ms\": \"2020-12-10 19:47:22.715509\"}',\n",
       " '{\"description\": \"test_3\", \"sample_n\": 1, \"pH\": 0.0, \"std_time_ms\": \"2020-12-10 19:47:25.169729\"}',\n",
       " '{\"description\": \"test_3\", \"sample_n\": 2, \"pH\": 0.0, \"std_time_ms\": \"2020-12-10 19:47:27.623878\", \"encoding\": \"utf-8\", \"format\": \"text/json\", \"standard\": \"RFC 8259\", \"line_terminator\": \"\\\\n\", \"quote_char\": \"\\\\\"\", \"double_quote\": true, \"escape_char\": \"\\\\\\\\\", \"null_sequence\": \"NA\", \"comment\": \"#\", \"metadata\": {\"name\": \"atlas_ph\", \"urls\": \"www.atlas-scientific.com/ph.html\", \"manufacturer\": \"Atlas Scientific\", \"header\": [\"description\", \"sample_n\", \"pH\"], \"dtype\": [\"str\", \"int\", \"float\"], \"units\": [null, \"count\", \"pH units\"], \"accuracy\": [null, 1, \"+/-0.002\"], \"precision\": [null, 1, 0.001], \"bus_n\": 1, \"bus_addr\": 99, \"description\": \"Atlas pH\"}, \"time_source\": \"std_time_ms\", \"time_format\": \"%Y-%m-%d %H:%M:%S.%f\", \"metadata_interval\": 3}',\n",
       " '{\"description\": \"test_3\", \"sample_n\": 3, \"pH\": 0.0, \"std_time_ms\": \"2020-12-10 19:47:30.078358\"}',\n",
       " '{\"description\": \"test_3\", \"sample_n\": 4, \"pH\": 0.0, \"std_time_ms\": \"2020-12-10 19:47:32.532558\"}']"
      ]
     },
     "execution_count": 13,
     "metadata": {},
     "output_type": "execute_result"
    }
   ],
   "source": [
    "dev.publish(description='test_3', n=5)"
   ]
  },
  {
   "cell_type": "markdown",
   "metadata": {},
   "source": [
    "#### CSV Writer Output"
   ]
  },
  {
   "cell_type": "code",
   "execution_count": 14,
   "metadata": {},
   "outputs": [],
   "source": [
    "# write 5 samples to .csv file with description\n",
    "dev.write(description='test_4', n=5)"
   ]
  },
  {
   "cell_type": "code",
   "execution_count": 15,
   "metadata": {},
   "outputs": [
    {
     "data": {
      "text/plain": [
       "'2020_12_10_19_47_35_atlas_ph.csv'"
      ]
     },
     "execution_count": 15,
     "metadata": {},
     "output_type": "execute_result"
    }
   ],
   "source": [
    "# name of file written\n",
    "dev.csv_writer.path"
   ]
  },
  {
   "cell_type": "code",
   "execution_count": 16,
   "metadata": {},
   "outputs": [],
   "source": [
    "# load .csv data written with dev.write\n",
    "m, df = parser.csv_resource(dev.csv_writer.path)"
   ]
  },
  {
   "cell_type": "code",
   "execution_count": 17,
   "metadata": {},
   "outputs": [
    {
     "data": {
      "text/html": [
       "<div>\n",
       "<style scoped>\n",
       "    .dataframe tbody tr th:only-of-type {\n",
       "        vertical-align: middle;\n",
       "    }\n",
       "\n",
       "    .dataframe tbody tr th {\n",
       "        vertical-align: top;\n",
       "    }\n",
       "\n",
       "    .dataframe thead th {\n",
       "        text-align: right;\n",
       "    }\n",
       "</style>\n",
       "<table border=\"1\" class=\"dataframe\">\n",
       "  <thead>\n",
       "    <tr style=\"text-align: right;\">\n",
       "      <th></th>\n",
       "      <th>std_time_ms</th>\n",
       "      <th>description</th>\n",
       "      <th>sample_n</th>\n",
       "      <th>pH</th>\n",
       "      <th>datetime64_ns</th>\n",
       "    </tr>\n",
       "  </thead>\n",
       "  <tbody>\n",
       "    <tr>\n",
       "      <th>0</th>\n",
       "      <td>2020-12-10 19:47:35.019769</td>\n",
       "      <td>test_4</td>\n",
       "      <td>0</td>\n",
       "      <td>0.0</td>\n",
       "      <td>2020-12-10 19:47:35.019769</td>\n",
       "    </tr>\n",
       "    <tr>\n",
       "      <th>1</th>\n",
       "      <td>2020-12-10 19:47:37.474073</td>\n",
       "      <td>test_4</td>\n",
       "      <td>1</td>\n",
       "      <td>0.0</td>\n",
       "      <td>2020-12-10 19:47:37.474073</td>\n",
       "    </tr>\n",
       "    <tr>\n",
       "      <th>2</th>\n",
       "      <td>2020-12-10 19:47:39.928470</td>\n",
       "      <td>test_4</td>\n",
       "      <td>2</td>\n",
       "      <td>0.0</td>\n",
       "      <td>2020-12-10 19:47:39.928470</td>\n",
       "    </tr>\n",
       "    <tr>\n",
       "      <th>3</th>\n",
       "      <td>2020-12-10 19:47:42.382889</td>\n",
       "      <td>test_4</td>\n",
       "      <td>3</td>\n",
       "      <td>0.0</td>\n",
       "      <td>2020-12-10 19:47:42.382889</td>\n",
       "    </tr>\n",
       "    <tr>\n",
       "      <th>4</th>\n",
       "      <td>2020-12-10 19:47:44.837274</td>\n",
       "      <td>test_4</td>\n",
       "      <td>4</td>\n",
       "      <td>0.0</td>\n",
       "      <td>2020-12-10 19:47:44.837274</td>\n",
       "    </tr>\n",
       "  </tbody>\n",
       "</table>\n",
       "</div>"
      ],
      "text/plain": [
       "                  std_time_ms description  sample_n   pH  \\\n",
       "0  2020-12-10 19:47:35.019769      test_4         0  0.0   \n",
       "1  2020-12-10 19:47:37.474073      test_4         1  0.0   \n",
       "2  2020-12-10 19:47:39.928470      test_4         2  0.0   \n",
       "3  2020-12-10 19:47:42.382889      test_4         3  0.0   \n",
       "4  2020-12-10 19:47:44.837274      test_4         4  0.0   \n",
       "\n",
       "               datetime64_ns  \n",
       "0 2020-12-10 19:47:35.019769  \n",
       "1 2020-12-10 19:47:37.474073  \n",
       "2 2020-12-10 19:47:39.928470  \n",
       "3 2020-12-10 19:47:42.382889  \n",
       "4 2020-12-10 19:47:44.837274  "
      ]
     },
     "execution_count": 17,
     "metadata": {},
     "output_type": "execute_result"
    }
   ],
   "source": [
    "df"
   ]
  },
  {
   "cell_type": "code",
   "execution_count": 18,
   "metadata": {},
   "outputs": [],
   "source": [
    "df.datetime64_ns = df.datetime64_ns.dt.tz_localize('UTC')  # Pandas 0.24.1 hack"
   ]
  },
  {
   "cell_type": "code",
   "execution_count": 19,
   "metadata": {},
   "outputs": [
    {
     "data": {
      "image/png": "[encoded data removed]",
      "text/plain": [
       "<Figure size 432x288 with 1 Axes>"
      ]
     },
     "metadata": {
      "needs_background": "light"
     },
     "output_type": "display_data"
    }
   ],
   "source": [
    "df[[\"datetime64_ns\", \"pH\"]].plot(x=\"datetime64_ns\", style='-x');"
   ]
  },
  {
   "cell_type": "markdown",
   "metadata": {},
   "source": [
    "#### JSON Writer Output"
   ]
  },
  {
   "cell_type": "code",
   "execution_count": 20,
   "metadata": {},
   "outputs": [],
   "source": [
    "dev.writer_output = \"json\""
   ]
  },
  {
   "cell_type": "code",
   "execution_count": 21,
   "metadata": {},
   "outputs": [],
   "source": [
    "# get 7 samples with a description\n",
    "dev.write(description='test_5', n=7)"
   ]
  },
  {
   "cell_type": "code",
   "execution_count": 22,
   "metadata": {},
   "outputs": [
    {
     "data": {
      "text/plain": [
       "'2020_12_10_19_47_48_atlas_ph.jsontxt'"
      ]
     },
     "execution_count": 22,
     "metadata": {},
     "output_type": "execute_result"
    }
   ],
   "source": [
    "# name of file written\n",
    "dev.json_writer.path"
   ]
  },
  {
   "cell_type": "code",
   "execution_count": 23,
   "metadata": {},
   "outputs": [
    {
     "name": "stdout",
     "output_type": "stream",
     "text": [
      "{\"description\": \"test_5\", \"sample_n\": 0, \"pH\": 0.0, \"std_time_ms\": \"2020-12-10 19:47:48.004082\"}\n",
      "{\"description\": \"test_5\", \"sample_n\": 1, \"pH\": 0.0, \"std_time_ms\": \"2020-12-10 19:47:50.458519\"}\n",
      "{\"description\": \"test_5\", \"sample_n\": 2, \"pH\": 0.0, \"std_time_ms\": \"2020-12-10 19:47:52.913051\", \"encoding\": \"utf-8\", \"format\": \"text/json\", \"standard\": \"RFC 8259\", \"line_terminator\": \"\\n\", \"quote_char\": \"\\\"\", \"double_quote\": true, \"escape_char\": \"\\\\\", \"null_sequence\": \"NA\", \"comment\": \"#\", \"metadata\": {\"name\": \"atlas_ph\", \"urls\": \"www.atlas-scientific.com/ph.html\", \"manufacturer\": \"Atlas Scientific\", \"header\": [\"description\", \"sample_n\", \"pH\"], \"dtype\": [\"str\", \"int\", \"float\"], \"units\": [null, \"count\", \"pH units\"], \"accuracy\": [null, 1, \"+/-0.002\"], \"precision\": [null, 1, 0.001], \"bus_n\": 1, \"bus_addr\": 99, \"description\": \"Atlas pH\"}, \"path\": \"2020_12_10_19_47_48_atlas_ph.jsontxt\", \"time_source\": \"std_time_ms\", \"time_format\": \"%Y-%m-%d %H:%M:%S.%f\", \"metadata_interval\": 3}\n",
      "{\"description\": \"test_5\", \"sample_n\": 3, \"pH\": 0.0, \"std_time_ms\": \"2020-12-10 19:47:55.367945\"}\n",
      "{\"description\": \"test_5\", \"sample_n\": 4, \"pH\": 0.0, \"std_time_ms\": \"2020-12-10 19:47:57.822435\"}\n",
      "{\"description\": \"test_5\", \"sample_n\": 5, \"pH\": 0.0, \"std_time_ms\": \"2020-12-10 19:48:00.276891\", \"encoding\": \"utf-8\", \"format\": \"text/json\", \"standard\": \"RFC 8259\", \"line_terminator\": \"\\n\", \"quote_char\": \"\\\"\", \"double_quote\": true, \"escape_char\": \"\\\\\", \"null_sequence\": \"NA\", \"comment\": \"#\", \"metadata\": {\"name\": \"atlas_ph\", \"urls\": \"www.atlas-scientific.com/ph.html\", \"manufacturer\": \"Atlas Scientific\", \"header\": [\"description\", \"sample_n\", \"pH\"], \"dtype\": [\"str\", \"int\", \"float\"], \"units\": [null, \"count\", \"pH units\"], \"accuracy\": [null, 1, \"+/-0.002\"], \"precision\": [null, 1, 0.001], \"bus_n\": 1, \"bus_addr\": 99, \"description\": \"Atlas pH\"}, \"path\": \"2020_12_10_19_47_48_atlas_ph.jsontxt\", \"time_source\": \"std_time_ms\", \"time_format\": \"%Y-%m-%d %H:%M:%S.%f\", \"metadata_interval\": 3}\n",
      "{\"description\": \"test_5\", \"sample_n\": 6, \"pH\": 0.0, \"std_time_ms\": \"2020-12-10 19:48:02.731734\"}\n"
     ]
    }
   ],
   "source": [
    "!head $dev.json_writer.path"
   ]
  }
 ],
 "metadata": {
  "kernelspec": {
   "display_name": "Python 3",
   "language": "python",
   "name": "python3"
  },
  "language_info": {
   "codemirror_mode": {
    "name": "ipython",
    "version": 3
   },
   "file_extension": ".py",
   "mimetype": "text/x-python",
   "name": "python",
   "nbconvert_exporter": "python",
   "pygments_lexer": "ipython3",
   "version": "3.7.3"
  }
 },
 "nbformat": 4,
 "nbformat_minor": 4
}
