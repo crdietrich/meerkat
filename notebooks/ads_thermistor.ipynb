{
 "cells": [
  {
   "cell_type": "markdown",
   "metadata": {},
   "source": [
    "## ADS1115 and Semitec 103AT-2 Thermistor  \n",
    "Using the ADS1115 and Semitec 103AT-2 Thermistor to measure temperature.\n",
    "\n",
    "Manufacturer Links:  \n",
    "www.ti.com/product/ADS1115  \n",
    "http://www.semitec.co.jp/uploads/english/sites/2/2017/03/P12-13-AT-Thermistor.pdf\n",
    "\n",
    "\n",
    "Breakout Board Used: https://www.adafruit.com/product/1085"
   ]
  },
  {
   "cell_type": "raw",
   "metadata": {},
   "source": [
    "Wiring schematic:\n",
    "[Ground] -- [10k resistor] -- | -- [10k thermistor] -- [Vcc]\n",
    "                              |                          |\n",
    "                      A2 (Analog Pin 2)          A1 (Analog Pin 1)"
   ]
  },
  {
   "cell_type": "code",
   "execution_count": 1,
   "metadata": {},
   "outputs": [],
   "source": [
    "import pandas as pd\n",
    "import matplotlib.pyplot as plt\n",
    "\n",
    "from meerkat import base, ads, parser, thermistor"
   ]
  },
  {
   "cell_type": "code",
   "execution_count": 2,
   "metadata": {},
   "outputs": [],
   "source": [
    "time = base.time"
   ]
  },
  {
   "cell_type": "code",
   "execution_count": 3,
   "metadata": {},
   "outputs": [],
   "source": [
    "dev = ads.ADS1115(bus_n=1)"
   ]
  },
  {
   "cell_type": "code",
   "execution_count": 4,
   "metadata": {},
   "outputs": [
    {
     "data": {
      "text/plain": [
       "1.023375"
      ]
     },
     "execution_count": 4,
     "metadata": {},
     "output_type": "execute_result"
    }
   ],
   "source": [
    "dev.pga('6.144')  # Other options: '6.144', '4.096'\n",
    "dev.mux('0G')     # pin 0 relative to ground\n",
    "dev.get_config()\n",
    "dev.voltage()"
   ]
  },
  {
   "cell_type": "code",
   "execution_count": 5,
   "metadata": {},
   "outputs": [
    {
     "data": {
      "text/plain": [
       "1.0235625"
      ]
     },
     "execution_count": 5,
     "metadata": {},
     "output_type": "execute_result"
    }
   ],
   "source": [
    "#dev.pga('6.144')  # Other options: '6.144', '4.096'\n",
    "dev.mux('1G')     # pin 0 relative to ground\n",
    "dev.get_config()\n",
    "dev.voltage()"
   ]
  },
  {
   "cell_type": "code",
   "execution_count": 6,
   "metadata": {},
   "outputs": [
    {
     "data": {
      "text/plain": [
       "1.0235625"
      ]
     },
     "execution_count": 6,
     "metadata": {},
     "output_type": "execute_result"
    }
   ],
   "source": [
    "dev.voltage()"
   ]
  },
  {
   "cell_type": "code",
   "execution_count": 7,
   "metadata": {},
   "outputs": [],
   "source": [
    "def R2(R1, Vin, Vout):\n",
    "    \"\"\"Voltage divider, unknown resistance with known resistance and voltages\"\"\"\n",
    "    return R1 * (1 / ((Vin/Vout) - 1))"
   ]
  },
  {
   "cell_type": "code",
   "execution_count": 8,
   "metadata": {},
   "outputs": [
    {
     "name": "stdout",
     "output_type": "stream",
     "text": [
      "Measured Source voltage: 2.047875 V\n",
      "Measured Thermistor voltage: 1.0235625 V\n",
      "Measured resistance: 9992.678015742265 ohms\n",
      "Measured temperature:  25.02 C\n"
     ]
    }
   ],
   "source": [
    "# delay between reads and writes sometimes need to be increased\n",
    "dev.delay = 0.1\n",
    "\n",
    "# get voltages of pins\n",
    "dev.mux('1G')     # pin 0 relative to ground\n",
    "Vcc = dev.voltage()\n",
    "time.sleep(1)\n",
    "print('Measured Source voltage: {} V'.format(Vcc))\n",
    "dev.mux('2G')     # pin 1 relative to ground\n",
    "Vt = dev.voltage()\n",
    "print('Measured Thermistor voltage: {} V'.format(Vt))\n",
    "\n",
    "# calculate resistance of thermistor\n",
    "Rt = R2(R1=10000, Vin=Vcc, Vout=Vt)\n",
    "print('Measured resistance: {} ohms'.format(Rt))\n",
    "\n",
    "# Thermistor is a Semitec 103AT-2 values from datasheet\n",
    "\n",
    "# these steps would be done once\n",
    "s103AT = thermistor.Semitec103AT()\n",
    "A = thermistor.compose_array(*s103AT.find_nearest(Rt))\n",
    "abc = thermistor.gauss(A)\n",
    "\n",
    "tC = thermistor.steinhart_hart(Rt, *abc)\n",
    "print('Measured temperature: {:6.2f} C'.format(tC))"
   ]
  },
  {
   "cell_type": "code",
   "execution_count": 9,
   "metadata": {},
   "outputs": [],
   "source": [
    "samples = 2000"
   ]
  },
  {
   "cell_type": "code",
   "execution_count": 10,
   "metadata": {},
   "outputs": [],
   "source": [
    "data = []\n",
    "for _ in range(samples):\n",
    "    v = dev.voltage()\n",
    "    r = R2(R1=10000, Vin=Vcc, Vout=v)\n",
    "    T = thermistor.steinhart_hart(r, *abc)\n",
    "    data.append([v, r, T])\n",
    "    time.sleep(1)"
   ]
  },
  {
   "cell_type": "code",
   "execution_count": 11,
   "metadata": {},
   "outputs": [],
   "source": [
    "df = pd.DataFrame(data, columns=['voltage', 'resistance', 'temperature_C'])"
   ]
  },
  {
   "cell_type": "code",
   "execution_count": 12,
   "metadata": {},
   "outputs": [
    {
     "data": {
      "text/html": [
       "<div>\n",
       "<style scoped>\n",
       "    .dataframe tbody tr th:only-of-type {\n",
       "        vertical-align: middle;\n",
       "    }\n",
       "\n",
       "    .dataframe tbody tr th {\n",
       "        vertical-align: top;\n",
       "    }\n",
       "\n",
       "    .dataframe thead th {\n",
       "        text-align: right;\n",
       "    }\n",
       "</style>\n",
       "<table border=\"1\" class=\"dataframe\">\n",
       "  <thead>\n",
       "    <tr style=\"text-align: right;\">\n",
       "      <th></th>\n",
       "      <th>voltage</th>\n",
       "      <th>resistance</th>\n",
       "      <th>temperature_C</th>\n",
       "    </tr>\n",
       "  </thead>\n",
       "  <tbody>\n",
       "    <tr>\n",
       "      <th>0</th>\n",
       "      <td>1.023562</td>\n",
       "      <td>9992.678016</td>\n",
       "      <td>25.01956</td>\n",
       "    </tr>\n",
       "    <tr>\n",
       "      <th>1</th>\n",
       "      <td>1.023562</td>\n",
       "      <td>9992.678016</td>\n",
       "      <td>25.01956</td>\n",
       "    </tr>\n",
       "    <tr>\n",
       "      <th>2</th>\n",
       "      <td>1.023750</td>\n",
       "      <td>9996.338338</td>\n",
       "      <td>25.00978</td>\n",
       "    </tr>\n",
       "    <tr>\n",
       "      <th>3</th>\n",
       "      <td>1.023750</td>\n",
       "      <td>9996.338338</td>\n",
       "      <td>25.00978</td>\n",
       "    </tr>\n",
       "    <tr>\n",
       "      <th>4</th>\n",
       "      <td>1.023937</td>\n",
       "      <td>10000.000000</td>\n",
       "      <td>25.00000</td>\n",
       "    </tr>\n",
       "  </tbody>\n",
       "</table>\n",
       "</div>"
      ],
      "text/plain": [
       "    voltage    resistance  temperature_C\n",
       "0  1.023562   9992.678016       25.01956\n",
       "1  1.023562   9992.678016       25.01956\n",
       "2  1.023750   9996.338338       25.00978\n",
       "3  1.023750   9996.338338       25.00978\n",
       "4  1.023937  10000.000000       25.00000"
      ]
     },
     "execution_count": 12,
     "metadata": {},
     "output_type": "execute_result"
    }
   ],
   "source": [
    "df.head()"
   ]
  },
  {
   "cell_type": "code",
   "execution_count": 13,
   "metadata": {},
   "outputs": [
    {
     "data": {
      "image/png": "[encoded data removed]",
      "text/plain": [
       "<Figure size 432x288 with 1 Axes>"
      ]
     },
     "metadata": {
      "needs_background": "light"
     },
     "output_type": "display_data"
    }
   ],
   "source": [
    "df.temperature_C.plot();"
   ]
  }
 ],
 "metadata": {
  "kernelspec": {
   "display_name": "Python 3",
   "language": "python",
   "name": "python3"
  },
  "language_info": {
   "codemirror_mode": {
    "name": "ipython",
    "version": 3
   },
   "file_extension": ".py",
   "mimetype": "text/x-python",
   "name": "python",
   "nbconvert_exporter": "python",
   "pygments_lexer": "ipython3",
   "version": "3.5.2"
  }
 },
 "nbformat": 4,
 "nbformat_minor": 2
}
