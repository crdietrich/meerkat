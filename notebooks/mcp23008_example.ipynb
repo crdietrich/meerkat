{
 "cells": [
  {
   "cell_type": "code",
   "execution_count": 1,
   "metadata": {},
   "outputs": [],
   "source": [
    "import matplotlib.pyplot as plt\n",
    "from meerkat import mcp23008, tools, parser\n",
    "from meerkat.base import time\n",
    "\n",
    "from importlib import reload"
   ]
  },
  {
   "cell_type": "code",
   "execution_count": 2,
   "metadata": {},
   "outputs": [],
   "source": [
    "relay = mcp23008.MCP23008(bus_n=1)"
   ]
  },
  {
   "cell_type": "code",
   "execution_count": 3,
   "metadata": {},
   "outputs": [
    {
     "data": {
      "text/plain": [
       "'00000000'"
      ]
     },
     "execution_count": 3,
     "metadata": {},
     "output_type": "execute_result"
    }
   ],
   "source": [
    "state = relay.get_all_channels()\n",
    "tools.left_fill(s=bin(state)[2:], n=8, x=\"0\")"
   ]
  },
  {
   "cell_type": "code",
   "execution_count": 4,
   "metadata": {},
   "outputs": [],
   "source": [
    "relay.set_channel(channel=1, state=1)"
   ]
  },
  {
   "cell_type": "code",
   "execution_count": 5,
   "metadata": {},
   "outputs": [
    {
     "data": {
      "text/plain": [
       "'00000001'"
      ]
     },
     "execution_count": 5,
     "metadata": {},
     "output_type": "execute_result"
    }
   ],
   "source": [
    "state = relay.get_all_channels()\n",
    "tools.left_fill(s=bin(state)[2:], n=8, x=\"0\")"
   ]
  },
  {
   "cell_type": "code",
   "execution_count": 6,
   "metadata": {},
   "outputs": [],
   "source": [
    "relay.set_channel(channel=1, state=0)"
   ]
  },
  {
   "cell_type": "code",
   "execution_count": 7,
   "metadata": {},
   "outputs": [
    {
     "data": {
      "text/plain": [
       "'00000000'"
      ]
     },
     "execution_count": 7,
     "metadata": {},
     "output_type": "execute_result"
    }
   ],
   "source": [
    "state = relay.get_all_channels()\n",
    "tools.left_fill(s=bin(state)[2:], n=8, x=\"0\")"
   ]
  },
  {
   "cell_type": "code",
   "execution_count": 8,
   "metadata": {},
   "outputs": [],
   "source": [
    "relay.set_channel(channel=2, state=0)"
   ]
  },
  {
   "cell_type": "code",
   "execution_count": 9,
   "metadata": {},
   "outputs": [
    {
     "data": {
      "text/plain": [
       "'00000000'"
      ]
     },
     "execution_count": 9,
     "metadata": {},
     "output_type": "execute_result"
    }
   ],
   "source": [
    "state = relay.get_all_channels()\n",
    "tools.left_fill(s=bin(state)[2:], n=8, x=\"0\")"
   ]
  },
  {
   "cell_type": "code",
   "execution_count": 10,
   "metadata": {},
   "outputs": [],
   "source": [
    "relay.set_channel(channel=4, state=2)"
   ]
  },
  {
   "cell_type": "code",
   "execution_count": 11,
   "metadata": {},
   "outputs": [
    {
     "data": {
      "text/plain": [
       "'00001000'"
      ]
     },
     "execution_count": 11,
     "metadata": {},
     "output_type": "execute_result"
    }
   ],
   "source": [
    "state = relay.get_all_channels()\n",
    "tools.left_fill(s=bin(state)[2:], n=8, x=\"0\")"
   ]
  },
  {
   "cell_type": "code",
   "execution_count": 12,
   "metadata": {},
   "outputs": [
    {
     "data": {
      "text/plain": [
       "'{\"description\": \"relay_test1\", \"sample_n\": 0, \"relay_state\": \"00001000\", \"std_time_ms\": \"2020-11-21 14:25:58.285585\"}'"
      ]
     },
     "execution_count": 12,
     "metadata": {},
     "output_type": "execute_result"
    }
   ],
   "source": [
    "relay.publish(description=\"relay_test1\")"
   ]
  },
  {
   "cell_type": "code",
   "execution_count": 13,
   "metadata": {},
   "outputs": [],
   "source": [
    "# default writer format is CSV, switch to JSON\n",
    "relay.writer_output = 'json'\n",
    "relay.json_writer.description = \"driver_demo\""
   ]
  },
  {
   "cell_type": "code",
   "execution_count": 14,
   "metadata": {},
   "outputs": [],
   "source": [
    "# writer method with description and sample number\n",
    "relay.write(description='test_2')"
   ]
  },
  {
   "cell_type": "code",
   "execution_count": 15,
   "metadata": {},
   "outputs": [
    {
     "data": {
      "text/plain": [
       "'2020_11_21_14_25_58_mcp23008.jsontxt'"
      ]
     },
     "execution_count": 15,
     "metadata": {},
     "output_type": "execute_result"
    }
   ],
   "source": [
    "relay.json_writer.path"
   ]
  },
  {
   "cell_type": "code",
   "execution_count": 16,
   "metadata": {},
   "outputs": [
    {
     "name": "stdout",
     "output_type": "stream",
     "text": [
      "{\"description\": \"test_2\", \"sample_n\": 1, \"relay_state\": \"0b00001000\", \"std_time_ms\": \"2020-11-21 14:25:58.327600\"}\n",
      "\n",
      "\n",
      "\n"
     ]
    }
   ],
   "source": [
    "with open(relay.json_writer.path, 'r') as f:\n",
    "    for _ in range(4):\n",
    "        print(f.readline().strip())"
   ]
  },
  {
   "cell_type": "code",
   "execution_count": 17,
   "metadata": {},
   "outputs": [],
   "source": [
    "# switch back to CSV format\n",
    "relay.writer_output = 'csv'\n",
    "relay.csv_writer.description = \"driver_demo\""
   ]
  },
  {
   "cell_type": "code",
   "execution_count": 18,
   "metadata": {},
   "outputs": [
    {
     "name": "stdout",
     "output_type": "stream",
     "text": [
      "Toggling channel: 1\n",
      "Toggling channel: 2\n",
      "Toggling channel: 3\n",
      "Toggling channel: 4\n",
      "Toggling channel: 5\n",
      "Toggling channel: 6\n",
      "Toggling channel: 7\n",
      "Toggling channel: 8\n"
     ]
    }
   ],
   "source": [
    "relay.set_all_channels(state=0b11111111)\n",
    "for n in range(1,9):\n",
    "    print(\"Toggling channel:\", n)\n",
    "    relay.set_channel(channel=n, state=1)\n",
    "    relay.write(description=\"channel_ramp_test_1\")\n",
    "    time.sleep(0.25)\n",
    "    relay.set_channel(channel=n, state=0)\n",
    "    relay.write(description=\"channel_ramp_test_1\")\n",
    "    time.sleep(0.25)\n",
    "    relay.write(description=\"channel_ramp_test_1\")\n",
    "    time.sleep(0.25)\n",
    "    relay.set_channel(channel=n, state=1)\n",
    "    relay.write(description=\"channel_ramp_test_1\")\n",
    "    time.sleep(0.25)"
   ]
  },
  {
   "cell_type": "code",
   "execution_count": 19,
   "metadata": {},
   "outputs": [
    {
     "data": {
      "text/plain": [
       "'2020_11_21_14_25_58_mcp23008.csv'"
      ]
     },
     "execution_count": 19,
     "metadata": {},
     "output_type": "execute_result"
    }
   ],
   "source": [
    "relay.csv_writer.path"
   ]
  },
  {
   "cell_type": "code",
   "execution_count": 20,
   "metadata": {},
   "outputs": [],
   "source": [
    "m, df = parser.csv_resource(relay.csv_writer.path)"
   ]
  },
  {
   "cell_type": "code",
   "execution_count": 21,
   "metadata": {},
   "outputs": [
    {
     "data": {
      "text/plain": [
       "{'encoding': 'utf-8',\n",
       " 'format': 'text/csv',\n",
       " 'standard': 'Follow RFC 4180',\n",
       " 'line_terminator': '\\n',\n",
       " 'quote_char': '\"',\n",
       " 'double_quote': True,\n",
       " 'escape_char': '\\\\',\n",
       " 'null_sequence': 'NA',\n",
       " 'comment': '#',\n",
       " 'metadata': {'name': 'MCP23008',\n",
       "  'urls': 'https://jap.hu/electronic/relay_module_i2c.html',\n",
       "  'manufacturer': 'Peter Jakab',\n",
       "  'header': ['description', 'sample_n', 'relay_state'],\n",
       "  'dtype': ['str', 'int', 'str'],\n",
       "  'accuracy': [None, 'count', 'bool'],\n",
       "  'bus_n': 1,\n",
       "  'bus_addr': 32,\n",
       "  'description': '8 channel I2C relay board by Peter Jakab'},\n",
       " 'path': '2020_11_21_14_25_58_mcp23008.csv',\n",
       " 'time_source': 'std_time_ms',\n",
       " 'strfmtime': '%Y-%m-%d %H:%M:%S.%f',\n",
       " 'delimiter': ',',\n",
       " 'skip_initial_space': True,\n",
       " 'case_sensitive_header': False,\n",
       " 'skip_lines': 1,\n",
       " 'description': 'driver_demo'}"
      ]
     },
     "execution_count": 21,
     "metadata": {},
     "output_type": "execute_result"
    }
   ],
   "source": [
    "m"
   ]
  },
  {
   "cell_type": "code",
   "execution_count": 22,
   "metadata": {},
   "outputs": [
    {
     "data": {
      "text/html": [
       "<div>\n",
       "<style scoped>\n",
       "    .dataframe tbody tr th:only-of-type {\n",
       "        vertical-align: middle;\n",
       "    }\n",
       "\n",
       "    .dataframe tbody tr th {\n",
       "        vertical-align: top;\n",
       "    }\n",
       "\n",
       "    .dataframe thead th {\n",
       "        text-align: right;\n",
       "    }\n",
       "</style>\n",
       "<table border=\"1\" class=\"dataframe\">\n",
       "  <thead>\n",
       "    <tr style=\"text-align: right;\">\n",
       "      <th></th>\n",
       "      <th>std_time_ms</th>\n",
       "      <th>description</th>\n",
       "      <th>sample_n</th>\n",
       "      <th>relay_state</th>\n",
       "      <th>datetime64_ns</th>\n",
       "    </tr>\n",
       "  </thead>\n",
       "  <tbody>\n",
       "    <tr>\n",
       "      <th>0</th>\n",
       "      <td>2020-11-21 14:25:58.434781</td>\n",
       "      <td>channel_ramp_test_1</td>\n",
       "      <td>1</td>\n",
       "      <td>0b11111111</td>\n",
       "      <td>2020-11-21 14:25:58.434781</td>\n",
       "    </tr>\n",
       "    <tr>\n",
       "      <th>1</th>\n",
       "      <td>2020-11-21 14:25:58.706906</td>\n",
       "      <td>channel_ramp_test_1</td>\n",
       "      <td>1</td>\n",
       "      <td>0b11111110</td>\n",
       "      <td>2020-11-21 14:25:58.706906</td>\n",
       "    </tr>\n",
       "    <tr>\n",
       "      <th>2</th>\n",
       "      <td>2020-11-21 14:25:58.968327</td>\n",
       "      <td>channel_ramp_test_1</td>\n",
       "      <td>1</td>\n",
       "      <td>0b11111110</td>\n",
       "      <td>2020-11-21 14:25:58.968327</td>\n",
       "    </tr>\n",
       "    <tr>\n",
       "      <th>3</th>\n",
       "      <td>2020-11-21 14:25:59.241089</td>\n",
       "      <td>channel_ramp_test_1</td>\n",
       "      <td>1</td>\n",
       "      <td>0b11111111</td>\n",
       "      <td>2020-11-21 14:25:59.241089</td>\n",
       "    </tr>\n",
       "    <tr>\n",
       "      <th>4</th>\n",
       "      <td>2020-11-21 14:25:59.515519</td>\n",
       "      <td>channel_ramp_test_1</td>\n",
       "      <td>1</td>\n",
       "      <td>0b11111111</td>\n",
       "      <td>2020-11-21 14:25:59.515519</td>\n",
       "    </tr>\n",
       "    <tr>\n",
       "      <th>5</th>\n",
       "      <td>2020-11-21 14:25:59.788332</td>\n",
       "      <td>channel_ramp_test_1</td>\n",
       "      <td>1</td>\n",
       "      <td>0b11111101</td>\n",
       "      <td>2020-11-21 14:25:59.788332</td>\n",
       "    </tr>\n",
       "    <tr>\n",
       "      <th>6</th>\n",
       "      <td>2020-11-21 14:26:00.049915</td>\n",
       "      <td>channel_ramp_test_1</td>\n",
       "      <td>1</td>\n",
       "      <td>0b11111101</td>\n",
       "      <td>2020-11-21 14:26:00.049915</td>\n",
       "    </tr>\n",
       "    <tr>\n",
       "      <th>7</th>\n",
       "      <td>2020-11-21 14:26:00.322603</td>\n",
       "      <td>channel_ramp_test_1</td>\n",
       "      <td>1</td>\n",
       "      <td>0b11111111</td>\n",
       "      <td>2020-11-21 14:26:00.322603</td>\n",
       "    </tr>\n",
       "    <tr>\n",
       "      <th>8</th>\n",
       "      <td>2020-11-21 14:26:00.597019</td>\n",
       "      <td>channel_ramp_test_1</td>\n",
       "      <td>1</td>\n",
       "      <td>0b11111111</td>\n",
       "      <td>2020-11-21 14:26:00.597019</td>\n",
       "    </tr>\n",
       "    <tr>\n",
       "      <th>9</th>\n",
       "      <td>2020-11-21 14:26:00.869818</td>\n",
       "      <td>channel_ramp_test_1</td>\n",
       "      <td>1</td>\n",
       "      <td>0b11111011</td>\n",
       "      <td>2020-11-21 14:26:00.869818</td>\n",
       "    </tr>\n",
       "    <tr>\n",
       "      <th>10</th>\n",
       "      <td>2020-11-21 14:26:01.131341</td>\n",
       "      <td>channel_ramp_test_1</td>\n",
       "      <td>1</td>\n",
       "      <td>0b11111011</td>\n",
       "      <td>2020-11-21 14:26:01.131341</td>\n",
       "    </tr>\n",
       "    <tr>\n",
       "      <th>11</th>\n",
       "      <td>2020-11-21 14:26:01.403906</td>\n",
       "      <td>channel_ramp_test_1</td>\n",
       "      <td>1</td>\n",
       "      <td>0b11111111</td>\n",
       "      <td>2020-11-21 14:26:01.403906</td>\n",
       "    </tr>\n",
       "    <tr>\n",
       "      <th>12</th>\n",
       "      <td>2020-11-21 14:26:01.678386</td>\n",
       "      <td>channel_ramp_test_1</td>\n",
       "      <td>1</td>\n",
       "      <td>0b11111111</td>\n",
       "      <td>2020-11-21 14:26:01.678386</td>\n",
       "    </tr>\n",
       "    <tr>\n",
       "      <th>13</th>\n",
       "      <td>2020-11-21 14:26:01.951241</td>\n",
       "      <td>channel_ramp_test_1</td>\n",
       "      <td>1</td>\n",
       "      <td>0b11110111</td>\n",
       "      <td>2020-11-21 14:26:01.951241</td>\n",
       "    </tr>\n",
       "    <tr>\n",
       "      <th>14</th>\n",
       "      <td>2020-11-21 14:26:02.212754</td>\n",
       "      <td>channel_ramp_test_1</td>\n",
       "      <td>1</td>\n",
       "      <td>0b11110111</td>\n",
       "      <td>2020-11-21 14:26:02.212754</td>\n",
       "    </tr>\n",
       "    <tr>\n",
       "      <th>15</th>\n",
       "      <td>2020-11-21 14:26:02.485586</td>\n",
       "      <td>channel_ramp_test_1</td>\n",
       "      <td>1</td>\n",
       "      <td>0b11111111</td>\n",
       "      <td>2020-11-21 14:26:02.485586</td>\n",
       "    </tr>\n",
       "    <tr>\n",
       "      <th>16</th>\n",
       "      <td>2020-11-21 14:26:02.760019</td>\n",
       "      <td>channel_ramp_test_1</td>\n",
       "      <td>1</td>\n",
       "      <td>0b11111111</td>\n",
       "      <td>2020-11-21 14:26:02.760019</td>\n",
       "    </tr>\n",
       "    <tr>\n",
       "      <th>17</th>\n",
       "      <td>2020-11-21 14:26:03.032830</td>\n",
       "      <td>channel_ramp_test_1</td>\n",
       "      <td>1</td>\n",
       "      <td>0b11101111</td>\n",
       "      <td>2020-11-21 14:26:03.032830</td>\n",
       "    </tr>\n",
       "    <tr>\n",
       "      <th>18</th>\n",
       "      <td>2020-11-21 14:26:03.294442</td>\n",
       "      <td>channel_ramp_test_1</td>\n",
       "      <td>1</td>\n",
       "      <td>0b11101111</td>\n",
       "      <td>2020-11-21 14:26:03.294442</td>\n",
       "    </tr>\n",
       "    <tr>\n",
       "      <th>19</th>\n",
       "      <td>2020-11-21 14:26:03.567164</td>\n",
       "      <td>channel_ramp_test_1</td>\n",
       "      <td>1</td>\n",
       "      <td>0b11111111</td>\n",
       "      <td>2020-11-21 14:26:03.567164</td>\n",
       "    </tr>\n",
       "    <tr>\n",
       "      <th>20</th>\n",
       "      <td>2020-11-21 14:26:03.840697</td>\n",
       "      <td>channel_ramp_test_1</td>\n",
       "      <td>1</td>\n",
       "      <td>0b11111111</td>\n",
       "      <td>2020-11-21 14:26:03.840697</td>\n",
       "    </tr>\n",
       "    <tr>\n",
       "      <th>21</th>\n",
       "      <td>2020-11-21 14:26:04.113548</td>\n",
       "      <td>channel_ramp_test_1</td>\n",
       "      <td>1</td>\n",
       "      <td>0b11011111</td>\n",
       "      <td>2020-11-21 14:26:04.113548</td>\n",
       "    </tr>\n",
       "    <tr>\n",
       "      <th>22</th>\n",
       "      <td>2020-11-21 14:26:04.375063</td>\n",
       "      <td>channel_ramp_test_1</td>\n",
       "      <td>1</td>\n",
       "      <td>0b11011111</td>\n",
       "      <td>2020-11-21 14:26:04.375063</td>\n",
       "    </tr>\n",
       "    <tr>\n",
       "      <th>23</th>\n",
       "      <td>2020-11-21 14:26:04.647801</td>\n",
       "      <td>channel_ramp_test_1</td>\n",
       "      <td>1</td>\n",
       "      <td>0b11111111</td>\n",
       "      <td>2020-11-21 14:26:04.647801</td>\n",
       "    </tr>\n",
       "    <tr>\n",
       "      <th>24</th>\n",
       "      <td>2020-11-21 14:26:04.922208</td>\n",
       "      <td>channel_ramp_test_1</td>\n",
       "      <td>1</td>\n",
       "      <td>0b11111111</td>\n",
       "      <td>2020-11-21 14:26:04.922208</td>\n",
       "    </tr>\n",
       "    <tr>\n",
       "      <th>25</th>\n",
       "      <td>2020-11-21 14:26:05.195078</td>\n",
       "      <td>channel_ramp_test_1</td>\n",
       "      <td>1</td>\n",
       "      <td>0b10111111</td>\n",
       "      <td>2020-11-21 14:26:05.195078</td>\n",
       "    </tr>\n",
       "    <tr>\n",
       "      <th>26</th>\n",
       "      <td>2020-11-21 14:26:05.456632</td>\n",
       "      <td>channel_ramp_test_1</td>\n",
       "      <td>1</td>\n",
       "      <td>0b10111111</td>\n",
       "      <td>2020-11-21 14:26:05.456632</td>\n",
       "    </tr>\n",
       "    <tr>\n",
       "      <th>27</th>\n",
       "      <td>2020-11-21 14:26:05.729326</td>\n",
       "      <td>channel_ramp_test_1</td>\n",
       "      <td>1</td>\n",
       "      <td>0b11111111</td>\n",
       "      <td>2020-11-21 14:26:05.729326</td>\n",
       "    </tr>\n",
       "    <tr>\n",
       "      <th>28</th>\n",
       "      <td>2020-11-21 14:26:06.003671</td>\n",
       "      <td>channel_ramp_test_1</td>\n",
       "      <td>1</td>\n",
       "      <td>0b11111111</td>\n",
       "      <td>2020-11-21 14:26:06.003671</td>\n",
       "    </tr>\n",
       "    <tr>\n",
       "      <th>29</th>\n",
       "      <td>2020-11-21 14:26:06.276482</td>\n",
       "      <td>channel_ramp_test_1</td>\n",
       "      <td>1</td>\n",
       "      <td>0b01111111</td>\n",
       "      <td>2020-11-21 14:26:06.276482</td>\n",
       "    </tr>\n",
       "    <tr>\n",
       "      <th>30</th>\n",
       "      <td>2020-11-21 14:26:06.538006</td>\n",
       "      <td>channel_ramp_test_1</td>\n",
       "      <td>1</td>\n",
       "      <td>0b01111111</td>\n",
       "      <td>2020-11-21 14:26:06.538006</td>\n",
       "    </tr>\n",
       "    <tr>\n",
       "      <th>31</th>\n",
       "      <td>2020-11-21 14:26:06.810737</td>\n",
       "      <td>channel_ramp_test_1</td>\n",
       "      <td>1</td>\n",
       "      <td>0b11111111</td>\n",
       "      <td>2020-11-21 14:26:06.810737</td>\n",
       "    </tr>\n",
       "  </tbody>\n",
       "</table>\n",
       "</div>"
      ],
      "text/plain": [
       "                   std_time_ms          description  sample_n relay_state  \\\n",
       "0   2020-11-21 14:25:58.434781  channel_ramp_test_1         1  0b11111111   \n",
       "1   2020-11-21 14:25:58.706906  channel_ramp_test_1         1  0b11111110   \n",
       "2   2020-11-21 14:25:58.968327  channel_ramp_test_1         1  0b11111110   \n",
       "3   2020-11-21 14:25:59.241089  channel_ramp_test_1         1  0b11111111   \n",
       "4   2020-11-21 14:25:59.515519  channel_ramp_test_1         1  0b11111111   \n",
       "5   2020-11-21 14:25:59.788332  channel_ramp_test_1         1  0b11111101   \n",
       "6   2020-11-21 14:26:00.049915  channel_ramp_test_1         1  0b11111101   \n",
       "7   2020-11-21 14:26:00.322603  channel_ramp_test_1         1  0b11111111   \n",
       "8   2020-11-21 14:26:00.597019  channel_ramp_test_1         1  0b11111111   \n",
       "9   2020-11-21 14:26:00.869818  channel_ramp_test_1         1  0b11111011   \n",
       "10  2020-11-21 14:26:01.131341  channel_ramp_test_1         1  0b11111011   \n",
       "11  2020-11-21 14:26:01.403906  channel_ramp_test_1         1  0b11111111   \n",
       "12  2020-11-21 14:26:01.678386  channel_ramp_test_1         1  0b11111111   \n",
       "13  2020-11-21 14:26:01.951241  channel_ramp_test_1         1  0b11110111   \n",
       "14  2020-11-21 14:26:02.212754  channel_ramp_test_1         1  0b11110111   \n",
       "15  2020-11-21 14:26:02.485586  channel_ramp_test_1         1  0b11111111   \n",
       "16  2020-11-21 14:26:02.760019  channel_ramp_test_1         1  0b11111111   \n",
       "17  2020-11-21 14:26:03.032830  channel_ramp_test_1         1  0b11101111   \n",
       "18  2020-11-21 14:26:03.294442  channel_ramp_test_1         1  0b11101111   \n",
       "19  2020-11-21 14:26:03.567164  channel_ramp_test_1         1  0b11111111   \n",
       "20  2020-11-21 14:26:03.840697  channel_ramp_test_1         1  0b11111111   \n",
       "21  2020-11-21 14:26:04.113548  channel_ramp_test_1         1  0b11011111   \n",
       "22  2020-11-21 14:26:04.375063  channel_ramp_test_1         1  0b11011111   \n",
       "23  2020-11-21 14:26:04.647801  channel_ramp_test_1         1  0b11111111   \n",
       "24  2020-11-21 14:26:04.922208  channel_ramp_test_1         1  0b11111111   \n",
       "25  2020-11-21 14:26:05.195078  channel_ramp_test_1         1  0b10111111   \n",
       "26  2020-11-21 14:26:05.456632  channel_ramp_test_1         1  0b10111111   \n",
       "27  2020-11-21 14:26:05.729326  channel_ramp_test_1         1  0b11111111   \n",
       "28  2020-11-21 14:26:06.003671  channel_ramp_test_1         1  0b11111111   \n",
       "29  2020-11-21 14:26:06.276482  channel_ramp_test_1         1  0b01111111   \n",
       "30  2020-11-21 14:26:06.538006  channel_ramp_test_1         1  0b01111111   \n",
       "31  2020-11-21 14:26:06.810737  channel_ramp_test_1         1  0b11111111   \n",
       "\n",
       "                datetime64_ns  \n",
       "0  2020-11-21 14:25:58.434781  \n",
       "1  2020-11-21 14:25:58.706906  \n",
       "2  2020-11-21 14:25:58.968327  \n",
       "3  2020-11-21 14:25:59.241089  \n",
       "4  2020-11-21 14:25:59.515519  \n",
       "5  2020-11-21 14:25:59.788332  \n",
       "6  2020-11-21 14:26:00.049915  \n",
       "7  2020-11-21 14:26:00.322603  \n",
       "8  2020-11-21 14:26:00.597019  \n",
       "9  2020-11-21 14:26:00.869818  \n",
       "10 2020-11-21 14:26:01.131341  \n",
       "11 2020-11-21 14:26:01.403906  \n",
       "12 2020-11-21 14:26:01.678386  \n",
       "13 2020-11-21 14:26:01.951241  \n",
       "14 2020-11-21 14:26:02.212754  \n",
       "15 2020-11-21 14:26:02.485586  \n",
       "16 2020-11-21 14:26:02.760019  \n",
       "17 2020-11-21 14:26:03.032830  \n",
       "18 2020-11-21 14:26:03.294442  \n",
       "19 2020-11-21 14:26:03.567164  \n",
       "20 2020-11-21 14:26:03.840697  \n",
       "21 2020-11-21 14:26:04.113548  \n",
       "22 2020-11-21 14:26:04.375063  \n",
       "23 2020-11-21 14:26:04.647801  \n",
       "24 2020-11-21 14:26:04.922208  \n",
       "25 2020-11-21 14:26:05.195078  \n",
       "26 2020-11-21 14:26:05.456632  \n",
       "27 2020-11-21 14:26:05.729326  \n",
       "28 2020-11-21 14:26:06.003671  \n",
       "29 2020-11-21 14:26:06.276482  \n",
       "30 2020-11-21 14:26:06.538006  \n",
       "31 2020-11-21 14:26:06.810737  "
      ]
     },
     "execution_count": 22,
     "metadata": {},
     "output_type": "execute_result"
    }
   ],
   "source": [
    "df"
   ]
  },
  {
   "cell_type": "code",
   "execution_count": 23,
   "metadata": {},
   "outputs": [
    {
     "name": "stderr",
     "output_type": "stream",
     "text": [
      "/usr/lib/python3/dist-packages/matplotlib/cbook/__init__.py:1377: FutureWarning: Support for multi-dimensional indexing (e.g. `obj[:, None]`) is deprecated and will be removed in a future version.  Convert to a numpy array before indexing instead.\n",
      "  x[:, None]\n",
      "/usr/lib/python3/dist-packages/matplotlib/axes/_base.py:237: FutureWarning: Support for multi-dimensional indexing (e.g. `obj[:, None]`) is deprecated and will be removed in a future version.  Convert to a numpy array before indexing instead.\n",
      "  x = x[:, np.newaxis]\n",
      "/usr/lib/python3/dist-packages/matplotlib/axes/_base.py:239: FutureWarning: Support for multi-dimensional indexing (e.g. `obj[:, None]`) is deprecated and will be removed in a future version.  Convert to a numpy array before indexing instead.\n",
      "  y = y[:, np.newaxis]\n"
     ]
    },
    {
     "data": {
      "image/png": "[encoded data removed]",
      "text/plain": [
       "<Figure size 432x288 with 1 Axes>"
      ]
     },
     "metadata": {
      "needs_background": "light"
     },
     "output_type": "display_data"
    }
   ],
   "source": [
    "# convert register meaning to plotable format\n",
    "for n in range(2, 10):\n",
    "    _s = df.relay_state.str[n].apply(lambda x: {\"0\": \"on\", \"1\": \"off\"}[x])\n",
    "    df[\"r{}\".format(n-2+1)] = _s\n",
    "    \n",
    "for c in [\"r1\", \"r2\", \"r3\", \"r4\", \"r5\", \"r6\", \"r7\", \"r8\"]:\n",
    "    plt.plot(df.datetime64_ns, df[c], label=c)\n",
    "plt.xticks(rotation=45)\n",
    "plt.legend(bbox_to_anchor=(1.05, 1), loc='upper left');"
   ]
  },
  {
   "cell_type": "code",
   "execution_count": null,
   "metadata": {},
   "outputs": [],
   "source": []
  }
 ],
 "metadata": {
  "kernelspec": {
   "display_name": "Python 3",
   "language": "python",
   "name": "python3"
  },
  "language_info": {
   "codemirror_mode": {
    "name": "ipython",
    "version": 3
   },
   "file_extension": ".py",
   "mimetype": "text/x-python",
   "name": "python",
   "nbconvert_exporter": "python",
   "pygments_lexer": "ipython3",
   "version": "3.7.3"
  }
 },
 "nbformat": 4,
 "nbformat_minor": 4
}
