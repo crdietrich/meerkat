{
 "cells": [
  {
   "cell_type": "markdown",
   "metadata": {},
   "source": [
    "## bprint Example  \n",
    "Using bprint to display device register values.  \n",
    "\n",
    "Python supportings printing binary values but by default truncates leading zeros which can clip important register information.  The solution is to use Python's string formatting to zero pad, however this gets tedious to reimpliment.  bprint is just that, a simple wrapper on a print configuration best suited to printing register values.\n",
    "\n",
    "Example of Python's default behaivor:  "
   ]
  },
  {
   "cell_type": "code",
   "execution_count": 1,
   "metadata": {},
   "outputs": [
    {
     "name": "stdout",
     "output_type": "stream",
     "text": [
      "0b111111\n"
     ]
    }
   ],
   "source": [
    "x = 0b00111111\n",
    "print(bin(x))"
   ]
  },
  {
   "cell_type": "markdown",
   "metadata": {},
   "source": [
    "First off, note that Python by default adds '0b' to indicate this string representation is in binary notation.  Similarily, a hexadeciaml notation would be prefixed with '0x'.  Also importantly, note that the first two zeros, in this case the most significant bits (MSB) are dropped.  Not helpful when programming binary registers!  \n",
    "\n",
    "Let's see if this can be more clear."
   ]
  },
  {
   "cell_type": "code",
   "execution_count": 2,
   "metadata": {},
   "outputs": [
    {
     "name": "stdout",
     "output_type": "stream",
     "text": [
      "00111111\n"
     ]
    }
   ],
   "source": [
    "b = bin(x)[2:]\n",
    "print(b.zfill(8))"
   ]
  },
  {
   "cell_type": "markdown",
   "metadata": {},
   "source": [
    "This is more clear, all binary values are printed.  Let's use the bprint version of this method.  "
   ]
  },
  {
   "cell_type": "code",
   "execution_count": 3,
   "metadata": {},
   "outputs": [],
   "source": [
    "from meerkat import tools"
   ]
  },
  {
   "cell_type": "code",
   "execution_count": 4,
   "metadata": {},
   "outputs": [
    {
     "name": "stdout",
     "output_type": "stream",
     "text": [
      "00111111\n"
     ]
    }
   ],
   "source": [
    "tools.bprint(x, n=8, indexes=False, verbose=False)"
   ]
  },
  {
   "cell_type": "markdown",
   "metadata": {},
   "source": [
    "There we designated that the number of bits is 8 with n=8.  Let's enable verbose printout."
   ]
  },
  {
   "cell_type": "code",
   "execution_count": 5,
   "metadata": {},
   "outputs": [
    {
     "name": "stdout",
     "output_type": "stream",
     "text": [
      "HEX value: 0x3f\n",
      "Binary value:\n",
      "00111111\n"
     ]
    }
   ],
   "source": [
    "tools.bprint(x, n=8, indexes=False, verbose=True)"
   ]
  },
  {
   "cell_type": "markdown",
   "metadata": {},
   "source": [
    "This includes the hexadecimal and binary values and labels both.  Often register defaults or logic analyzer values will be in hex to save print space.  Finally, let's enable binary index printing.  "
   ]
  },
  {
   "cell_type": "code",
   "execution_count": 6,
   "metadata": {},
   "outputs": [
    {
     "name": "stdout",
     "output_type": "stream",
     "text": [
      "HEX value: 0x3f\n",
      "Binary value:\n",
      "00111111\n",
      "00000000\n",
      "76543210\n"
     ]
    }
   ],
   "source": [
    "tools.bprint(x, n=8, indexes=True, verbose=True)"
   ]
  },
  {
   "cell_type": "markdown",
   "metadata": {},
   "source": [
    "This prints the index of the bits in MSB notation on two rows.  This helps visually inspect register ranges without counting from the ends.  The first row after the binary values is the tens and the second the ones to give an index value.  For example: \n",
    "\n",
    "```\n",
    "0\n",
    "1   => bit 14 is set to 0\n",
    "4\n",
    "```\n",
    "\n",
    "Finally, let's just use default arguments.  n defaults to 16 so for the 8 bit we'll still designate our desired zero padding."
   ]
  },
  {
   "cell_type": "code",
   "execution_count": 7,
   "metadata": {},
   "outputs": [
    {
     "name": "stdout",
     "output_type": "stream",
     "text": [
      "HEX value: 0x3f\n",
      "Binary value:\n",
      "00111111\n",
      "00000000\n",
      "76543210\n"
     ]
    }
   ],
   "source": [
    "tools.bprint(x, n=8)"
   ]
  },
  {
   "cell_type": "markdown",
   "metadata": {},
   "source": [
    "Finally a 16 bit example (remember, n defaults to 16):"
   ]
  },
  {
   "cell_type": "code",
   "execution_count": 8,
   "metadata": {},
   "outputs": [
    {
     "name": "stdout",
     "output_type": "stream",
     "text": [
      "HEX value: 0xb99f\n",
      "Binary value:\n",
      "1011100110011111\n",
      "1111110000000000\n",
      "5432109876543210\n"
     ]
    }
   ],
   "source": [
    "y = 0b1011100110011111\n",
    "tools.bprint(y)"
   ]
  }
 ],
 "metadata": {
  "kernelspec": {
   "display_name": "Python 3",
   "language": "python",
   "name": "python3"
  },
  "language_info": {
   "codemirror_mode": {
    "name": "ipython",
    "version": 3
   },
   "file_extension": ".py",
   "mimetype": "text/x-python",
   "name": "python",
   "nbconvert_exporter": "python",
   "pygments_lexer": "ipython3",
   "version": "3.5.2"
  }
 },
 "nbformat": 4,
 "nbformat_minor": 2
}
