{
 "cells": [
  {
   "cell_type": "markdown",
   "metadata": {},
   "source": [
    "## SPS30 Particulate Sensor  "
   ]
  },
  {
   "cell_type": "code",
   "execution_count": 1,
   "metadata": {},
   "outputs": [],
   "source": [
    "from meerkat import sps30\n",
    "from meerkat.base import time"
   ]
  },
  {
   "cell_type": "code",
   "execution_count": 2,
   "metadata": {},
   "outputs": [],
   "source": [
    "sps = sps30.SPS30(bus_n=1)"
   ]
  },
  {
   "cell_type": "code",
   "execution_count": 3,
   "metadata": {},
   "outputs": [
    {
     "data": {
      "text/plain": [
       "\u001b[0;31mSignature:\u001b[0m \u001b[0msps\u001b[0m\u001b[0;34m.\u001b[0m\u001b[0mserial\u001b[0m\u001b[0;34m(\u001b[0m\u001b[0;34m)\u001b[0m\u001b[0;34m\u001b[0m\u001b[0;34m\u001b[0m\u001b[0m\n",
       "\u001b[0;31mDocstring:\u001b[0m Read device serial number. See ch 6.3.9\n",
       "\u001b[0;31mFile:\u001b[0m      ~/code/meerkat/meerkat/sps30.py\n",
       "\u001b[0;31mType:\u001b[0m      method\n"
      ]
     },
     "metadata": {},
     "output_type": "display_data"
    }
   ],
   "source": [
    "sps.serial?"
   ]
  },
  {
   "cell_type": "code",
   "execution_count": 4,
   "metadata": {},
   "outputs": [
    {
     "data": {
      "text/plain": [
       "'4C656580DE6B9690'"
      ]
     },
     "execution_count": 4,
     "metadata": {},
     "output_type": "execute_result"
    }
   ],
   "source": [
    "sps.serial()"
   ]
  },
  {
   "cell_type": "code",
   "execution_count": 5,
   "metadata": {},
   "outputs": [
    {
     "data": {
      "text/plain": [
       "\u001b[0;31mSignature:\u001b[0m \u001b[0msps\u001b[0m\u001b[0;34m.\u001b[0m\u001b[0mproduct_type\u001b[0m\u001b[0;34m(\u001b[0m\u001b[0;34m)\u001b[0m\u001b[0;34m\u001b[0m\u001b[0;34m\u001b[0m\u001b[0m\n",
       "\u001b[0;31mDocstring:\u001b[0m Read product type. See ch 6.3.9\n",
       "\u001b[0;31mFile:\u001b[0m      ~/code/meerkat/meerkat/sps30.py\n",
       "\u001b[0;31mType:\u001b[0m      method\n"
      ]
     },
     "metadata": {},
     "output_type": "display_data"
    }
   ],
   "source": [
    "sps.product_type?"
   ]
  },
  {
   "cell_type": "code",
   "execution_count": 6,
   "metadata": {},
   "outputs": [
    {
     "data": {
      "text/plain": [
       "'00080000'"
      ]
     },
     "execution_count": 6,
     "metadata": {},
     "output_type": "execute_result"
    }
   ],
   "source": [
    "sps.product_type()"
   ]
  },
  {
   "cell_type": "code",
   "execution_count": 7,
   "metadata": {},
   "outputs": [
    {
     "data": {
      "text/plain": [
       "\u001b[0;31mSignature:\u001b[0m \u001b[0msps\u001b[0m\u001b[0;34m.\u001b[0m\u001b[0mmeasured_values_blocking\u001b[0m\u001b[0;34m(\u001b[0m\u001b[0mdt\u001b[0m\u001b[0;34m=\u001b[0m\u001b[0;36m1\u001b[0m\u001b[0;34m,\u001b[0m \u001b[0mtimeout\u001b[0m\u001b[0;34m=\u001b[0m\u001b[0;36m30\u001b[0m\u001b[0;34m,\u001b[0m \u001b[0mcontinuous\u001b[0m\u001b[0;34m=\u001b[0m\u001b[0;32mFalse\u001b[0m\u001b[0;34m,\u001b[0m \u001b[0mverbose\u001b[0m\u001b[0;34m=\u001b[0m\u001b[0;32mFalse\u001b[0m\u001b[0;34m)\u001b[0m\u001b[0;34m\u001b[0m\u001b[0;34m\u001b[0m\u001b[0m\n",
       "\u001b[0;31mDocstring:\u001b[0m\n",
       "Block and poll until new data is available\n",
       "\n",
       "Parameters\n",
       "----------\n",
       "dt : int, seconds to pause between polling requests\n",
       "timeout : int, maximum seconds to poll\n",
       "continuous : bool, if True do not stop measurement to read latest data\n",
       "verbose : bool, print debug statements\n",
       "\u001b[0;31mFile:\u001b[0m      ~/code/meerkat/meerkat/sps30.py\n",
       "\u001b[0;31mType:\u001b[0m      method\n"
      ]
     },
     "metadata": {},
     "output_type": "display_data"
    }
   ],
   "source": [
    "sps.measured_values_blocking?"
   ]
  },
  {
   "cell_type": "code",
   "execution_count": 8,
   "metadata": {},
   "outputs": [
    {
     "data": {
      "text/plain": [
       "[1.9611570835113525,\n",
       " 7.199510097503662,\n",
       " 11.336833000183105,\n",
       " 13.516180038452148,\n",
       " 0.0,\n",
       " 9.50627613067627,\n",
       " 15.4091215133667,\n",
       " 16.49832534790039,\n",
       " 16.749265670776367,\n",
       " 1.6299999952316284]"
      ]
     },
     "execution_count": 8,
     "metadata": {},
     "output_type": "execute_result"
    }
   ],
   "source": [
    "sps.measured_values_blocking()"
   ]
  },
  {
   "cell_type": "code",
   "execution_count": 9,
   "metadata": {},
   "outputs": [
    {
     "data": {
      "text/plain": [
       "\u001b[0;31mSignature:\u001b[0m \u001b[0msps\u001b[0m\u001b[0;34m.\u001b[0m\u001b[0mread_cleaning_interval\u001b[0m\u001b[0;34m(\u001b[0m\u001b[0;34m)\u001b[0m\u001b[0;34m\u001b[0m\u001b[0;34m\u001b[0m\u001b[0m\n",
       "\u001b[0;31mDocstring:\u001b[0m Read the fan cleaning cycle. See ch 6.3.8\n",
       "\u001b[0;31mFile:\u001b[0m      ~/code/meerkat/meerkat/sps30.py\n",
       "\u001b[0;31mType:\u001b[0m      method\n"
      ]
     },
     "metadata": {},
     "output_type": "display_data"
    }
   ],
   "source": [
    "sps.read_cleaning_interval?"
   ]
  },
  {
   "cell_type": "code",
   "execution_count": 10,
   "metadata": {},
   "outputs": [
    {
     "data": {
      "text/plain": [
       "9"
      ]
     },
     "execution_count": 10,
     "metadata": {},
     "output_type": "execute_result"
    }
   ],
   "source": [
    "sps.read_cleaning_interval()"
   ]
  },
  {
   "cell_type": "code",
   "execution_count": 11,
   "metadata": {},
   "outputs": [
    {
     "data": {
      "text/plain": [
       "\u001b[0;31mSignature:\u001b[0m \u001b[0msps\u001b[0m\u001b[0;34m.\u001b[0m\u001b[0mstatus\u001b[0m\u001b[0;34m(\u001b[0m\u001b[0;34m)\u001b[0m\u001b[0;34m\u001b[0m\u001b[0;34m\u001b[0m\u001b[0m\n",
       "\u001b[0;31mDocstring:\u001b[0m Get status device status. See ch 4.4\n",
       "\u001b[0;31mFile:\u001b[0m      ~/code/meerkat/meerkat/sps30.py\n",
       "\u001b[0;31mType:\u001b[0m      method\n"
      ]
     },
     "metadata": {},
     "output_type": "display_data"
    }
   ],
   "source": [
    "sps.status?"
   ]
  },
  {
   "cell_type": "code",
   "execution_count": 12,
   "metadata": {},
   "outputs": [
    {
     "data": {
      "text/plain": [
       "(0, 16, 0)"
      ]
     },
     "execution_count": 12,
     "metadata": {},
     "output_type": "execute_result"
    }
   ],
   "source": [
    "sps.status()"
   ]
  },
  {
   "cell_type": "code",
   "execution_count": 13,
   "metadata": {},
   "outputs": [
    {
     "data": {
      "text/plain": [
       "\u001b[0;31mSignature:\u001b[0m \u001b[0msps\u001b[0m\u001b[0;34m.\u001b[0m\u001b[0mpublish\u001b[0m\u001b[0;34m(\u001b[0m\u001b[0mdescription\u001b[0m\u001b[0;34m=\u001b[0m\u001b[0;34m'NA'\u001b[0m\u001b[0;34m,\u001b[0m \u001b[0mn\u001b[0m\u001b[0;34m=\u001b[0m\u001b[0;36m1\u001b[0m\u001b[0;34m,\u001b[0m \u001b[0mdelay\u001b[0m\u001b[0;34m=\u001b[0m\u001b[0;32mNone\u001b[0m\u001b[0;34m,\u001b[0m \u001b[0mblocking\u001b[0m\u001b[0;34m=\u001b[0m\u001b[0;32mTrue\u001b[0m\u001b[0;34m)\u001b[0m\u001b[0;34m\u001b[0m\u001b[0;34m\u001b[0m\u001b[0m\n",
       "\u001b[0;31mDocstring:\u001b[0m\n",
       "Get measured air partical data and output in JSON, \n",
       "plus metadata at intervals set by self.metadata_interval\n",
       "\n",
       "Parameters\n",
       "----------\n",
       "description : str, description of data collected\n",
       "n : int, number of samples to record in this burst\n",
       "delay : float, seconds to delay between samples if n > 1\n",
       "blocking : bool, if True wait until data is ready. If False, \n",
       "    self.start_measurement and self.stop_measurement must be \n",
       "    called externally to this method.\n",
       "\n",
       "Returns\n",
       "-------\n",
       "str, formatted in JSON with keys:\n",
       "    description : str\n",
       "    n : sample number in this burst\n",
       "    and values as described in self.metadata.header\n",
       "\u001b[0;31mFile:\u001b[0m      ~/code/meerkat/meerkat/sps30.py\n",
       "\u001b[0;31mType:\u001b[0m      method\n"
      ]
     },
     "metadata": {},
     "output_type": "display_data"
    }
   ],
   "source": [
    "sps.publish?"
   ]
  },
  {
   "cell_type": "code",
   "execution_count": 14,
   "metadata": {},
   "outputs": [
    {
     "data": {
      "text/plain": [
       "['{\"description\": \"test1\", \"sample_n\": 0, \"mc_pm1.0\": 5.379336357116699, \"mc_pm2.5\": 5.641330718994141, \"mc_pm4.0\": 5.641330718994141, \"mc_pm10\": 5.641326904296875, \"nc_pm0.5\": 36.401145935058594, \"nc_pm1.0\": 42.1168327331543, \"nc_pm2.5\": 42.25716018676758, \"nc_pm4.0\": 42.26814270019531, \"nc_pm10\": 42.276180267333984, \"typical_partical_size\": 0.4787161350250244, \"std_time_ms\": \"2021-07-03 13:11:41.370914\"}',\n",
       " '{\"description\": \"test1\", \"sample_n\": 1, \"mc_pm1.0\": 5.379336357116699, \"mc_pm2.5\": 5.641330718994141, \"mc_pm4.0\": 5.641330718994141, \"mc_pm10\": 5.641326904296875, \"nc_pm0.5\": 36.401145935058594, \"nc_pm1.0\": 42.1168327331543, \"nc_pm2.5\": 42.25716018676758, \"nc_pm4.0\": 42.26814270019531, \"nc_pm10\": 42.276180267333984, \"typical_partical_size\": 0.3160066604614258, \"std_time_ms\": \"2021-07-03 13:11:42.581557\"}',\n",
       " '{\"description\": \"test1\", \"sample_n\": 2, \"mc_pm1.0\": 6.051753520965576, \"mc_pm2.5\": 6.346497058868408, \"mc_pm4.0\": 6.346497058868408, \"mc_pm10\": 6.346492767333984, \"nc_pm0.5\": 40.951290130615234, \"nc_pm1.0\": 47.38143539428711, \"nc_pm2.5\": 47.539306640625, \"nc_pm4.0\": 47.551658630371094, \"nc_pm10\": 47.56070327758789, \"typical_partical_size\": 0.5040222406387329, \"std_time_ms\": \"2021-07-03 13:11:43.792255\"}']"
      ]
     },
     "execution_count": 14,
     "metadata": {},
     "output_type": "execute_result"
    }
   ],
   "source": [
    "sps.publish(description='test1', n=3, delay=None, blocking=True)"
   ]
  },
  {
   "cell_type": "code",
   "execution_count": 15,
   "metadata": {},
   "outputs": [
    {
     "data": {
      "text/plain": [
       "\u001b[0;31mSignature:\u001b[0m \u001b[0msps\u001b[0m\u001b[0;34m.\u001b[0m\u001b[0mwrite\u001b[0m\u001b[0;34m(\u001b[0m\u001b[0mdescription\u001b[0m\u001b[0;34m=\u001b[0m\u001b[0;34m'NA'\u001b[0m\u001b[0;34m,\u001b[0m \u001b[0mn\u001b[0m\u001b[0;34m=\u001b[0m\u001b[0;36m1\u001b[0m\u001b[0;34m,\u001b[0m \u001b[0mdelay\u001b[0m\u001b[0;34m=\u001b[0m\u001b[0;32mNone\u001b[0m\u001b[0;34m,\u001b[0m \u001b[0mblocking\u001b[0m\u001b[0;34m=\u001b[0m\u001b[0;32mTrue\u001b[0m\u001b[0;34m)\u001b[0m\u001b[0;34m\u001b[0m\u001b[0;34m\u001b[0m\u001b[0m\n",
       "\u001b[0;31mDocstring:\u001b[0m\n",
       "Get measured air partical data and save to file, \n",
       "formatted as either CSV with extension .csv or \n",
       "JSON and extension .jsontxt.\n",
       "\n",
       "Parameters\n",
       "----------\n",
       "description : str, description of data collected\n",
       "n : int, number of samples to record in this burst\n",
       "delay : float, seconds to delay between samples if n > 1\n",
       "blocking : bool, if True wait until data is ready. If False, \n",
       "    self.start_measurement and self.stop_measurement must be \n",
       "    called externally to this method.\n",
       "\n",
       "Returns\n",
       "-------\n",
       "None, writes to disk the following data:\n",
       "    description : str\n",
       "    n : sample number in this burst\n",
       "    and values as described in self.metadata.header\n",
       "\u001b[0;31mFile:\u001b[0m      ~/code/meerkat/meerkat/sps30.py\n",
       "\u001b[0;31mType:\u001b[0m      method\n"
      ]
     },
     "metadata": {},
     "output_type": "display_data"
    }
   ],
   "source": [
    "sps.write?"
   ]
  },
  {
   "cell_type": "code",
   "execution_count": 16,
   "metadata": {},
   "outputs": [],
   "source": [
    "sps.write(description='test2', n=10, blocking=True)"
   ]
  }
 ],
 "metadata": {
  "kernelspec": {
   "display_name": "Python 3",
   "language": "python",
   "name": "python3"
  },
  "language_info": {
   "codemirror_mode": {
    "name": "ipython",
    "version": 3
   },
   "file_extension": ".py",
   "mimetype": "text/x-python",
   "name": "python",
   "nbconvert_exporter": "python",
   "pygments_lexer": "ipython3",
   "version": "3.7.3"
  }
 },
 "nbformat": 4,
 "nbformat_minor": 4
}
