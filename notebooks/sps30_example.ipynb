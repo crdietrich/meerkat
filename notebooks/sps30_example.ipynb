{
 "cells": [
  {
   "cell_type": "markdown",
   "metadata": {},
   "source": [
    "## SPS30 Particulate Sensor  \n",
    "Fork and remix this into a meerkat driver:  \n",
    "https://github.com/feyzikesim/sps30/blob/master/sps30/sps30.py  "
   ]
  },
  {
   "cell_type": "code",
   "execution_count": 1,
   "metadata": {},
   "outputs": [],
   "source": [
    "from meerkat import sps30\n",
    "from meerkat.base import TimePiece, time\n",
    "import struct"
   ]
  },
  {
   "cell_type": "code",
   "execution_count": 2,
   "metadata": {},
   "outputs": [],
   "source": [
    "tp = TimePiece()\n",
    "tp.format = 'std_time_ms'"
   ]
  },
  {
   "cell_type": "code",
   "execution_count": 3,
   "metadata": {},
   "outputs": [
    {
     "data": {
      "text/plain": [
       "'2021-07-02 23:27:42.534928'"
      ]
     },
     "execution_count": 3,
     "metadata": {},
     "output_type": "execute_result"
    }
   ],
   "source": [
    "tp.get_time()"
   ]
  },
  {
   "cell_type": "code",
   "execution_count": 4,
   "metadata": {},
   "outputs": [],
   "source": [
    "assert '0x92' == hex(sps30.CRC_calc([0xBE, 0xEF]))"
   ]
  },
  {
   "cell_type": "code",
   "execution_count": 5,
   "metadata": {},
   "outputs": [
    {
     "data": {
      "text/plain": [
       "48879"
      ]
     },
     "execution_count": 5,
     "metadata": {},
     "output_type": "execute_result"
    }
   ],
   "source": [
    "0xBEEF"
   ]
  },
  {
   "cell_type": "code",
   "execution_count": 6,
   "metadata": {},
   "outputs": [],
   "source": [
    "assert [0xBE, 0xEF] == sps30.CRC_check([0xBE, 0xEF, 0x92])"
   ]
  },
  {
   "cell_type": "code",
   "execution_count": 7,
   "metadata": {},
   "outputs": [],
   "source": [
    "sps = sps30.SPS30(bus_n=1)"
   ]
  },
  {
   "cell_type": "code",
   "execution_count": 8,
   "metadata": {},
   "outputs": [
    {
     "data": {
      "text/plain": [
       "'4C656580DE6B9690'"
      ]
     },
     "execution_count": 8,
     "metadata": {},
     "output_type": "execute_result"
    }
   ],
   "source": [
    "sps.serial()"
   ]
  },
  {
   "cell_type": "code",
   "execution_count": 9,
   "metadata": {},
   "outputs": [
    {
     "data": {
      "text/plain": [
       "'00080000'"
      ]
     },
     "execution_count": 9,
     "metadata": {},
     "output_type": "execute_result"
    }
   ],
   "source": [
    "sps.product_type()"
   ]
  },
  {
   "cell_type": "code",
   "execution_count": 10,
   "metadata": {},
   "outputs": [
    {
     "data": {
      "text/plain": [
       "[2.2134127616882324,\n",
       " 3.958062171936035,\n",
       " 5.274876594543457,\n",
       " 5.968513011932373,\n",
       " 10.585596084594727,\n",
       " 15.468236923217773,\n",
       " 17.3884334564209,\n",
       " 17.73834800720215,\n",
       " 17.82059097290039,\n",
       " 0.8505771160125732]"
      ]
     },
     "execution_count": 10,
     "metadata": {},
     "output_type": "execute_result"
    }
   ],
   "source": [
    "sps.measured_values_blocking(verbose=True)"
   ]
  },
  {
   "cell_type": "code",
   "execution_count": 11,
   "metadata": {},
   "outputs": [
    {
     "data": {
      "text/plain": [
       "9"
      ]
     },
     "execution_count": 11,
     "metadata": {},
     "output_type": "execute_result"
    }
   ],
   "source": [
    "sps.read_cleaning_interval()"
   ]
  },
  {
   "cell_type": "code",
   "execution_count": 12,
   "metadata": {},
   "outputs": [],
   "source": [
    "g = sps.status()"
   ]
  },
  {
   "cell_type": "code",
   "execution_count": 13,
   "metadata": {},
   "outputs": [
    {
     "data": {
      "text/plain": [
       "(0, 16, 0)"
      ]
     },
     "execution_count": 13,
     "metadata": {},
     "output_type": "execute_result"
    }
   ],
   "source": [
    "g"
   ]
  },
  {
   "cell_type": "raw",
   "metadata": {},
   "source": [
    "while True:\n",
    "    print(sps.measured_values_blocking(verbose=False))"
   ]
  },
  {
   "cell_type": "code",
   "execution_count": 14,
   "metadata": {},
   "outputs": [
    {
     "data": {
      "text/plain": [
       "['{\"description\": \"test1\", \"sample_n\": 0, \"mc_pm1.0\": 1.5509235858917236, \"mc_pm2.5\": 3.3461499214172363, \"mc_pm4.0\": 4.729610443115234, \"mc_pm10\": 5.458352088928223, \"nc_pm0.5\": 5.880338668823242, \"nc_pm1.0\": 10.187154769897461, \"nc_pm2.5\": 12.184331893920898, \"nc_pm4.0\": 12.550373077392578, \"nc_pm10\": 12.635622024536133, \"typical_partical_size\": 0.6754058599472046, \"std_time_ms\": \"2021-07-02 23:27:45.576866\"}',\n",
       " '{\"description\": \"test1\", \"sample_n\": 1, \"mc_pm1.0\": 7.024373531341553, \"mc_pm2.5\": 15.482403755187988, \"mc_pm4.0\": 22.011516571044922, \"mc_pm10\": 25.450742721557617, \"nc_pm0.5\": 25.755046844482422, \"nc_pm1.0\": 45.767147064208984, \"nc_pm2.5\": 55.184940338134766, \"nc_pm4.0\": 56.911834716796875, \"nc_pm10\": 57.313716888427734, \"typical_partical_size\": 0.8505772352218628, \"std_time_ms\": \"2021-07-02 23:27:46.787378\"}',\n",
       " '{\"description\": \"test1\", \"sample_n\": 2, \"mc_pm1.0\": 3.492129325866699, \"mc_pm2.5\": 10.358254432678223, \"mc_pm4.0\": 15.745105743408203, \"mc_pm10\": 18.582643508911133, \"nc_pm0.5\": 5.662898063659668, \"nc_pm1.0\": 19.726545333862305, \"nc_pm2.5\": 27.436616897583008, \"nc_pm4.0\": 28.856693267822266, \"nc_pm10\": 29.18482208251953, \"typical_partical_size\": 1.6299999952316284, \"std_time_ms\": \"2021-07-02 23:27:47.997880\"}']"
      ]
     },
     "execution_count": 14,
     "metadata": {},
     "output_type": "execute_result"
    }
   ],
   "source": [
    "sps.publish(description='test1', n=3, delay=None, blocking=True)"
   ]
  },
  {
   "cell_type": "raw",
   "metadata": {},
   "source": [
    "sps.write(description='test2', n=10, blocking=True)"
   ]
  },
  {
   "cell_type": "code",
   "execution_count": null,
   "metadata": {},
   "outputs": [],
   "source": []
  }
 ],
 "metadata": {
  "kernelspec": {
   "display_name": "Python 3",
   "language": "python",
   "name": "python3"
  },
  "language_info": {
   "codemirror_mode": {
    "name": "ipython",
    "version": 3
   },
   "file_extension": ".py",
   "mimetype": "text/x-python",
   "name": "python",
   "nbconvert_exporter": "python",
   "pygments_lexer": "ipython3",
   "version": "3.7.3"
  }
 },
 "nbformat": 4,
 "nbformat_minor": 4
}
