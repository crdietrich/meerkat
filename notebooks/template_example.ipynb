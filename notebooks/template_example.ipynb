{
 "cells": [
  {
   "cell_type": "markdown",
   "metadata": {},
   "source": [
    "## Template Example  \n",
    "Minimal example contents for new device.  \n",
    "`device_name` and `device_class` should be replaced with actual device references.  To use, all cells below can be retained and made active and this one deleted.  Any further comments that can be deleted are prefixed with `Template Note:`"
   ]
  },
  {
   "cell_type": "markdown",
   "metadata": {},
   "source": [
    "## Device Name  \n",
    "Description Text - some background, ok to copy from datasheet description  \n",
    "\n",
    "Manufacturer link:  \n",
    "\n",
    "Breakout board used: (delete if not used)"
   ]
  },
  {
   "cell_type": "raw",
   "metadata": {},
   "source": [
    "import matplotlib.pyplot as plt\n",
    "\n",
    "from meerkat.device_name import device_class\n",
    "from meerkat import base, parser, tools"
   ]
  },
  {
   "cell_type": "markdown",
   "metadata": {},
   "source": [
    "Select I2C bus and instance device class.  Note I2C bus is 1 on Raspberry Pi."
   ]
  },
  {
   "cell_type": "raw",
   "metadata": {},
   "source": [
    "dev = ExampleDevice(bus_n=1)"
   ]
  },
  {
   "cell_type": "markdown",
   "metadata": {},
   "source": [
    "Template Note: if there is a verbose setting, consider enabling it"
   ]
  },
  {
   "cell_type": "raw",
   "metadata": {},
   "source": [
    "dev.verbose = True"
   ]
  },
  {
   "cell_type": "markdown",
   "metadata": {},
   "source": [
    "Template Note: If the device has registers, show an example of using them if not skip.  A filler binary value is used below."
   ]
  },
  {
   "cell_type": "markdown",
   "metadata": {},
   "source": [
    "#### Configuration  \n",
    "See bprint_example.ipynb for details on bprint output."
   ]
  },
  {
   "cell_type": "raw",
   "metadata": {},
   "source": [
    "tools.bprint(0b00110011)"
   ]
  },
  {
   "cell_type": "markdown",
   "metadata": {},
   "source": [
    "#### Measurements"
   ]
  },
  {
   "cell_type": "raw",
   "metadata": {},
   "source": [
    "# device specific measurement results, i.e.\n",
    "dev.get_voltage()"
   ]
  },
  {
   "cell_type": "raw",
   "metadata": {},
   "source": [
    "# get method, list with description and sample number\n",
    "dev.get(description='test_1', n=5)"
   ]
  },
  {
   "cell_type": "raw",
   "metadata": {},
   "source": [
    "# writer method with description and sample number\n",
    "dev.write(description='test_2', n=5)"
   ]
  },
  {
   "cell_type": "markdown",
   "metadata": {},
   "source": [
    "#### CSV Writer Output"
   ]
  },
  {
   "cell_type": "raw",
   "metadata": {},
   "source": [
    "dev.writer.path"
   ]
  },
  {
   "cell_type": "raw",
   "metadata": {},
   "source": [
    "# load .csv data written with dev.write\n",
    "m, df = parser.csv_resource(dev.writer.path)"
   ]
  },
  {
   "cell_type": "raw",
   "metadata": {},
   "source": [
    "df.head()"
   ]
  },
  {
   "cell_type": "raw",
   "metadata": {},
   "source": [
    "# plot if possible, based on output values\n",
    "# note this timestamp fix might be patched at some point.\n",
    "df.datetime64_ns = df.datetime64_ns.dt.tz_localize('UTC')  # Pandas 0.24.1 hack\n",
    "df[[\"datetime64_ns\", \"voltage\", \"current\"]].plot(x=\"datetime64_ns\");"
   ]
  },
  {
   "cell_type": "raw",
   "metadata": {},
   "source": [
    "# metadata for device\n",
    "m"
   ]
  },
  {
   "cell_type": "markdown",
   "metadata": {},
   "source": [
    "#### JSON Writer Output"
   ]
  },
  {
   "cell_type": "raw",
   "metadata": {},
   "source": [
    "# reinitialize to JSON output\n",
    "dev = ExampleDevice(bus_n=1, output='json')"
   ]
  },
  {
   "cell_type": "raw",
   "metadata": {},
   "source": [
    "# writing method with description and sample number\n",
    "dev.write(description='test_4', n=5)"
   ]
  },
  {
   "cell_type": "raw",
   "metadata": {},
   "source": [
    "# show first lines of JSON text file\n",
    "with open(dev.writer.path, 'r') as f:\n",
    "    print(f.readline())"
   ]
  }
 ],
 "metadata": {
  "kernelspec": {
   "display_name": "Python 3",
   "language": "python",
   "name": "python3"
  },
  "language_info": {
   "codemirror_mode": {
    "name": "ipython",
    "version": 3
   },
   "file_extension": ".py",
   "mimetype": "text/x-python",
   "name": "python",
   "nbconvert_exporter": "python",
   "pygments_lexer": "ipython3",
   "version": "3.5.2"
  }
 },
 "nbformat": 4,
 "nbformat_minor": 2
}
